{
 "cells": [
  {
   "cell_type": "code",
   "execution_count": 1,
   "id": "2215954f",
   "metadata": {},
   "outputs": [],
   "source": [
    "# Initial imports\n",
    "import re\n",
    "import numpy as np\n",
    "import pandas as pd\n",
    "# plotting\n",
    "import seaborn as sns\n",
    "#from wordcloud import WordCloud\n",
    "import matplotlib.pyplot as plt\n",
    "# nltk\n",
    "from nltk.stem import WordNetLemmatizer\n",
    "# sklearn\n",
    "from sklearn.svm import LinearSVC\n",
    "from sklearn.naive_bayes import BernoulliNB\n",
    "from sklearn.linear_model import LogisticRegression\n",
    "from sklearn.model_selection import train_test_split\n",
    "from sklearn.feature_extraction.text import TfidfVectorizer\n",
    "from sklearn.metrics import confusion_matrix, classification_report"
   ]
  },
  {
   "cell_type": "code",
   "execution_count": 103,
   "id": "e0e2f314",
   "metadata": {},
   "outputs": [],
   "source": [
    "# Read each file as data frames.\n",
    "combined_df = pd.read_csv(\"../Cleaning_PseudoCode/Resources/Combined_Sentiments.csv\")"
   ]
  },
  {
   "cell_type": "code",
   "execution_count": 104,
   "id": "bf3c2c36",
   "metadata": {},
   "outputs": [
    {
     "data": {
      "text/html": [
       "<div>\n",
       "<style scoped>\n",
       "    .dataframe tbody tr th:only-of-type {\n",
       "        vertical-align: middle;\n",
       "    }\n",
       "\n",
       "    .dataframe tbody tr th {\n",
       "        vertical-align: top;\n",
       "    }\n",
       "\n",
       "    .dataframe thead th {\n",
       "        text-align: right;\n",
       "    }\n",
       "</style>\n",
       "<table border=\"1\" class=\"dataframe\">\n",
       "  <thead>\n",
       "    <tr style=\"text-align: right;\">\n",
       "      <th></th>\n",
       "      <th>tweet</th>\n",
       "      <th>score</th>\n",
       "    </tr>\n",
       "  </thead>\n",
       "  <tbody>\n",
       "    <tr>\n",
       "      <th>0</th>\n",
       "      <td>['tim', 'tebow', 'may', 'avail', 'wow', 'jerri...</td>\n",
       "      <td>1.0</td>\n",
       "    </tr>\n",
       "    <tr>\n",
       "      <th>1</th>\n",
       "      <td>['aga', 'tayo', 'tomorrow', 'ah', ':)', 'good'...</td>\n",
       "      <td>1.0</td>\n",
       "    </tr>\n",
       "    <tr>\n",
       "      <th>2</th>\n",
       "      <td>['lunch', 'new', 'lil', 'spot', '...', 'cotton...</td>\n",
       "      <td>1.0</td>\n",
       "    </tr>\n",
       "    <tr>\n",
       "      <th>3</th>\n",
       "      <td>['snc', 'halloween', 'pr', 'pump', 'let', 'us'...</td>\n",
       "      <td>1.0</td>\n",
       "    </tr>\n",
       "    <tr>\n",
       "      <th>4</th>\n",
       "      <td>['loui', 'inspir', 'outfit', 'monday', 'zayn',...</td>\n",
       "      <td>1.0</td>\n",
       "    </tr>\n",
       "  </tbody>\n",
       "</table>\n",
       "</div>"
      ],
      "text/plain": [
       "                                               tweet  score\n",
       "0  ['tim', 'tebow', 'may', 'avail', 'wow', 'jerri...    1.0\n",
       "1  ['aga', 'tayo', 'tomorrow', 'ah', ':)', 'good'...    1.0\n",
       "2  ['lunch', 'new', 'lil', 'spot', '...', 'cotton...    1.0\n",
       "3  ['snc', 'halloween', 'pr', 'pump', 'let', 'us'...    1.0\n",
       "4  ['loui', 'inspir', 'outfit', 'monday', 'zayn',...    1.0"
      ]
     },
     "execution_count": 104,
     "metadata": {},
     "output_type": "execute_result"
    }
   ],
   "source": [
    "combined_sentiments_df.head()"
   ]
  },
  {
   "cell_type": "code",
   "execution_count": 105,
   "id": "1cc40d92",
   "metadata": {},
   "outputs": [],
   "source": [
    "#Dropping neutral tweets from dataframe \n",
    "combined_df = combined_df[combined_df.score != 0.0]"
   ]
  },
  {
   "cell_type": "code",
   "execution_count": 106,
   "id": "0b8c3591",
   "metadata": {},
   "outputs": [],
   "source": [
    "combined_df['score'].replace({-1.0: 0}, inplace = True)"
   ]
  },
  {
   "cell_type": "code",
   "execution_count": 107,
   "id": "ba59ae74",
   "metadata": {},
   "outputs": [],
   "source": [
    "#Seperating features and labels \n",
    "X = combined_df['tweet']\n",
    "y = combined_df['score']"
   ]
  },
  {
   "cell_type": "code",
   "execution_count": 108,
   "id": "cf79fc54",
   "metadata": {},
   "outputs": [
    {
     "data": {
      "text/plain": [
       "array([1., 0.])"
      ]
     },
     "execution_count": 108,
     "metadata": {},
     "output_type": "execute_result"
    }
   ],
   "source": [
    "y.unique()"
   ]
  },
  {
   "cell_type": "code",
   "execution_count": 109,
   "id": "d9259f3e",
   "metadata": {},
   "outputs": [],
   "source": [
    "# Separating the 85% data for training data and 15% for testing data\n",
    "X_train, X_test, y_train, y_test = train_test_split(X,y,test_size = 0.15, random_state = 1000)"
   ]
  },
  {
   "cell_type": "code",
   "execution_count": 110,
   "id": "23f08eef",
   "metadata": {},
   "outputs": [
    {
     "name": "stdout",
     "output_type": "stream",
     "text": [
      "No. of feature_words:  121422\n"
     ]
    }
   ],
   "source": [
    "#Choose a method for vectorizing TF-IDF vectorizer OR Bag of Words OR Ngrams \n",
    "\n",
    "#Fit the TF-IDF Vectorizer \n",
    "vectoriser = TfidfVectorizer(ngram_range=(1,2), max_features=500000)\n",
    "vectoriser.fit(X_train)\n",
    "print('No. of feature_words: ', len(vectoriser.get_feature_names()))"
   ]
  },
  {
   "cell_type": "code",
   "execution_count": 111,
   "id": "a8f17133",
   "metadata": {},
   "outputs": [],
   "source": [
    "#TF-IDF Vectorizer \n",
    "X_train = vectoriser.transform(X_train)\n",
    "X_test  = vectoriser.transform(X_test)"
   ]
  },
  {
   "cell_type": "code",
   "execution_count": 112,
   "id": "c23ebcc6",
   "metadata": {},
   "outputs": [],
   "source": [
    "def model_Evaluate(model):\n",
    "    # Predict values for Test dataset\n",
    "    y_pred = model.predict(X_test)\n",
    "    # Print the evaluation metrics for the dataset.\n",
    "    print(classification_report(y_test, y_pred))"
   ]
  },
  {
   "cell_type": "code",
   "execution_count": 113,
   "id": "3d41291b",
   "metadata": {},
   "outputs": [
    {
     "name": "stdout",
     "output_type": "stream",
     "text": [
      "              precision    recall  f1-score   support\n",
      "\n",
      "         0.0       0.09      0.09      0.09      2717\n",
      "         1.0       0.09      0.09      0.09      2651\n",
      "\n",
      "    accuracy                           0.09      5368\n",
      "   macro avg       0.09      0.09      0.09      5368\n",
      "weighted avg       0.09      0.09      0.09      5368\n",
      "\n"
     ]
    }
   ],
   "source": [
    "#Bernoulli Naive Bayes \n",
    "BNBmodel = BernoulliNB()\n",
    "BNBmodel.fit(X_train, y_train)\n",
    "model_Evaluate(BNBmodel)\n",
    "y_pred = BNBmodel.predict(X_test)"
   ]
  },
  {
   "cell_type": "code",
   "execution_count": 114,
   "id": "ed29720c",
   "metadata": {},
   "outputs": [
    {
     "name": "stdout",
     "output_type": "stream",
     "text": [
      "              precision    recall  f1-score   support\n",
      "\n",
      "         0.0       0.09      0.09      0.09      2717\n",
      "         1.0       0.09      0.09      0.09      2651\n",
      "\n",
      "    accuracy                           0.09      5368\n",
      "   macro avg       0.09      0.09      0.09      5368\n",
      "weighted avg       0.09      0.09      0.09      5368\n",
      "\n"
     ]
    }
   ],
   "source": [
    "#Bernoulli Naive Bayes \n",
    "BNBmodel = BernoulliNB()\n",
    "BNBmodel.fit(X_train, y_train)\n",
    "model_Evaluate(BNBmodel)\n",
    "practice_test = BNBmodel.predict(X_train)"
   ]
  },
  {
   "cell_type": "code",
   "execution_count": 115,
   "id": "8b133a85",
   "metadata": {},
   "outputs": [
    {
     "data": {
      "text/plain": [
       "Text(0.5, 1.0, 'Confusion Matrix')"
      ]
     },
     "execution_count": 115,
     "metadata": {},
     "output_type": "execute_result"
    },
    {
     "data": {
      "image/png": "[encoded data removed]",
      "text/plain": [
       "<Figure size 432x288 with 2 Axes>"
      ]
     },
     "metadata": {
      "needs_background": "light"
     },
     "output_type": "display_data"
    }
   ],
   "source": [
    "# Compute and plot the Confusion matrix\n",
    "cf_matrix = confusion_matrix(y_test, y_pred)\n",
    "categories = ['Negative','Positive']\n",
    "group_names = ['True Neg','False Pos', 'False Neg','True Pos']\n",
    "group_percentages = ['{0:.2%}'.format(value) for value in cf_matrix.flatten() / np.sum(cf_matrix)]\n",
    "labels = [f'{v1}n{v2}' for v1, v2 in zip(group_names,group_percentages)]\n",
    "labels = np.asarray(labels).reshape(2,2)\n",
    "sns.heatmap(cf_matrix, annot = labels, cmap = 'Blues',fmt = '',\n",
    "xticklabels = categories, yticklabels = categories)\n",
    "plt.xlabel(\"Predicted values\", fontdict = {'size':14}, labelpad = 10)\n",
    "plt.ylabel(\"Actual values\" , fontdict = {'size':14}, labelpad = 10)\n",
    "plt.title (\"Confusion Matrix\", fontdict = {'size':18}, pad = 20)"
   ]
  },
  {
   "cell_type": "code",
   "execution_count": 116,
   "id": "7ddd0241",
   "metadata": {},
   "outputs": [
    {
     "name": "stdout",
     "output_type": "stream",
     "text": [
      "              precision    recall  f1-score   support\n",
      "\n",
      "         0.0       0.09      0.09      0.09      2717\n",
      "         1.0       0.08      0.08      0.08      2651\n",
      "\n",
      "    accuracy                           0.08      5368\n",
      "   macro avg       0.08      0.08      0.08      5368\n",
      "weighted avg       0.08      0.08      0.08      5368\n",
      "\n"
     ]
    }
   ],
   "source": [
    "SVCmodel = LinearSVC()\n",
    "SVCmodel.fit(X_train, y_train)\n",
    "model_Evaluate(SVCmodel)\n",
    "y_pred2 = SVCmodel.predict(X_test)"
   ]
  },
  {
   "cell_type": "code",
   "execution_count": 117,
   "id": "6d33d320",
   "metadata": {},
   "outputs": [
    {
     "name": "stdout",
     "output_type": "stream",
     "text": [
      "              precision    recall  f1-score   support\n",
      "\n",
      "         0.0       0.09      0.09      0.09      2717\n",
      "         1.0       0.08      0.08      0.08      2651\n",
      "\n",
      "    accuracy                           0.08      5368\n",
      "   macro avg       0.08      0.08      0.08      5368\n",
      "weighted avg       0.08      0.08      0.08      5368\n",
      "\n"
     ]
    }
   ],
   "source": [
    "LRmodel = LogisticRegression(C = 2, max_iter = 1000, n_jobs=-1)\n",
    "LRmodel.fit(X_train, y_train)\n",
    "model_Evaluate(LRmodel)\n",
    "y_pred3 = LRmodel.predict(X_test)"
   ]
  },
  {
   "cell_type": "code",
   "execution_count": null,
   "id": "3e312e2e",
   "metadata": {},
   "outputs": [],
   "source": []
  }
 ],
 "metadata": {
  "kernelspec": {
   "display_name": "PythonData",
   "language": "python",
   "name": "pythondata"
  },
  "language_info": {
   "codemirror_mode": {
    "name": "ipython",
    "version": 3
   },
   "file_extension": ".py",
   "mimetype": "text/x-python",
   "name": "python",
   "nbconvert_exporter": "python",
   "pygments_lexer": "ipython3",
   "version": "3.7.10"
  }
 },
 "nbformat": 4,
 "nbformat_minor": 5
}
