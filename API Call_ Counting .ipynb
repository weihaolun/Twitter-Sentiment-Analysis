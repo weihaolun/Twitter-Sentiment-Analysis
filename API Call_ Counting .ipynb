{
 "cells": [
  {
   "cell_type": "code",
   "execution_count": 1,
   "id": "dda63a98",
   "metadata": {},
   "outputs": [],
   "source": [
    "# For sending GET requests from the API\n",
    "import requests\n",
    "# For saving access tokens and for file management when creating and adding to the dataset\n",
    "import os\n",
    "# For dealing with json responses we receive from the API\n",
    "import json\n",
    "# For displaying the data after\n",
    "import pandas as pd\n",
    "# For saving the response data in CSV format\n",
    "import csv\n",
    "# For parsing the dates received from twitter in readable formats\n",
    "import datetime\n",
    "import dateutil.parser\n",
    "import unicodedata\n",
    "#To add wait time between requests\n",
    "import time"
   ]
  },
  {
   "cell_type": "code",
   "execution_count": 10,
   "id": "ec70d842",
   "metadata": {},
   "outputs": [],
   "source": [
    "from dotenv import load_dotenv\n",
    "load_dotenv()\n",
    "import os\n",
    "#bearer_token = os.environ.get(\"TOKEN\")"
   ]
  },
  {
   "cell_type": "code",
   "execution_count": 11,
   "id": "c0a2eac9",
   "metadata": {},
   "outputs": [],
   "source": [
    "os.environ['TOKEN'] = \"AAAAAAAAAAAAAAAAAAAAABaiVAEAAAAAVySKgNhr3C2CM43t%2BXEY7VqTjVc%3DQSofSGqaDTJawWk3c77GDVTUc21eKoLSdpG5tnSORpLXrjRnaN\""
   ]
  },
  {
   "cell_type": "code",
   "execution_count": 12,
   "id": "f6083698",
   "metadata": {},
   "outputs": [],
   "source": [
    "def auth():\n",
    "    return os.environ.get(\"TOKEN\")"
   ]
  },
  {
   "cell_type": "code",
   "execution_count": 14,
   "id": "c577d914",
   "metadata": {
    "scrolled": true
   },
   "outputs": [
    {
     "data": {
      "text/plain": [
       "'AAAAAAAAAAAAAAAAAAAAABaiVAEAAAAAVySKgNhr3C2CM43t%2BXEY7VqTjVc%3DQSofSGqaDTJawWk3c77GDVTUc21eKoLSdpG5tnSORpLXrjRnaN'"
      ]
     },
     "execution_count": 14,
     "metadata": {},
     "output_type": "execute_result"
    }
   ],
   "source": [
    "bearer_token = os.environ.get(\"TOKEN\")\n",
    "bearer_token"
   ]
  },
  {
   "cell_type": "code",
   "execution_count": 24,
   "id": "acd1a4f4",
   "metadata": {},
   "outputs": [
    {
     "name": "stdout",
     "output_type": "stream",
     "text": [
      "200\n"
     ]
    }
   ],
   "source": [
    "search_url = \"https://api.twitter.com/2/tweets/counts/recent\"\n",
    "\n",
    "# Optional params: start_time,end_time,since_id,until_id,next_token,granularity\n",
    "query_params = {'query': 'tesla lang:en', 'start_time': \"2021-11-01T00:00:00.000Z\", \"end_time\": \"2021-11-06T00:00:00.000Z\",'granularity': 'day'}\n",
    "\n",
    "\n",
    "def bearer_oauth(r):\n",
    "    \"\"\"\n",
    "    Method required by bearer token authentication.\n",
    "    \"\"\"\n",
    "\n",
    "    r.headers[\"Authorization\"] = f\"Bearer {bearer_token}\"\n",
    "    r.headers[\"User-Agent\"] = \"v2RecentTweetCountsPython\"\n",
    "    return r\n",
    "\n",
    "\n",
    "def connect_to_endpoint(url, params):\n",
    "    response = requests.request(\"GET\", search_url, auth=bearer_oauth, params=params)\n",
    "    print(response.status_code)\n",
    "    if response.status_code != 200:\n",
    "        raise Exception(response.status_code, response.text)\n",
    "    return response.json()\n",
    "\n",
    "\n",
    "def main():\n",
    "    json_response = connect_to_endpoint(search_url, query_params)\n",
    "    return json_response\n",
    "    #print(json.dumps(json_response, indent=4, sort_keys=True))\n",
    "\n",
    "\n",
    "if __name__ == \"__main__\":\n",
    "    main()"
   ]
  },
  {
   "cell_type": "code",
   "execution_count": 26,
   "id": "139d9293",
   "metadata": {},
   "outputs": [
    {
     "name": "stdout",
     "output_type": "stream",
     "text": [
      "200\n",
      "{\n",
      "    \"data\": [\n",
      "        {\n",
      "            \"end\": \"2021-11-02T00:00:00.000Z\",\n",
      "            \"start\": \"2021-11-01T00:00:00.000Z\",\n",
      "            \"tweet_count\": 138498\n",
      "        },\n",
      "        {\n",
      "            \"end\": \"2021-11-03T00:00:00.000Z\",\n",
      "            \"start\": \"2021-11-02T00:00:00.000Z\",\n",
      "            \"tweet_count\": 88621\n",
      "        },\n",
      "        {\n",
      "            \"end\": \"2021-11-04T00:00:00.000Z\",\n",
      "            \"start\": \"2021-11-03T00:00:00.000Z\",\n",
      "            \"tweet_count\": 53654\n",
      "        },\n",
      "        {\n",
      "            \"end\": \"2021-11-05T00:00:00.000Z\",\n",
      "            \"start\": \"2021-11-04T00:00:00.000Z\",\n",
      "            \"tweet_count\": 54987\n",
      "        },\n",
      "        {\n",
      "            \"end\": \"2021-11-06T00:00:00.000Z\",\n",
      "            \"start\": \"2021-11-05T00:00:00.000Z\",\n",
      "            \"tweet_count\": 48157\n",
      "        }\n",
      "    ],\n",
      "    \"meta\": {\n",
      "        \"total_tweet_count\": 383917\n",
      "    }\n",
      "}\n"
     ]
    }
   ],
   "source": [
    "response = main()\n",
    "response = json.dumps(response, indent=4, sort_keys=True)\n",
    "print(response)"
   ]
  },
  {
   "cell_type": "code",
   "execution_count": 36,
   "id": "40f5733c",
   "metadata": {},
   "outputs": [
    {
     "data": {
      "text/plain": [
       "[{'end': '2021-11-02T00:00:00.000Z',\n",
       "  'start': '2021-11-01T00:00:00.000Z',\n",
       "  'tweet_count': 138498},\n",
       " {'end': '2021-11-03T00:00:00.000Z',\n",
       "  'start': '2021-11-02T00:00:00.000Z',\n",
       "  'tweet_count': 88621},\n",
       " {'end': '2021-11-04T00:00:00.000Z',\n",
       "  'start': '2021-11-03T00:00:00.000Z',\n",
       "  'tweet_count': 53654},\n",
       " {'end': '2021-11-05T00:00:00.000Z',\n",
       "  'start': '2021-11-04T00:00:00.000Z',\n",
       "  'tweet_count': 54987},\n",
       " {'end': '2021-11-06T00:00:00.000Z',\n",
       "  'start': '2021-11-05T00:00:00.000Z',\n",
       "  'tweet_count': 48157}]"
      ]
     },
     "execution_count": 36,
     "metadata": {},
     "output_type": "execute_result"
    }
   ],
   "source": [
    "x = json.loads(response)['data']\n",
    "x"
   ]
  },
  {
   "cell_type": "code",
   "execution_count": 38,
   "id": "cda40bec",
   "metadata": {},
   "outputs": [],
   "source": [
    "import csv \n",
    "cols = [\"end\", \"start\", \"tweet_count\"]\n",
    "path = \"check.csv\"\n",
    "with open(path, 'w') as f: \n",
    "    wr = csv.DictWriter(f, fieldnames = cols) \n",
    "    wr.writeheader() \n",
    "    wr.writerows(x) "
   ]
  },
  {
   "cell_type": "code",
   "execution_count": null,
   "id": "89f01034",
   "metadata": {},
   "outputs": [],
   "source": []
  },
  {
   "cell_type": "code",
   "execution_count": null,
   "id": "98b04e25",
   "metadata": {},
   "outputs": [],
   "source": []
  }
 ],
 "metadata": {
  "kernelspec": {
   "display_name": "Python (PythonData)",
   "language": "python",
   "name": "pythondata"
  },
  "language_info": {
   "codemirror_mode": {
    "name": "ipython",
    "version": 3
   },
   "file_extension": ".py",
   "mimetype": "text/x-python",
   "name": "python",
   "nbconvert_exporter": "python",
   "pygments_lexer": "ipython3",
   "version": "3.7.10"
  }
 },
 "nbformat": 4,
 "nbformat_minor": 5
}
