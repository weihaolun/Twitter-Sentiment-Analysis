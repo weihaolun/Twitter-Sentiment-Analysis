{
 "cells": [
  {
   "cell_type": "code",
   "execution_count": 1,
   "id": "dda63a98",
   "metadata": {},
   "outputs": [],
   "source": [
    "# For sending GET requests from the API\n",
    "import requests\n",
    "# For saving access tokens and for file management when creating and adding to the dataset\n",
    "import os\n",
    "# For dealing with json responses we receive from the API\n",
    "import json\n",
    "# For displaying the data after\n",
    "import pandas as pd\n",
    "# For saving the response data in CSV format\n",
    "import csv\n",
    "# For parsing the dates received from twitter in readable formats\n",
    "import datetime\n",
    "import dateutil.parser\n",
    "import unicodedata\n",
    "#To add wait time between requests\n",
    "import time"
   ]
  },
  {
   "cell_type": "code",
   "execution_count": 2,
   "id": "ec70d842",
   "metadata": {},
   "outputs": [],
   "source": [
    "from dotenv import load_dotenv\n",
    "load_dotenv()\n",
    "import os\n",
    "bearer_token = os.environ.get(\"bearer-token\")"
   ]
  },
  {
   "cell_type": "code",
   "execution_count": 4,
   "id": "acd1a4f4",
   "metadata": {},
   "outputs": [
    {
     "name": "stdout",
     "output_type": "stream",
     "text": [
      "{'data': [{'created_at': '2021-11-03T21:27:52.000Z', 'id': '1456010263845654528', 'text': 'a tamanha vontade de comer chocolate entristece 🥺'}, {'created_at': '2021-11-03T21:27:49.000Z', 'id': '1456010247928229894', 'text': 'que vontade de comer ovo de Páscoa \\n\\nnão serve qualquer chocolate em outros formatos \\ntem que ser ovo de Páscoa'}, {'created_at': '2021-11-03T21:27:48.000Z', 'id': '1456010247219384324', 'text': \"RT @divinechocolate: We love giving you the chance to #win some delicious chocolate that's helping to fight exploitation in the coco indust…\"}, {'created_at': '2021-11-03T21:27:48.000Z', 'id': '1456010245524770816', 'text': 'RT @Cutest_Account: #Mint #chocolate #cake https://t.co/g3ajCkRIDm'}, {'created_at': '2021-11-03T21:27:46.000Z', 'id': '1456010238449041412', 'text': 'sai já faz quase 40 minutos e ainda ganhei chocolate https://t.co/6WnG9OgSxR'}, {'created_at': '2021-11-03T21:27:46.000Z', 'id': '1456010238432325633', 'text': '@SuziG Chocolate? Gravy? The posts were making me so hungry last night, but things seem to have taken a cursed turn today 😩 (to be fair tho, I enjoy pimento cheese as much as the next Southerner)'}, {'created_at': '2021-11-03T21:27:46.000Z', 'id': '1456010236674785283', 'text': 'This #Movember, the #ComoxValley Rocky Mountain Chocolate is hosting a delicious and caring fundraiser. From now until the end of the month, purchase a mustache lollipop or indulge in a mustache caramel apple, and proceeds will be donated to our Foundation! https://t.co/mfBbhibHox'}, {'created_at': '2021-11-03T21:27:45.000Z', 'id': '1456010234510594052', 'text': 'RT @rote_punkt: Heartless chocolate sandwich.\\n#KH料理 #_KH #KingdomHearts https://t.co/oLClkxiHPe'}, {'created_at': '2021-11-03T21:27:45.000Z', 'id': '1456010233076137988', 'text': \"@rod6165 literally the one i got today bc it has chocolate chips in it 😭😭 i'm even more excited\"}, {'created_at': '2021-11-03T21:27:43.000Z', 'id': '1456010222363758594', 'text': '@SazMay0 @GrapeSoda_1 @short_porch @BarstoolHubbs when I hear candy I think sweet or juicy like an airhead never do I think chocolate.'}], 'meta': {'newest_id': '1456010263845654528', 'oldest_id': '1456010222363758594', 'result_count': 10, 'next_token': 'b26v89c19zqg8o3fpdv8b7kax1qnvpgozpp1eovyw0i9p'}}\n"
     ]
    }
   ],
   "source": [
    "search_url = \"https://api.twitter.com/2/tweets/search/recent\"\n",
    "\n",
    "# Optional params: start_time,end_time,since_id,until_id,max_results,next_token,\n",
    "# expansions,tweet.fields,media.fields,poll.fields,place.fields,user.fields\n",
    "query_params = {'query': 'chocolate', 'start_time' : '2021-11-01T21:06:00.000Z', \"end_time\" : \"2021-11-03T21:27:53.241Z\",'tweet.fields': 'created_at'}\n",
    "\n",
    "\n",
    "def bearer_oauth(r):\n",
    "    \"\"\"\n",
    "    Method required by bearer token authentication.\n",
    "    \"\"\"\n",
    "\n",
    "    r.headers[\"Authorization\"] = f\"Bearer {bearer_token}\"\n",
    "    r.headers[\"User-Agent\"] = \"v2RecentSearchPython\"\n",
    "    return r\n",
    "\n",
    "def connect_to_endpoint(url, params):\n",
    "    response = requests.get(url, auth=bearer_oauth, params=params)\n",
    "    #print(response.status_code)\n",
    "    if response.status_code != 200:\n",
    "        raise Exception(response.status_code, response.text)\n",
    "    return response.json()\n",
    "\n",
    "\n",
    "def main():\n",
    "    json_response = connect_to_endpoint(search_url, query_params)\n",
    "    print(json.dumps(json_response, indent=4, sort_keys=True))\n",
    "    \n",
    "\n",
    "if __name__ == \"__main__\":\n",
    "    main()"
   ]
  },
  {
   "cell_type": "code",
   "execution_count": 5,
   "id": "6d5bee1d",
   "metadata": {},
   "outputs": [
    {
     "name": "stdout",
     "output_type": "stream",
     "text": [
      "{'data': [{'created_at': '2021-11-03T21:27:52.000Z', 'id': '1456010263845654528', 'text': 'a tamanha vontade de comer chocolate entristece 🥺'}, {'created_at': '2021-11-03T21:27:49.000Z', 'id': '1456010247928229894', 'text': 'que vontade de comer ovo de Páscoa \\n\\nnão serve qualquer chocolate em outros formatos \\ntem que ser ovo de Páscoa'}, {'created_at': '2021-11-03T21:27:48.000Z', 'id': '1456010247219384324', 'text': \"RT @divinechocolate: We love giving you the chance to #win some delicious chocolate that's helping to fight exploitation in the coco indust…\"}, {'created_at': '2021-11-03T21:27:48.000Z', 'id': '1456010245524770816', 'text': 'RT @Cutest_Account: #Mint #chocolate #cake https://t.co/g3ajCkRIDm'}, {'created_at': '2021-11-03T21:27:46.000Z', 'id': '1456010238449041412', 'text': 'sai já faz quase 40 minutos e ainda ganhei chocolate https://t.co/6WnG9OgSxR'}, {'created_at': '2021-11-03T21:27:46.000Z', 'id': '1456010238432325633', 'text': '@SuziG Chocolate? Gravy? The posts were making me so hungry last night, but things seem to have taken a cursed turn today 😩 (to be fair tho, I enjoy pimento cheese as much as the next Southerner)'}, {'created_at': '2021-11-03T21:27:46.000Z', 'id': '1456010236674785283', 'text': 'This #Movember, the #ComoxValley Rocky Mountain Chocolate is hosting a delicious and caring fundraiser. From now until the end of the month, purchase a mustache lollipop or indulge in a mustache caramel apple, and proceeds will be donated to our Foundation! https://t.co/mfBbhibHox'}, {'created_at': '2021-11-03T21:27:45.000Z', 'id': '1456010234510594052', 'text': 'RT @rote_punkt: Heartless chocolate sandwich.\\n#KH料理 #_KH #KingdomHearts https://t.co/oLClkxiHPe'}, {'created_at': '2021-11-03T21:27:45.000Z', 'id': '1456010233076137988', 'text': \"@rod6165 literally the one i got today bc it has chocolate chips in it 😭😭 i'm even more excited\"}, {'created_at': '2021-11-03T21:27:43.000Z', 'id': '1456010222363758594', 'text': '@SazMay0 @GrapeSoda_1 @short_porch @BarstoolHubbs when I hear candy I think sweet or juicy like an airhead never do I think chocolate.'}], 'meta': {'newest_id': '1456010263845654528', 'oldest_id': '1456010222363758594', 'result_count': 10, 'next_token': 'b26v89c19zqg8o3fpdv8b7kax1qnvpgozpp1eovyw0i9p'}}\n"
     ]
    }
   ],
   "source": [
    "json_response = main()"
   ]
  },
  {
   "cell_type": "code",
   "execution_count": 7,
   "id": "ed5a6296",
   "metadata": {},
   "outputs": [],
   "source": [
    "# Create file\n",
    "csvFile = open(\"chocolate_data.csv\", \"a\", newline=\"\", encoding='utf-8')\n",
    "csvWriter = csv.writer(csvFile)\n",
    "\n",
    "#Create headers for the data you want to save, in this example, we only want save these columns in our dataset\n",
    "csvWriter.writerow(['created_at','id','tweet'])\n",
    "csvFile.close()\n",
    "\n"
   ]
  },
  {
   "cell_type": "code",
   "execution_count": 8,
   "id": "64d287f7",
   "metadata": {},
   "outputs": [],
   "source": [
    "def append_to_csv(json_response, fileName):\n",
    "\n",
    "    #A counter variable\n",
    "    counter = 0\n",
    "\n",
    "    #Open OR create the target CSV file\n",
    "    csvFile = open(fileName, \"a\", newline=\"\", encoding='utf-8')\n",
    "    csvWriter = csv.writer(csvFile)\n",
    "\n",
    "    #Loop through each tweet\n",
    "    for tweet in json_response['data']:\n",
    "        \n",
    "        # We will create a variable for each since some of the keys might not exist for some tweets\n",
    "        # So we will account for that\n",
    "\n",
    "\n",
    "        # 2. Time created\n",
    "        created_at = dateutil.parser.parse(tweet['created_at'])\n",
    "\n",
    "\n",
    "        # 4. Tweet ID\n",
    "        tweet_id = tweet['id']\n",
    "\n",
    "\n",
    "        # 8. Tweet text\n",
    "        text = tweet['text']\n",
    "        \n",
    "        # Assemble all data in a list\n",
    "        res = [created_at, tweet_id, text]\n",
    "        \n",
    "        # Append the result to the CSV file\n",
    "        csvWriter.writerow(res)\n",
    "        counter += 1\n",
    "\n",
    "    # When done, close the CSV file\n",
    "    csvFile.close()\n",
    "\n",
    "    # Print the number of tweets for this iteration\n",
    "    print(\"# of Tweets added from this response: \", counter) "
   ]
  },
  {
   "cell_type": "code",
   "execution_count": 9,
   "id": "c8d6d085",
   "metadata": {},
   "outputs": [
    {
     "ename": "TypeError",
     "evalue": "'NoneType' object is not subscriptable",
     "output_type": "error",
     "traceback": [
      "\u001b[0;31m---------------------------------------------------------------------------\u001b[0m",
      "\u001b[0;31mTypeError\u001b[0m                                 Traceback (most recent call last)",
      "\u001b[0;32m<ipython-input-9-e8f9d12b9b80>\u001b[0m in \u001b[0;36m<module>\u001b[0;34m\u001b[0m\n\u001b[0;32m----> 1\u001b[0;31m \u001b[0mappend_to_csv\u001b[0m\u001b[0;34m(\u001b[0m\u001b[0mjson_response\u001b[0m\u001b[0;34m,\u001b[0m \u001b[0;34m\"data.csv\"\u001b[0m\u001b[0;34m)\u001b[0m\u001b[0;34m\u001b[0m\u001b[0;34m\u001b[0m\u001b[0m\n\u001b[0m",
      "\u001b[0;32m<ipython-input-8-6020e6fad9ff>\u001b[0m in \u001b[0;36mappend_to_csv\u001b[0;34m(json_response, fileName)\u001b[0m\n\u001b[1;32m      9\u001b[0m \u001b[0;34m\u001b[0m\u001b[0m\n\u001b[1;32m     10\u001b[0m     \u001b[0;31m#Loop through each tweet\u001b[0m\u001b[0;34m\u001b[0m\u001b[0;34m\u001b[0m\u001b[0;34m\u001b[0m\u001b[0m\n\u001b[0;32m---> 11\u001b[0;31m     \u001b[0;32mfor\u001b[0m \u001b[0mtweet\u001b[0m \u001b[0;32min\u001b[0m \u001b[0mjson_response\u001b[0m\u001b[0;34m[\u001b[0m\u001b[0;34m'data'\u001b[0m\u001b[0;34m]\u001b[0m\u001b[0;34m:\u001b[0m\u001b[0;34m\u001b[0m\u001b[0;34m\u001b[0m\u001b[0m\n\u001b[0m\u001b[1;32m     12\u001b[0m \u001b[0;34m\u001b[0m\u001b[0m\n\u001b[1;32m     13\u001b[0m         \u001b[0;31m# We will create a variable for each since some of the keys might not exist for some tweets\u001b[0m\u001b[0;34m\u001b[0m\u001b[0;34m\u001b[0m\u001b[0;34m\u001b[0m\u001b[0m\n",
      "\u001b[0;31mTypeError\u001b[0m: 'NoneType' object is not subscriptable"
     ]
    }
   ],
   "source": [
    "append_to_csv(json_response, \"data.csv\")"
   ]
  },
  {
   "cell_type": "code",
   "execution_count": null,
   "id": "517ad1fe",
   "metadata": {},
   "outputs": [],
   "source": []
  }
 ],
 "metadata": {
  "kernelspec": {
   "display_name": "PythonData",
   "language": "python",
   "name": "pythondata"
  },
  "language_info": {
   "codemirror_mode": {
    "name": "ipython",
    "version": 3
   },
   "file_extension": ".py",
   "mimetype": "text/x-python",
   "name": "python",
   "nbconvert_exporter": "python",
   "pygments_lexer": "ipython3",
   "version": "3.7.10"
  }
 },
 "nbformat": 4,
 "nbformat_minor": 5
}
