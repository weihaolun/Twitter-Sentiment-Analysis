{
 "cells": [
  {
   "cell_type": "code",
   "execution_count": 1,
   "id": "478aa9c7",
   "metadata": {},
   "outputs": [],
   "source": [
    "# For sending GET requests from the API\n",
    "import requests\n",
    "# For saving access tokens and for file management when creating and adding to the dataset\n",
    "import os\n",
    "# For dealing with json responses we receive from the API\n",
    "import json\n",
    "# For displaying the data after\n",
    "import pandas as pd\n",
    "# For saving the response data in CSV format\n",
    "import csv\n",
    "# For parsing the dates received from twitter in readable formats\n",
    "import datetime\n",
    "import dateutil.parser\n",
    "import unicodedata\n",
    "#To add wait time between requests\n",
    "import time"
   ]
  },
  {
   "cell_type": "code",
   "execution_count": 2,
   "id": "592f2dec",
   "metadata": {},
   "outputs": [],
   "source": [
    "from dotenv import load_dotenv\n",
    "load_dotenv()\n",
    "import os\n",
    "bearer_token = os.environ.get(\"bearer-token\")"
   ]
  },
  {
   "cell_type": "code",
   "execution_count": 3,
   "id": "b6dc2f43",
   "metadata": {},
   "outputs": [],
   "source": [
    "os.environ['TOKEN'] = 'AAAAAAAAAAAAAAAAAAAAAHalVAEAAAAAVViwLGyKNUuT6ssD8tDTqiyQ1Pw%3DVXK9D7qXXABAcb96CPXxbltVZy3C9mzONePX8nLr9mkN3oHa7u'"
   ]
  },
  {
   "cell_type": "code",
   "execution_count": 4,
   "id": "77052a34",
   "metadata": {},
   "outputs": [],
   "source": [
    "def auth():\n",
    "    return os.environ.get(\"TOKEN\")"
   ]
  },
  {
   "cell_type": "code",
   "execution_count": 5,
   "id": "bca75c13",
   "metadata": {},
   "outputs": [],
   "source": [
    "def bearer_oauth(r):\n",
    "    \"\"\"\n",
    "    Method required by bearer token authentication.\n",
    "    \"\"\"\n",
    "\n",
    "    r.headers[\"Authorization\"] = f\"Bearer {bearer_token}\"\n",
    "    r.headers[\"User-Agent\"] = \"v2RecentSearchPython\"\n",
    "    return r"
   ]
  },
  {
   "cell_type": "code",
   "execution_count": 6,
   "id": "2970fa91",
   "metadata": {},
   "outputs": [],
   "source": [
    "def create_headers(bearer_token):\n",
    "    headers = {\"Authorization\": \"Bearer {}\".format(bearer_token)}\n",
    "    return headers"
   ]
  },
  {
   "cell_type": "code",
   "execution_count": 7,
   "id": "5290c2f9",
   "metadata": {},
   "outputs": [],
   "source": [
    "def create_url(keyword, start_date, end_date, next_token = None):\n",
    "    \n",
    "    search_url = \"https://api.twitter.com/2/tweets/search/recent\" #Change to the endpoint you want to collect data from\n",
    "\n",
    "    #change params based on the endpoint you are using\n",
    "    query_params = {'query': keyword, \n",
    "                    'start_time' : start_time, \n",
    "                    'end_time' : end_time,\n",
    "                    'max_results' : max_results,\n",
    "                    'tweet.fields': 'created_at',\n",
    "                    'next_token': {}\n",
    "                     }\n",
    "    \n",
    "    return (search_url, query_params)"
   ]
  },
  {
   "cell_type": "code",
   "execution_count": 8,
   "id": "6f4d74ca",
   "metadata": {},
   "outputs": [],
   "source": [
    "def connect_to_endpoint(url, headers, params, next_token = None):\n",
    "    params['next_token'] = next_token   #params object received from create_url function\n",
    "    response = requests.get( url, auth=bearer_oauth, params = params)\n",
    "    print(\"Endpoint Response Code: \" + str(response.status_code))\n",
    "    if response.status_code != 200:\n",
    "        raise Exception(response.status_code, response.text)\n",
    "    return response.json()"
   ]
  },
  {
   "cell_type": "code",
   "execution_count": 9,
   "id": "1503feda",
   "metadata": {},
   "outputs": [],
   "source": [
    "#Inputs for the request\n",
    "#bearer_token = auth()\n",
    "headers = create_headers(bearer_token)\n",
    "keyword = \"amazon lang:en\"\n",
    "start_time = \"2021-11-01T21:06:00.000Z\"\n",
    "end_time = \"2021-11-03T21:27:53.241Z\"\n",
    "max_results = 10\n",
    "next_token = None"
   ]
  },
  {
   "cell_type": "code",
   "execution_count": 10,
   "id": "5b98f465",
   "metadata": {},
   "outputs": [],
   "source": [
    "url = create_url(keyword, start_time,end_time)\n"
   ]
  },
  {
   "cell_type": "code",
   "execution_count": 11,
   "id": "8f337c95",
   "metadata": {},
   "outputs": [
    {
     "name": "stdout",
     "output_type": "stream",
     "text": [
      "Endpoint Response Code: 200\n"
     ]
    }
   ],
   "source": [
    "json_response = connect_to_endpoint(url[0], headers, url[1], next_token)"
   ]
  },
  {
   "cell_type": "code",
   "execution_count": 12,
   "id": "a1a7ce64",
   "metadata": {},
   "outputs": [
    {
     "name": "stdout",
     "output_type": "stream",
     "text": [
      "{\n",
      "    \"data\": [\n",
      "        {\n",
      "            \"created_at\": \"2021-11-03T21:27:52.000Z\",\n",
      "            \"id\": \"1456010264046936065\",\n",
      "            \"text\": \"@jeb2344 \\n\\nLISTEN NOW! #MotivationalWisdom Episodes has shifted up to Amazon Alexa. Customer Access: \\\"Alexa, play the podcast #MotivationalWisdom\\\" Lady Cynthia Renee Kelly. Select the specific episode from the list below. \\n\\nhttps://t.co/vOzeBSN6zr https://t.co/e49oEfTHtQ\"\n",
      "        },\n",
      "        {\n",
      "            \"created_at\": \"2021-11-03T21:27:51.000Z\",\n",
      "            \"id\": \"1456010256086179843\",\n",
      "            \"text\": \"Ilya Ivashka vs Daniil Medvedev is on Amazon Prime Video. With commentary from Pete Odgers. Co-commentator is Annabel Croft.  For more details see https://t.co/m4h15Ex6hP #IlyaIvashka #DaniilMedvedev #AmazonPrimeVideo\"\n",
      "        },\n",
      "        {\n",
      "            \"created_at\": \"2021-11-03T21:27:51.000Z\",\n",
      "            \"id\": \"1456010255838687239\",\n",
      "            \"text\": \"$WISH where does small business go to sell product in a marketplace that allows them reach to millions? If not Amazon, where? Wish or eBay. Is this a narrative right now? Nope. Will it be very soon? Yep. And who controls younger audiences? Wish. The seeds to the future is in Wish https://t.co/1GDdtZIs5K\"\n",
      "        },\n",
      "        {\n",
      "            \"created_at\": \"2021-11-03T21:27:51.000Z\",\n",
      "            \"id\": \"1456010255817744388\",\n",
      "            \"text\": \"@gfxMatt_1995 @BlazedRTs @sme_rt @FMC_RTs @PromoteAMGamers @rtsmallstreams @SupStreamers @promo_streams Streaming right now at https://t.co/ougd6L86Cm come check out my twitch and drop a follow and sub with Amazon prime for free! Sure you'll have a blast. Voices told me to stream so.\"\n",
      "        },\n",
      "        {\n",
      "            \"created_at\": \"2021-11-03T21:27:50.000Z\",\n",
      "            \"id\": \"1456010254068682752\",\n",
      "            \"text\": \"@FutureFantasy5 Prince Ewald hopes to mend a broken family, restore a tarnished kingdom, and reconcile a threatened world.\\n\\nHis reckless father would sacrifice all that to keep the crown.\\n\\nA 2021 NYC Big Book Award Distinguished Favorite\\n\\nhttps://t.co/LM69nmYr9l https://t.co/oMz5zS8QXd\"\n",
      "        },\n",
      "        {\n",
      "            \"created_at\": \"2021-11-03T21:27:49.000Z\",\n",
      "            \"id\": \"1456010251136819207\",\n",
      "            \"text\": \"@LizBrazile The point is that megacorporations own this city and get to dictate the rules. And the people crushed under them with nowhere to go need help, they need allies, and this city apparently voted to sweep them under the rug. Again. Because amazon fly-ins don't like the scenery.\"\n",
      "        },\n",
      "        {\n",
      "            \"created_at\": \"2021-11-03T21:27:49.000Z\",\n",
      "            \"id\": \"1456010248435679235\",\n",
      "            \"text\": \"RT @m3l1ciou5: #ODSPoverty i'm very desperate for food, cat food and cat litter, for the rest of the month.  PLEASE HELP if you can, all es\\u2026\"\n",
      "        },\n",
      "        {\n",
      "            \"created_at\": \"2021-11-03T21:27:49.000Z\",\n",
      "            \"id\": \"1456010248418775046\",\n",
      "            \"text\": \"@ShibInfo @JeffBezos @amazon Shiba community is full of liers\"\n",
      "        },\n",
      "        {\n",
      "            \"created_at\": \"2021-11-03T21:27:48.000Z\",\n",
      "            \"id\": \"1456010247160713224\",\n",
      "            \"text\": \"RT @JerrieAlexander: \\u201cThe books in this series are hot and sexy. Book four closes the series with a bang.\\u201d\\n\\nChristmas boxset for $.99 or #F\\u2026\"\n",
      "        },\n",
      "        {\n",
      "            \"created_at\": \"2021-11-03T21:27:48.000Z\",\n",
      "            \"id\": \"1456010244149108738\",\n",
      "            \"text\": \"#ad https://t.co/2WWA3o7jNL: ASUS TUF GeForce RTX 3080TI 12 GB OC Version Ga...\\nStock changed from \\\"Out of Stock\\\" to \\\"Now\\\"\\n1.949,00\\u00a0\\u20ac @ 22:27:47\\nhttps://t.co/ANprF1x98A\\n#ilox #RTXon #NVIDIAGeForce\"\n",
      "        }\n",
      "    ],\n",
      "    \"meta\": {\n",
      "        \"newest_id\": \"1456010264046936065\",\n",
      "        \"next_token\": \"b26v89c19zqg8o3fpdv8b7kax1qq1s6ux446ez95o9abh\",\n",
      "        \"oldest_id\": \"1456010244149108738\",\n",
      "        \"result_count\": 10\n",
      "    }\n",
      "}\n"
     ]
    }
   ],
   "source": [
    "print(json.dumps(json_response, indent=4, sort_keys=True))"
   ]
  },
  {
   "cell_type": "code",
   "execution_count": 13,
   "id": "ce0c148f",
   "metadata": {},
   "outputs": [],
   "source": [
    "# Create file\n",
    "csvFile = open(\"data.csv\", \"a\", newline=\"\", encoding='utf-8')\n",
    "csvWriter = csv.writer(csvFile)\n",
    "\n",
    "#Create headers for the data you want to save, in this example, we only want save these columns in our dataset\n",
    "csvWriter.writerow(['created_at','id','tweet'])\n",
    "csvFile.close()"
   ]
  },
  {
   "cell_type": "code",
   "execution_count": 14,
   "id": "3366c529",
   "metadata": {},
   "outputs": [],
   "source": [
    "def append_to_csv(json_response, fileName):\n",
    "\n",
    "    #A counter variable\n",
    "    counter = 0\n",
    "\n",
    "    #Open OR create the target CSV file\n",
    "    csvFile = open(fileName, \"a\", newline=\"\", encoding='utf-8')\n",
    "    csvWriter = csv.writer(csvFile)\n",
    "\n",
    "    #Loop through each tweet\n",
    "    for tweet in json_response['data']:\n",
    "        \n",
    "        # We will create a variable for each since some of the keys might not exist for some tweets\n",
    "        # So we will account for that\n",
    "\n",
    "        #Time created\n",
    "        created_at = dateutil.parser.parse(tweet['created_at'])\n",
    "\n",
    "\n",
    "        #Tweet ID\n",
    "        tweet_id = tweet['id']\n",
    "\n",
    "        #Tweet text\n",
    "        text = tweet['text']\n",
    "        \n",
    "        # Assemble all data in a list\n",
    "        res = [created_at, tweet_id, text]\n",
    "        \n",
    "        # Append the result to the CSV file\n",
    "        csvWriter.writerow(res)\n",
    "        counter += 1\n",
    "\n",
    "    # When done, close the CSV file\n",
    "    csvFile.close()\n",
    "\n",
    "    # Print the number of tweets for this iteration\n",
    "    print(\"# of Tweets added from this response: \", counter) "
   ]
  },
  {
   "cell_type": "code",
   "execution_count": 15,
   "id": "48b11ad9",
   "metadata": {},
   "outputs": [
    {
     "name": "stdout",
     "output_type": "stream",
     "text": [
      "# of Tweets added from this response:  10\n"
     ]
    }
   ],
   "source": [
    "append_to_csv(json_response, \"data.csv\")"
   ]
  },
  {
   "cell_type": "code",
   "execution_count": 16,
   "id": "1a0d45c4",
   "metadata": {},
   "outputs": [
    {
     "ename": "AttributeError",
     "evalue": "'dict' object has no attribute 'headers'",
     "output_type": "error",
     "traceback": [
      "\u001b[0;31m---------------------------------------------------------------------------\u001b[0m",
      "\u001b[0;31mAttributeError\u001b[0m                            Traceback (most recent call last)",
      "\u001b[0;32m<ipython-input-16-62a835670867>\u001b[0m in \u001b[0;36m<module>\u001b[0;34m\u001b[0m\n\u001b[0;32m----> 1\u001b[0;31m \u001b[0mint\u001b[0m\u001b[0;34m(\u001b[0m\u001b[0mjson_response\u001b[0m\u001b[0;34m.\u001b[0m\u001b[0mheaders\u001b[0m\u001b[0;34m[\u001b[0m\u001b[0;34m\"x-rate-limit-remaining\"\u001b[0m\u001b[0;34m]\u001b[0m\u001b[0;34m)\u001b[0m\u001b[0;34m\u001b[0m\u001b[0;34m\u001b[0m\u001b[0m\n\u001b[0m",
      "\u001b[0;31mAttributeError\u001b[0m: 'dict' object has no attribute 'headers'"
     ]
    }
   ],
   "source": [
    "int(json_response.headers[\"x-rate-limit-remaining\"])"
   ]
  },
  {
   "cell_type": "code",
   "execution_count": null,
   "id": "f144cfaa",
   "metadata": {},
   "outputs": [],
   "source": []
  }
 ],
 "metadata": {
  "kernelspec": {
   "display_name": "PythonData",
   "language": "python",
   "name": "pythondata"
  },
  "language_info": {
   "codemirror_mode": {
    "name": "ipython",
    "version": 3
   },
   "file_extension": ".py",
   "mimetype": "text/x-python",
   "name": "python",
   "nbconvert_exporter": "python",
   "pygments_lexer": "ipython3",
   "version": "3.7.10"
  }
 },
 "nbformat": 4,
 "nbformat_minor": 5
}
