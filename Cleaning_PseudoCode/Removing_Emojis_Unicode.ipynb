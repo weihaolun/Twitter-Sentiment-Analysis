{
 "cells": [
  {
   "cell_type": "code",
   "execution_count": 1,
   "id": "ba726904",
   "metadata": {},
   "outputs": [],
   "source": [
    "import re"
   ]
  },
  {
   "cell_type": "code",
   "execution_count": 78,
   "id": "4547a4d7",
   "metadata": {},
   "outputs": [],
   "source": [
    "text = 'This dog 🧛 🧡 🐶 ☠ ⸝ “ 𓍱 · ︎︎︎’ ✨'"
   ]
  },
  {
   "cell_type": "code",
   "execution_count": 79,
   "id": "7acc9d18",
   "metadata": {},
   "outputs": [
    {
     "name": "stdout",
     "output_type": "stream",
     "text": [
      "This dog      “  · ’ \n"
     ]
    }
   ],
   "source": [
    "# original emoji cleaning \n",
    "emoji_pattern = re.compile(\"[\"\n",
    "        u\"\\U0001F600-\\U0001F64F\"  # emoticons\n",
    "        u\"\\U0001F300-\\U0001F5FF\"  # symbols & pictographs\n",
    "        u\"\\U0001F680-\\U0001F6FF\"  # transport & map symbols\n",
    "        u\"\\U0001F1E0-\\U0001F1FF\"  # flags (iOS)\n",
    "        u\"\\U00002500-\\U00002BEF\"  # chinese char\n",
    "        u\"\\U00002702-\\U000027B0\"\n",
    "        u\"\\U00002702-\\U000027B0\"\n",
    "        u\"\\U000024C2-\\U0001F251\"\n",
    "        u\"\\U0001f926-\\U0001f937\"\n",
    "        u\"\\U00010000-\\U0010ffff\"\n",
    "        u\"\\u2640-\\u2642\"\n",
    "        u\"\\u2600-\\u2B55\"\n",
    "        u\"\\u200d\"\n",
    "        u\"\\u23cf\"\n",
    "        u\"\\u23e9\"\n",
    "        u\"\\u231a\"\n",
    "        u\"\\ufe0f\"                  # dingbats\n",
    "        u\"\\u3030\"\n",
    "                           \"]+\", flags=re.UNICODE)\n",
    "print(emoji_pattern.sub(r'', text)) # no emoji"
   ]
  },
  {
   "cell_type": "code",
   "execution_count": 174,
   "id": "a28d5a40",
   "metadata": {},
   "outputs": [],
   "source": [
    "text2=[\"“  · ’hi\",\"hello“🧛 :)\"]"
   ]
  },
  {
   "cell_type": "code",
   "execution_count": 163,
   "id": "a2ae2390",
   "metadata": {},
   "outputs": [
    {
     "name": "stdout",
     "output_type": "stream",
     "text": [
      "hi\n",
      "hello\n"
     ]
    }
   ],
   "source": [
    "#sample = emoji_pattern.sub(r'', text)\n",
    "\n",
    "for word in text2:\n",
    "    output = \"\"\n",
    "    for character in word:\n",
    "        if character.isalnum():\n",
    "            output += character\n",
    "    print(output)"
   ]
  },
  {
   "cell_type": "code",
   "execution_count": 175,
   "id": "ec6b445b",
   "metadata": {},
   "outputs": [
    {
     "data": {
      "text/plain": [
       "[['hi'], ['hello']]"
      ]
     },
     "execution_count": 175,
     "metadata": {},
     "output_type": "execute_result"
    }
   ],
   "source": [
    "#Remove other non alphanumeric characters\n",
    "def remove_Nonalnum(text2):\n",
    "    word_list = []\n",
    "    for word in tweet:\n",
    "        word = ''.join(char for char in tweet if char.isalnum())\n",
    "    word_list.append(word)\n",
    "    return word_list\n",
    "\n",
    "removed_Nonalnum = []\n",
    "for tweet in text2:\n",
    "    x = remove_Nonalnum(tweet)\n",
    "    removed_Nonalnum.append(x)\n",
    "\n",
    "removed_Nonalnum"
   ]
  },
  {
   "cell_type": "code",
   "execution_count": 111,
   "id": "c9eccc74",
   "metadata": {},
   "outputs": [
    {
     "name": "stdout",
     "output_type": "stream",
     "text": [
      "Requirement already satisfied: emoji in /Users/samanthavillanueva/opt/anaconda3/envs/PythonData/lib/python3.7/site-packages (1.6.1)\n",
      "Note: you may need to restart the kernel to use updated packages.\n"
     ]
    }
   ],
   "source": [
    "pip install emoji"
   ]
  },
  {
   "cell_type": "code",
   "execution_count": 5,
   "id": "9de4b177",
   "metadata": {},
   "outputs": [
    {
     "name": "stdout",
     "output_type": "stream",
     "text": [
      "This dog     \n"
     ]
    }
   ],
   "source": [
    "# trial 2 on emoji cleaning\n",
    "import emoji\n",
    "\n",
    "def remove_emoji(text):\n",
    "    return emoji.get_emoji_regexp().sub(u'', text)\n",
    "\n",
    "#text = give_emoji_free_text(text)\n",
    "print(remove_emoji(text))"
   ]
  },
  {
   "cell_type": "code",
   "execution_count": 6,
   "id": "3f59087a",
   "metadata": {},
   "outputs": [],
   "source": [
    "tweet_list = [\n",
    "    'RT @itsgottabe2ne1: Thinking about Big Tamtam this Halloween. Look at the 막내’s at the back laughing so hard.\\n\\n#2ne1  #투애니원\\n#CL #씨엘 @chaelin…',\n",
    "    'RT @jaybaboo: give a way ﹆*\\npls retweet❕\\n\\n✳︎ id photo enhypen halloween ver.\\n𓍱 * there are 7 colors\\n\\n𓍱 dont use for commercial ⸝⸝⸝\\n✳︎ link…',\n",
    "    'RT @pattamahomrod: HAPPY HALLOWEEN!🎃I and @Xylon_11 are thrilled to announce that our graduation film “#LittleMissDungjai ด.ญ.ดั่งใจ” is no…'\n",
    "    '🧛 🧡 🐶 ☠ ⸝ “ 𓍱 · ︎︎︎’ '\n",
    "]"
   ]
  },
  {
   "cell_type": "code",
   "execution_count": 7,
   "id": "22228796",
   "metadata": {},
   "outputs": [
    {
     "name": "stdout",
     "output_type": "stream",
     "text": [
      "RT @itsgottabe2ne1: Thinking about Big Tamtam this Halloween. Look at the 막내’s at the back laughing so hard.\n",
      "\n",
      "#2ne1  #투애니원\n",
      "#CL #씨엘 @chaelin…\n",
      "RT @jaybaboo: give a way ﹆*\n",
      "pls retweet❕\n",
      "\n",
      "✳︎ id photo enhypen halloween ver.\n",
      "𓍱 * there are 7 colors\n",
      "\n",
      "𓍱 dont use for commercial ⸝⸝⸝\n",
      "✳︎ link…\n",
      "RT @pattamahomrod: HAPPY HALLOWEEN!I and @Xylon_11 are thrilled to announce that our graduation film “#LittleMissDungjai ด.ญ.ดั่งใจ” is no…🧛 🧡  ☠ ⸝ “ 𓍱 · ︎︎︎’ \n"
     ]
    }
   ],
   "source": [
    "# original emoji cleaning\n",
    "for tweet in tweet_list:\n",
    "    print(emoji_pattern.sub(r'', tweet))"
   ]
  },
  {
   "cell_type": "code",
   "execution_count": 8,
   "id": "e447f69b",
   "metadata": {},
   "outputs": [
    {
     "name": "stdout",
     "output_type": "stream",
     "text": [
      "RT @itsgottabe2ne1: Thinking about Big Tamtam this Halloween. Look at the 막내’s at the back laughing so hard.\n",
      "\n",
      "#2ne1  #투애니원\n",
      "#CL #씨엘 @chaelin…\n",
      "RT @jaybaboo: give a way ﹆*\n",
      "pls retweet\n",
      "\n",
      "︎ id photo enhypen halloween ver.\n",
      "𓍱 * there are 7 colors\n",
      "\n",
      "𓍱 dont use for commercial ⸝⸝⸝\n",
      "︎ link…\n",
      "RT @pattamahomrod: HAPPY HALLOWEEN!I and @Xylon_11 are thrilled to announce that our graduation film “#LittleMissDungjai ด.ญ.ดั่งใจ” is no…    ⸝ “ 𓍱 · ︎︎︎’ \n"
     ]
    }
   ],
   "source": [
    "# trial 2 emoji cleaning\n",
    "for tweet in tweet_list:\n",
    "    print(remove_emoji(tweet))"
   ]
  },
  {
   "cell_type": "code",
   "execution_count": 9,
   "id": "0232bda5",
   "metadata": {},
   "outputs": [
    {
     "name": "stdout",
     "output_type": "stream",
     "text": [
      "Output after removing Unicode characters :  RT @itsgottabe2ne1: Thinking about Big Tamtam this Halloween. Look at the s at the back laughing so hard.\n",
      "\n",
      "#2ne1  #\n",
      "#CL # @chaelin\n",
      "Output after removing Unicode characters :  RT @jaybaboo: give a way *\n",
      "pls retweet\n",
      "\n",
      " id photo enhypen halloween ver.\n",
      " * there are 7 colors\n",
      "\n",
      " dont use for commercial \n",
      " link\n",
      "Output after removing Unicode characters :  RT @pattamahomrod: HAPPY HALLOWEEN!I and @Xylon_11 are thrilled to announce that our graduation film #LittleMissDungjai .. is no         \n"
     ]
    }
   ],
   "source": [
    "# trial 3 emoji cleaning\n",
    "for tweet in tweet_list:\n",
    "    #encode() method\n",
    "    strencode = tweet.encode(\"ascii\", \"ignore\")\n",
    "    #decode() method\n",
    "    strdecode = strencode.decode()\n",
    "    #output\n",
    "    print(\"Output after removing Unicode characters : \",strdecode)"
   ]
  },
  {
   "cell_type": "code",
   "execution_count": 10,
   "id": "95e4942a",
   "metadata": {},
   "outputs": [],
   "source": [
    "test = [\"happy 🐶\", \"🧛 🧡  ☠ ⸝ “ 𓍱 · ︎︎︎\"]\n",
    "\n",
    "#Remove Unicode Characters \n",
    "def remove_Unicode(test):\n",
    "    strencode = str(tweet).encode(\"ascii\", \"ignore\")\n",
    "    strdecode = strencode.decode\n",
    "    return strdecode\n",
    "\n",
    "removed_Unicode = []\n",
    "for tweet in test:\n",
    "    x = str(remove_Unicode(tweet))\n",
    "    removed_Unicode.append(x)"
   ]
  },
  {
   "cell_type": "code",
   "execution_count": 50,
   "id": "73bfd30f",
   "metadata": {},
   "outputs": [],
   "source": [
    "test = [\"happy 🐶\", \"🧛 🧡  ☠ ⸝ “ 𓍱 · ︎︎︎\"]"
   ]
  },
  {
   "cell_type": "code",
   "execution_count": 48,
   "id": "096f3afb",
   "metadata": {},
   "outputs": [],
   "source": [
    "removed_Unicode = []\n",
    "for tweet in test:\n",
    "    x = str(remove_Unicode(tweet))\n",
    "    removed_Unicode.append(x)"
   ]
  },
  {
   "cell_type": "code",
   "execution_count": 49,
   "id": "f3ffa104",
   "metadata": {},
   "outputs": [
    {
     "data": {
      "text/plain": [
       "['<built-in method decode of bytes object at 0x7f820d2cdf00>',\n",
       " '<built-in method decode of bytes object at 0x7f820d2cdf00>']"
      ]
     },
     "execution_count": 49,
     "metadata": {},
     "output_type": "execute_result"
    }
   ],
   "source": [
    "removed_Unicode"
   ]
  },
  {
   "cell_type": "code",
   "execution_count": 51,
   "id": "d0989e35",
   "metadata": {},
   "outputs": [
    {
     "name": "stdout",
     "output_type": "stream",
     "text": [
      "b'        '\n",
      "        \n",
      "b'        '\n",
      "        \n"
     ]
    }
   ],
   "source": [
    "removed_Unicode = []\n",
    "for t in test:\n",
    "    strencode = str(tweet).encode(\"ascii\", \"ignore\")\n",
    "    print(strencode)\n",
    "    strdecode = strencode.decode(\"utf-8\")\n",
    "    print(strdecode)\n",
    "    #strdecode\n",
    "    #removed_Unicode.append(strdecode)\n",
    "    \n",
    "#removed_Unicode"
   ]
  },
  {
   "cell_type": "code",
   "execution_count": 52,
   "id": "b11d99ed",
   "metadata": {},
   "outputs": [],
   "source": [
    "test = [\"happy 🐶\", \"🧛 🧡  ☠ ⸝ “ 𓍱 · ︎︎︎\"]"
   ]
  },
  {
   "cell_type": "code",
   "execution_count": 63,
   "id": "05c21b7f",
   "metadata": {},
   "outputs": [
    {
     "name": "stdout",
     "output_type": "stream",
     "text": [
      "happy\n",
      "𓍱\n"
     ]
    }
   ],
   "source": [
    "for t in test:\n",
    "    output = \"\"\n",
    "    for character in t:\n",
    "        if character.isalnum():\n",
    "            output += character\n",
    "    print(output)"
   ]
  },
  {
   "cell_type": "code",
   "execution_count": 64,
   "id": "c125f741",
   "metadata": {},
   "outputs": [
    {
     "data": {
      "text/plain": [
       "str"
      ]
     },
     "execution_count": 64,
     "metadata": {},
     "output_type": "execute_result"
    }
   ],
   "source": [
    "type(output)"
   ]
  },
  {
   "cell_type": "code",
   "execution_count": null,
   "id": "e1e664cd",
   "metadata": {},
   "outputs": [],
   "source": []
  }
 ],
 "metadata": {
  "kernelspec": {
   "display_name": "Python 3",
   "language": "python",
   "name": "python3"
  },
  "language_info": {
   "codemirror_mode": {
    "name": "ipython",
    "version": 3
   },
   "file_extension": ".py",
   "mimetype": "text/x-python",
   "name": "python",
   "nbconvert_exporter": "python",
   "pygments_lexer": "ipython3",
   "version": "3.7.10"
  }
 },
 "nbformat": 4,
 "nbformat_minor": 5
}
