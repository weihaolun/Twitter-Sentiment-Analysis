{
 "cells": [
  {
   "cell_type": "code",
   "execution_count": 6,
   "id": "c5048c6d",
   "metadata": {},
   "outputs": [
    {
     "name": "stderr",
     "output_type": "stream",
     "text": [
      "[nltk_data] Downloading package stopwords to\n",
      "[nltk_data]     /Users/samanthavillanueva/nltk_data...\n",
      "[nltk_data]   Package stopwords is already up-to-date!\n"
     ]
    }
   ],
   "source": [
    "import nltk \n",
    "from nltk.corpus import twitter_samples   \n",
    "import matplotlib.pyplot as plt           \n",
    "import random  \n",
    "nltk.download('stopwords')\n",
    "import re                                  \n",
    "import string                             \n",
    "from nltk.corpus import stopwords \n",
    "from nltk.stem import PorterStemmer\n",
    "from nltk.tokenize import TweetTokenizer \n",
    "import pandas as pd\n",
    "import numpy as np"
   ]
  },
  {
   "cell_type": "code",
   "execution_count": 2,
   "id": "9448cbb4",
   "metadata": {},
   "outputs": [],
   "source": [
    "#nltk.download('twitter_samples')\n"
   ]
  },
  {
   "cell_type": "code",
   "execution_count": 7,
   "id": "0316c437",
   "metadata": {},
   "outputs": [],
   "source": [
    "# Read each file as data frames.\n",
    "neutral_df = pd.read_csv(\"../initial_data/resources/filtered_data/neutral.csv\", index_col=[0])\n",
    "positive_df = pd.read_csv(\"../initial_data/resources/filtered_data/positive.csv\", index_col=[0])\n",
    "negative_df = pd.read_csv(\"../initial_data/resources/filtered_data/negative.csv\", index_col=[0])"
   ]
  },
  {
   "cell_type": "code",
   "execution_count": 8,
   "id": "ebebaf5c",
   "metadata": {},
   "outputs": [
    {
     "name": "stdout",
     "output_type": "stream",
     "text": [
      "Number of positive tweets:  17893\n",
      "Number of negative tweets:  7054\n",
      "Number of neutral tweets:  20509\n",
      "\n",
      "The type of all_positive_tweets is:  <class 'list'>\n",
      "\n",
      "The type of all_neutral_tweets is:  <class 'list'>\n",
      "\n",
      "The type of all_negative_tweets is:  <class 'list'>\n",
      "The type of a tweet entry is:  <class 'str'>\n",
      "The type of a tweet entry is:  <class 'str'>\n",
      "The type of a tweet entry is:  <class 'str'>\n"
     ]
    }
   ],
   "source": [
    "all_positive_tweets = positive_df[\"tweets\"].tolist()\n",
    "all_neutral_tweets = neutral_df[\"tweets\"].tolist()\n",
    "all_negative_tweets = negative_df[\"tweets\"].tolist()\n",
    "\n",
    "print('Number of positive tweets: ', len(all_positive_tweets))\n",
    "print('Number of negative tweets: ', len(all_negative_tweets))\n",
    "print('Number of neutral tweets: ', len(all_neutral_tweets))\n",
    "\n",
    "\n",
    "print('\\nThe type of all_positive_tweets is: ', type(all_positive_tweets))\n",
    "print('\\nThe type of all_neutral_tweets is: ', type(all_neutral_tweets))\n",
    "print('\\nThe type of all_negative_tweets is: ', type(all_negative_tweets))\n",
    "\n",
    "\n",
    "print('The type of a tweet entry is: ', type(all_negative_tweets[0]))\n",
    "print('The type of a tweet entry is: ', type(all_positive_tweets[0]))\n",
    "print('The type of a tweet entry is: ', type(all_neutral_tweets[0]))\n"
   ]
  },
  {
   "cell_type": "code",
   "execution_count": 5,
   "id": "297cfc8a",
   "metadata": {},
   "outputs": [],
   "source": [
    "# total_positive_words = []\n",
    "# for sentence in all_positive_tweets:\n",
    "#     total_positive_words.append(sentence.count(' '))\n",
    "    \n",
    "# total_negative_words = []\n",
    "# for sentence in all_negative_tweets:\n",
    "#     total_negative_words.append(sentence.count(' '))\n",
    "  \n",
    "# import plotly.graph_objects as go\n",
    "# import numpy as np\n",
    "\n",
    "# x0 = np.array(total_positive_words)\n",
    "# x1 = np.array(total_negative_words)\n",
    "\n",
    "# fig = go.Figure()\n",
    "# fig.add_trace(go.Histogram(x=x1, name = 'Negative'))\n",
    "# fig.add_trace(go.Histogram(x=x0, name = 'Positive'))\n",
    "\n",
    "# # Overlay both histograms\n",
    "# fig.update_layout(barmode='overlay')\n",
    "# # Reduce opacity to see both histograms\n",
    "# fig.update_traces(opacity=0.75)\n",
    "# fig.show()"
   ]
  },
  {
   "cell_type": "code",
   "execution_count": 6,
   "id": "9b50ef2d",
   "metadata": {},
   "outputs": [],
   "source": [
    "def clean_tweets_func(tweets_stem): \n",
    "\n",
    "    #Remove Retweets\n",
    "    def remove_RT(tweets_stem):\n",
    "        return re.sub(r'^RT[\\s]+', '', str(tweet))\n",
    "\n",
    "    removed_RT = []\n",
    "    for tweet in tweets_stem:\n",
    "        x = remove_RT(tweet)\n",
    "        removed_RT.append(x)\n",
    "\n",
    "    #Remove Hyperlinks\n",
    "    def remove_HL(removed_RT):\n",
    "        return re.sub(r'https?:\\/\\/.*[\\r\\n]*', '', str(tweet))\n",
    "\n",
    "    removed_HL = []\n",
    "    for tweet in removed_RT:\n",
    "        x = remove_HL(tweet)\n",
    "        removed_HL.append(x)\n",
    "\n",
    "    #Remove Hashtags\n",
    "    def remove_Hash(removed_HL):\n",
    "        return re.sub(r'#', '', str(tweet))\n",
    "    \n",
    "    removed_Hash = []\n",
    "    for tweet in removed_HL:\n",
    "        x = remove_Hash(tweet)\n",
    "        removed_Hash.append(x)\n",
    "\n",
    "    #Remove Numbers \n",
    "    def remove_Numbers(removed_Hash):\n",
    "        return re.sub(r'[0-9]', '', str(tweet))\n",
    "\n",
    "    removed_Numbers = []\n",
    "    for tweet in removed_Hash:\n",
    "        x = remove_Numbers(tweet)\n",
    "        removed_Numbers.append(x)\n",
    "\n",
    "    #Remove Emojis \n",
    "    def remove_Emojis(removed_Numbers):\n",
    "        emoji_pattern = re.compile(\"[\"\n",
    "            u\"\\U0001F600-\\U0001F64F\"  # emoticons\n",
    "            u\"\\U0001F300-\\U0001F5FF\"  # symbols & pictographs\n",
    "            u\"\\U0001F680-\\U0001F6FF\"  # transport & map symbols\n",
    "            u\"\\U0001F1E0-\\U0001F1FF\"  # flags (iOS)\n",
    "                               \"]+\", flags=re.UNICODE)\n",
    "        return emoji_pattern.sub(r'', str(tweet))\n",
    "\n",
    "    removed_Emojis = []\n",
    "    for tweet in removed_Numbers:\n",
    "        x = remove_Emojis(tweet)\n",
    "        removed_Emojis.append(x)\n",
    "\n",
    "    #Remove Mentions \n",
    "    def remove_Mentions(removed_Emojis):\n",
    "        return re.sub(\"@[A-Za-z0-9_]+\",\"\", str(tweet))\n",
    "\n",
    "    removed_Mentions = []\n",
    "    for tweet in removed_Emojis:\n",
    "        x = remove_Mentions(tweet)\n",
    "        removed_Mentions.append(x)\n",
    "\n",
    "    #Store finished product from above extractions in tweet2\n",
    "    tweet2 = removed_Mentions\n",
    "\n",
    "    #Tokenizer\n",
    "    def Tokenizer(tweet2):\n",
    "        # instantiate the tokenizer class\n",
    "        tokenizer = TweetTokenizer(preserve_case=False, \n",
    "                               strip_handles=True,\n",
    "                               reduce_len=True)\n",
    "        return tokenizer.tokenize(tweet)\n",
    "\n",
    "    Tokenized = []\n",
    "    for tweet in tweet2:\n",
    "        x = Tokenizer(tweet)\n",
    "        Tokenized.append(x)\n",
    "\n",
    "    #Import the english stop words list from NLTK\n",
    "    stopwords_english = stopwords.words('english') \n",
    "\n",
    "    #Removing stop-words and punctuation (we may want to customize the stop-word list and/or the punctuation )\n",
    "    tweets_clean = []\n",
    "    for i in range(len(Tokenized)):\n",
    "        row = []\n",
    "        for element in Tokenized[i]: #Go through every individual word\n",
    "            if (element not in stopwords_english and  # remove stopwords\n",
    "            element not in string.punctuation): # remove punctuation\n",
    "                row.append(element)\n",
    "        tweets_clean.append(row)\n",
    "        i+=1\n",
    "\n",
    "    #Stemming \n",
    "    # Instantiate stemming class\n",
    "    stemmer = PorterStemmer() \n",
    "    # Create an empty list to store the stems\n",
    "    tweets_stem = [] \n",
    "    for i in range(len(tweets_clean)):\n",
    "        row =[]\n",
    "        for word in tweets_clean[i]:\n",
    "            stem_word = stemmer.stem(word)  # stemming word\n",
    "            row.append(stem_word)  # append to the list\n",
    "        tweets_stem.append(row)\n",
    "        i+=1\n",
    "\n",
    "    return(tweets_stem)"
   ]
  },
  {
   "cell_type": "code",
   "execution_count": 7,
   "id": "cdbd6f45",
   "metadata": {},
   "outputs": [],
   "source": [
    "\n",
    "def create_df():\n",
    "    test_pos_tweets = clean_tweets_func(all_positive_tweets)\n",
    "    test_neg_tweets = clean_tweets_func(all_negative_tweets)\n",
    "    test_neu_tweets = clean_tweets_func(all_neutral_tweets)\n",
    "    \n",
    "    pos_df = pd.DataFrame({\"tweet\":test_pos_tweets})\n",
    "    for length in range(len(pos_df)):\n",
    "        pos_df[\"score\"] = 1.0\n",
    "    \n",
    "    neg_df = pd.DataFrame({\"tweet\":test_neg_tweets})\n",
    "    for length in range(len(neg_df)):\n",
    "        neg_df[\"score\"] = -1.0\n",
    "        \n",
    "    neu_df = pd.DataFrame({\"tweet\":test_neu_tweets})\n",
    "    for length in range(len(neu_df)):\n",
    "        neu_df[\"score\"] = 0.0\n",
    "        \n",
    "    combined_df = pd.concat([pos_df,neg_df, neu_df])\n",
    "    \n",
    "    return combined_df"
   ]
  },
  {
   "cell_type": "code",
   "execution_count": 8,
   "id": "ca7129d8",
   "metadata": {},
   "outputs": [],
   "source": [
    "combined_df = create_df()"
   ]
  },
  {
   "cell_type": "code",
   "execution_count": 9,
   "id": "8a19243e",
   "metadata": {},
   "outputs": [],
   "source": [
    "combined_df = combined_df.reset_index().drop([\"index\"],axis=1)"
   ]
  },
  {
   "cell_type": "code",
   "execution_count": 10,
   "id": "1cc8234f",
   "metadata": {},
   "outputs": [
    {
     "data": {
      "text/html": [
       "<div>\n",
       "<style scoped>\n",
       "    .dataframe tbody tr th:only-of-type {\n",
       "        vertical-align: middle;\n",
       "    }\n",
       "\n",
       "    .dataframe tbody tr th {\n",
       "        vertical-align: top;\n",
       "    }\n",
       "\n",
       "    .dataframe thead th {\n",
       "        text-align: right;\n",
       "    }\n",
       "</style>\n",
       "<table border=\"1\" class=\"dataframe\">\n",
       "  <thead>\n",
       "    <tr style=\"text-align: right;\">\n",
       "      <th></th>\n",
       "      <th>tweet</th>\n",
       "      <th>score</th>\n",
       "    </tr>\n",
       "  </thead>\n",
       "  <tbody>\n",
       "    <tr>\n",
       "      <th>0</th>\n",
       "      <td>[tim, tebow, may, avail, wow, jerri, uc, heck,...</td>\n",
       "      <td>1.0</td>\n",
       "    </tr>\n",
       "    <tr>\n",
       "      <th>1</th>\n",
       "      <td>[aga, tayo, tomorrow, ah, :), good, night, uc,...</td>\n",
       "      <td>1.0</td>\n",
       "    </tr>\n",
       "    <tr>\n",
       "      <th>2</th>\n",
       "      <td>[lunch, new, lil, spot, ..., cotton, bowl, ......</td>\n",
       "      <td>1.0</td>\n",
       "    </tr>\n",
       "    <tr>\n",
       "      <th>3</th>\n",
       "      <td>[snc, halloween, pr, pump, let, us, work, sund...</td>\n",
       "      <td>1.0</td>\n",
       "    </tr>\n",
       "    <tr>\n",
       "      <th>4</th>\n",
       "      <td>[loui, inspir, outfit, monday, zayn, inspir, o...</td>\n",
       "      <td>1.0</td>\n",
       "    </tr>\n",
       "  </tbody>\n",
       "</table>\n",
       "</div>"
      ],
      "text/plain": [
       "                                               tweet  score\n",
       "0  [tim, tebow, may, avail, wow, jerri, uc, heck,...    1.0\n",
       "1  [aga, tayo, tomorrow, ah, :), good, night, uc,...    1.0\n",
       "2  [lunch, new, lil, spot, ..., cotton, bowl, ......    1.0\n",
       "3  [snc, halloween, pr, pump, let, us, work, sund...    1.0\n",
       "4  [loui, inspir, outfit, monday, zayn, inspir, o...    1.0"
      ]
     },
     "execution_count": 10,
     "metadata": {},
     "output_type": "execute_result"
    }
   ],
   "source": [
    "combined_df.head()"
   ]
  },
  {
   "cell_type": "code",
   "execution_count": 11,
   "id": "6acecb9a",
   "metadata": {},
   "outputs": [
    {
     "data": {
      "text/html": [
       "<div>\n",
       "<style scoped>\n",
       "    .dataframe tbody tr th:only-of-type {\n",
       "        vertical-align: middle;\n",
       "    }\n",
       "\n",
       "    .dataframe tbody tr th {\n",
       "        vertical-align: top;\n",
       "    }\n",
       "\n",
       "    .dataframe thead th {\n",
       "        text-align: right;\n",
       "    }\n",
       "</style>\n",
       "<table border=\"1\" class=\"dataframe\">\n",
       "  <thead>\n",
       "    <tr style=\"text-align: right;\">\n",
       "      <th></th>\n",
       "      <th>tweet</th>\n",
       "      <th>score</th>\n",
       "    </tr>\n",
       "  </thead>\n",
       "  <tbody>\n",
       "    <tr>\n",
       "      <th>45451</th>\n",
       "      <td>[alright]</td>\n",
       "      <td>0.0</td>\n",
       "    </tr>\n",
       "    <tr>\n",
       "      <th>45452</th>\n",
       "      <td>[mom, alreadi, bought, ticket, section, sat, m...</td>\n",
       "      <td>0.0</td>\n",
       "    </tr>\n",
       "    <tr>\n",
       "      <th>45453</th>\n",
       "      <td>[everyon, sat, around, metlif, annoy, didnt, l...</td>\n",
       "      <td>0.0</td>\n",
       "    </tr>\n",
       "    <tr>\n",
       "      <th>45454</th>\n",
       "      <td>[giant, niner, fan, would, wanna, go, sunday, ...</td>\n",
       "      <td>0.0</td>\n",
       "    </tr>\n",
       "    <tr>\n",
       "      <th>45455</th>\n",
       "      <td>[mendez, told, he'd, drive, metlif, sunday, .....</td>\n",
       "      <td>0.0</td>\n",
       "    </tr>\n",
       "  </tbody>\n",
       "</table>\n",
       "</div>"
      ],
      "text/plain": [
       "                                                   tweet  score\n",
       "45451                                          [alright]    0.0\n",
       "45452  [mom, alreadi, bought, ticket, section, sat, m...    0.0\n",
       "45453  [everyon, sat, around, metlif, annoy, didnt, l...    0.0\n",
       "45454  [giant, niner, fan, would, wanna, go, sunday, ...    0.0\n",
       "45455  [mendez, told, he'd, drive, metlif, sunday, .....    0.0"
      ]
     },
     "execution_count": 11,
     "metadata": {},
     "output_type": "execute_result"
    }
   ],
   "source": [
    "combined_df.tail()"
   ]
  },
  {
   "cell_type": "code",
   "execution_count": 12,
   "id": "0f9b0dc1",
   "metadata": {},
   "outputs": [
    {
     "data": {
      "text/html": [
       "<div>\n",
       "<style scoped>\n",
       "    .dataframe tbody tr th:only-of-type {\n",
       "        vertical-align: middle;\n",
       "    }\n",
       "\n",
       "    .dataframe tbody tr th {\n",
       "        vertical-align: top;\n",
       "    }\n",
       "\n",
       "    .dataframe thead th {\n",
       "        text-align: right;\n",
       "    }\n",
       "</style>\n",
       "<table border=\"1\" class=\"dataframe\">\n",
       "  <thead>\n",
       "    <tr style=\"text-align: right;\">\n",
       "      <th></th>\n",
       "      <th>tweet</th>\n",
       "      <th>score</th>\n",
       "    </tr>\n",
       "  </thead>\n",
       "  <tbody>\n",
       "    <tr>\n",
       "      <th>45451</th>\n",
       "      <td>[alright]</td>\n",
       "      <td>0.0</td>\n",
       "    </tr>\n",
       "    <tr>\n",
       "      <th>45452</th>\n",
       "      <td>[mom, alreadi, bought, ticket, section, sat, m...</td>\n",
       "      <td>0.0</td>\n",
       "    </tr>\n",
       "    <tr>\n",
       "      <th>45453</th>\n",
       "      <td>[everyon, sat, around, metlif, annoy, didnt, l...</td>\n",
       "      <td>0.0</td>\n",
       "    </tr>\n",
       "    <tr>\n",
       "      <th>45454</th>\n",
       "      <td>[giant, niner, fan, would, wanna, go, sunday, ...</td>\n",
       "      <td>0.0</td>\n",
       "    </tr>\n",
       "    <tr>\n",
       "      <th>45455</th>\n",
       "      <td>[mendez, told, he'd, drive, metlif, sunday, .....</td>\n",
       "      <td>0.0</td>\n",
       "    </tr>\n",
       "  </tbody>\n",
       "</table>\n",
       "</div>"
      ],
      "text/plain": [
       "                                                   tweet  score\n",
       "45451                                          [alright]    0.0\n",
       "45452  [mom, alreadi, bought, ticket, section, sat, m...    0.0\n",
       "45453  [everyon, sat, around, metlif, annoy, didnt, l...    0.0\n",
       "45454  [giant, niner, fan, would, wanna, go, sunday, ...    0.0\n",
       "45455  [mendez, told, he'd, drive, metlif, sunday, .....    0.0"
      ]
     },
     "execution_count": 12,
     "metadata": {},
     "output_type": "execute_result"
    }
   ],
   "source": [
    "combined_df['score'] = combined_df['score'].replace(np.nan, 0)\n",
    "combined_df.tail()"
   ]
  },
  {
   "cell_type": "code",
   "execution_count": 13,
   "id": "dae95133",
   "metadata": {},
   "outputs": [],
   "source": [
    "combined_df.to_csv('Resources/Combined_Sentiments.csv', index = False)"
   ]
  },
  {
   "cell_type": "code",
   "execution_count": 14,
   "id": "2aab7eb5",
   "metadata": {},
   "outputs": [
    {
     "data": {
      "text/plain": [
       "20509"
      ]
     },
     "execution_count": 14,
     "metadata": {},
     "output_type": "execute_result"
    }
   ],
   "source": [
    "len(combined_df[combined_df[\"score\"]==0])"
   ]
  },
  {
   "cell_type": "code",
   "execution_count": null,
   "id": "3cfaccfe",
   "metadata": {},
   "outputs": [],
   "source": []
  }
 ],
 "metadata": {
  "kernelspec": {
   "display_name": "mlenv",
   "language": "python",
   "name": "mlenv"
  },
  "language_info": {
   "codemirror_mode": {
    "name": "ipython",
    "version": 3
   },
   "file_extension": ".py",
   "mimetype": "text/x-python",
   "name": "python",
   "nbconvert_exporter": "python",
   "pygments_lexer": "ipython3",
   "version": "3.7.10"
  }
 },
 "nbformat": 4,
 "nbformat_minor": 5
}
