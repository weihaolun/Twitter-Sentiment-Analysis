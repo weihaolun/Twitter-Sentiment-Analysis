{
 "cells": [
  {
   "cell_type": "code",
   "execution_count": 1,
   "id": "ba1e5add",
   "metadata": {},
   "outputs": [],
   "source": [
    "import pandas as pd"
   ]
  },
  {
   "cell_type": "code",
   "execution_count": 2,
   "id": "9d79de1a",
   "metadata": {},
   "outputs": [
    {
     "name": "stderr",
     "output_type": "stream",
     "text": [
      "/Users/haolunwei/opt/anaconda3/envs/mlenv/lib/python3.8/site-packages/IPython/core/interactiveshell.py:3441: FutureWarning: The error_bad_lines argument has been deprecated and will be removed in a future version.\n",
      "\n",
      "\n",
      "  exec(code_obj, self.user_global_ns, self.user_ns)\n",
      "b'Skipping line 5749: expected 1 fields, saw 2\\nSkipping line 5755: expected 1 fields, saw 2\\nSkipping line 5756: expected 1 fields, saw 2\\nSkipping line 5761: expected 1 fields, saw 2\\nSkipping line 5763: expected 1 fields, saw 3\\nSkipping line 5768: expected 1 fields, saw 2\\nSkipping line 5771: expected 1 fields, saw 2\\nSkipping line 5772: expected 1 fields, saw 2\\nSkipping line 5773: expected 1 fields, saw 2\\nSkipping line 5777: expected 1 fields, saw 3\\nSkipping line 5779: expected 1 fields, saw 2\\nSkipping line 5780: expected 1 fields, saw 2\\nSkipping line 5781: expected 1 fields, saw 3\\nSkipping line 5782: expected 1 fields, saw 4\\nSkipping line 5788: expected 1 fields, saw 2\\nSkipping line 5795: expected 1 fields, saw 2\\nSkipping line 5796: expected 1 fields, saw 2\\nSkipping line 5799: expected 1 fields, saw 2\\nSkipping line 5801: expected 1 fields, saw 2\\nSkipping line 5803: expected 1 fields, saw 2\\nSkipping line 5805: expected 1 fields, saw 2\\nSkipping line 5806: expected 1 fields, saw 2\\nSkipping line 5811: expected 1 fields, saw 2\\nSkipping line 5814: expected 1 fields, saw 3\\nSkipping line 5815: expected 1 fields, saw 2\\nSkipping line 5818: expected 1 fields, saw 3\\nSkipping line 5820: expected 1 fields, saw 2\\nSkipping line 5821: expected 1 fields, saw 2\\nSkipping line 5822: expected 1 fields, saw 2\\nSkipping line 5826: expected 1 fields, saw 2\\nSkipping line 5827: expected 1 fields, saw 2\\nSkipping line 5828: expected 1 fields, saw 2\\nSkipping line 5829: expected 1 fields, saw 3\\nSkipping line 5831: expected 1 fields, saw 2\\nSkipping line 5840: expected 1 fields, saw 2\\nSkipping line 5845: expected 1 fields, saw 2\\nSkipping line 5850: expected 1 fields, saw 3\\nSkipping line 5851: expected 1 fields, saw 2\\nSkipping line 5854: expected 1 fields, saw 2\\nSkipping line 5860: expected 1 fields, saw 3\\nSkipping line 5864: expected 1 fields, saw 3\\nSkipping line 5865: expected 1 fields, saw 3\\nSkipping line 5875: expected 1 fields, saw 2\\nSkipping line 5879: expected 1 fields, saw 2\\nSkipping line 5881: expected 1 fields, saw 5\\nSkipping line 5883: expected 1 fields, saw 2\\nSkipping line 5885: expected 1 fields, saw 2\\nSkipping line 5886: expected 1 fields, saw 2\\nSkipping line 5887: expected 1 fields, saw 4\\nSkipping line 5890: expected 1 fields, saw 3\\nSkipping line 5897: expected 1 fields, saw 5\\nSkipping line 5901: expected 1 fields, saw 4\\nSkipping line 5907: expected 1 fields, saw 4\\nSkipping line 5908: expected 1 fields, saw 2\\nSkipping line 5909: expected 1 fields, saw 2\\nSkipping line 5911: expected 1 fields, saw 2\\nSkipping line 5912: expected 1 fields, saw 2\\nSkipping line 5915: expected 1 fields, saw 2\\nSkipping line 5921: expected 1 fields, saw 2\\nSkipping line 5925: expected 1 fields, saw 2\\nSkipping line 5928: expected 1 fields, saw 3\\nSkipping line 5930: expected 1 fields, saw 2\\nSkipping line 5931: expected 1 fields, saw 2\\nSkipping line 5934: expected 1 fields, saw 3\\nSkipping line 5937: expected 1 fields, saw 2\\nSkipping line 5938: expected 1 fields, saw 3\\nSkipping line 5942: expected 1 fields, saw 2\\nSkipping line 5945: expected 1 fields, saw 2\\nSkipping line 5947: expected 1 fields, saw 2\\nSkipping line 5948: expected 1 fields, saw 2\\nSkipping line 5951: expected 1 fields, saw 2\\nSkipping line 5953: expected 1 fields, saw 3\\nSkipping line 5954: expected 1 fields, saw 3\\nSkipping line 5955: expected 1 fields, saw 2\\nSkipping line 5956: expected 1 fields, saw 2\\nSkipping line 5962: expected 1 fields, saw 2\\nSkipping line 5967: expected 1 fields, saw 2\\nSkipping line 5968: expected 1 fields, saw 2\\nSkipping line 5970: expected 1 fields, saw 2\\nSkipping line 5972: expected 1 fields, saw 3\\nSkipping line 5973: expected 1 fields, saw 2\\nSkipping line 5974: expected 1 fields, saw 3\\nSkipping line 5975: expected 1 fields, saw 2\\nSkipping line 5976: expected 1 fields, saw 2\\nSkipping line 5977: expected 1 fields, saw 2\\nSkipping line 5978: expected 1 fields, saw 2\\nSkipping line 5988: expected 1 fields, saw 2\\nSkipping line 5992: expected 1 fields, saw 2\\nSkipping line 5995: expected 1 fields, saw 2\\nSkipping line 5997: expected 1 fields, saw 3\\nSkipping line 5999: expected 1 fields, saw 2\\nSkipping line 6002: expected 1 fields, saw 2\\nSkipping line 6004: expected 1 fields, saw 2\\nSkipping line 6008: expected 1 fields, saw 2\\nSkipping line 6009: expected 1 fields, saw 2\\nSkipping line 6013: expected 1 fields, saw 2\\nSkipping line 6014: expected 1 fields, saw 3\\nSkipping line 6016: expected 1 fields, saw 5\\nSkipping line 6020: expected 1 fields, saw 2\\nSkipping line 6021: expected 1 fields, saw 2\\nSkipping line 6022: expected 1 fields, saw 2\\nSkipping line 6023: expected 1 fields, saw 2\\nSkipping line 6027: expected 1 fields, saw 2\\nSkipping line 6032: expected 1 fields, saw 2\\nSkipping line 6035: expected 1 fields, saw 3\\nSkipping line 6039: expected 1 fields, saw 3\\nSkipping line 6040: expected 1 fields, saw 2\\nSkipping line 6047: expected 1 fields, saw 3\\nSkipping line 6048: expected 1 fields, saw 2\\nSkipping line 6052: expected 1 fields, saw 4\\nSkipping line 6054: expected 1 fields, saw 4\\nSkipping line 6057: expected 1 fields, saw 2\\nSkipping line 6058: expected 1 fields, saw 2\\nSkipping line 6060: expected 1 fields, saw 2\\nSkipping line 6070: expected 1 fields, saw 4\\nSkipping line 6080: expected 1 fields, saw 2\\nSkipping line 6085: expected 1 fields, saw 3\\nSkipping line 6087: expected 1 fields, saw 2\\nSkipping line 6088: expected 1 fields, saw 3\\nSkipping line 6090: expected 1 fields, saw 2\\nSkipping line 6091: expected 1 fields, saw 3\\nSkipping line 6094: expected 1 fields, saw 3\\nSkipping line 6100: expected 1 fields, saw 2\\nSkipping line 6102: expected 1 fields, saw 5\\nSkipping line 6103: expected 1 fields, saw 2\\nSkipping line 6113: expected 1 fields, saw 2\\nSkipping line 6114: expected 1 fields, saw 2\\nSkipping line 6116: expected 1 fields, saw 2\\nSkipping line 6120: expected 1 fields, saw 2\\nSkipping line 6122: expected 1 fields, saw 2\\nSkipping line 6123: expected 1 fields, saw 3\\nSkipping line 6129: expected 1 fields, saw 2\\nSkipping line 6130: expected 1 fields, saw 2\\nSkipping line 6136: expected 1 fields, saw 2\\nSkipping line 6140: expected 1 fields, saw 4\\nSkipping line 6143: expected 1 fields, saw 4\\nSkipping line 6147: expected 1 fields, saw 5\\nSkipping line 6150: expected 1 fields, saw 3\\nSkipping line 6152: expected 1 fields, saw 3\\nSkipping line 6156: expected 1 fields, saw 4\\nSkipping line 6166: expected 1 fields, saw 2\\nSkipping line 6169: expected 1 fields, saw 3\\nSkipping line 6174: expected 1 fields, saw 3\\nSkipping line 6175: expected 1 fields, saw 2\\nSkipping line 6176: expected 1 fields, saw 2\\nSkipping line 6179: expected 1 fields, saw 3\\nSkipping line 6181: expected 1 fields, saw 2\\nSkipping line 6183: expected 1 fields, saw 3\\nSkipping line 6186: expected 1 fields, saw 2\\nSkipping line 6189: expected 1 fields, saw 3\\nSkipping line 6191: expected 1 fields, saw 3\\nSkipping line 6200: expected 1 fields, saw 3\\nSkipping line 6202: expected 1 fields, saw 2\\nSkipping line 6205: expected 1 fields, saw 3\\nSkipping line 6206: expected 1 fields, saw 2\\nSkipping line 6211: expected 1 fields, saw 4\\nSkipping line 6212: expected 1 fields, saw 4\\nSkipping line 6214: expected 1 fields, saw 5\\nSkipping line 6218: expected 1 fields, saw 2\\nSkipping line 6219: expected 1 fields, saw 2\\nSkipping line 6222: expected 1 fields, saw 2\\nSkipping line 6223: expected 1 fields, saw 2\\nSkipping line 6229: expected 1 fields, saw 2\\nSkipping line 6231: expected 1 fields, saw 2\\nSkipping line 6233: expected 1 fields, saw 2\\nSkipping line 6236: expected 1 fields, saw 2\\nSkipping line 6237: expected 1 fields, saw 2\\nSkipping line 6241: expected 1 fields, saw 3\\nSkipping line 6244: expected 1 fields, saw 2\\nSkipping line 6247: expected 1 fields, saw 2\\nSkipping line 6250: expected 1 fields, saw 2\\nSkipping line 6256: expected 1 fields, saw 2\\nSkipping line 6257: expected 1 fields, saw 4\\nSkipping line 6260: expected 1 fields, saw 2\\nSkipping line 6261: expected 1 fields, saw 3\\nSkipping line 6266: expected 1 fields, saw 2\\nSkipping line 6267: expected 1 fields, saw 2\\nSkipping line 6268: expected 1 fields, saw 2\\nSkipping line 6270: expected 1 fields, saw 3\\nSkipping line 6274: expected 1 fields, saw 2\\nSkipping line 6278: expected 1 fields, saw 2\\nSkipping line 6279: expected 1 fields, saw 2\\nSkipping line 6280: expected 1 fields, saw 2\\nSkipping line 6281: expected 1 fields, saw 2\\nSkipping line 6282: expected 1 fields, saw 3\\nSkipping line 6285: expected 1 fields, saw 2\\nSkipping line 6287: expected 1 fields, saw 2\\nSkipping line 6289: expected 1 fields, saw 6\\nSkipping line 6290: expected 1 fields, saw 2\\nSkipping line 6291: expected 1 fields, saw 3\\nSkipping line 6292: expected 1 fields, saw 2\\nSkipping line 6298: expected 1 fields, saw 3\\nSkipping line 6301: expected 1 fields, saw 3\\nSkipping line 6304: expected 1 fields, saw 2\\nSkipping line 6305: expected 1 fields, saw 2\\nSkipping line 6306: expected 1 fields, saw 2\\nSkipping line 6307: expected 1 fields, saw 2\\nSkipping line 6313: expected 1 fields, saw 2\\nSkipping line 6315: expected 1 fields, saw 3\\nSkipping line 6316: expected 1 fields, saw 2\\nSkipping line 6317: expected 1 fields, saw 2\\nSkipping line 6320: expected 1 fields, saw 3\\nSkipping line 6323: expected 1 fields, saw 4\\nSkipping line 6325: expected 1 fields, saw 2\\nSkipping line 6327: expected 1 fields, saw 3\\nSkipping line 6328: expected 1 fields, saw 2\\nSkipping line 6331: expected 1 fields, saw 3\\nSkipping line 6333: expected 1 fields, saw 2\\nSkipping line 6335: expected 1 fields, saw 3\\nSkipping line 6344: expected 1 fields, saw 2\\nSkipping line 6346: expected 1 fields, saw 3\\nSkipping line 6347: expected 1 fields, saw 2\\nSkipping line 6348: expected 1 fields, saw 2\\nSkipping line 6350: expected 1 fields, saw 2\\nSkipping line 6353: expected 1 fields, saw 3\\nSkipping line 6361: expected 1 fields, saw 2\\nSkipping line 6369: expected 1 fields, saw 2\\nSkipping line 6371: expected 1 fields, saw 2\\nSkipping line 6373: expected 1 fields, saw 2\\nSkipping line 6374: expected 1 fields, saw 3\\nSkipping line 6380: expected 1 fields, saw 2\\nSkipping line 6381: expected 1 fields, saw 2\\nSkipping line 6384: expected 1 fields, saw 2\\nSkipping line 6386: expected 1 fields, saw 2\\nSkipping line 6388: expected 1 fields, saw 2\\nSkipping line 6389: expected 1 fields, saw 3\\nSkipping line 6395: expected 1 fields, saw 2\\nSkipping line 6396: expected 1 fields, saw 2\\nSkipping line 6398: expected 1 fields, saw 2\\nSkipping line 6399: expected 1 fields, saw 2\\nSkipping line 6405: expected 1 fields, saw 2\\nSkipping line 6411: expected 1 fields, saw 4\\nSkipping line 6416: expected 1 fields, saw 4\\nSkipping line 6419: expected 1 fields, saw 3\\nSkipping line 6420: expected 1 fields, saw 2\\nSkipping line 6428: expected 1 fields, saw 2\\nSkipping line 6429: expected 1 fields, saw 2\\nSkipping line 6436: expected 1 fields, saw 2\\nSkipping line 6441: expected 1 fields, saw 3\\nSkipping line 6443: expected 1 fields, saw 2\\nSkipping line 6449: expected 1 fields, saw 2\\nSkipping line 6450: expected 1 fields, saw 3\\nSkipping line 6452: expected 1 fields, saw 2\\nSkipping line 6457: expected 1 fields, saw 2\\nSkipping line 6460: expected 1 fields, saw 4\\nSkipping line 6473: expected 1 fields, saw 3\\nSkipping line 6476: expected 1 fields, saw 3\\nSkipping line 6477: expected 1 fields, saw 2\\nSkipping line 6483: expected 1 fields, saw 3\\nSkipping line 6485: expected 1 fields, saw 2\\nSkipping line 6487: expected 1 fields, saw 2\\nSkipping line 6492: expected 1 fields, saw 2\\nSkipping line 6493: expected 1 fields, saw 3\\nSkipping line 6496: expected 1 fields, saw 2\\nSkipping line 6497: expected 1 fields, saw 2\\nSkipping line 6499: expected 1 fields, saw 2\\nSkipping line 6502: expected 1 fields, saw 2\\nSkipping line 6503: expected 1 fields, saw 2\\nSkipping line 6505: expected 1 fields, saw 2\\nSkipping line 6510: expected 1 fields, saw 2\\nSkipping line 6515: expected 1 fields, saw 2\\nSkipping line 6516: expected 1 fields, saw 2\\nSkipping line 6517: expected 1 fields, saw 2\\nSkipping line 6518: expected 1 fields, saw 2\\nSkipping line 6522: expected 1 fields, saw 3\\nSkipping line 6528: expected 1 fields, saw 2\\nSkipping line 6530: expected 1 fields, saw 2\\nSkipping line 6531: expected 1 fields, saw 2\\nSkipping line 6532: expected 1 fields, saw 5\\nSkipping line 6533: expected 1 fields, saw 3\\nSkipping line 6534: expected 1 fields, saw 3\\nSkipping line 6539: expected 1 fields, saw 2\\nSkipping line 6540: expected 1 fields, saw 2\\nSkipping line 6542: expected 1 fields, saw 2\\nSkipping line 6543: expected 1 fields, saw 2\\nSkipping line 6546: expected 1 fields, saw 2\\nSkipping line 6547: expected 1 fields, saw 2\\nSkipping line 6553: expected 1 fields, saw 2\\nSkipping line 6554: expected 1 fields, saw 2\\nSkipping line 6558: expected 1 fields, saw 3\\nSkipping line 6563: expected 1 fields, saw 4\\nSkipping line 6574: expected 1 fields, saw 2\\nSkipping line 6575: expected 1 fields, saw 2\\nSkipping line 6576: expected 1 fields, saw 2\\nSkipping line 6578: expected 1 fields, saw 2\\nSkipping line 6580: expected 1 fields, saw 2\\nSkipping line 6590: expected 1 fields, saw 5\\nSkipping line 6592: expected 1 fields, saw 2\\nSkipping line 6595: expected 1 fields, saw 2\\nSkipping line 6598: expected 1 fields, saw 2\\nSkipping line 6599: expected 1 fields, saw 2\\nSkipping line 6600: expected 1 fields, saw 2\\nSkipping line 6601: expected 1 fields, saw 2\\nSkipping line 6602: expected 1 fields, saw 2\\nSkipping line 6607: expected 1 fields, saw 2\\nSkipping line 6610: expected 1 fields, saw 2\\nSkipping line 6611: expected 1 fields, saw 2\\nSkipping line 6614: expected 1 fields, saw 5\\nSkipping line 6619: expected 1 fields, saw 2\\nSkipping line 6620: expected 1 fields, saw 3\\nSkipping line 6622: expected 1 fields, saw 2\\nSkipping line 6626: expected 1 fields, saw 2\\nSkipping line 6629: expected 1 fields, saw 2\\nSkipping line 6635: expected 1 fields, saw 5\\nSkipping line 6636: expected 1 fields, saw 2\\nSkipping line 6638: expected 1 fields, saw 4\\nSkipping line 6641: expected 1 fields, saw 2\\nSkipping line 6644: expected 1 fields, saw 3\\nSkipping line 6645: expected 1 fields, saw 3\\nSkipping line 6648: expected 1 fields, saw 3\\nSkipping line 6652: expected 1 fields, saw 2\\nSkipping line 6653: expected 1 fields, saw 2\\nSkipping line 6656: expected 1 fields, saw 2\\nSkipping line 6660: expected 1 fields, saw 2\\nSkipping line 6661: expected 1 fields, saw 3\\nSkipping line 6664: expected 1 fields, saw 3\\nSkipping line 6666: expected 1 fields, saw 5\\nSkipping line 6670: expected 1 fields, saw 4\\nSkipping line 6676: expected 1 fields, saw 2\\nSkipping line 6680: expected 1 fields, saw 2\\nSkipping line 6683: expected 1 fields, saw 2\\nSkipping line 6685: expected 1 fields, saw 2\\nSkipping line 6686: expected 1 fields, saw 2\\nSkipping line 6687: expected 1 fields, saw 2\\nSkipping line 6689: expected 1 fields, saw 2\\nSkipping line 6691: expected 1 fields, saw 3\\nSkipping line 6693: expected 1 fields, saw 2\\nSkipping line 6694: expected 1 fields, saw 2\\nSkipping line 6697: expected 1 fields, saw 2\\nSkipping line 6700: expected 1 fields, saw 2\\nSkipping line 6701: expected 1 fields, saw 2\\nSkipping line 6707: expected 1 fields, saw 2\\nSkipping line 6715: expected 1 fields, saw 2\\nSkipping line 6716: expected 1 fields, saw 2\\nSkipping line 6723: expected 1 fields, saw 4\\nSkipping line 6724: expected 1 fields, saw 3\\nSkipping line 6727: expected 1 fields, saw 9\\nSkipping line 6730: expected 1 fields, saw 2\\nSkipping line 6731: expected 1 fields, saw 2\\nSkipping line 6733: expected 1 fields, saw 2\\nSkipping line 6736: expected 1 fields, saw 2\\nSkipping line 6739: expected 1 fields, saw 2\\nSkipping line 6740: expected 1 fields, saw 2\\nSkipping line 6741: expected 1 fields, saw 2\\nSkipping line 6746: expected 1 fields, saw 2\\nSkipping line 6751: expected 1 fields, saw 2\\nSkipping line 6752: expected 1 fields, saw 2\\nSkipping line 6754: expected 1 fields, saw 2\\nSkipping line 6755: expected 1 fields, saw 2\\nSkipping line 6761: expected 1 fields, saw 2\\nSkipping line 6762: expected 1 fields, saw 2\\nSkipping line 6766: expected 1 fields, saw 2\\nSkipping line 6767: expected 1 fields, saw 3\\nSkipping line 6768: expected 1 fields, saw 2\\nSkipping line 6771: expected 1 fields, saw 2\\nSkipping line 6772: expected 1 fields, saw 2\\nSkipping line 6775: expected 1 fields, saw 3\\nSkipping line 6776: expected 1 fields, saw 2\\nSkipping line 6779: expected 1 fields, saw 2\\nSkipping line 6782: expected 1 fields, saw 2\\nSkipping line 6786: expected 1 fields, saw 2\\nSkipping line 6788: expected 1 fields, saw 2\\nSkipping line 6789: expected 1 fields, saw 3\\nSkipping line 6793: expected 1 fields, saw 2\\nSkipping line 6796: expected 1 fields, saw 3\\nSkipping line 6797: expected 1 fields, saw 2\\nSkipping line 6798: expected 1 fields, saw 2\\nSkipping line 6800: expected 1 fields, saw 3\\nSkipping line 6801: expected 1 fields, saw 2\\nSkipping line 6804: expected 1 fields, saw 2\\nSkipping line 6807: expected 1 fields, saw 2\\nSkipping line 6812: expected 1 fields, saw 2\\nSkipping line 6813: expected 1 fields, saw 3\\nSkipping line 6815: expected 1 fields, saw 2\\nSkipping line 6820: expected 1 fields, saw 2\\nSkipping line 6822: expected 1 fields, saw 3\\nSkipping line 6832: expected 1 fields, saw 2\\nSkipping line 6833: expected 1 fields, saw 2\\nSkipping line 6834: expected 1 fields, saw 3\\nSkipping line 6835: expected 1 fields, saw 2\\nSkipping line 6841: expected 1 fields, saw 2\\nSkipping line 6851: expected 1 fields, saw 2\\nSkipping line 6852: expected 1 fields, saw 2\\nSkipping line 6860: expected 1 fields, saw 4\\nSkipping line 6863: expected 1 fields, saw 2\\nSkipping line 6864: expected 1 fields, saw 2\\nSkipping line 6865: expected 1 fields, saw 2\\nSkipping line 6868: expected 1 fields, saw 4\\nSkipping line 6869: expected 1 fields, saw 3\\nSkipping line 6871: expected 1 fields, saw 3\\nSkipping line 6872: expected 1 fields, saw 2\\nSkipping line 6873: expected 1 fields, saw 4\\nSkipping line 6875: expected 1 fields, saw 4\\nSkipping line 6876: expected 1 fields, saw 2\\nSkipping line 6877: expected 1 fields, saw 2\\nSkipping line 6878: expected 1 fields, saw 3\\nSkipping line 6881: expected 1 fields, saw 2\\nSkipping line 6885: expected 1 fields, saw 6\\nSkipping line 6891: expected 1 fields, saw 3\\nSkipping line 6894: expected 1 fields, saw 2\\nSkipping line 6897: expected 1 fields, saw 2\\nSkipping line 6900: expected 1 fields, saw 2\\nSkipping line 6902: expected 1 fields, saw 3\\nSkipping line 6907: expected 1 fields, saw 2\\nSkipping line 6908: expected 1 fields, saw 2\\nSkipping line 6911: expected 1 fields, saw 2\\nSkipping line 6915: expected 1 fields, saw 3\\nSkipping line 6920: expected 1 fields, saw 2\\nSkipping line 6921: expected 1 fields, saw 2\\nSkipping line 6922: expected 1 fields, saw 3\\nSkipping line 6923: expected 1 fields, saw 2\\nSkipping line 6924: expected 1 fields, saw 3\\nSkipping line 6926: expected 1 fields, saw 2\\nSkipping line 6927: expected 1 fields, saw 3\\nSkipping line 6931: expected 1 fields, saw 2\\nSkipping line 6932: expected 1 fields, saw 2\\nSkipping line 6933: expected 1 fields, saw 2\\nSkipping line 6935: expected 1 fields, saw 2\\nSkipping line 6937: expected 1 fields, saw 2\\nSkipping line 6940: expected 1 fields, saw 2\\nSkipping line 6941: expected 1 fields, saw 4\\nSkipping line 6943: expected 1 fields, saw 2\\nSkipping line 6948: expected 1 fields, saw 2\\nSkipping line 6952: expected 1 fields, saw 2\\nSkipping line 6957: expected 1 fields, saw 2\\nSkipping line 6963: expected 1 fields, saw 2\\nSkipping line 6965: expected 1 fields, saw 3\\nSkipping line 6966: expected 1 fields, saw 2\\nSkipping line 6967: expected 1 fields, saw 2\\nSkipping line 6970: expected 1 fields, saw 2\\nSkipping line 6973: expected 1 fields, saw 2\\nSkipping line 6977: expected 1 fields, saw 2\\nSkipping line 6978: expected 1 fields, saw 4\\nSkipping line 6982: expected 1 fields, saw 3\\nSkipping line 6986: expected 1 fields, saw 2\\nSkipping line 6989: expected 1 fields, saw 2\\nSkipping line 6992: expected 1 fields, saw 2\\nSkipping line 6995: expected 1 fields, saw 3\\nSkipping line 6999: expected 1 fields, saw 2\\nSkipping line 7002: expected 1 fields, saw 3\\nSkipping line 7003: expected 1 fields, saw 2\\nSkipping line 7006: expected 1 fields, saw 2\\nSkipping line 7008: expected 1 fields, saw 3\\nSkipping line 7010: expected 1 fields, saw 2\\nSkipping line 7014: expected 1 fields, saw 2\\nSkipping line 7022: expected 1 fields, saw 2\\nSkipping line 7025: expected 1 fields, saw 3\\nSkipping line 7028: expected 1 fields, saw 3\\nSkipping line 7030: expected 1 fields, saw 2\\nSkipping line 7036: expected 1 fields, saw 2\\nSkipping line 7037: expected 1 fields, saw 2\\nSkipping line 7038: expected 1 fields, saw 2\\nSkipping line 7042: expected 1 fields, saw 2\\nSkipping line 7044: expected 1 fields, saw 3\\nSkipping line 7052: expected 1 fields, saw 2\\nSkipping line 7054: expected 1 fields, saw 2\\nSkipping line 7055: expected 1 fields, saw 3\\nSkipping line 7061: expected 1 fields, saw 2\\nSkipping line 7064: expected 1 fields, saw 2\\nSkipping line 7068: expected 1 fields, saw 2\\nSkipping line 7071: expected 1 fields, saw 4\\nSkipping line 7072: expected 1 fields, saw 2\\nSkipping line 7077: expected 1 fields, saw 3\\nSkipping line 7078: expected 1 fields, saw 3\\nSkipping line 7080: expected 1 fields, saw 3\\nSkipping line 7083: expected 1 fields, saw 2\\nSkipping line 7086: expected 1 fields, saw 2\\nSkipping line 7093: expected 1 fields, saw 2\\nSkipping line 7095: expected 1 fields, saw 3\\nSkipping line 7096: expected 1 fields, saw 2\\nSkipping line 7097: expected 1 fields, saw 2\\nSkipping line 7101: expected 1 fields, saw 3\\nSkipping line 7104: expected 1 fields, saw 2\\nSkipping line 7109: expected 1 fields, saw 2\\nSkipping line 7117: expected 1 fields, saw 2\\nSkipping line 7122: expected 1 fields, saw 2\\nSkipping line 7129: expected 1 fields, saw 2\\nSkipping line 7130: expected 1 fields, saw 2\\nSkipping line 7132: expected 1 fields, saw 2\\nSkipping line 7134: expected 1 fields, saw 3\\nSkipping line 7135: expected 1 fields, saw 2\\nSkipping line 7136: expected 1 fields, saw 4\\nSkipping line 7138: expected 1 fields, saw 3\\nSkipping line 7144: expected 1 fields, saw 2\\nSkipping line 7145: expected 1 fields, saw 3\\nSkipping line 7146: expected 1 fields, saw 2\\nSkipping line 7147: expected 1 fields, saw 3\\nSkipping line 7148: expected 1 fields, saw 3\\nSkipping line 7151: expected 1 fields, saw 3\\nSkipping line 7153: expected 1 fields, saw 2\\nSkipping line 7159: expected 1 fields, saw 2\\nSkipping line 7162: expected 1 fields, saw 2\\nSkipping line 7166: expected 1 fields, saw 2\\nSkipping line 7169: expected 1 fields, saw 2\\nSkipping line 7171: expected 1 fields, saw 2\\nSkipping line 7172: expected 1 fields, saw 4\\nSkipping line 7175: expected 1 fields, saw 2\\nSkipping line 7178: expected 1 fields, saw 3\\nSkipping line 7180: expected 1 fields, saw 3\\nSkipping line 7189: expected 1 fields, saw 3\\nSkipping line 7190: expected 1 fields, saw 2\\nSkipping line 7193: expected 1 fields, saw 3\\nSkipping line 7199: expected 1 fields, saw 2\\nSkipping line 7203: expected 1 fields, saw 2\\nSkipping line 7206: expected 1 fields, saw 5\\nSkipping line 7208: expected 1 fields, saw 2\\nSkipping line 7209: expected 1 fields, saw 2\\nSkipping line 7210: expected 1 fields, saw 2\\nSkipping line 7211: expected 1 fields, saw 3\\nSkipping line 7212: expected 1 fields, saw 4\\nSkipping line 7220: expected 1 fields, saw 2\\nSkipping line 7226: expected 1 fields, saw 2\\nSkipping line 7239: expected 1 fields, saw 5\\nSkipping line 7240: expected 1 fields, saw 5\\nSkipping line 7243: expected 1 fields, saw 6\\nSkipping line 7245: expected 1 fields, saw 3\\nSkipping line 7246: expected 1 fields, saw 4\\nSkipping line 7252: expected 1 fields, saw 3\\nSkipping line 7255: expected 1 fields, saw 2\\nSkipping line 7257: expected 1 fields, saw 2\\nSkipping line 7258: expected 1 fields, saw 3\\nSkipping line 7260: expected 1 fields, saw 2\\nSkipping line 7261: expected 1 fields, saw 2\\nSkipping line 7262: expected 1 fields, saw 2\\nSkipping line 7263: expected 1 fields, saw 2\\nSkipping line 7264: expected 1 fields, saw 2\\nSkipping line 7265: expected 1 fields, saw 2\\nSkipping line 7275: expected 1 fields, saw 3\\nSkipping line 7280: expected 1 fields, saw 3\\nSkipping line 7281: expected 1 fields, saw 2\\nSkipping line 7282: expected 1 fields, saw 2\\nSkipping line 7284: expected 1 fields, saw 2\\nSkipping line 7293: expected 1 fields, saw 3\\nSkipping line 7296: expected 1 fields, saw 2\\nSkipping line 7301: expected 1 fields, saw 2\\nSkipping line 7303: expected 1 fields, saw 3\\nSkipping line 7307: expected 1 fields, saw 2\\nSkipping line 7310: expected 1 fields, saw 2\\nSkipping line 7312: expected 1 fields, saw 2\\nSkipping line 7313: expected 1 fields, saw 3\\nSkipping line 7321: expected 1 fields, saw 3\\nSkipping line 7326: expected 1 fields, saw 2\\nSkipping line 7330: expected 1 fields, saw 3\\nSkipping line 7333: expected 1 fields, saw 2\\nSkipping line 7334: expected 1 fields, saw 2\\nSkipping line 7338: expected 1 fields, saw 3\\nSkipping line 7341: expected 1 fields, saw 5\\nSkipping line 7342: expected 1 fields, saw 3\\nSkipping line 7344: expected 1 fields, saw 2\\nSkipping line 7348: expected 1 fields, saw 2\\nSkipping line 7349: expected 1 fields, saw 2\\nSkipping line 7350: expected 1 fields, saw 5\\nSkipping line 7353: expected 1 fields, saw 3\\nSkipping line 7354: expected 1 fields, saw 2\\nSkipping line 7362: expected 1 fields, saw 3\\nSkipping line 7367: expected 1 fields, saw 3\\nSkipping line 7370: expected 1 fields, saw 4\\nSkipping line 7373: expected 1 fields, saw 2\\nSkipping line 7376: expected 1 fields, saw 3\\nSkipping line 7380: expected 1 fields, saw 4\\nSkipping line 7381: expected 1 fields, saw 5\\nSkipping line 7382: expected 1 fields, saw 5\\nSkipping line 7383: expected 1 fields, saw 2\\nSkipping line 7384: expected 1 fields, saw 2\\nSkipping line 7385: expected 1 fields, saw 2\\nSkipping line 7387: expected 1 fields, saw 2\\nSkipping line 7388: expected 1 fields, saw 2\\nSkipping line 7390: expected 1 fields, saw 2\\nSkipping line 7392: expected 1 fields, saw 3\\nSkipping line 7393: expected 1 fields, saw 2\\nSkipping line 7394: expected 1 fields, saw 2\\nSkipping line 7397: expected 1 fields, saw 2\\nSkipping line 7398: expected 1 fields, saw 2\\nSkipping line 7399: expected 1 fields, saw 2\\nSkipping line 7400: expected 1 fields, saw 2\\nSkipping line 7401: expected 1 fields, saw 2\\nSkipping line 7406: expected 1 fields, saw 2\\nSkipping line 7410: expected 1 fields, saw 2\\nSkipping line 7415: expected 1 fields, saw 2\\nSkipping line 7419: expected 1 fields, saw 2\\nSkipping line 7421: expected 1 fields, saw 2\\nSkipping line 7422: expected 1 fields, saw 3\\nSkipping line 7428: expected 1 fields, saw 2\\nSkipping line 7429: expected 1 fields, saw 2\\nSkipping line 7430: expected 1 fields, saw 2\\nSkipping line 7432: expected 1 fields, saw 3\\nSkipping line 7434: expected 1 fields, saw 3\\nSkipping line 7436: expected 1 fields, saw 3\\nSkipping line 7438: expected 1 fields, saw 2\\nSkipping line 7440: expected 1 fields, saw 3\\nSkipping line 7441: expected 1 fields, saw 3\\nSkipping line 7444: expected 1 fields, saw 2\\nSkipping line 7448: expected 1 fields, saw 3\\nSkipping line 7451: expected 1 fields, saw 2\\nSkipping line 7452: expected 1 fields, saw 2\\nSkipping line 7453: expected 1 fields, saw 2\\nSkipping line 7455: expected 1 fields, saw 2\\nSkipping line 7456: expected 1 fields, saw 2\\nSkipping line 7460: expected 1 fields, saw 2\\nSkipping line 7461: expected 1 fields, saw 4\\nSkipping line 7462: expected 1 fields, saw 2\\nSkipping line 7466: expected 1 fields, saw 2\\nSkipping line 7468: expected 1 fields, saw 3\\nSkipping line 7470: expected 1 fields, saw 2\\nSkipping line 7472: expected 1 fields, saw 2\\nSkipping line 7474: expected 1 fields, saw 3\\nSkipping line 7477: expected 1 fields, saw 2\\nSkipping line 7478: expected 1 fields, saw 2\\nSkipping line 7481: expected 1 fields, saw 5\\nSkipping line 7482: expected 1 fields, saw 2\\nSkipping line 7485: expected 1 fields, saw 2\\nSkipping line 7487: expected 1 fields, saw 3\\nSkipping line 7488: expected 1 fields, saw 2\\nSkipping line 7492: expected 1 fields, saw 2\\nSkipping line 7498: expected 1 fields, saw 2\\nSkipping line 7499: expected 1 fields, saw 2\\nSkipping line 7501: expected 1 fields, saw 2\\nSkipping line 7505: expected 1 fields, saw 4\\nSkipping line 7510: expected 1 fields, saw 4\\nSkipping line 7513: expected 1 fields, saw 3\\nSkipping line 7519: expected 1 fields, saw 3\\nSkipping line 7520: expected 1 fields, saw 2\\nSkipping line 7521: expected 1 fields, saw 2\\nSkipping line 7522: expected 1 fields, saw 2\\nSkipping line 7523: expected 1 fields, saw 2\\nSkipping line 7524: expected 1 fields, saw 3\\nSkipping line 7527: expected 1 fields, saw 2\\nSkipping line 7528: expected 1 fields, saw 2\\nSkipping line 7533: expected 1 fields, saw 2\\nSkipping line 7535: expected 1 fields, saw 2\\nSkipping line 7537: expected 1 fields, saw 3\\nSkipping line 7541: expected 1 fields, saw 2\\nSkipping line 7542: expected 1 fields, saw 2\\nSkipping line 7544: expected 1 fields, saw 2\\nSkipping line 7545: expected 1 fields, saw 3\\nSkipping line 7548: expected 1 fields, saw 2\\nSkipping line 7550: expected 1 fields, saw 2\\nSkipping line 7554: expected 1 fields, saw 5\\nSkipping line 7555: expected 1 fields, saw 2\\nSkipping line 7561: expected 1 fields, saw 2\\nSkipping line 7562: expected 1 fields, saw 2\\nSkipping line 7563: expected 1 fields, saw 2\\nSkipping line 7564: expected 1 fields, saw 3\\nSkipping line 7565: expected 1 fields, saw 3\\nSkipping line 7566: expected 1 fields, saw 2\\nSkipping line 7571: expected 1 fields, saw 2\\nSkipping line 7572: expected 1 fields, saw 5\\nSkipping line 7575: expected 1 fields, saw 2\\nSkipping line 7577: expected 1 fields, saw 2\\nSkipping line 7578: expected 1 fields, saw 2\\nSkipping line 7582: expected 1 fields, saw 2\\nSkipping line 7583: expected 1 fields, saw 3\\nSkipping line 7588: expected 1 fields, saw 2\\nSkipping line 7589: expected 1 fields, saw 3\\nSkipping line 7591: expected 1 fields, saw 2\\nSkipping line 7593: expected 1 fields, saw 2\\nSkipping line 7594: expected 1 fields, saw 3\\nSkipping line 7599: expected 1 fields, saw 2\\nSkipping line 7600: expected 1 fields, saw 2\\nSkipping line 9521: expected 1 fields, saw 2\\nSkipping line 9522: expected 1 fields, saw 2\\nSkipping line 9526: expected 1 fields, saw 2\\nSkipping line 9530: expected 1 fields, saw 2\\nSkipping line 9533: expected 1 fields, saw 3\\nSkipping line 9536: expected 1 fields, saw 2\\nSkipping line 9539: expected 1 fields, saw 3\\nSkipping line 9540: expected 1 fields, saw 3\\nSkipping line 9543: expected 1 fields, saw 3\\nSkipping line 9545: expected 1 fields, saw 3\\nSkipping line 9550: expected 1 fields, saw 2\\nSkipping line 9555: expected 1 fields, saw 2\\nSkipping line 9557: expected 1 fields, saw 2\\nSkipping line 9558: expected 1 fields, saw 2\\nSkipping line 9564: expected 1 fields, saw 2\\nSkipping line 9568: expected 1 fields, saw 2\\nSkipping line 9569: expected 1 fields, saw 2\\nSkipping line 9572: expected 1 fields, saw 2\\nSkipping line 9579: expected 1 fields, saw 4\\nSkipping line 9581: expected 1 fields, saw 2\\nSkipping line 9582: expected 1 fields, saw 2\\nSkipping line 9585: expected 1 fields, saw 3\\nSkipping line 9586: expected 1 fields, saw 2\\nSkipping line 9587: expected 1 fields, saw 2\\nSkipping line 9589: expected 1 fields, saw 2\\nSkipping line 9591: expected 1 fields, saw 2\\nSkipping line 9592: expected 1 fields, saw 3\\nSkipping line 9594: expected 1 fields, saw 5\\nSkipping line 9596: expected 1 fields, saw 2\\nSkipping line 9600: expected 1 fields, saw 2\\nSkipping line 9601: expected 1 fields, saw 2\\nSkipping line 9602: expected 1 fields, saw 2\\nSkipping line 9605: expected 1 fields, saw 3\\nSkipping line 9607: expected 1 fields, saw 5\\nSkipping line 9609: expected 1 fields, saw 2\\nSkipping line 9610: expected 1 fields, saw 2\\nSkipping line 9611: expected 1 fields, saw 2\\nSkipping line 9614: expected 1 fields, saw 3\\nSkipping line 9630: expected 1 fields, saw 4\\nSkipping line 9635: expected 1 fields, saw 4\\nSkipping line 9636: expected 1 fields, saw 2\\nSkipping line 9640: expected 1 fields, saw 2\\nSkipping line 9645: expected 1 fields, saw 2\\nSkipping line 9646: expected 1 fields, saw 2\\nSkipping line 9648: expected 1 fields, saw 2\\nSkipping line 9650: expected 1 fields, saw 2\\nSkipping line 9651: expected 1 fields, saw 2\\nSkipping line 9658: expected 1 fields, saw 2\\nSkipping line 9664: expected 1 fields, saw 3\\nSkipping line 9665: expected 1 fields, saw 2\\nSkipping line 9671: expected 1 fields, saw 5\\nSkipping line 9673: expected 1 fields, saw 3\\nSkipping line 9676: expected 1 fields, saw 2\\nSkipping line 9680: expected 1 fields, saw 2\\nSkipping line 9682: expected 1 fields, saw 3\\n'\n"
     ]
    }
   ],
   "source": [
    "data1 = pd.read_csv(\"resources/twitter-2013train-A.txt\", error_bad_lines=False, header=None)"
   ]
  },
  {
   "cell_type": "code",
   "execution_count": 3,
   "id": "eaa10967",
   "metadata": {},
   "outputs": [
    {
     "name": "stderr",
     "output_type": "stream",
     "text": [
      "b'Skipping line 3: expected 1 fields, saw 2\\nSkipping line 4: expected 1 fields, saw 3\\nSkipping line 5: expected 1 fields, saw 2\\nSkipping line 9: expected 1 fields, saw 2\\nSkipping line 11: expected 1 fields, saw 2\\nSkipping line 16: expected 1 fields, saw 2\\nSkipping line 19: expected 1 fields, saw 2\\nSkipping line 32: expected 1 fields, saw 5\\nSkipping line 34: expected 1 fields, saw 3\\nSkipping line 35: expected 1 fields, saw 5\\nSkipping line 39: expected 1 fields, saw 2\\nSkipping line 42: expected 1 fields, saw 3\\nSkipping line 43: expected 1 fields, saw 2\\nSkipping line 195: expected 1 fields, saw 3\\nSkipping line 196: expected 1 fields, saw 2\\nSkipping line 198: expected 1 fields, saw 2\\nSkipping line 204: expected 1 fields, saw 3\\nSkipping line 205: expected 1 fields, saw 2\\nSkipping line 206: expected 1 fields, saw 2\\nSkipping line 210: expected 1 fields, saw 2\\nSkipping line 217: expected 1 fields, saw 2\\nSkipping line 219: expected 1 fields, saw 2\\nSkipping line 224: expected 1 fields, saw 2\\nSkipping line 226: expected 1 fields, saw 2\\nSkipping line 237: expected 1 fields, saw 2\\nSkipping line 238: expected 1 fields, saw 2\\nSkipping line 239: expected 1 fields, saw 3\\nSkipping line 240: expected 1 fields, saw 2\\nSkipping line 243: expected 1 fields, saw 4\\nSkipping line 245: expected 1 fields, saw 3\\nSkipping line 358: expected 1 fields, saw 2\\nSkipping line 363: expected 1 fields, saw 2\\nSkipping line 364: expected 1 fields, saw 2\\nSkipping line 368: expected 1 fields, saw 2\\nSkipping line 383: expected 1 fields, saw 6\\nSkipping line 384: expected 1 fields, saw 2\\nSkipping line 386: expected 1 fields, saw 2\\nSkipping line 460: expected 1 fields, saw 3\\nSkipping line 463: expected 1 fields, saw 3\\nSkipping line 464: expected 1 fields, saw 3\\nSkipping line 468: expected 1 fields, saw 2\\n'\n"
     ]
    }
   ],
   "source": [
    "data2 = pd.read_csv(\"resources/twitter-2015train-A.txt\", error_bad_lines=False, header=None)"
   ]
  },
  {
   "cell_type": "code",
   "execution_count": 4,
   "id": "4d24ea55",
   "metadata": {},
   "outputs": [
    {
     "name": "stderr",
     "output_type": "stream",
     "text": [
      "b'Skipping line 6: expected 2 fields, saw 3\\nSkipping line 10: expected 2 fields, saw 5\\nSkipping line 20: expected 2 fields, saw 3\\nSkipping line 21: expected 2 fields, saw 3\\nSkipping line 28: expected 2 fields, saw 3\\nSkipping line 35: expected 2 fields, saw 4\\nSkipping line 66: expected 2 fields, saw 3\\nSkipping line 78: expected 2 fields, saw 4\\nSkipping line 86: expected 2 fields, saw 5\\nSkipping line 90: expected 2 fields, saw 3\\nSkipping line 96: expected 2 fields, saw 5\\nSkipping line 97: expected 2 fields, saw 4\\nSkipping line 99: expected 2 fields, saw 7\\nSkipping line 103: expected 2 fields, saw 7\\nSkipping line 104: expected 2 fields, saw 4\\nSkipping line 124: expected 2 fields, saw 4\\nSkipping line 129: expected 2 fields, saw 7\\nSkipping line 138: expected 2 fields, saw 3\\nSkipping line 146: expected 2 fields, saw 4\\nSkipping line 147: expected 2 fields, saw 3\\nSkipping line 151: expected 2 fields, saw 3\\nSkipping line 160: expected 2 fields, saw 3\\nSkipping line 162: expected 2 fields, saw 3\\nSkipping line 165: expected 2 fields, saw 3\\nSkipping line 166: expected 2 fields, saw 3\\nSkipping line 198: expected 2 fields, saw 4\\nSkipping line 208: expected 2 fields, saw 3\\nSkipping line 210: expected 2 fields, saw 3\\nSkipping line 213: expected 2 fields, saw 3\\nSkipping line 217: expected 2 fields, saw 5\\nSkipping line 218: expected 2 fields, saw 3\\nSkipping line 271: expected 2 fields, saw 4\\nSkipping line 295: expected 2 fields, saw 3\\nSkipping line 301: expected 2 fields, saw 3\\nSkipping line 309: expected 2 fields, saw 3\\nSkipping line 310: expected 2 fields, saw 3\\nSkipping line 311: expected 2 fields, saw 3\\nSkipping line 341: expected 2 fields, saw 3\\nSkipping line 343: expected 2 fields, saw 3\\nSkipping line 370: expected 2 fields, saw 3\\nSkipping line 401: expected 2 fields, saw 4\\nSkipping line 413: expected 2 fields, saw 3\\nSkipping line 417: expected 2 fields, saw 3\\nSkipping line 436: expected 2 fields, saw 4\\nSkipping line 437: expected 2 fields, saw 3\\nSkipping line 440: expected 2 fields, saw 3\\nSkipping line 449: expected 2 fields, saw 4\\nSkipping line 472: expected 2 fields, saw 3\\nSkipping line 476: expected 2 fields, saw 3\\nSkipping line 484: expected 2 fields, saw 4\\nSkipping line 499: expected 2 fields, saw 3\\nSkipping line 506: expected 2 fields, saw 4\\nSkipping line 509: expected 2 fields, saw 4\\nSkipping line 517: expected 2 fields, saw 3\\nSkipping line 518: expected 2 fields, saw 4\\nSkipping line 522: expected 2 fields, saw 3\\nSkipping line 582: expected 2 fields, saw 3\\nSkipping line 598: expected 2 fields, saw 3\\nSkipping line 607: expected 2 fields, saw 3\\nSkipping line 610: expected 2 fields, saw 3\\nSkipping line 628: expected 2 fields, saw 3\\nSkipping line 640: expected 2 fields, saw 3\\nSkipping line 650: expected 2 fields, saw 3\\nSkipping line 660: expected 2 fields, saw 3\\nSkipping line 702: expected 2 fields, saw 3\\nSkipping line 703: expected 2 fields, saw 3\\nSkipping line 710: expected 2 fields, saw 3\\nSkipping line 714: expected 2 fields, saw 3\\nSkipping line 717: expected 2 fields, saw 3\\nSkipping line 748: expected 2 fields, saw 3\\nSkipping line 757: expected 2 fields, saw 4\\nSkipping line 758: expected 2 fields, saw 3\\nSkipping line 780: expected 2 fields, saw 4\\nSkipping line 789: expected 2 fields, saw 3\\nSkipping line 801: expected 2 fields, saw 3\\nSkipping line 802: expected 2 fields, saw 3\\nSkipping line 804: expected 2 fields, saw 4\\nSkipping line 807: expected 2 fields, saw 4\\nSkipping line 808: expected 2 fields, saw 5\\nSkipping line 828: expected 2 fields, saw 4\\nSkipping line 831: expected 2 fields, saw 3\\nSkipping line 851: expected 2 fields, saw 4\\nSkipping line 854: expected 2 fields, saw 3\\nSkipping line 857: expected 2 fields, saw 3\\nSkipping line 863: expected 2 fields, saw 3\\nSkipping line 865: expected 2 fields, saw 3\\nSkipping line 871: expected 2 fields, saw 3\\nSkipping line 873: expected 2 fields, saw 3\\nSkipping line 885: expected 2 fields, saw 4\\nSkipping line 889: expected 2 fields, saw 4\\nSkipping line 906: expected 2 fields, saw 4\\nSkipping line 916: expected 2 fields, saw 3\\nSkipping line 929: expected 2 fields, saw 3\\nSkipping line 930: expected 2 fields, saw 3\\nSkipping line 931: expected 2 fields, saw 3\\nSkipping line 942: expected 2 fields, saw 4\\nSkipping line 946: expected 2 fields, saw 4\\nSkipping line 947: expected 2 fields, saw 7\\nSkipping line 950: expected 2 fields, saw 3\\nSkipping line 958: expected 2 fields, saw 3\\nSkipping line 967: expected 2 fields, saw 3\\nSkipping line 975: expected 2 fields, saw 3\\nSkipping line 980: expected 2 fields, saw 3\\nSkipping line 989: expected 2 fields, saw 4\\nSkipping line 990: expected 2 fields, saw 8\\nSkipping line 992: expected 2 fields, saw 4\\nSkipping line 1005: expected 2 fields, saw 3\\nSkipping line 1006: expected 2 fields, saw 3\\nSkipping line 1008: expected 2 fields, saw 3\\nSkipping line 1014: expected 2 fields, saw 3\\nSkipping line 1030: expected 2 fields, saw 5\\nSkipping line 1037: expected 2 fields, saw 3\\nSkipping line 1041: expected 2 fields, saw 3\\nSkipping line 1043: expected 2 fields, saw 3\\nSkipping line 1049: expected 2 fields, saw 3\\nSkipping line 1050: expected 2 fields, saw 3\\nSkipping line 1055: expected 2 fields, saw 3\\nSkipping line 1060: expected 2 fields, saw 3\\nSkipping line 1065: expected 2 fields, saw 3\\nSkipping line 1073: expected 2 fields, saw 5\\nSkipping line 1074: expected 2 fields, saw 3\\nSkipping line 1076: expected 2 fields, saw 4\\nSkipping line 1077: expected 2 fields, saw 4\\nSkipping line 1078: expected 2 fields, saw 3\\nSkipping line 1080: expected 2 fields, saw 3\\nSkipping line 1084: expected 2 fields, saw 5\\nSkipping line 1099: expected 2 fields, saw 4\\nSkipping line 1105: expected 2 fields, saw 4\\nSkipping line 1106: expected 2 fields, saw 4\\nSkipping line 1107: expected 2 fields, saw 3\\nSkipping line 1110: expected 2 fields, saw 3\\nSkipping line 1123: expected 2 fields, saw 3\\nSkipping line 1125: expected 2 fields, saw 3\\nSkipping line 1156: expected 2 fields, saw 4\\nSkipping line 1159: expected 2 fields, saw 3\\nSkipping line 1162: expected 2 fields, saw 3\\nSkipping line 1167: expected 2 fields, saw 4\\nSkipping line 1172: expected 2 fields, saw 3\\nSkipping line 1186: expected 2 fields, saw 4\\nSkipping line 1190: expected 2 fields, saw 4\\nSkipping line 1210: expected 2 fields, saw 5\\nSkipping line 1255: expected 2 fields, saw 3\\nSkipping line 1258: expected 2 fields, saw 3\\nSkipping line 1282: expected 2 fields, saw 3\\nSkipping line 1285: expected 2 fields, saw 3\\nSkipping line 1300: expected 2 fields, saw 3\\nSkipping line 1306: expected 2 fields, saw 4\\nSkipping line 1308: expected 2 fields, saw 5\\nSkipping line 1317: expected 2 fields, saw 3\\nSkipping line 1318: expected 2 fields, saw 7\\nSkipping line 1335: expected 2 fields, saw 3\\nSkipping line 1336: expected 2 fields, saw 3\\nSkipping line 1340: expected 2 fields, saw 3\\nSkipping line 1347: expected 2 fields, saw 4\\nSkipping line 1374: expected 2 fields, saw 3\\nSkipping line 1381: expected 2 fields, saw 3\\nSkipping line 1395: expected 2 fields, saw 3\\nSkipping line 1423: expected 2 fields, saw 4\\nSkipping line 1442: expected 2 fields, saw 3\\nSkipping line 1448: expected 2 fields, saw 6\\nSkipping line 1453: expected 2 fields, saw 3\\nSkipping line 1456: expected 2 fields, saw 3\\nSkipping line 1463: expected 2 fields, saw 3\\nSkipping line 1478: expected 2 fields, saw 3\\nSkipping line 1497: expected 2 fields, saw 4\\nSkipping line 1505: expected 2 fields, saw 3\\nSkipping line 1529: expected 2 fields, saw 3\\nSkipping line 1532: expected 2 fields, saw 3\\nSkipping line 1537: expected 2 fields, saw 3\\nSkipping line 1541: expected 2 fields, saw 3\\nSkipping line 1548: expected 2 fields, saw 5\\nSkipping line 1549: expected 2 fields, saw 3\\nSkipping line 1550: expected 2 fields, saw 3\\nSkipping line 1569: expected 2 fields, saw 4\\nSkipping line 1579: expected 2 fields, saw 3\\nSkipping line 1595: expected 2 fields, saw 3\\nSkipping line 1599: expected 2 fields, saw 3\\nSkipping line 1600: expected 2 fields, saw 3\\nSkipping line 1601: expected 2 fields, saw 6\\nSkipping line 1608: expected 2 fields, saw 4\\nSkipping line 1615: expected 2 fields, saw 4\\nSkipping line 1622: expected 2 fields, saw 3\\nSkipping line 1639: expected 2 fields, saw 3\\nSkipping line 1650: expected 2 fields, saw 3\\nSkipping line 1670: expected 2 fields, saw 3\\nSkipping line 1706: expected 2 fields, saw 3\\nSkipping line 1765: expected 2 fields, saw 4\\nSkipping line 1776: expected 2 fields, saw 3\\nSkipping line 1777: expected 2 fields, saw 7\\nSkipping line 1778: expected 2 fields, saw 11\\nSkipping line 1782: expected 2 fields, saw 7\\nSkipping line 1796: expected 2 fields, saw 3\\nSkipping line 1819: expected 2 fields, saw 3\\nSkipping line 1824: expected 2 fields, saw 3\\nSkipping line 1828: expected 2 fields, saw 3\\nSkipping line 1831: expected 2 fields, saw 4\\nSkipping line 1838: expected 2 fields, saw 4\\nSkipping line 1840: expected 2 fields, saw 4\\nSkipping line 1856: expected 2 fields, saw 3\\nSkipping line 1884: expected 2 fields, saw 3\\nSkipping line 1885: expected 2 fields, saw 3\\nSkipping line 1902: expected 2 fields, saw 3\\nSkipping line 1906: expected 2 fields, saw 3\\nSkipping line 1909: expected 2 fields, saw 3\\nSkipping line 1917: expected 2 fields, saw 3\\nSkipping line 1928: expected 2 fields, saw 3\\nSkipping line 1937: expected 2 fields, saw 3\\nSkipping line 1951: expected 2 fields, saw 3\\nSkipping line 1956: expected 2 fields, saw 3\\nSkipping line 1967: expected 2 fields, saw 3\\nSkipping line 1978: expected 2 fields, saw 4\\nSkipping line 1982: expected 2 fields, saw 3\\nSkipping line 1984: expected 2 fields, saw 3\\nSkipping line 2018: expected 2 fields, saw 3\\nSkipping line 2043: expected 2 fields, saw 3\\nSkipping line 2046: expected 2 fields, saw 3\\nSkipping line 2070: expected 2 fields, saw 3\\nSkipping line 2113: expected 2 fields, saw 3\\nSkipping line 2129: expected 2 fields, saw 3\\nSkipping line 2132: expected 2 fields, saw 3\\nSkipping line 2160: expected 2 fields, saw 3\\nSkipping line 2169: expected 2 fields, saw 5\\nSkipping line 2200: expected 2 fields, saw 3\\nSkipping line 2204: expected 2 fields, saw 3\\nSkipping line 2213: expected 2 fields, saw 3\\nSkipping line 2221: expected 2 fields, saw 3\\nSkipping line 2266: expected 2 fields, saw 4\\nSkipping line 2294: expected 2 fields, saw 3\\nSkipping line 2297: expected 2 fields, saw 4\\nSkipping line 2337: expected 2 fields, saw 3\\nSkipping line 2340: expected 2 fields, saw 3\\nSkipping line 2345: expected 2 fields, saw 3\\nSkipping line 2367: expected 2 fields, saw 3\\nSkipping line 2368: expected 2 fields, saw 3\\nSkipping line 2376: expected 2 fields, saw 3\\nSkipping line 2377: expected 2 fields, saw 3\\nSkipping line 2382: expected 2 fields, saw 4\\nSkipping line 2387: expected 2 fields, saw 4\\nSkipping line 2406: expected 2 fields, saw 3\\nSkipping line 2409: expected 2 fields, saw 4\\nSkipping line 2410: expected 2 fields, saw 3\\nSkipping line 2413: expected 2 fields, saw 3\\nSkipping line 2422: expected 2 fields, saw 3\\nSkipping line 2424: expected 2 fields, saw 5\\nSkipping line 2453: expected 2 fields, saw 3\\nSkipping line 2462: expected 2 fields, saw 3\\nSkipping line 2465: expected 2 fields, saw 3\\nSkipping line 2489: expected 2 fields, saw 3\\nSkipping line 2501: expected 2 fields, saw 3\\nSkipping line 2506: expected 2 fields, saw 4\\nSkipping line 2514: expected 2 fields, saw 3\\nSkipping line 2519: expected 2 fields, saw 3\\nSkipping line 2525: expected 2 fields, saw 4\\nSkipping line 2539: expected 2 fields, saw 3\\nSkipping line 2548: expected 2 fields, saw 3\\nSkipping line 2581: expected 2 fields, saw 4\\nSkipping line 2595: expected 2 fields, saw 3\\nSkipping line 2603: expected 2 fields, saw 3\\nSkipping line 2615: expected 2 fields, saw 4\\nSkipping line 2622: expected 2 fields, saw 4\\nSkipping line 2623: expected 2 fields, saw 4\\nSkipping line 2640: expected 2 fields, saw 3\\nSkipping line 2643: expected 2 fields, saw 3\\nSkipping line 2663: expected 2 fields, saw 3\\nSkipping line 2671: expected 2 fields, saw 4\\nSkipping line 2682: expected 2 fields, saw 5\\nSkipping line 2687: expected 2 fields, saw 3\\nSkipping line 2688: expected 2 fields, saw 3\\nSkipping line 2689: expected 2 fields, saw 3\\nSkipping line 2693: expected 2 fields, saw 5\\nSkipping line 2699: expected 2 fields, saw 5\\nSkipping line 2700: expected 2 fields, saw 3\\nSkipping line 2702: expected 2 fields, saw 3\\nSkipping line 2707: expected 2 fields, saw 4\\nSkipping line 2714: expected 2 fields, saw 3\\nSkipping line 2716: expected 2 fields, saw 5\\nSkipping line 2717: expected 2 fields, saw 4\\nSkipping line 2737: expected 2 fields, saw 3\\nSkipping line 2753: expected 2 fields, saw 3\\nSkipping line 2758: expected 2 fields, saw 5\\nSkipping line 2772: expected 2 fields, saw 3\\nSkipping line 2775: expected 2 fields, saw 3\\nSkipping line 2783: expected 2 fields, saw 3\\nSkipping line 2784: expected 2 fields, saw 3\\nSkipping line 2785: expected 2 fields, saw 3\\nSkipping line 2789: expected 2 fields, saw 9\\nSkipping line 2794: expected 2 fields, saw 3\\nSkipping line 2798: expected 2 fields, saw 3\\nSkipping line 2803: expected 2 fields, saw 3\\nSkipping line 2810: expected 2 fields, saw 4\\nSkipping line 2811: expected 2 fields, saw 4\\nSkipping line 2812: expected 2 fields, saw 4\\nSkipping line 2822: expected 2 fields, saw 3\\nSkipping line 2829: expected 2 fields, saw 4\\nSkipping line 2842: expected 2 fields, saw 3\\nSkipping line 2843: expected 2 fields, saw 3\\nSkipping line 2846: expected 2 fields, saw 4\\nSkipping line 2863: expected 2 fields, saw 3\\nSkipping line 2891: expected 2 fields, saw 3\\nSkipping line 2901: expected 2 fields, saw 3\\nSkipping line 2910: expected 2 fields, saw 3\\nSkipping line 2911: expected 2 fields, saw 3\\nSkipping line 2914: expected 2 fields, saw 3\\nSkipping line 2928: expected 2 fields, saw 3\\nSkipping line 2952: expected 2 fields, saw 3\\nSkipping line 2971: expected 2 fields, saw 5\\nSkipping line 2973: expected 2 fields, saw 3\\nSkipping line 2981: expected 2 fields, saw 7\\nSkipping line 2998: expected 2 fields, saw 3\\nSkipping line 3046: expected 2 fields, saw 3\\nSkipping line 3047: expected 2 fields, saw 4\\nSkipping line 3050: expected 2 fields, saw 3\\nSkipping line 3053: expected 2 fields, saw 5\\nSkipping line 3058: expected 2 fields, saw 3\\nSkipping line 3070: expected 2 fields, saw 3\\nSkipping line 3104: expected 2 fields, saw 3\\nSkipping line 3128: expected 2 fields, saw 3\\nSkipping line 3134: expected 2 fields, saw 4\\nSkipping line 3135: expected 2 fields, saw 3\\nSkipping line 3136: expected 2 fields, saw 3\\nSkipping line 3148: expected 2 fields, saw 3\\nSkipping line 3165: expected 2 fields, saw 3\\nSkipping line 3166: expected 2 fields, saw 3\\nSkipping line 3169: expected 2 fields, saw 3\\nSkipping line 3207: expected 2 fields, saw 5\\nSkipping line 3211: expected 2 fields, saw 5\\nSkipping line 3219: expected 2 fields, saw 3\\nSkipping line 3221: expected 2 fields, saw 3\\nSkipping line 3226: expected 2 fields, saw 3\\nSkipping line 3234: expected 2 fields, saw 5\\nSkipping line 3242: expected 2 fields, saw 3\\nSkipping line 3254: expected 2 fields, saw 3\\nSkipping line 3257: expected 2 fields, saw 3\\nSkipping line 3261: expected 2 fields, saw 4\\nSkipping line 3264: expected 2 fields, saw 3\\nSkipping line 3266: expected 2 fields, saw 3\\nSkipping line 3267: expected 2 fields, saw 4\\nSkipping line 3269: expected 2 fields, saw 3\\nSkipping line 3271: expected 2 fields, saw 4\\nSkipping line 3291: expected 2 fields, saw 4\\nSkipping line 3295: expected 2 fields, saw 3\\nSkipping line 3297: expected 2 fields, saw 4\\nSkipping line 3302: expected 2 fields, saw 4\\nSkipping line 3305: expected 2 fields, saw 4\\nSkipping line 3313: expected 2 fields, saw 3\\nSkipping line 3314: expected 2 fields, saw 4\\nSkipping line 3317: expected 2 fields, saw 3\\nSkipping line 3318: expected 2 fields, saw 3\\nSkipping line 3330: expected 2 fields, saw 3\\nSkipping line 3332: expected 2 fields, saw 4\\nSkipping line 3333: expected 2 fields, saw 3\\nSkipping line 3335: expected 2 fields, saw 5\\nSkipping line 3339: expected 2 fields, saw 3\\nSkipping line 3353: expected 2 fields, saw 3\\nSkipping line 3371: expected 2 fields, saw 3\\nSkipping line 3380: expected 2 fields, saw 3\\nSkipping line 3381: expected 2 fields, saw 3\\nSkipping line 3399: expected 2 fields, saw 5\\nSkipping line 3403: expected 2 fields, saw 3\\nSkipping line 3432: expected 2 fields, saw 6\\nSkipping line 3440: expected 2 fields, saw 3\\nSkipping line 3441: expected 2 fields, saw 3\\nSkipping line 3446: expected 2 fields, saw 3\\nSkipping line 3449: expected 2 fields, saw 3\\nSkipping line 3457: expected 2 fields, saw 3\\nSkipping line 3458: expected 2 fields, saw 3\\nSkipping line 3465: expected 2 fields, saw 3\\nSkipping line 3469: expected 2 fields, saw 4\\nSkipping line 3480: expected 2 fields, saw 4\\nSkipping line 3483: expected 2 fields, saw 3\\nSkipping line 3486: expected 2 fields, saw 3\\nSkipping line 3487: expected 2 fields, saw 5\\nSkipping line 3493: expected 2 fields, saw 6\\nSkipping line 3508: expected 2 fields, saw 3\\nSkipping line 3514: expected 2 fields, saw 4\\nSkipping line 3523: expected 2 fields, saw 5\\nSkipping line 3524: expected 2 fields, saw 4\\nSkipping line 3542: expected 2 fields, saw 4\\nSkipping line 3544: expected 2 fields, saw 3\\nSkipping line 3546: expected 2 fields, saw 3\\nSkipping line 3551: expected 2 fields, saw 3\\nSkipping line 3554: expected 2 fields, saw 3\\nSkipping line 3555: expected 2 fields, saw 4\\nSkipping line 3566: expected 2 fields, saw 3\\nSkipping line 3577: expected 2 fields, saw 3\\nSkipping line 3578: expected 2 fields, saw 7\\nSkipping line 3654: expected 2 fields, saw 5\\nSkipping line 3666: expected 2 fields, saw 6\\nSkipping line 3674: expected 2 fields, saw 3\\nSkipping line 3687: expected 2 fields, saw 3\\nSkipping line 3698: expected 2 fields, saw 3\\nSkipping line 3715: expected 2 fields, saw 3\\nSkipping line 3718: expected 2 fields, saw 3\\nSkipping line 3742: expected 2 fields, saw 4\\nSkipping line 3760: expected 2 fields, saw 3\\nSkipping line 3762: expected 2 fields, saw 5\\nSkipping line 3767: expected 2 fields, saw 3\\nSkipping line 3781: expected 2 fields, saw 3\\nSkipping line 3788: expected 2 fields, saw 3\\nSkipping line 3800: expected 2 fields, saw 3\\nSkipping line 3820: expected 2 fields, saw 4\\nSkipping line 3830: expected 2 fields, saw 5\\nSkipping line 3834: expected 2 fields, saw 3\\nSkipping line 3851: expected 2 fields, saw 3\\nSkipping line 3883: expected 2 fields, saw 3\\nSkipping line 3890: expected 2 fields, saw 3\\nSkipping line 3894: expected 2 fields, saw 3\\nSkipping line 3904: expected 2 fields, saw 3\\nSkipping line 3913: expected 2 fields, saw 5\\nSkipping line 3915: expected 2 fields, saw 4\\nSkipping line 3928: expected 2 fields, saw 3\\nSkipping line 3947: expected 2 fields, saw 3\\nSkipping line 3963: expected 2 fields, saw 3\\nSkipping line 3978: expected 2 fields, saw 3\\nSkipping line 3981: expected 2 fields, saw 3\\nSkipping line 3983: expected 2 fields, saw 3\\nSkipping line 3995: expected 2 fields, saw 4\\nSkipping line 4001: expected 2 fields, saw 4\\nSkipping line 4011: expected 2 fields, saw 3\\nSkipping line 4021: expected 2 fields, saw 5\\nSkipping line 4023: expected 2 fields, saw 3\\nSkipping line 4024: expected 2 fields, saw 3\\nSkipping line 4028: expected 2 fields, saw 3\\nSkipping line 4031: expected 2 fields, saw 3\\nSkipping line 4043: expected 2 fields, saw 3\\nSkipping line 4050: expected 2 fields, saw 3\\nSkipping line 4058: expected 2 fields, saw 3\\nSkipping line 4062: expected 2 fields, saw 3\\nSkipping line 4072: expected 2 fields, saw 3\\nSkipping line 4080: expected 2 fields, saw 3\\nSkipping line 4081: expected 2 fields, saw 5\\nSkipping line 4086: expected 2 fields, saw 4\\nSkipping line 4093: expected 2 fields, saw 3\\nSkipping line 4094: expected 2 fields, saw 4\\nSkipping line 4114: expected 2 fields, saw 3\\nSkipping line 4125: expected 2 fields, saw 3\\nSkipping line 4160: expected 2 fields, saw 3\\nSkipping line 4169: expected 2 fields, saw 3\\nSkipping line 4174: expected 2 fields, saw 3\\nSkipping line 4176: expected 2 fields, saw 3\\nSkipping line 4177: expected 2 fields, saw 4\\nSkipping line 4209: expected 2 fields, saw 4\\nSkipping line 4214: expected 2 fields, saw 3\\nSkipping line 4217: expected 2 fields, saw 3\\nSkipping line 4219: expected 2 fields, saw 3\\nSkipping line 4228: expected 2 fields, saw 3\\nSkipping line 4238: expected 2 fields, saw 5\\nSkipping line 4253: expected 2 fields, saw 3\\nSkipping line 4263: expected 2 fields, saw 4\\nSkipping line 4269: expected 2 fields, saw 3\\nSkipping line 4278: expected 2 fields, saw 3\\nSkipping line 4279: expected 2 fields, saw 5\\nSkipping line 4297: expected 2 fields, saw 3\\nSkipping line 4303: expected 2 fields, saw 5\\nSkipping line 4306: expected 2 fields, saw 3\\nSkipping line 4310: expected 2 fields, saw 3\\nSkipping line 4317: expected 2 fields, saw 3\\nSkipping line 4318: expected 2 fields, saw 4\\nSkipping line 4322: expected 2 fields, saw 4\\nSkipping line 4324: expected 2 fields, saw 6\\nSkipping line 4329: expected 2 fields, saw 3\\nSkipping line 4333: expected 2 fields, saw 10\\nSkipping line 4342: expected 2 fields, saw 3\\nSkipping line 4346: expected 2 fields, saw 3\\nSkipping line 4355: expected 2 fields, saw 4\\nSkipping line 4360: expected 2 fields, saw 3\\nSkipping line 4361: expected 2 fields, saw 3\\nSkipping line 4363: expected 2 fields, saw 3\\nSkipping line 4364: expected 2 fields, saw 5\\nSkipping line 4387: expected 2 fields, saw 3\\nSkipping line 4396: expected 2 fields, saw 3\\nSkipping line 4401: expected 2 fields, saw 3\\nSkipping line 4402: expected 2 fields, saw 3\\nSkipping line 4406: expected 2 fields, saw 3\\nSkipping line 4413: expected 2 fields, saw 4\\nSkipping line 4423: expected 2 fields, saw 3\\nSkipping line 4446: expected 2 fields, saw 6\\nSkipping line 4452: expected 2 fields, saw 3\\nSkipping line 4454: expected 2 fields, saw 4\\nSkipping line 4457: expected 2 fields, saw 3\\nSkipping line 4465: expected 2 fields, saw 3\\nSkipping line 4502: expected 2 fields, saw 4\\nSkipping line 4507: expected 2 fields, saw 6\\nSkipping line 4530: expected 2 fields, saw 4\\nSkipping line 4551: expected 2 fields, saw 6\\nSkipping line 4579: expected 2 fields, saw 6\\nSkipping line 4584: expected 2 fields, saw 3\\nSkipping line 4597: expected 2 fields, saw 3\\nSkipping line 4610: expected 2 fields, saw 3\\nSkipping line 4644: expected 2 fields, saw 3\\nSkipping line 4650: expected 2 fields, saw 3\\nSkipping line 4669: expected 2 fields, saw 3\\nSkipping line 4674: expected 2 fields, saw 3\\nSkipping line 4675: expected 2 fields, saw 3\\nSkipping line 4679: expected 2 fields, saw 3\\nSkipping line 4680: expected 2 fields, saw 8\\nSkipping line 4691: expected 2 fields, saw 4\\nSkipping line 4762: expected 2 fields, saw 3\\nSkipping line 4798: expected 2 fields, saw 4\\nSkipping line 4808: expected 2 fields, saw 3\\nSkipping line 4822: expected 2 fields, saw 3\\nSkipping line 4840: expected 2 fields, saw 4\\nSkipping line 4842: expected 2 fields, saw 3\\nSkipping line 4866: expected 2 fields, saw 5\\nSkipping line 4879: expected 2 fields, saw 3\\nSkipping line 4884: expected 2 fields, saw 3\\nSkipping line 4893: expected 2 fields, saw 3\\nSkipping line 4896: expected 2 fields, saw 3\\nSkipping line 4900: expected 2 fields, saw 8\\nSkipping line 4910: expected 2 fields, saw 3\\nSkipping line 4916: expected 2 fields, saw 5\\nSkipping line 4946: expected 2 fields, saw 3\\nSkipping line 4947: expected 2 fields, saw 3\\nSkipping line 4948: expected 2 fields, saw 3\\nSkipping line 4961: expected 2 fields, saw 3\\nSkipping line 4965: expected 2 fields, saw 3\\nSkipping line 4969: expected 2 fields, saw 3\\nSkipping line 4974: expected 2 fields, saw 6\\nSkipping line 4984: expected 2 fields, saw 3\\nSkipping line 4999: expected 2 fields, saw 3\\nSkipping line 5000: expected 2 fields, saw 3\\nSkipping line 5016: expected 2 fields, saw 3\\nSkipping line 5021: expected 2 fields, saw 3\\nSkipping line 5025: expected 2 fields, saw 3\\nSkipping line 5026: expected 2 fields, saw 3\\nSkipping line 5035: expected 2 fields, saw 3\\nSkipping line 5041: expected 2 fields, saw 3\\nSkipping line 5043: expected 2 fields, saw 3\\nSkipping line 5058: expected 2 fields, saw 3\\nSkipping line 5064: expected 2 fields, saw 3\\nSkipping line 5100: expected 2 fields, saw 3\\nSkipping line 5110: expected 2 fields, saw 5\\nSkipping line 5115: expected 2 fields, saw 5\\nSkipping line 5119: expected 2 fields, saw 3\\nSkipping line 5131: expected 2 fields, saw 3\\nSkipping line 5146: expected 2 fields, saw 4\\nSkipping line 5155: expected 2 fields, saw 3\\nSkipping line 5158: expected 2 fields, saw 3\\nSkipping line 5165: expected 2 fields, saw 3\\nSkipping line 5174: expected 2 fields, saw 4\\nSkipping line 5184: expected 2 fields, saw 4\\nSkipping line 5195: expected 2 fields, saw 3\\nSkipping line 5197: expected 2 fields, saw 3\\nSkipping line 5202: expected 2 fields, saw 3\\nSkipping line 5205: expected 2 fields, saw 3\\nSkipping line 5206: expected 2 fields, saw 3\\nSkipping line 5217: expected 2 fields, saw 3\\nSkipping line 5228: expected 2 fields, saw 4\\nSkipping line 5240: expected 2 fields, saw 4\\nSkipping line 5250: expected 2 fields, saw 4\\nSkipping line 5257: expected 2 fields, saw 3\\nSkipping line 5279: expected 2 fields, saw 3\\nSkipping line 5287: expected 2 fields, saw 3\\nSkipping line 5291: expected 2 fields, saw 5\\nSkipping line 5303: expected 2 fields, saw 6\\nSkipping line 5312: expected 2 fields, saw 3\\nSkipping line 5332: expected 2 fields, saw 3\\nSkipping line 5336: expected 2 fields, saw 3\\nSkipping line 5346: expected 2 fields, saw 3\\nSkipping line 5349: expected 2 fields, saw 3\\nSkipping line 5352: expected 2 fields, saw 3\\nSkipping line 5369: expected 2 fields, saw 3\\nSkipping line 5373: expected 2 fields, saw 4\\nSkipping line 5376: expected 2 fields, saw 3\\nSkipping line 5378: expected 2 fields, saw 3\\nSkipping line 5390: expected 2 fields, saw 4\\nSkipping line 5405: expected 2 fields, saw 3\\nSkipping line 5439: expected 2 fields, saw 3\\nSkipping line 5442: expected 2 fields, saw 5\\nSkipping line 5443: expected 2 fields, saw 3\\nSkipping line 5450: expected 2 fields, saw 4\\nSkipping line 5458: expected 2 fields, saw 3\\nSkipping line 5475: expected 2 fields, saw 4\\nSkipping line 5476: expected 2 fields, saw 3\\nSkipping line 5478: expected 2 fields, saw 3\\nSkipping line 5492: expected 2 fields, saw 4\\nSkipping line 5494: expected 2 fields, saw 4\\nSkipping line 5574: expected 2 fields, saw 4\\nSkipping line 5580: expected 2 fields, saw 4\\nSkipping line 5590: expected 2 fields, saw 3\\nSkipping line 5601: expected 2 fields, saw 5\\nSkipping line 5626: expected 2 fields, saw 3\\nSkipping line 5628: expected 2 fields, saw 3\\nSkipping line 5630: expected 2 fields, saw 5\\nSkipping line 5635: expected 2 fields, saw 3\\nSkipping line 5658: expected 2 fields, saw 3\\nSkipping line 5669: expected 2 fields, saw 3\\nSkipping line 5687: expected 2 fields, saw 3\\nSkipping line 5688: expected 2 fields, saw 3\\nSkipping line 5707: expected 2 fields, saw 3\\nSkipping line 5710: expected 2 fields, saw 3\\nSkipping line 5720: expected 2 fields, saw 3\\nSkipping line 5724: expected 2 fields, saw 3\\nSkipping line 5727: expected 2 fields, saw 3\\nSkipping line 5735: expected 2 fields, saw 3\\nSkipping line 5756: expected 2 fields, saw 3\\nSkipping line 5799: expected 2 fields, saw 3\\nSkipping line 5818: expected 2 fields, saw 3\\nSkipping line 5821: expected 2 fields, saw 3\\n'\n"
     ]
    }
   ],
   "source": [
    "data3 = pd.read_csv(\"resources/twitter-2016train-A.txt\", error_bad_lines=False, header=None)"
   ]
  },
  {
   "cell_type": "code",
   "execution_count": 5,
   "id": "b7b14064",
   "metadata": {},
   "outputs": [],
   "source": [
    "frames = [data1, data2, data3]\n",
    "training_data_raw = pd.concat(frames)"
   ]
  },
  {
   "cell_type": "code",
   "execution_count": 6,
   "id": "7dbaa59b",
   "metadata": {},
   "outputs": [
    {
     "data": {
      "text/html": [
       "<div>\n",
       "<style scoped>\n",
       "    .dataframe tbody tr th:only-of-type {\n",
       "        vertical-align: middle;\n",
       "    }\n",
       "\n",
       "    .dataframe tbody tr th {\n",
       "        vertical-align: top;\n",
       "    }\n",
       "\n",
       "    .dataframe thead th {\n",
       "        text-align: right;\n",
       "    }\n",
       "</style>\n",
       "<table border=\"1\" class=\"dataframe\">\n",
       "  <thead>\n",
       "    <tr style=\"text-align: right;\">\n",
       "      <th></th>\n",
       "      <th>0</th>\n",
       "      <th>1</th>\n",
       "    </tr>\n",
       "  </thead>\n",
       "  <tbody>\n",
       "    <tr>\n",
       "      <th>0</th>\n",
       "      <td>264183816548130816\\tpositive\\tGas by my house ...</td>\n",
       "      <td>NaN</td>\n",
       "    </tr>\n",
       "    <tr>\n",
       "      <th>1</th>\n",
       "      <td>263405084770172928\\tnegative\\tTheo Walcott is ...</td>\n",
       "      <td>NaN</td>\n",
       "    </tr>\n",
       "    <tr>\n",
       "      <th>2</th>\n",
       "      <td>262163168678248449\\tnegative\\tits not that I\\u...</td>\n",
       "      <td>NaN</td>\n",
       "    </tr>\n",
       "    <tr>\n",
       "      <th>3</th>\n",
       "      <td>264249301910310912\\tnegative\\tIranian general ...</td>\n",
       "      <td>NaN</td>\n",
       "    </tr>\n",
       "    <tr>\n",
       "      <th>4</th>\n",
       "      <td>262682041215234048\\tneutral\\tTehran\\u002c Mon ...</td>\n",
       "      <td>NaN</td>\n",
       "    </tr>\n",
       "    <tr>\n",
       "      <th>...</th>\n",
       "      <td>...</td>\n",
       "      <td>...</td>\n",
       "    </tr>\n",
       "    <tr>\n",
       "      <th>5227</th>\n",
       "      <td>639855845958885376\\tpositive\\t@Racalto_SK ok g...</td>\n",
       "      <td>NaN</td>\n",
       "    </tr>\n",
       "    <tr>\n",
       "      <th>5228</th>\n",
       "      <td>639979760735662080\\tneutral\\teveryone who sat ...</td>\n",
       "      <td>NaN</td>\n",
       "    </tr>\n",
       "    <tr>\n",
       "      <th>5229</th>\n",
       "      <td>640196838260363269\\tneutral\\twhat giants or ni...</td>\n",
       "      <td>NaN</td>\n",
       "    </tr>\n",
       "    <tr>\n",
       "      <th>5230</th>\n",
       "      <td>640975710354567168\\tpositive\\tAnybody want a t...</td>\n",
       "      <td>NaN</td>\n",
       "    </tr>\n",
       "    <tr>\n",
       "      <th>5231</th>\n",
       "      <td>641034340068143104\\tneutral\\tMendez told me he...</td>\n",
       "      <td>NaN</td>\n",
       "    </tr>\n",
       "  </tbody>\n",
       "</table>\n",
       "<p>14647 rows × 2 columns</p>\n",
       "</div>"
      ],
      "text/plain": [
       "                                                      0    1\n",
       "0     264183816548130816\\tpositive\\tGas by my house ...  NaN\n",
       "1     263405084770172928\\tnegative\\tTheo Walcott is ...  NaN\n",
       "2     262163168678248449\\tnegative\\tits not that I\\u...  NaN\n",
       "3     264249301910310912\\tnegative\\tIranian general ...  NaN\n",
       "4     262682041215234048\\tneutral\\tTehran\\u002c Mon ...  NaN\n",
       "...                                                 ...  ...\n",
       "5227  639855845958885376\\tpositive\\t@Racalto_SK ok g...  NaN\n",
       "5228  639979760735662080\\tneutral\\teveryone who sat ...  NaN\n",
       "5229  640196838260363269\\tneutral\\twhat giants or ni...  NaN\n",
       "5230  640975710354567168\\tpositive\\tAnybody want a t...  NaN\n",
       "5231  641034340068143104\\tneutral\\tMendez told me he...  NaN\n",
       "\n",
       "[14647 rows x 2 columns]"
      ]
     },
     "execution_count": 6,
     "metadata": {},
     "output_type": "execute_result"
    }
   ],
   "source": [
    "training_data_raw"
   ]
  },
  {
   "cell_type": "code",
   "execution_count": 7,
   "id": "d00d042c",
   "metadata": {},
   "outputs": [],
   "source": [
    "training_data_raw.to_csv (\"resources/training_data_raw.csv\", index=None)"
   ]
  },
  {
   "cell_type": "code",
   "execution_count": 9,
   "id": "c92f895d",
   "metadata": {},
   "outputs": [
    {
     "name": "stderr",
     "output_type": "stream",
     "text": [
      "/Users/haolunwei/opt/anaconda3/envs/mlenv/lib/python3.8/site-packages/IPython/core/interactiveshell.py:3441: FutureWarning: The error_bad_lines argument has been deprecated and will be removed in a future version.\n",
      "\n",
      "\n",
      "  exec(code_obj, self.user_global_ns, self.user_ns)\n"
     ]
    }
   ],
   "source": [
    "training_data = pd.read_csv(\"resources/training_data.csv\", error_bad_lines=False)"
   ]
  },
  {
   "cell_type": "code",
   "execution_count": 10,
   "id": "7a2360cf",
   "metadata": {},
   "outputs": [
    {
     "data": {
      "text/html": [
       "<div>\n",
       "<style scoped>\n",
       "    .dataframe tbody tr th:only-of-type {\n",
       "        vertical-align: middle;\n",
       "    }\n",
       "\n",
       "    .dataframe tbody tr th {\n",
       "        vertical-align: top;\n",
       "    }\n",
       "\n",
       "    .dataframe thead th {\n",
       "        text-align: right;\n",
       "    }\n",
       "</style>\n",
       "<table border=\"1\" class=\"dataframe\">\n",
       "  <thead>\n",
       "    <tr style=\"text-align: right;\">\n",
       "      <th></th>\n",
       "      <th>0</th>\n",
       "      <th>Unnamed: 1</th>\n",
       "      <th>Unnamed: 2</th>\n",
       "    </tr>\n",
       "  </thead>\n",
       "  <tbody>\n",
       "    <tr>\n",
       "      <th>0</th>\n",
       "      <td>264183816548130816</td>\n",
       "      <td>positive</td>\n",
       "      <td>Gas by my house hit $3.39!!!! I\\u2019m going t...</td>\n",
       "    </tr>\n",
       "    <tr>\n",
       "      <th>1</th>\n",
       "      <td>263405084770172928</td>\n",
       "      <td>negative</td>\n",
       "      <td>Theo Walcott is still shit\\u002c watch Rafa an...</td>\n",
       "    </tr>\n",
       "    <tr>\n",
       "      <th>2</th>\n",
       "      <td>262163168678248449</td>\n",
       "      <td>negative</td>\n",
       "      <td>its not that I\\u2019m a GSP fan\\u002c i just h...</td>\n",
       "    </tr>\n",
       "    <tr>\n",
       "      <th>3</th>\n",
       "      <td>264249301910310912</td>\n",
       "      <td>negative</td>\n",
       "      <td>Iranian general says Israel\\u2019s Iron Dome c...</td>\n",
       "    </tr>\n",
       "    <tr>\n",
       "      <th>4</th>\n",
       "      <td>262682041215234048</td>\n",
       "      <td>neutral</td>\n",
       "      <td>Tehran\\u002c Mon Amour: Obama Tried to Establi...</td>\n",
       "    </tr>\n",
       "    <tr>\n",
       "      <th>...</th>\n",
       "      <td>...</td>\n",
       "      <td>...</td>\n",
       "      <td>...</td>\n",
       "    </tr>\n",
       "    <tr>\n",
       "      <th>14642</th>\n",
       "      <td>639855845958885376</td>\n",
       "      <td>positive</td>\n",
       "      <td>@Racalto_SK ok good to know. Punting at MetLif...</td>\n",
       "    </tr>\n",
       "    <tr>\n",
       "      <th>14643</th>\n",
       "      <td>639979760735662080</td>\n",
       "      <td>neutral</td>\n",
       "      <td>everyone who sat around me at metlife was so a...</td>\n",
       "    </tr>\n",
       "    <tr>\n",
       "      <th>14644</th>\n",
       "      <td>640196838260363269</td>\n",
       "      <td>neutral</td>\n",
       "      <td>what giants or niners fans would wanna go to t...</td>\n",
       "    </tr>\n",
       "    <tr>\n",
       "      <th>14645</th>\n",
       "      <td>640975710354567168</td>\n",
       "      <td>positive</td>\n",
       "      <td>Anybody want a ticket for tomorrow Colombia vs...</td>\n",
       "    </tr>\n",
       "    <tr>\n",
       "      <th>14646</th>\n",
       "      <td>641034340068143104</td>\n",
       "      <td>neutral</td>\n",
       "      <td>Mendez told me he'd drive me to MetLife on Sun...</td>\n",
       "    </tr>\n",
       "  </tbody>\n",
       "</table>\n",
       "<p>14647 rows × 3 columns</p>\n",
       "</div>"
      ],
      "text/plain": [
       "                        0 Unnamed: 1  \\\n",
       "0      264183816548130816   positive   \n",
       "1      263405084770172928   negative   \n",
       "2      262163168678248449   negative   \n",
       "3      264249301910310912   negative   \n",
       "4      262682041215234048    neutral   \n",
       "...                   ...        ...   \n",
       "14642  639855845958885376   positive   \n",
       "14643  639979760735662080    neutral   \n",
       "14644  640196838260363269    neutral   \n",
       "14645  640975710354567168   positive   \n",
       "14646  641034340068143104    neutral   \n",
       "\n",
       "                                              Unnamed: 2  \n",
       "0      Gas by my house hit $3.39!!!! I\\u2019m going t...  \n",
       "1      Theo Walcott is still shit\\u002c watch Rafa an...  \n",
       "2      its not that I\\u2019m a GSP fan\\u002c i just h...  \n",
       "3      Iranian general says Israel\\u2019s Iron Dome c...  \n",
       "4      Tehran\\u002c Mon Amour: Obama Tried to Establi...  \n",
       "...                                                  ...  \n",
       "14642  @Racalto_SK ok good to know. Punting at MetLif...  \n",
       "14643  everyone who sat around me at metlife was so a...  \n",
       "14644  what giants or niners fans would wanna go to t...  \n",
       "14645  Anybody want a ticket for tomorrow Colombia vs...  \n",
       "14646  Mendez told me he'd drive me to MetLife on Sun...  \n",
       "\n",
       "[14647 rows x 3 columns]"
      ]
     },
     "execution_count": 10,
     "metadata": {},
     "output_type": "execute_result"
    }
   ],
   "source": [
    "training_data"
   ]
  },
  {
   "cell_type": "code",
   "execution_count": 11,
   "id": "a278c06a",
   "metadata": {},
   "outputs": [],
   "source": [
    "training_data = training_data.rename({'0': 'data_number', 'Unnamed: 1': 'attitude', 'Unnamed: 2': 'tweets'}, axis=1)"
   ]
  },
  {
   "cell_type": "code",
   "execution_count": 12,
   "id": "d5636a73",
   "metadata": {},
   "outputs": [],
   "source": [
    "training_data = training_data.astype({\"data_number\": str}, errors='raise') "
   ]
  },
  {
   "cell_type": "code",
   "execution_count": 13,
   "id": "c127c0c9",
   "metadata": {},
   "outputs": [
    {
     "data": {
      "text/plain": [
       "data_number    object\n",
       "attitude       object\n",
       "tweets         object\n",
       "dtype: object"
      ]
     },
     "execution_count": 13,
     "metadata": {},
     "output_type": "execute_result"
    }
   ],
   "source": [
    "training_data.dtypes"
   ]
  },
  {
   "cell_type": "code",
   "execution_count": 14,
   "id": "47e8089c",
   "metadata": {},
   "outputs": [
    {
     "data": {
      "text/html": [
       "<div>\n",
       "<style scoped>\n",
       "    .dataframe tbody tr th:only-of-type {\n",
       "        vertical-align: middle;\n",
       "    }\n",
       "\n",
       "    .dataframe tbody tr th {\n",
       "        vertical-align: top;\n",
       "    }\n",
       "\n",
       "    .dataframe thead th {\n",
       "        text-align: right;\n",
       "    }\n",
       "</style>\n",
       "<table border=\"1\" class=\"dataframe\">\n",
       "  <thead>\n",
       "    <tr style=\"text-align: right;\">\n",
       "      <th></th>\n",
       "      <th>data_number</th>\n",
       "      <th>attitude</th>\n",
       "      <th>tweets</th>\n",
       "    </tr>\n",
       "  </thead>\n",
       "  <tbody>\n",
       "    <tr>\n",
       "      <th>0</th>\n",
       "      <td>264183816548130816</td>\n",
       "      <td>positive</td>\n",
       "      <td>Gas by my house hit $3.39!!!! I\\u2019m going t...</td>\n",
       "    </tr>\n",
       "    <tr>\n",
       "      <th>1</th>\n",
       "      <td>263405084770172928</td>\n",
       "      <td>negative</td>\n",
       "      <td>Theo Walcott is still shit\\u002c watch Rafa an...</td>\n",
       "    </tr>\n",
       "    <tr>\n",
       "      <th>2</th>\n",
       "      <td>262163168678248449</td>\n",
       "      <td>negative</td>\n",
       "      <td>its not that I\\u2019m a GSP fan\\u002c i just h...</td>\n",
       "    </tr>\n",
       "    <tr>\n",
       "      <th>3</th>\n",
       "      <td>264249301910310912</td>\n",
       "      <td>negative</td>\n",
       "      <td>Iranian general says Israel\\u2019s Iron Dome c...</td>\n",
       "    </tr>\n",
       "    <tr>\n",
       "      <th>4</th>\n",
       "      <td>262682041215234048</td>\n",
       "      <td>neutral</td>\n",
       "      <td>Tehran\\u002c Mon Amour: Obama Tried to Establi...</td>\n",
       "    </tr>\n",
       "    <tr>\n",
       "      <th>...</th>\n",
       "      <td>...</td>\n",
       "      <td>...</td>\n",
       "      <td>...</td>\n",
       "    </tr>\n",
       "    <tr>\n",
       "      <th>14642</th>\n",
       "      <td>639855845958885376</td>\n",
       "      <td>positive</td>\n",
       "      <td>@Racalto_SK ok good to know. Punting at MetLif...</td>\n",
       "    </tr>\n",
       "    <tr>\n",
       "      <th>14643</th>\n",
       "      <td>639979760735662080</td>\n",
       "      <td>neutral</td>\n",
       "      <td>everyone who sat around me at metlife was so a...</td>\n",
       "    </tr>\n",
       "    <tr>\n",
       "      <th>14644</th>\n",
       "      <td>640196838260363269</td>\n",
       "      <td>neutral</td>\n",
       "      <td>what giants or niners fans would wanna go to t...</td>\n",
       "    </tr>\n",
       "    <tr>\n",
       "      <th>14645</th>\n",
       "      <td>640975710354567168</td>\n",
       "      <td>positive</td>\n",
       "      <td>Anybody want a ticket for tomorrow Colombia vs...</td>\n",
       "    </tr>\n",
       "    <tr>\n",
       "      <th>14646</th>\n",
       "      <td>641034340068143104</td>\n",
       "      <td>neutral</td>\n",
       "      <td>Mendez told me he'd drive me to MetLife on Sun...</td>\n",
       "    </tr>\n",
       "  </tbody>\n",
       "</table>\n",
       "<p>14647 rows × 3 columns</p>\n",
       "</div>"
      ],
      "text/plain": [
       "              data_number  attitude  \\\n",
       "0      264183816548130816  positive   \n",
       "1      263405084770172928  negative   \n",
       "2      262163168678248449  negative   \n",
       "3      264249301910310912  negative   \n",
       "4      262682041215234048   neutral   \n",
       "...                   ...       ...   \n",
       "14642  639855845958885376  positive   \n",
       "14643  639979760735662080   neutral   \n",
       "14644  640196838260363269   neutral   \n",
       "14645  640975710354567168  positive   \n",
       "14646  641034340068143104   neutral   \n",
       "\n",
       "                                                  tweets  \n",
       "0      Gas by my house hit $3.39!!!! I\\u2019m going t...  \n",
       "1      Theo Walcott is still shit\\u002c watch Rafa an...  \n",
       "2      its not that I\\u2019m a GSP fan\\u002c i just h...  \n",
       "3      Iranian general says Israel\\u2019s Iron Dome c...  \n",
       "4      Tehran\\u002c Mon Amour: Obama Tried to Establi...  \n",
       "...                                                  ...  \n",
       "14642  @Racalto_SK ok good to know. Punting at MetLif...  \n",
       "14643  everyone who sat around me at metlife was so a...  \n",
       "14644  what giants or niners fans would wanna go to t...  \n",
       "14645  Anybody want a ticket for tomorrow Colombia vs...  \n",
       "14646  Mendez told me he'd drive me to MetLife on Sun...  \n",
       "\n",
       "[14647 rows x 3 columns]"
      ]
     },
     "execution_count": 14,
     "metadata": {},
     "output_type": "execute_result"
    }
   ],
   "source": [
    "training_data"
   ]
  },
  {
   "cell_type": "code",
   "execution_count": 15,
   "id": "2ef437a4",
   "metadata": {},
   "outputs": [],
   "source": [
    "training_data.to_excel(\"resources/training_data_new.xlsx\", sheet_name='training_data', index=False)"
   ]
  },
  {
   "cell_type": "code",
   "execution_count": null,
   "id": "f3467a44",
   "metadata": {},
   "outputs": [],
   "source": []
  }
 ],
 "metadata": {
  "kernelspec": {
   "display_name": "mlenv",
   "language": "python",
   "name": "mlenv"
  },
  "language_info": {
   "codemirror_mode": {
    "name": "ipython",
    "version": 3
   },
   "file_extension": ".py",
   "mimetype": "text/x-python",
   "name": "python",
   "nbconvert_exporter": "python",
   "pygments_lexer": "ipython3",
   "version": "3.8.12"
  }
 },
 "nbformat": 4,
 "nbformat_minor": 5
}
