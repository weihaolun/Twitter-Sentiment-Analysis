{
 "cells": [
  {
   "cell_type": "code",
   "execution_count": 1,
   "id": "b60d63c3",
   "metadata": {},
   "outputs": [],
   "source": [
    "#import dependencies\n",
    "import pandas as pd\n",
    "from datetime import datetime\n",
    "import json"
   ]
  },
  {
   "cell_type": "code",
   "execution_count": 2,
   "id": "44026124",
   "metadata": {},
   "outputs": [
    {
     "data": {
      "text/html": [
       "<div>\n",
       "<style scoped>\n",
       "    .dataframe tbody tr th:only-of-type {\n",
       "        vertical-align: middle;\n",
       "    }\n",
       "\n",
       "    .dataframe tbody tr th {\n",
       "        vertical-align: top;\n",
       "    }\n",
       "\n",
       "    .dataframe thead th {\n",
       "        text-align: right;\n",
       "    }\n",
       "</style>\n",
       "<table border=\"1\" class=\"dataframe\">\n",
       "  <thead>\n",
       "    <tr style=\"text-align: right;\">\n",
       "      <th></th>\n",
       "      <th>created_at</th>\n",
       "      <th>tweet</th>\n",
       "    </tr>\n",
       "  </thead>\n",
       "  <tbody>\n",
       "    <tr>\n",
       "      <th>0</th>\n",
       "      <td>2021-11-01 00:59:56+00:00</td>\n",
       "      <td>@lj3252 @Teslarati @ResidentSponge Cars since ...</td>\n",
       "    </tr>\n",
       "    <tr>\n",
       "      <th>1</th>\n",
       "      <td>2021-11-01 00:59:53+00:00</td>\n",
       "      <td>@elonmusk @garycruz @truth_tesla @zshahan3 @ga...</td>\n",
       "    </tr>\n",
       "    <tr>\n",
       "      <th>2</th>\n",
       "      <td>2021-11-01 00:59:46+00:00</td>\n",
       "      <td>@AgnesOfTheDogs @Tesla @telsa Indeed! I have n...</td>\n",
       "    </tr>\n",
       "    <tr>\n",
       "      <th>3</th>\n",
       "      <td>2021-11-01 00:59:41+00:00</td>\n",
       "      <td>@elonmusk @garycruz @truth_tesla @zshahan3 @ga...</td>\n",
       "    </tr>\n",
       "    <tr>\n",
       "      <th>4</th>\n",
       "      <td>2021-11-01 00:59:37+00:00</td>\n",
       "      <td>Elon Musk says he’ll sell Tesla stock if UN of...</td>\n",
       "    </tr>\n",
       "  </tbody>\n",
       "</table>\n",
       "</div>"
      ],
      "text/plain": [
       "                  created_at  \\\n",
       "0  2021-11-01 00:59:56+00:00   \n",
       "1  2021-11-01 00:59:53+00:00   \n",
       "2  2021-11-01 00:59:46+00:00   \n",
       "3  2021-11-01 00:59:41+00:00   \n",
       "4  2021-11-01 00:59:37+00:00   \n",
       "\n",
       "                                               tweet  \n",
       "0  @lj3252 @Teslarati @ResidentSponge Cars since ...  \n",
       "1  @elonmusk @garycruz @truth_tesla @zshahan3 @ga...  \n",
       "2  @AgnesOfTheDogs @Tesla @telsa Indeed! I have n...  \n",
       "3  @elonmusk @garycruz @truth_tesla @zshahan3 @ga...  \n",
       "4  Elon Musk says he’ll sell Tesla stock if UN of...  "
      ]
     },
     "execution_count": 2,
     "metadata": {},
     "output_type": "execute_result"
    }
   ],
   "source": [
    "#load API data\n",
    "api_tweets_df = pd.read_csv(\"API_data.csv\")\n",
    "#drop id column\n",
    "api_tweets_df = api_tweets_df.drop(columns=\"id\")\n",
    "api_tweets_df.head()"
   ]
  },
  {
   "cell_type": "code",
   "execution_count": 3,
   "id": "23b42eff",
   "metadata": {},
   "outputs": [
    {
     "data": {
      "text/html": [
       "<div>\n",
       "<style scoped>\n",
       "    .dataframe tbody tr th:only-of-type {\n",
       "        vertical-align: middle;\n",
       "    }\n",
       "\n",
       "    .dataframe tbody tr th {\n",
       "        vertical-align: top;\n",
       "    }\n",
       "\n",
       "    .dataframe thead th {\n",
       "        text-align: right;\n",
       "    }\n",
       "</style>\n",
       "<table border=\"1\" class=\"dataframe\">\n",
       "  <thead>\n",
       "    <tr style=\"text-align: right;\">\n",
       "      <th></th>\n",
       "      <th>created_at</th>\n",
       "      <th>created_date</th>\n",
       "      <th>weekday</th>\n",
       "      <th>hours</th>\n",
       "      <th>tweet</th>\n",
       "    </tr>\n",
       "  </thead>\n",
       "  <tbody>\n",
       "    <tr>\n",
       "      <th>0</th>\n",
       "      <td>2021-11-01 00:59:56+00:00</td>\n",
       "      <td>2021-11-01</td>\n",
       "      <td>Monday</td>\n",
       "      <td>00</td>\n",
       "      <td>@lj3252 @Teslarati @ResidentSponge Cars since ...</td>\n",
       "    </tr>\n",
       "    <tr>\n",
       "      <th>1</th>\n",
       "      <td>2021-11-01 00:59:53+00:00</td>\n",
       "      <td>2021-11-01</td>\n",
       "      <td>Monday</td>\n",
       "      <td>00</td>\n",
       "      <td>@elonmusk @garycruz @truth_tesla @zshahan3 @ga...</td>\n",
       "    </tr>\n",
       "    <tr>\n",
       "      <th>2</th>\n",
       "      <td>2021-11-01 00:59:46+00:00</td>\n",
       "      <td>2021-11-01</td>\n",
       "      <td>Monday</td>\n",
       "      <td>00</td>\n",
       "      <td>@AgnesOfTheDogs @Tesla @telsa Indeed! I have n...</td>\n",
       "    </tr>\n",
       "    <tr>\n",
       "      <th>3</th>\n",
       "      <td>2021-11-01 00:59:41+00:00</td>\n",
       "      <td>2021-11-01</td>\n",
       "      <td>Monday</td>\n",
       "      <td>00</td>\n",
       "      <td>@elonmusk @garycruz @truth_tesla @zshahan3 @ga...</td>\n",
       "    </tr>\n",
       "    <tr>\n",
       "      <th>4</th>\n",
       "      <td>2021-11-01 00:59:37+00:00</td>\n",
       "      <td>2021-11-01</td>\n",
       "      <td>Monday</td>\n",
       "      <td>00</td>\n",
       "      <td>Elon Musk says he’ll sell Tesla stock if UN of...</td>\n",
       "    </tr>\n",
       "  </tbody>\n",
       "</table>\n",
       "</div>"
      ],
      "text/plain": [
       "                  created_at created_date weekday hours  \\\n",
       "0  2021-11-01 00:59:56+00:00   2021-11-01  Monday    00   \n",
       "1  2021-11-01 00:59:53+00:00   2021-11-01  Monday    00   \n",
       "2  2021-11-01 00:59:46+00:00   2021-11-01  Monday    00   \n",
       "3  2021-11-01 00:59:41+00:00   2021-11-01  Monday    00   \n",
       "4  2021-11-01 00:59:37+00:00   2021-11-01  Monday    00   \n",
       "\n",
       "                                               tweet  \n",
       "0  @lj3252 @Teslarati @ResidentSponge Cars since ...  \n",
       "1  @elonmusk @garycruz @truth_tesla @zshahan3 @ga...  \n",
       "2  @AgnesOfTheDogs @Tesla @telsa Indeed! I have n...  \n",
       "3  @elonmusk @garycruz @truth_tesla @zshahan3 @ga...  \n",
       "4  Elon Musk says he’ll sell Tesla stock if UN of...  "
      ]
     },
     "execution_count": 3,
     "metadata": {},
     "output_type": "execute_result"
    }
   ],
   "source": [
    "# Convert date column from object to datetime format\n",
    "api_tweets_df['created_date'] = pd.to_datetime(api_tweets_df['created_at'], format='%Y-%m-%d %H:%M:%S')\n",
    "# Add a weekday column\n",
    "api_tweets_df['weekday'] = api_tweets_df['created_date'].dt.day_name()\n",
    "# Add an hour column\n",
    "api_tweets_df['hours'] = api_tweets_df['created_date'].dt.strftime('%H')\n",
    "# Convert date format\n",
    "api_tweets_df['created_date'] = api_tweets_df['created_date'].dt.strftime('%Y-%m-%d')\n",
    "\n",
    "# Change column names and reorder columns\n",
    "api_tweets_df = api_tweets_df[['created_at','created_date','weekday','hours','tweet']]\n",
    "api_tweets_df.head()"
   ]
  },
  {
   "cell_type": "code",
   "execution_count": 4,
   "id": "a757c907",
   "metadata": {},
   "outputs": [],
   "source": [
    "# Convert tweets to list for cleaning\n",
    "api_tweet_list = api_tweets_df[\"tweet\"].tolist()"
   ]
  },
  {
   "cell_type": "code",
   "execution_count": 5,
   "id": "0e1211be",
   "metadata": {},
   "outputs": [
    {
     "data": {
      "text/plain": [
       "[\"@lj3252 @Teslarati @ResidentSponge Cars since 2016 have all the hardware needed for Full Self Driving.\\nElon wouldn't lie, would he?\\nhttps://t.co/OKfGdcyvjh\",\n",
       " '@elonmusk @garycruz @truth_tesla @zshahan3 @garyblack00 @WholeMarsBlog @SawyerMerritt @elonmusk Hi I am trying to Startup an innovating App. Can I share my idea with you . Will you share some  knowledge for the development for the app.., https://t.co/6VuAUnswi3',\n",
       " '@AgnesOfTheDogs @Tesla @telsa Indeed! I have no real interest in driving a ginormous overheating laptop battery until that is fixed.',\n",
       " '@elonmusk @garycruz @truth_tesla @zshahan3 @garyblack00 @WholeMarsBlog @SawyerMerritt @elonmusk Hi I am trying to Startup an innovating App. Can I share my idea with you . Will you share some  knowledge for the development for the app... (!)https://t.co/6VuAUnswi3',\n",
       " 'Elon Musk says he’ll sell Tesla stock if UN official can prove how $6billion will solve world\\xa0hunger https://t.co/Km6zX19z0j',\n",
       " '#doge #dogearmy #dogelon #mars #Metaverse #SHIB #shiba #Bitcoin #crypto #ELON #ElonMusk #tesla #dogelonmars            Just invested !! https://t.co/iGpMDmCXhD',\n",
       " 'According to the #NHTSA, #Tesla\\'s \"full #SelfDriving\" is more like an enhanced #CruiseControl\\n\\nhttps://t.co/wN5FdUFJ6L https://t.co/2i4H9UDYFA',\n",
       " \"@llIIIllIIIIlll @LorenzoKing900 @jloading33 @phxIIymxkan Exactly what this person said above! \\n\\nAccidents happen. But what makes accidents and total and utter inconvenience is when you can't deal with the consequences. \\n\\nHence why some people change lanes when the drive behind a Tesla. They know they can't afford that mistake\",\n",
       " '@elonmusk @garycruz @truth_tesla @zshahan3 @garyblack00 @WholeMarsBlog @SawyerMerritt @elonmusk Hi I am trying to Startup an innovating App. Can I share my idea with you . Will you share some  knowledge for the development for the app... (-) https://t.co/6VuAUnswi3',\n",
       " '@elonmusk @truth_tesla @zshahan3 @garyblack00 @WholeMarsBlog @SawyerMerritt A modern day version of the Mob, nothing less.',\n",
       " '$SONY SONY UP AROUND 6% \\n$HMC HONDA AROUND 2.5%  IN #TOKYO #NIKKEI\\n$SONY + $HONDA = #SONDA #STOCKS\\n#SONDA BIG FUTURE\\n#HONDA IS MISUNDERSTOOD IF $TSLA TESLA $1 TRILLION $HMC HONDA DESERVES HIGHER THAN THAT AS IT IS THE ONLY COMPANY HAS MANY ARROWS #MARKETS https://t.co/8QITW9XDyp',\n",
       " '@elonmusk @garycruz @truth_tesla @zshahan3 @garyblack00 @WholeMarsBlog @SawyerMerritt @elonmusk Hi I am trying to Startup an innovating App. Can I share my idea with you . Will you share some  knowledge for the development for the app... (+) https://t.co/6VuAUnswi3',\n",
       " '@elonmusk @truth_tesla @zshahan3 @garyblack00 @WholeMarsBlog @SawyerMerritt This will really blow your mind, Sammy Hagar is 4 years younger than Joe Biden. https://t.co/HuXlIOq1lL',\n",
       " 'ELON MUSK WILL SELL TESLA STOCK IF UN PROVES $6B SOLVES WORLD HUNGER 🔥 https://t.co/T5Tue91YT6',\n",
       " 'The new Tesla plaid 😍',\n",
       " '@tdearling @garyblack00 You can push it how much ever you want. It is worthless stock honestly. Too much hype. Do you think Tesla is the only company who can do all these? You may be dreaming.',\n",
       " '@LongviewTrading @Andreas44727950 @AuroraCordeira Lol yea it’s probably me , a non invested party, being biased, not the Elon simp who has “Tesla” in his bio being biased😂 it’s clearly him throwing a tantrum if you admit it’s bc they didn’t treat him nice enough. Big picture it hurts his brand to go to the oil state dude. 🤷🏼\\u200d♂️',\n",
       " '@elonmusk @truth_tesla @zshahan3 @garyblack00 @WholeMarsBlog @SawyerMerritt Nothing different from the Mob.',\n",
       " '@elonmusk @garycruz @truth_tesla @zshahan3 @garyblack00 @WholeMarsBlog @SawyerMerritt @elonmusk Hi I am trying to Startup an innovating App. Can I share my idea with you . Will you share some  knowledge for the development for the app... () https://t.co/6VuAUnswi3',\n",
       " \"@teslaP3D @WholeMarsBlog @MercedesBenz Exactly. Lucid thinks they are competing with Tesla for first place, when in reality they are competing with Mercedes (and others) for second place. Sadly it's not looking good. https://t.co/qMqcrrBTO4\",\n",
       " '@Tesla TAKE IT G!V|EAWAY!!! 👉👉 CRYPMAKE dot NET',\n",
       " 'I am sitting in my lair prepared for scare ppl with Tesla voice. Tesla cam activated. Waiting for c-h-i-l-l-dren…',\n",
       " '@Tesla G1FT GLOBALLY 👉👉 CRYPMAKE dot NET',\n",
       " '@elonmusk @garycruz @truth_tesla @zshahan3 @garyblack00 @WholeMarsBlog @SawyerMerritt @elonmusk Hi I am trying to Startup an innovating App. Can I share my idea with you . Will you share some  knowledge for the development for the app... 1* https://t.co/6VuAUnswi3',\n",
       " 'Tesla’s Elon Musk responds to UN World Food Program (WFP) director’s call to “solve world hunger”\\n\\nhttps://t.co/5ytnlNggB2\\n\\nMusk’s net worth currently\\xa0stands at $311 billion\\xa0thanks to a recent rally in TSLA stock, effectively making the CEO world’s wealthiest individual today https://t.co/XTGx9wt2Aj',\n",
       " '@RationalEtienne @elonmusk @SawyerMerritt @Tesla Miss that little naive hussain already too. Want a hug and miss mommy as well miss intercouse mrs swift. Miss you sweet check yes you sweet cheek \\nNow i felt perv 😅😊😋🤭😅😧😢',\n",
       " 'Tesla’s Elon Musk responds to UN World Food Program (WFP) director’s call to “solve world hunger”\\n\\nhttps://t.co/5ytnlNggB2\\n\\nUN World WFP dir David Beasley told\\xa0CNN small group of ultra-wealthy individuals such as Elon Musk could help solve world hunger w fraction of net worth https://t.co/zCf9Aywhyq',\n",
       " \"Elon Musk says he'll sell Tesla stock if UN official can prove how $6billion will solve world hunger | Daily Mail Online https://t.co/VGjevRgqeo\",\n",
       " '@vincent13031925 CyberTruck is too ugly to make an impact💯.  I would be first in line for a Tesla truck that had decent design.  Just saying.',\n",
       " '@cnni @Boxabl @Tesla @elonmusk and Mars, which is essentially a desert or a province with no houses, nor trees, will be affective against Mars tornadoes too Elon. \\n\\nTruly imagination is better than knoweldge.\\nTogether we shall be victorious.\\n@mayemusk @Grimezsz @kimbal',\n",
       " '@billhuang688 🥺😭 @tesla @elonmusk please just let cabin cam monitor us to qualify for FSDBeta…',\n",
       " \"@elonmusk @DrEliDavid If my boy Elon solves world hunger I'm definitely buying a tesla\",\n",
       " '@Agent_ToRo (4) and no one mentioned that Tesla paid back their loans before they were actually due.... but I guess getting everyone healthcare with no pre-existing conditions was worse than people going to the hospital getting a triple bypass surgery and then being told they had',\n",
       " 'Using the @tesla Model 3 Yoke is second nature now https://t.co/M4sk9Xjk9g',\n",
       " '@elonmusk @garycruz @truth_tesla @zshahan3 @garyblack00 @WholeMarsBlog @SawyerMerritt ONLLY ONE DAY!!! 👉👉 CRYPMAKE dot NET',\n",
       " '@stevenmarkryan Former mechanical engineer at Tesla.  Currently an engineer at Neuralink.',\n",
       " 'How lit would it be if you could play @PolyDoge games in a Tesla? @elonmusk',\n",
       " '@elonmusk @garycruz @truth_tesla @zshahan3 @garyblack00 @WholeMarsBlog @SawyerMerritt @elonmusk Hi I am trying to Startup an innovating App. Can I share my idea with you . Will you share some  knowledge for the development for the app... @ https://t.co/6VuAUnswi3',\n",
       " '@GalaxyHeroesFan @news_of_bsc @oly_sport @GalaxyHeroesGHC Tesla giveaway at 100 Mil MC',\n",
       " '@MatthewRideout @teslafsdbeta Expect the unexpected with Tesla',\n",
       " '@VM14872497 @VKVQ17 Thanks for info. Reminds me of Farnsworth / who resembles Tesla. https://t.co/Vr3YPurce7',\n",
       " '@tehpwnerer2 @NorthmanTrader @elonmusk @WFPChief @DrEliDavid Facts first: he didn\\'t create \"the biggest electric car company\"; the irony is that he is NOT a co-founder of Tesla.\\n\\nWhen he came along, Tesla was going bankrupt, he begged Apple to buy it and got rejected. Then Obama bailed him out in 2009 as part of a stimulus package.',\n",
       " 'Drive a Tesla for Just $50 CRYPTO CRYPTO NEWS - https://t.co/tVVG2EpXz1',\n",
       " '@elonmusk @garycruz @truth_tesla @zshahan3 @garyblack00 @WholeMarsBlog @SawyerMerritt @elonmusk Hi I am trying to Startup an innovating App. Can I share my idea with you . Will you share some  knowledge for the development for the app... + https://t.co/6VuAUnswi3',\n",
       " \"@elonmusk @DrEliDavid Every person, including Elon, can do with their money whatever they want. If you don't like his wealth stop buying what he sells. Mainly $Tesla cars, battery technologies and a ton of lies and BS....\",\n",
       " \"@ManuelleYerly @elonmusk @garycruz @truth_tesla @zshahan3 @garyblack00 @WholeMarsBlog @SawyerMerritt That's why I said the above, if you use technology to try to either not need a union or at least keep them very lean and efficient.\",\n",
       " '@bburnworth Well sure hope so but at the moment Tesla is far more valuable than all the taxi,ubers, and car companies combined.  Sure wish Elon would invest in a bunch of senators and congress members to support a fairer ev credit and climate change efforts.',\n",
       " '@elonmusk @garycruz @truth_tesla @zshahan3 @garyblack00 @WholeMarsBlog @SawyerMerritt @elonmusk Hi I am trying to Startup an innovating App. Can I share my idea with you . Will you share some  knowledge for the development for the app... @@ https://t.co/6VuAUnswi3',\n",
       " '@elonmusk into the void Day 6, talented engineer getting tossed from lockheed dec 8th for refusing the gov injection. Lets work a contract gig for @Tesla. The catch is do not pay me in liabilities (usd) pay in assets (cybertruck) meme resume ready👀 hmu.',\n",
       " '@elonmusk @garycruz @truth_tesla @zshahan3 @garyblack00 @WholeMarsBlog @SawyerMerritt So long as there is a UAW there will be UAW presidents going to jail. Comes with the territory. 🤷',\n",
       " '@DimaZeniuk @Tesla @elonmusk @GailAlfarATX @EvaFoxU @chicago_glenn @1stMarsColonist @Manic_Marge @WholeMarsBlog @Inelonwetrust__ @Kristennetten @teslaownersSV Nice',\n",
       " '.@tesla #TrickOrTreat I just want to be added to #FSDBeta 👻',\n",
       " '@IndieEhsan @elonmusk Yep. \\n\\nI can both criticize the issues with Tesla and their delivery system, and compliment their excellence in developing FSD. 🤷🏻\\u200d♂️',\n",
       " '@BLKMDL3 The 2020 Tesla Roadster. In 2020.',\n",
       " \"@Tesla I haven't seen Elon Musk in two days, and neither has the PCT.Maybe they're busy with something. I wonder if they have anything to do with each other?\",\n",
       " 'This is crazy @Tesla great move for @Shibtoken 🚀🚀🚀🚀🚀🚀🚀🚀\\U0001f7e2\\U0001f7e2\\U0001f7e2\\U0001f7e2\\U0001f7e2\\n$shib $tsla #shib #Shiba \\n\\n$doge $btc $ada $eth https://t.co/GFhLmfClzB',\n",
       " '@elonmusk @garycruz @truth_tesla @zshahan3 @garyblack00 @WholeMarsBlog @SawyerMerritt @elonmusk Hi I am trying to Startup an innovating App. Can I share my idea with you . Will you share some  knowledge for the development for the app... ; https://t.co/6VuAUnswi3',\n",
       " '@AMG4life87 @GarysBrain @ULA_FTS_Team @RobinUhlig @elonmusk @DrEliDavid @Tesla Have you heard of a grid and transmission of power. Basic research would tell you to put a solar farm with max sunlight thru the year and tranfer the power through grid system. In India, Delhi Metro is powered from a solar farm 500 miles away. Research on solar well.',\n",
       " '@cleantechnica Companies (Tesla) don’t have a say in whether or not their employees unionize. That’s entirely up to the employees and at Tesla they decided overwhelmingly not to. Can someone provide data on what a Tesla line employee comp plan looks like compared to a UAW one?',\n",
       " '@bullriders1 @business He should pay zero taxes, I have a Tesla so Elon can give doing what’s he doing',\n",
       " '@elonmusk @garycruz @truth_tesla @zshahan3 @garyblack00 @WholeMarsBlog @SawyerMerritt @elonmusk Hi I am trying to Startup an innovating App. Can I share my idea with you . Will you share some  knowledge for the development for the app... !!https://t.co/6VuAUnswi3',\n",
       " '@elonmusk I would love it if you did start a university.  And the study material should prep us for real world education like graduating and working for tesla and spacez',\n",
       " '@elonmusk @garycruz @truth_tesla @zshahan3 @garyblack00 @WholeMarsBlog @SawyerMerritt @elonmusk Hi I am trying to Startup an innovating App. Can I share my idea with you . Will you share some  knowledge for the development for the app... ! https://t.co/6VuAUnswi3',\n",
       " '@elonmusk @Tesla can accept #SHIBAINU coin $SHIB like #BITCOIN too https://t.co/TiJ3jzFslN',\n",
       " '@AltcoinDailyio Check this source code on payments for Tesla Game changer !!      https://t.co/AXRPKp8FhR',\n",
       " '@elonmusk @truth_tesla @zshahan3 @garyblack00 @WholeMarsBlog @SawyerMerritt @POTUS if you’re being held hostage by the UAW blink twice @JoeBiden https://t.co/6OtgF6r4WB',\n",
       " '@elonmusk @garycruz @truth_tesla @zshahan3 @garyblack00 @WholeMarsBlog @SawyerMerritt @elonmusk Hi I am trying to Startup an innovating App. Can I share my idea with you . Will you share some  knowledge for the development for the app... // https://t.co/6VuAUnswi3&lt;',\n",
       " '@elonmusk @garycruz @truth_tesla @zshahan3 @garyblack00 @WholeMarsBlog @SawyerMerritt @elonmusk Hi I am trying to Startup an innovating App. Can I share my idea with you . Will you share some  knowledge for the development for the app... &gt; https://t.co/6VuAUnswi3',\n",
       " 'The latest The Lake Erie Challenge Daily! https://t.co/8Rqdnk4lap #tesla #ev',\n",
       " '@elonmusk @SawyerMerritt @Tesla #STARS - STARSHIP token is a decentralized community driven token from the SHIBA INU deployer. Boarding crew now!!!!!\\ntelegram：https://t.co/G5DmFOL0Cb \\nStarship($STARS) Contract Address:\\n0x7CCFeEF4F0Ff48B0E0abD19bBBebae90939f180D https://t.co/sG3NOWX5Rw https://t.co/xTbUvwFko7',\n",
       " \"@ToddRLockwood @ICannot_Enough Great bio...\\nI understand completely.\\nI'm glad to support Elon, Tesla\\nand invest in a better future.\",\n",
       " 'Happy Halloween 🎃 Thanks @elonmusk &amp; @Tesla #gotfrunk https://t.co/e2O7aDeMiJ',\n",
       " \"@cnni This is the way to go, even more so, for @Boxabl w/ @Tesla solar tiles &amp; solves d angle of d sun 4 maximum efficiency problem. Rotating foundations wud also b a great armor against tornadoes, pointing the corner of a house towards the tornado, like a tank's sloped armor @elonmusk\",\n",
       " '@elonmusk tesla need dogecoin',\n",
       " 'How did a single obscure investor become Tesla’s third-largest individual shareholder behind Larry Ellison and Elon Musk without anyone noticing?\\n\\nhttps://t.co/Ukv17wRUCK',\n",
       " '@elonmusk @SawyerMerritt @Tesla #GloryDoge Revolutionary IDO launchpad and automated KYC platform\\n🔥Followed by @Shibtoken founder (@ShytoshiKusama)\\n🔥30x ATH 2d. from launch\\n✅ 2x Audits&amp;KYCs\\n✅ 50% Revenue Dist\\n✅ 4% Reflection\\n🔔 https://t.co/QvvNZsDOqF\\n🌐 https://t.co/RtEU1NrBEf\\n#bnb #ada #btc #eth #100xgem',\n",
       " '@elonmusk @truth_tesla @zshahan3 @garyblack00 @WholeMarsBlog @SawyerMerritt #STARS - STARSHIP token is a decentralized community driven token from the SHIBA INU deployer. Boarding crew now!!!!!\\ntelegram：https://t.co/G5DmFOL0Cb \\nStarship($STARS) Contract Address:\\n0x7CCFeEF4F0Ff48B0E0abD19bBBebae90939f180D https://t.co/sG3NOWX5Rw https://t.co/xTbUvwFko7',\n",
       " '@elonmusk @truth_tesla @zshahan3 @garyblack00 @WholeMarsBlog @SawyerMerritt 😳 LOL. No you didn’t. Lol.',\n",
       " '@elonmusk @garycruz @truth_tesla @zshahan3 @garyblack00 @WholeMarsBlog @SawyerMerritt @elonmusk Hi I am trying to Startup an innovating App. Can I share my idea with you . Will you share some  knowledge for the development for the app... π https://t.co/6VuAUnswi3',\n",
       " '@CenterLeft2020 @Tesla @telsa Though in fairness that’s always an issue with batteries, even small lithium batteries can start a nasty fire',\n",
       " '@elonmusk @truth_tesla @zshahan3 @garyblack00 @WholeMarsBlog @SawyerMerritt #STARS - STARSHIP token is a decentralized community driven token from the SHIBA INU deployer. Boarding crew now!!!!!\\ntelegram：https://t.co/G5DmFOL0Cb \\nStarship($STARS) Contract Address:\\n0x7CCFeEF4F0Ff48B0E0abD19bBBebae90939f180D https://t.co/sG3NOWX5Rw https://t.co/xTbUvwFko7',\n",
       " '@NataNikung @elonmusk @Tesla @SpaceX MOOVE TO G!V|EAWAY! ➜➜.crypget.c om',\n",
       " \"@Agent_ToRo Oh and think about this, back in 2008 gasoline prices was right around $4.14 a gallon, no one said that Obama did a great job lowering gas prices. Oh and while we're on the subject, no one said that Obama kept Ford, GM, Tesla from going under..it was just Solyndra.\",\n",
       " '@elonmusk @garycruz @truth_tesla @zshahan3 @garyblack00 @WholeMarsBlog @SawyerMerritt @elonmusk Hi I am trying to Startup an innovating App. Can I share my idea with you . Will you share some  knowledge for the development for the app... √√ https://t.co/6VuAUnswi3',\n",
       " '@cryptowarrior66 @cryptogemsSs1 @shibaa_token @RobinhoodApp @wifedoge @BillyM2k @elonmusk 1. Robinhood wallets \\n2. Verifone partnership w/ Bitpay\\n3. AMC begins Doge payments\\n4. Doge-Ethereum Bridge \\n5. Doge update 1.14.5\\n6. Tesla Accepts Doge \\n7. DOGE-1 mission to moon paid for completely in Dogecoin \\n8. Dogecoin VISA Credit Card\\n9. Dogecoin accepted Tits',\n",
       " '@elonmusk @Tesmanian_com bezos when u gonna do this https://t.co/GW5WajKRqb',\n",
       " 'Sheesh. Union \"protection\"\\nIronic that Russ and the like think this is what working at Tesla is like. https://t.co/OrYYjh1tg3',\n",
       " '@elonmusk I listen tesla accept payment #BabyDogeCoin, this is true?',\n",
       " \"@TezzlerOG @WR4NYGov @ElectricJesus_ @matteocomelli25 @WholeMarsBlog @tesla_raj The skepticism didn't age well. Didn't think it would.\",\n",
       " '@elonmusk @SawyerMerritt @Tesla Does saying true gent even comply here… 🤷🏼\\u200d♂️👍🏻',\n",
       " '@elonmusk @Tesmanian_com bezos when u gonna do this. https://t.co/GW5WajKRqb',\n",
       " '@elonmusk https://t.co/Tv2MgALWns fix your stuff. I know about your hair. 😬',\n",
       " '@elonmusk @garycruz @truth_tesla @zshahan3 @garyblack00 @WholeMarsBlog @SawyerMerritt @elonmusk Hi I am trying to Startup an innovating App. Can I share my idea with you . Will you share some  knowledge for the development for the app... √ https://t.co/6VuAUnswi3',\n",
       " 'You mean like the $5 billion US taxpayers spent on Tesla? https://t.co/uCzk1DF9F0',\n",
       " 'Trending on #LunarCrush:\\n\\n\"Baby Doge Coin is all grown up and giving away a @Tesla - Did you see the Baby Doge Tesla?\\n@BabyDogeCoin \\n\\n#BSCNews #CryptoNews #Crypto #DeFi #Binance...\" via @news_of_bsc\\n\\nTop coin mentions\\n$babydoge\\n\\nhttps://t.co/dHdzvz87iK #LunarShare',\n",
       " '@elonmusk @garycruz @truth_tesla @zshahan3 @garyblack00 @WholeMarsBlog @SawyerMerritt @elonmusk Hi I am trying to Startup an innovating App. Can I share my idea with you . Will you share some  knowledge for the development for the app... ^ https://t.co/6VuAUnswi3',\n",
       " 'Top Wall Street analysts see upside in these stocks as earnings continues.\\nhttps://t.co/LaHzFB8bRA',\n",
       " '@throttlehouse11 review of the @Tesla #PLAID is very eye opening. Especially about the breaking system..😳',\n",
       " '🔋 New #Tesla battery lasts five times longer and costs half as much https://t.co/HGY3FyvE4D',\n",
       " 'You are going to love Austin... @Tesla @Oracle https://t.co/S67F7XzlH2',\n",
       " 'Quite the contrast.. Would prefer to be charging next to a huge solar/battery farm. Thanks @EnergyAustralia  for the free charge at Yallourn @Tesla https://t.co/nRCOAr0vQV',\n",
       " \"i entered the FREE @BabyDogeCoin Tesla giveaway!\\n \\nYou can enter too at https://t.co/1UuVCoiVpS\\n\\nIf you like #DogeCoin you'll LOVE #BabyDogeCoin https://t.co/SDGfWAPg1a\",\n",
       " '@SawyerMerritt Good choice! I also got a matte PPF (Dino something). They look good on silver Tesla 😆\\n\\nhttps://t.co/WxvqPeQ7PD',\n",
       " '@elonmusk @garycruz @truth_tesla @zshahan3 @garyblack00 @WholeMarsBlog @SawyerMerritt @elonmusk Hi I am trying to Startup an innovating App. Can I share my idea with you . Will you share some  knowledge for the development for the app... = https://t.co/6VuAUnswi3',\n",
       " '@elonmusk @garycruz @truth_tesla @zshahan3 @garyblack00 @WholeMarsBlog @SawyerMerritt #STARS - STARSHIP token is a decentralized community driven token from the SHIBA INU deployer. Boarding crew now!!!!!\\ntelegram：https://t.co/G5DmFOL0Cb \\nStarship($STARS) Contract Address:\\n0x7CCFeEF4F0Ff48B0E0abD19bBBebae90939f180D https://t.co/sG3NOWX5Rw https://t.co/xTbUvwFko7',\n",
       " \"@evbriefmedia @jeffreyvsteijn @SawyerMerritt Probably more that they couldn't implement Tesla's system, since it's patented. I can see Lucid doing it anyway, but in this case there's no choice.\",\n",
       " '@Dou8leu @elonmusk @BillyM2k @VitalikButerin @CozomoMedici 1. Robinhood wallets \\n2. Verifone partnership w/ Bitpay\\n3. AMC begins Doge payments\\n4. Doge-Ethereum Bridge \\n5. Doge update 1.14.5\\n6. Tesla Accepts Doge \\n7. DOGE-1 mission to moon paid for completely in Dogecoin \\n8. Dogecoin VISA Credit Card\\n9. Dogecoin accepted Tits',\n",
       " '@RobinhoodApp @BoredApeYC @Sothebys @Tesla Hi @Robinhood please add @shib token in your list 🙏🏻🙏🏻',\n",
       " 'Impressive… #ev #tesla #ElectricVehicles https://t.co/Hc4qBYM7RT',\n",
       " 'What’s the logo going to look like for T.I.T.S.? @elonmusk @BoredElonMusk @BoredApeYC @Tesla ??? #futuremerch #titsmerch This will be the best merch ever! Yes, you can drink or suckle from the nipple 😉 https://t.co/UBTcvP9mYT',\n",
       " '@billhuang688 My bet is it’s the best they could do without writing something custom that’s not controversial… think about it, best #FSDBeta metric is “are you paying attention?”. How can Tesla know that? Use cabin cam… MAKE SURE PEOPLE ARE PAYING ATTENTION OR ELSE. They already had that too',\n",
       " \"@matteocomelli25 @Jondoesnt @SawyerMerritt “That said, it appears that Elon misremembers Rawlinson's history with Tesla, or, even worse, he's guilty of creating some revisionist history… Additionally, we discovered this list of patents that Rawlinson and members of his team filed for, related to his work at Tesla.”\",\n",
       " '@elonmusk @garycruz @truth_tesla @zshahan3 @garyblack00 @WholeMarsBlog @SawyerMerritt @elonmusk Hi I am trying to Startup an innovating App. Can I share my idea with you . Will you share some  knowledge for the development for the app... }° https://t.co/6VuAUnswi3',\n",
       " '@GerberKawasaki just saw a lucid air vehicle in person. $tesla vehicle devision is in trouble…',\n",
       " '@darcydonavan @ShytoshiKusama @WatcherGuru He is Dr. Shiba, the doctor of world economics\\nYes, this is Shiba power, Shiba is like a powerful lion, Shiba is coming soon 0.001 @shiba @shibaarmy @shibainu @shibatoken  @shibswap @shib @elonmusk @amazin @alibabagroup @tesla @RobinhoodApp @panthira2021 https://t.co/fbSzJZdf5R',\n",
       " '@elonmusk @SawyerMerritt @Tesla Thank you',\n",
       " '@wolfofwallst @wolfofwallst chillin chameleons just revealed &amp; aim to clean up our oceans and turn plastic waste into renewable energy, with pyrolysis plants ♻️🌎🌊 giving away a Tesla, trash slash game coming soon🔥  @Chillnchameleon @pro2tect https://t.co/pktinQYx7W GO MINT let’s goo🔥💯 https://t.co/Bvv7SARveP',\n",
       " '@Tesla Yep the CT is fairly horrifying to look at',\n",
       " '@RationalEtienne @elonmusk @SawyerMerritt @Tesla I never write LOL.  That was LOL!',\n",
       " '@SawyerMerritt I can’t figure out if I like this car or not. Do you know anyone getting an @Rivian ? I think after @Tesla they’re the company I’m most excited about. I really want to put a deposit on the RT1 but can’t bet on a vehicle I haven’t driven.',\n",
       " '@elonmusk @garycruz @truth_tesla @zshahan3 @garyblack00 @WholeMarsBlog @SawyerMerritt @elonmusk Hi I am trying to Startup an innovating App. Can I share my idea with you . Will you share some  knowledge for the development for the app... { https://t.co/6VuAUnswi3',\n",
       " '@elonmusk Ayo poes, bring Tesla to your birth country you naai',\n",
       " '@Jknighty20 @jamespeshaw And I still want a report on how many litres of diesel it takes to charge a Tesla. Thanks.',\n",
       " '@elonmusk @garycruz @truth_tesla @zshahan3 @garyblack00 @WholeMarsBlog @SawyerMerritt @elonmusk Hi I am trying to Startup an innovating App. Can I share my idea with you . Will you share some  knowledge for the development for the app... }} https://t.co/6VuAUnswi3',\n",
       " '#Giveaway  #Sweepstakes  \\nenter here  https://t.co/IHWdXj75cQ  \\nTO WIN a Grand Prize of a 2022 Tesla Model 3 Standard Range Plus \\nand many other prizes\\nends 12/21/2021 https://t.co/C0DOI64k3K',\n",
       " '@SawyerMerritt @elonmusk @Tesla How much? Do we have any information on how many contractors vs employees work at Tesla? And what percentage of the employees get shares and how much?',\n",
       " '@Mrkool2021 He is Dr. Shiba, the doctor of world economics\\nYes, this is Shiba power, Shiba is like a powerful lion, Shiba is coming soon 0.001 @shiba @shibaarmy @shibainu @shibatoken  @shibswap @shib @elonmusk @amazin @alibabagroup @tesla @RobinhoodApp @panthira2021 https://t.co/gbbOsnT8Ft',\n",
       " '@oscera @usckevinnguyen @stevenmarkryan Hertz deal was people reacting to Tesla coming to the mainstream now. It was being validated by the hertz deal. More deals to come more validation of Tesla and the fact it’s here to stay.',\n",
       " '@elonmusk @DrEliDavid CNN: Elon Musk LIES about selling $6b of Tesla stock “right now”. Markets are closed on weekends.',\n",
       " '@kjones3298 @elonmusk @SawyerMerritt @Tesla Considering only 15% of engineers nationwide are women wtf is your complaint? Stop throwing around stats without context.',\n",
       " '@elonmusk @garycruz @truth_tesla @zshahan3 @garyblack00 @WholeMarsBlog @SawyerMerritt @elonmusk Hi I am trying to Startup an innovating App. Can I share my idea with you . Will you share some  knowledge for the development for the app... } https://t.co/6VuAUnswi3',\n",
       " '@SkyNewsAust And come from a manufacturer that knows how to make cars. Not Tesla…',\n",
       " \"@elonmusk Tesla will soon accept SHIBA as a payment, Tesla webpage's source code includes shiba = https://t.co/9v9b1aa5Qg\",\n",
       " '@AnastasiInTech Wearing thick clothes while driving reduces safety by reduced mobility and effectiveness of safety belt. As far as I know, you can set your cabin temperature before you enter your Tesla. 😃',\n",
       " '@JoshWest247 Bullish.   📈 future sale of a Tesla secured.',\n",
       " '@Tesla Please let me know when the significant Dogecoin rise is!!!',\n",
       " '@elonmusk @garycruz @truth_tesla @zshahan3 @garyblack00 @WholeMarsBlog @SawyerMerritt @elonmusk Hi I am trying to Startup an innovating App. Can I share my idea with you . Will you share some  knowledge for the development for the app... [ https://t.co/6VuAUnswi3',\n",
       " '@elonmusk What happens when you have a dog that has a chart like the Tesla logo, ???, will you give a discount when you buy a tesla car???? :) https://t.co/chQquDNVPR',\n",
       " '@TeslaOwnersNBay @Tesla Guys who can, send me Bitcoin please -&gt; bc1qnrdqxy7x8697sjrsatp0uve5svgq5v8vta7h9y (Bitcoin Core), or 0xfDFD21925506b574fdbF8AB9d66EE9E921d42F1B (Binance Smart Chain), I believe that someone 1 will answer and be able to help me. Thank you! :) #Bitcoin',\n",
       " '@Tesla Guys who can, send me Bitcoin please -&gt; bc1qnrdqxy7x8697sjrsatp0uve5svgq5v8vta7h9y (Bitcoin Core), or 0xfDFD21925506b574fdbF8AB9d66EE9E921d42F1B (Binance Smart Chain), I believe that someone 1 will answer and be able to help me. Thank you! :) #Bitcoin',\n",
       " '@DougDeMuro @kylaschwaberow @tellcarl2 @MODL3PILOT @Ford @mrlevine I am the OG Tesla Bot',\n",
       " '@DelCrxpto @MandoNevarro Imagine the hype when tesla announced they will start to accept $Shib as a payment 🤯🤯🚀🚀🚀🔥🔥 Source: https://t.co/l83T234HpI https://t.co/147GTjbwvj',\n",
       " '@TedLassod @SawyerMerritt @elonmusk @Tesla This is way better tax treatment than GPs get with carried interest and GPs have to cover losses. And, the public thinks carried interest is a loophole! Now that is successful brainwashing.',\n",
       " '@elonmusk @garycruz @truth_tesla @zshahan3 @garyblack00 @WholeMarsBlog @SawyerMerritt @elonmusk Hi I am trying to Startup an innovating App. Can I share my idea with you . Will you share some  knowledge for the development for the app... ] https://t.co/6VuAUnswi3',\n",
       " '@elonmusk @truth_tesla @zshahan3 @garyblack00 @WholeMarsBlog @SawyerMerritt Perhaps, but you have bigger tits. $TSLAQ',\n",
       " 'Me with a Tesla 🤫😅❤️ https://t.co/GovW6gE0jL',\n",
       " 'US 195000 deaths in a year regular /traditional cars\\nWORLDWIDE, 200 deaths in same period in Tesla vehicles.  \\nTesla has safety alerts on rear seat belts not just the front.  Teslas save lives by drastic percentages cp to all other automobiles.  Thank you Tesla and Elon especialy',\n",
       " '@elonmusk @garycruz @truth_tesla @zshahan3 @garyblack00 @WholeMarsBlog @SawyerMerritt @elonmusk Hi I am trying to Startup an innovating App. Can I share my idea with you . Will you share some  knowledge for the development for the app... ]] https://t.co/6VuAUnswi3',\n",
       " \"@Cdcoolc @IamMeadows @TeslaCanuck @tesla_talks @MFrunker @northern_tesla @DriveTeslaca Our 2013 MS made some pretty weird high pitch sounds under hard acceleration but it was random. It was traced to the HV battery contactors which were replaced. Was never really a problem, just annoying, but now it's gone.\",\n",
       " '@JenniferSensiba The data from the situational contexts I put my car through should be more valuable to Tesla than (arguably wrong) arbitrary sensor metrics.',\n",
       " 'Oh wow! At 2:00 in the video, Ingineerix shows the currently unpopulated but labeled “passenger display” found on refreshed S/X computer! 😮 🤯😱👀\\nThx @kkvr2823 for the share! 🥳\\n@tesla @elonmusk \\nCheck out full video 👇 \\nhttps://t.co/O8VHFe4Prd https://t.co/7Mptuiy3qT',\n",
       " '@elonmusk @garycruz @truth_tesla @zshahan3 @garyblack00 @WholeMarsBlog @SawyerMerritt @elonmusk Hi I am trying to Startup an innovating App. Can I share my idea with you . Will you share some  knowledge for the development for the app... 12 https://t.co/6VuAUnswi3',\n",
       " '@Lana_M_Turner @hsumacher @ToyotaMotorCorp @Tesla @elonmusk The future can never be entirely accurately predicted. I am fairly confident in my prediction regardless. It would be wise for Toyota to shift to fully electric asap because the market for gasoline vehicles is shrinking at an accelerating pace.',\n",
       " '@TITSacademy @elonmusk @truth_tesla @zshahan3 @garyblack00 @WholeMarsBlog @SawyerMerritt Tits Elon has made more millionaires with his giving back in so many way then all governments and careers ever made !!!!  Unbelievable. Thank you @elonmusk for being the best thing alive on earth',\n",
       " '@Kristennetten @austinbarnard45 @Tesla Have you got stuck somewhere miles from a charger?',\n",
       " '@blueskykites @elonmusk @Tesla @WholeMarsBlog @28delayslater @adamhoov @Kristennetten @DriveTeslaca @TeslaAndBitcoin @teslaownersSV @TeslaOwnersONT @EliBurton_ Nice!',\n",
       " '@elonmusk @garycruz @truth_tesla @zshahan3 @garyblack00 @WholeMarsBlog @SawyerMerritt @elonmusk Hi I am trying to Startup an innovating App. Can I share my idea with you . Will you share some  knowledge for the development for the app... 1 https://t.co/6VuAUnswi3',\n",
       " '@SawyerMerritt @elonmusk @Tesla $Onepiece just got released on FegEx! This coin is about a week old and we have no confirmation on if the dev has slept since launch. They don’t stop, big news and buy backs daily! \\nhttps://t.co/08T1PdEC72',\n",
       " 'Tesla Model 3 is showing the real impact of the EV revolution.\\n\\nModel Y is the 3X impact \\n\\nCyberTruck will be 10X',\n",
       " '@elonmusk @FarzadAhangi @truth_tesla @zshahan3 @garyblack00 @WholeMarsBlog @SawyerMerritt #FREEcoin \\n confirms at place 3 of most held #BinanceSmartChain tokens Rocket\\n\\n$FREE coin is also a TOP3 coin on #TRON ( holders)\\n\\n$FREE is a real world crypto payment coin (vending machines, shops/webshops, payment terminal) and #DEFI coin on #BSC \\n\\n$FREE has +5 MILLION holders',\n",
       " \"@GerberKawasaki @elonmusk The yoke, is the equivalent of Steve Job's forcing the world with USB only iMacs, which as we can see accelerated technology to USB-C/Thunderbolt 4. :-) \\nThe yoke is good for us.\\n\\n@elonmusk @tim_cook @Apple @Tesla @MKBHD @SnazzyQ @shelbychurch\",\n",
       " \"@LepTrading @elizableu He's already donated over S150 million dollars in charity just this year.\\n\\nhttps://t.co/RB9smioeXz\",\n",
       " '@elonmusk @FarzadAhangi @truth_tesla @zshahan3 @garyblack00 @WholeMarsBlog @SawyerMerritt #FREEcoin \\n confirms at place 3 of most held #BinanceSmartChain tokens Rocket\\n\\n$FREE coin is also a TOP3 coin on #TRON ( holders)\\n\\n$FREE is a real world crypto payment coin (vending machines, shops/webshops, payment terminal) and #DEFI coin on #BSC \\n\\n$FREE has +5 MILLION holders',\n",
       " '@WholeMarsBlog @elonmusk @SawyerMerritt @Tesla Goverment is ridicoitus, ridiculous, selfintrest,.  .   . TeslaOwner and more naives too',\n",
       " '@AgnesOfTheDogs @Tesla @telsa I have seen photos of the aftermath of their battery pack burning a car down to the pavement. Definitely no thanks!',\n",
       " '@BillyM2k no.because.\\n1. Robinhood wallets \\n2. Verifone partnership w/ Bitpay\\n3. AMC begins Doge payments\\n4. Doge-Ethereum Bridge \\n5. Doge update 1.14.5\\n6. Tesla Accepts Doge \\n7. DOGE-1 mission to moon paid for completely in Dogecoin \\n8. Dogecoin VISA Credit Card\\n9. Dogecoin accepted Tits',\n",
       " \"@StuntbamTv @eccoloMexico @Saitamaguru1 @PackSaitamawolf @InuSaitama I'd probably be driving a Tesla Model S Plaid and have a Tesla Roadster on order.\",\n",
       " '@elonmusk @truth_tesla @zshahan3 @garyblack00 @WholeMarsBlog @SawyerMerritt Well said❤❤❤🇺🇸🇺🇸🇺🇸 https://t.co/7alNM1jUFh',\n",
       " '@James95113983 @Dbldwn02John @Teslarati @ResidentSponge If someone would need to prove this in court, they might want to summon former Tesla employees to testify how many tries it took to film the demo.',\n",
       " 'Day 368 of posting dogs in sweaters until @MrBeastYT gives me a @Tesla\\n\\n#mrbeast #Tesla #sweaterdogsfortesla #dogs #puppies #sweaterdogs #sweaterweather #dog #puppy https://t.co/afgbSGLbKW',\n",
       " '@fly4dat @JonBryant421 @orthereaboot @TSLAFanMtl @EconomicManBlog @BradMunchen @scidood @mark_mtv3 @DowneastCapital @funwithnumberz Only thing the numbers show is Tesla hasn’t increased Model 3 capacity. Your assumption is the demand has peaked. On the other hand I predict we will see model 3 capacity increases in the coming years.',\n",
       " '@ThePeoplesInves He is Dr. Shiba, the doctor of world economics\\nYes, this is Shiba power, Shiba is like a powerful lion, Shiba is coming soon 0.001 @shiba @shibaarmy @shibainu @shibatoken  @shibswap @shib @elonmusk @amazin @alibabagroup @tesla @RobinhoodApp @panthira2021 https://t.co/2KzyZCoCL4',\n",
       " '3 eps in on You and this man Joe off a tesla',\n",
       " '@elonmusk @SawyerMerritt @Tesla THlS IS CHAANCE!! 👉👉 CRYPMAKE dot NET',\n",
       " '@elonmusk @SawyerMerritt @Tesla Elon has answered above in a  thread below 👇\\n\\nhttps://t.co/fdVrAJc3iq',\n",
       " '@clayranck @ZaxxonGalaxian @exjon @azcentral Must be by Elon musk moved there and is moving SpaceX and Tesla there. 🤣🤣🤣',\n",
       " \"@jmalcoun @pitdesi @elonmusk Wrong. Elon has made these sorts of commitments on Twitter before.\\n\\nRecall him saying Tesla would build the world's largest grid-scale battery storage in Hornsdale in 100 days or it would be free?\\n\\nHe totally made good on it. And he's doing so here, too. 100% certain.\",\n",
       " '#NowPlaying #ArtBell #Stream3  - Art Bell - (ART) LMH - J.W. Meginis - Pres. of Tesla (3-12-95)/ https://t.co/YuxBnZJSAv',\n",
       " 'Read our website headlines! https://t.co/YQoHefKt0r\\n\\n#Tesla guitarist Frank Hannon is writing a book, #ModernDrummer and a #NeilPeart scholarship &amp; will Tom Holland continue on as #SpiderMan? https://t.co/RFJumKzB7p',\n",
       " '@Tesla would you consider taking shiba as payment for a vehicle',\n",
       " '@ElonardoM The Ford never gives them the option to convert to fleet. It’s just another car with a different fuel. Hundreds of thousands of Tesla model threes gives them a hedge against autonomy.',\n",
       " '@akidesir @tesla_talks Good for you! Hats off!',\n",
       " '@Dallas_Korben_ @chigrl Not if you’ve been short oil and long tesla.',\n",
       " '@jeremy_hugh @elonmusk @SawyerMerritt @Tesla Have you never owned a stock or something? What you’re suggesting is like someone walking into your house, deciding how much all your stuff is worth, then taxing you based on that money as if you just had it as cash in your pocket.',\n",
       " '@Bignate1315 @oygpreston @ShannonSharpe I must be missing something. Its the equivalent when tesla stock drops .05% in a day. Congrats?',\n",
       " \"Japan doesn't have Tesla\\nbut it has Lasertec.\",\n",
       " '@elonmusk @hsumacher @Tesla #STARS - STARSHIP token is a decentralized community driven token from the SHIBA INU deployer. Boarding crew now!!!!!\\ntelegram：https://t.co/G5DmFOL0Cb \\nStarship($STARS) Contract Address:\\n0x7CCFeEF4F0Ff48B0E0abD19bBBebae90939f180D https://t.co/sG3NOWX5Rw https://t.co/xTbUvwFko7',\n",
       " '@JoeHarper @garyblack00 Tesla will never have to be worry about anything but I made a point as far as the Range goes ,BTW 179k is no the only price for the air dream since they have more Editions...',\n",
       " '@i1Tesla With live Sentry, a Tesla with a powered frunk could be the ultimate \"not home, but here\\'s candy\" device.\\n\\nPut a sign out to have them text to alert you then verify through live video. Trigger the frunk. Use broadcast to say something spooky. Then close the frunk.',\n",
       " '@elonmusk @SawyerMerritt @Tesla $Onepiece just got released on FegEx! This coin is about a week old and we have no confirmation on if the dev has slept since launch. They don’t stop, big news and buy backs daily! \\nhttps://t.co/08T1PdEC72',\n",
       " '@SawyerMerritt Has the owner driven any Tesla  before?',\n",
       " 'Playing exorcist music through the external speakers in the Tesla. Spookyyyy',\n",
       " '@elonmusk Do you think Tesla marketing Strategies are weak compared to the surrounding competitors?',\n",
       " '\"Let\\'s Go Brandon!\" Elon Musk On Biden\\'s Tesla Bias #shorts #ElonMusk #B... https://t.co/nodsFT8DoA via @YouTube',\n",
       " '@I_W_N_C @G__Gekko @NorthmanTrader If Elon bites the dust Tesla crashes. \\n\\nNo doubt about it.',\n",
       " '@LOV2ROK2VINYL @EddieTrunk @sevenyearwitch @MadLifeStage Yeah trunk is very out of touch but he knows what tesla is working on',\n",
       " '#Giveaway  #Sweepstakes \\n$50,000 CASH or a Tesla \\nenter here  https://t.co/NCQQuDvh0j  \\nTO WIN a Tesla Model 3 Long Range or $50,000 Cash  \\nends 12/15/2021 https://t.co/PKOkrWajsz',\n",
       " 'Elon Musk will sell Tesla stock if UN proves $6B solves world hunger\\n https://t.co/EGJNgE83Ic',\n",
       " '@BitcoinIsTime Did not say Tesla is not profitable. I said they make a tiny profit in comparison to market cap which they would be smart to take advantage of. Don’t know why you’re making this assertion. It would be wise for them to do more secondary’s and invest capital.',\n",
       " '@co_tesla @28delayslater @elonmusk @evannex_com @SteveHamel16 @Teslarati @TeslaJoy @teslaphotografr @TeslaClubChina @guy_frugal @Tesla @jadba1978 Okay, I like this. Looks like a moving traffic cone.',\n",
       " '@elonmusk you need to do something for poor people as you do for rich people like Tesla. https://t.co/adW3f7Xx0z',\n",
       " '@CEOAdam Happy halloween!! Just FYI, tesla will be taking Shiba also as a payment and will be listed tomorrow on Robinhood @8am east coast time. I know a lot of us apes also have shiba inu holding. Load up and lets goo 🚀🚀🚀 🦍 #ShibArmy https://t.co/smdlQY2oGg',\n",
       " '@DelCrxpto @Pandadd93 @Tesla What are you smoking? And also, how do I aquire some?',\n",
       " '@tesla_raj Will Taiwan also have this feature?',\n",
       " 'When is Tesla Tequila going to be back in stock? @elonmusk @Tesla I’ve been trying to buy a bottle (or two) since November 2020. #Tesla #TeslaTequila #Teslaquila',\n",
       " '@paulvarghese But Tesla at least has autopilot… 😂',\n",
       " 'Interesting 🤔\\n\\n1. Tesla looks like the top is in or near\\n\\n2. Agriculture is set to boom. \\n\\nIs Musk rotating to value in agriculture?\\n\\nTime will tell. https://t.co/Snzg1frbgA',\n",
       " '@doylenesha1 @kokalo77 @DelCrxpto @Tesla Just get it on BITMART 🤷🏾\\u200d♂️',\n",
       " '@BahamaBen9 •Best range of EV vehicles\\n•CEO was the brains behind the Tesla Model S\\n•High-end sedan price which typically means higher margins\\n•An alternative to buyers who want EV but exclusive \\n•Their biggest challenge at this point is that they can’t make enough cars quickly enough',\n",
       " '@ShibalnuNews @Tesla Da fuck!!??!! Don’t mess wit me $SHIB🤑',\n",
       " '$SHIB Tesla to accept $SHI as payment holy 💯👇 https://t.co/r1ceqkY4FS',\n",
       " '@elonmusk I hope I can buy Tesla with my #dogecoin #Doge4Tesla please. 😍',\n",
       " '@RuralReason @23cdub23 @SawyerMerritt It’s definitely awful compared to Tesla’s system, but pretty average for a normal car. It needs to be worked on, but it doesn’t affect the average user that much. They really need to get BlueCruise together.',\n",
       " '@massumeh18 @MxccaXBL @ShibalnuNews @BdeGlobal @Tesla @SawyerMerritt Where?',\n",
       " \"Why is it when I read this truth I don't hear a resounding YES?\\n\\nInstead, I sadly hear an Ebenezer Scrooge line, 'If they would rather die, they had better do it, and decrease the surplus population.' \\n\\nWhy do I hear this instead of YES?\\n\\nhttps://t.co/EGAHZxFPLL\",\n",
       " \"@RBReich Take your own advice &amp; fr Elon Musk-he's stubbornly optimistic. The new EV company was laughable to legacy auto (&amp; during 2008?!)\\nTesla's success will create global sustainable energy, a virtuous cycle of clean air, social+food+living stability\\n\\nCheer up!\\nhttps://t.co/4prB8aFEjQ\",\n",
       " '@AngelNDevil2 “Paid in Tesla stock” do you even hear yourself? https://t.co/nusVpgyFrx',\n",
       " '@Cashmoney230000 @ShibalnuNews This file: https://t.co/Apc9ubLRKP',\n",
       " \"@heydave7 @truth_tesla @elonmusk @zshahan3 @garyblack00 @WholeMarsBlog @SawyerMerritt Tesla is already production constrained. This would add another bottleneck. And in reality, prices will go up to offset these subsidies. In Tesla's case, they'll just go up $4500 less than LICE.\",\n",
       " 'Tesla chief Elon Musk, the world’s richest man, challenges UN official’s claim -India News\\xa0Cart https://t.co/Gk2zhGCLzh',\n",
       " '@Shtojzovalleee @marxlipaist You seriously have no shame! Not even Tesla in that \"costume of yours\" just stop!',\n",
       " '@SawyerMerritt Lucid. Much better. Lighting on pumpkin. Background. Illustration is more unique. The Tesla looks rushed and amateur.',\n",
       " '@Richdotbz @ShibalnuNews @elonmusk @Tesla Same here',\n",
       " '@SawyerMerritt @elonmusk @Tesla The media will not publish any such good seeds because it will result in the weakening of the narrative that if withers are treated well business will go bankrupt.',\n",
       " '@Tesla TAKE A PART 👉👉 CRYPMAKE dot NET',\n",
       " \"@kvlly up close Tesla has a long way to go in the quality department. really shows that you don't have to be the best to actually be the best\",\n",
       " '@thenecroguard @annlouisehoward @ZJAyres Hmm this says otherwise\\n\\nhttps://t.co/UrX2fSuz6B',\n",
       " \"@john11levin @pjm_tesla_369 @nzherald It's a leaky vaccine, it doesn't stop transmission, meaning eventually everyone will infect each other. So we're delaying the inevitable, while forcing medicine on people which has NO long term data. We're also taking away people's right to natural immunity which is better.\",\n",
       " '4 of 5 stars to Project Relocation by Lena Karynn Tesla https://t.co/KidT76WTtb',\n",
       " '@GerberKawasaki @elonmusk Horn should be the only conventional thing in Tesla. Because it’s muscle memory. Your hand goes to the center of the wheel as it has been like that for years',\n",
       " '@MMagnett1 @ShibalnuNews @ZealTrading @Tesla @elonmusk @RobinhoodApp You do realize that Elon doesn’t micromanage everything at his company right? He doesn’t even make the business decisions. He has a whole department of people who make those decisions.',\n",
       " '@elonmusk @garycruz @truth_tesla @zshahan3 @garyblack00 @WholeMarsBlog @SawyerMerritt TAKE IT G!V|EAWAY!!! 👉👉 CRYPMAKE dot NET',\n",
       " \"@SuGibiAzizOlmak @CARandDRIVER Speak for yourself. \\nStill haven't come across a @Tesla owner regretting the switch based on charging infrastructure or habits. Or regretting at all. https://t.co/CoI4R2cPDE\",\n",
       " '@elonmusk @garycruz @truth_tesla @zshahan3 @garyblack00 @WholeMarsBlog @SawyerMerritt THlS IS CHAANCE!! 👉👉 CRYPMAKE dot NET',\n",
       " '@DebRyanShow Babydoge hodl can be rich and save dog 🔥🔥🔥🚀🚀🚀\\n#BabyDoge #BabyDogeCoin #NFTs #SaveDogs #Tesla #BinanceSmartChain #ETH #OKEx #GameFi #debitcard #ecommerce https://t.co/4CUSoZMOQR',\n",
       " '@JeffreyLopezRi1 @DelCrxpto @Tesla @elonmusk $shib gonna plummet again after Elon says it’s fake…',\n",
       " '@DelCrxpto @Tesla That’s crazy!! Can’t believe unless they announce it!! 🤯🤯 #shib',\n",
       " '@Tesla Someone waants to taalk to me?',\n",
       " \"@ShibalnuNews @elonmusk #Tesla #shibainu #shiba I'm a little skeptical, but I really hope this is true. https://t.co/0NadJwHJFD\",\n",
       " '@RobinhoodApp @BoredApeYC @Sothebys @Tesla When is the shib listing? I am fed up with doge and Elon. It’s time for me to ignore both and look at a new thing in Robinhood now',\n",
       " 'At least you provide value.   Following me is a Elite underground Tesla highway to hell!\\n\\nI value your tweets, have from the start. https://t.co/FPiDN5Ck62',\n",
       " '@DelCrxpto @Tesla @TheCryptoLark read it now🚀',\n",
       " '@ShibalnuNews @Tesla Omg - SHIBA TO THE MOON',\n",
       " '@RobinhoodApp @BoredApeYC @Sothebys @Tesla Yeah i just deleted my robinhood account cause $SHIB isn’t available.',\n",
       " '@dig_infinity @EricBoehlert What about the tax subsidies for EV purchases?\\n\\nWithout them Tesla would not exist.',\n",
       " '\"Let\\'s Go Brandon!\" Elon Musk On Joe Biden\\'s Tesla Bias #ElonMusk #Biden... https://t.co/yt4k0i6Nx5 via @YouTube',\n",
       " '@RobinhoodApp @BoredApeYC @Sothebys @Tesla The question is…will $SHIB be listed anytime soon? I’m not begging for you to do it, I just legit want to know.',\n",
       " 'I also want the Tesla news to be legit about #shib rumors that come out and are not true really fuck it up for us #Shib',\n",
       " '@DelCrxpto @Tesla Now that we call #bullshit',\n",
       " '@TeslaAndBitcoin ELON = T. EDISON + N. TESLA , EDISON got the business acumen and Tesla got the physics/science right.  Elon got both.',\n",
       " 'Definitely canceling tomorrow morning.  @tesla #tesla https://t.co/1Lp7vK6YJq',\n",
       " '@MinimalDuck @Filasophical @Tesla @elonmusk Scary',\n",
       " \"@TeslaFruit @WholeMarsBlog @JasonTorchinsky @faizsays It's the biggest flaw it has. But the placement is also not ideal.\\n\\nCorporate music aside, check this out. Tesla's is not close to this: https://t.co/JeNsnAxWFy\",\n",
       " \"@tellcarl2 @DougDeMuro @MODL3PILOT @kylaschwaberow @Ford @mrlevine Go to any mainstream website like YouTube and Facebook and post something about Tesla:\\n\\nYou'll see that the anti-Tesla people are far more numerous, vocal, aggressive and cultish than Tesla fans\\n\\nIt's not a cult, it's just that beaten dogs bite\",\n",
       " '@elonmusk @SawyerMerritt @Tesla @fastswapdex \\nSir,your tesla is so fast!😆 https://t.co/xNveG9wipC',\n",
       " '@jeremy_hugh @elonmusk @SawyerMerritt @Tesla There’s no loophole being used when you don’t sell any shares',\n",
       " '#fsdbeta 10.3.1 thoughts: 8) Overall.  It is correct for @tesla to say \"It may do the wrong thing at the worst time, so you must always keep your hands on the wheel and pay extra attention to the road.\"  At times, it does great, but not always.  Nothing an update can\\'t fix.',\n",
       " '@chaz4444 @SawyerMerritt There’s nothing stopping Tesla employees from unionizing if they want to. It’s entirely up to them. The government has absolutely zero business or cause to penalize Tesla and it’s customers by cutting their tax credits and rewarding the customers of competing companies.',\n",
       " \"@larry_snugs @OfficialABQ @alex_avoigt Everything necessary for civilization to exist must be mined. Why some think it's only bad if EVs use mined products is a puzzle.\\nVirtually everything in a Tesla battery pack can be recycled except the glue.\",\n",
       " \"@Model3Owners @elonmusk Tesla is still eligible for the 8000 though right? I honestly can't see it hurting Tesla that much...\",\n",
       " '@MrCesarvil @elonmusk @truth_tesla @zshahan3 @garyblack00 @WholeMarsBlog @SawyerMerritt @Tesla Join the chat and thank me later🥰🥰👇👇👇\\nhttps://t.co/1jEbAYXRmK',\n",
       " 'this tesla driver got so excited after taking off on me like chill before your AAA batteries fall out🙄',\n",
       " '@WhiskeyCassie Mandalorian with a $Tesla Helmet. https://t.co/AzIqBQJcj9',\n",
       " '@SirRonHale @ShibalnuNews @Tesla It’s not stolen. JavaScript is plain text.',\n",
       " '@elonmusk @WFPChief @DrEliDavid @fastswapdex \\nSir,your tesla is so fast!😆 https://t.co/DkRkfWXxTJ',\n",
       " 'One thing I noticed is that in the Tesla $SHIB data, it refers to the ticker as SBA as opposed to SHIB. I think $SBA will be a hard fork of Dogecoin just called “Shiba”, not “Shiba Inu”. This is why Robinhood wallets are so needed for further Elon involvement. https://t.co/hFAb3JNScE',\n",
       " '@smr990234 @DelCrxpto @Tesla @elonmusk Please write him that he should buy Shiba &amp; allow to pay with them for Tesla. It’s for everybody a WIN-WIN! 🤩🤩🤩 https://t.co/UJTQJBWZoe',\n",
       " '@garyblack00 Are you the same Gary who was out from Tesla and them come back',\n",
       " '@BahamaBen9 scale of 1 to Tesla how long',\n",
       " '@LyftGyft @elonmusk @garycruz @truth_tesla @zshahan3 @garyblack00 @WholeMarsBlog @SawyerMerritt Decided to change the script and move to Texas.  Everyone forgot the systemic racism.',\n",
       " '@ShytoshiKusama @elonmusk \\n\\nwhats with this code for tesla\\'s crypto payment portal that has shib and btc in there?\\n\\ni thought tesla was no longer accepting crypto?  and that when they did it was btc only?  \\n\\nhttps://t.co/xcXdlifi4l\\n\\nctrl-f \"shiba\" in there.',\n",
       " '@JayinShanghai @elonmusk @Tesla @teslacn this is awesome',\n",
       " \"@avenaim @13m5 @GerberKawasaki @elonmusk @Tesla My understanding after reading a lot of people's reports is that it isn't everyone that got 100 that gets it. Just a select few during the 100 roll out that gets it. Then it moves on to 99 which I think I read they are on. I doubt most of us will get it anytime in the next year.\",\n",
       " \"@caitoz Without Tesla, I'd still be driving oil guzzling dino-machines, my $ would still be supporting the murder of brown kids and my exhaust gases would still be giving people asthma.\\n\\nI'm happy to NOT do those things.\",\n",
       " '@elonmusk U mean (Tesla institute of Technology right)',\n",
       " '@RobinhoodApp @BoredApeYC @Sothebys @Tesla when shib??',\n",
       " \"@Tesla #tesla well I'm cancelling my appointment for a test drive... Can't support this kinda stuff. \\nhttps://t.co/a5hGuKmZ1J https://t.co/EDBx1f5QZk\",\n",
       " '@sallyrugg I’ll believe they truly are pro new technology when they start buying Tesla comcars and charge them from solar. Until then, it’s just buzzwords, like “positive energy”.\\n\\nWTF does the “positive” refer to in that context anyway??',\n",
       " '@Cokedupoptions no way tesla stock will reach 25k',\n",
       " '@Lotfeyyyy @Tesla @WholeMarsBlog Completely agree. I tweeted this to @elonmusk several years ago that it would be great to have an @Tesla app for the Apple Watch.',\n",
       " '@ShytoshiKusama so Del crypto has just tweeted that Tesla has the function to accept SHIB....is this correct ? 🙈🙉🙊 https://t.co/lA9tMFmp1N',\n",
       " '@kokalo77 @doylenesha1 @DelCrxpto @Tesla I bought thru uniswap and eth fees killed me',\n",
       " '@ME76495893 @doylenesha1 @DelCrxpto @Tesla Agreed! By then it will eat up at least one zero and it will cost you more then.',\n",
       " '$SHIB - Stashed some cash away in this &amp; I’m liking the movement along with speculation heading into this week.\\n\\nPossible listing on #RobinHoodApp\\n#Tesla possibly accepting as payment method\\n\\nWill continue to hold! ✔️💰 https://t.co/bEhND85BQl',\n",
       " '@PrinceDuggan @ClarenceHouse @Tesla @TeslaMotorsClub @elonmusk @COP26 Do solar panels need replacing? Are solar panels biodegradeable? What about mining lithium is it good for the planet? Does acquiring it displace people or require lands to be cleared? Define totally sustainable.',\n",
       " '@ShibalnuNews No denying that JS file is hosted on the https://t.co/O6hHFfDz3M domain and also contains a reference to Shiba .. great find!',\n",
       " '@realMeetKevin Shiba inu is going to get listed on Robinhood tomorrow 8am east coast time and tesla will take shiba as payment. Load up shibarmy 🚀🚀🚀 https://t.co/nvxHRfOQ0R',\n",
       " '@JJ03241 @ShibalnuNews @Tesla @Shibtoken @ShytoshiKusama I love shib but you should check out @pawthereum they have donated $80000+ to animal shelters in need and raised $250k in 3 weeks for more  shelters.😺 follow @pawthereum. With only 1300+ holders + only $20 mill MC were very early. https://t.co/4WP3lza5Eh join TG,and thank me l8r',\n",
       " 'For South Africa to Switch to @Tesla',\n",
       " '@elonmusk @garycruz @truth_tesla @zshahan3 @garyblack00 @WholeMarsBlog @SawyerMerritt #STARS - STARSHIP token is a decentralized community driven token from the SHIBA INU deployer. Boarding crew now!!!!!\\ntelegram：https://t.co/ds3QYdiedM \\nStarship($STARS) Contract Address:\\n0x7CCFeEF4F0Ff48B0E0abD19bBBebae90939f180D https://t.co/R3uta4OZ26 https://t.co/m8dDS9mvjL',\n",
       " '@elonmusk @truth_tesla @zshahan3 @garyblack00 @WholeMarsBlog @SawyerMerritt @fastswapdex \\nSir,your tesla is so fast!😆 https://t.co/VzfSYQQcwD',\n",
       " \"@DrEliDavid @elonmusk It must really suck to be @elonmusk! He wants to do is make great products that help the world. But it isn't enough. If Tesla would have failed, it would have been his fault. If it succeeded, he's blamed for not doing enough. Wall St made him worth $300b, he didn't ask for it.\",\n",
       " '$shib $tsla Shiba Inu on Tesla servers! 👻🤯🤯🤯 rumors or real?? 😰 FOMO incoming if it’s true!! You can’t say it for real until they announce #shib #shiba #ShibainuCoin #ShibaArmy',\n",
       " '@elonmusk @truth_tesla @zshahan3 @garyblack00 @WholeMarsBlog @SawyerMerritt Tesla should challenge this in court. There’s no way Supreme Court will allow govt to buy votes by bribing UAW. Everyone knows Unions are basically gangsters that bankrupted automakers earlier. They still didn’t learn the lessons.',\n",
       " \"@caitoz You can criticise aggressively those who try to make the world slightly better within the current system\\n\\nAnd\\n\\nI can keep calling you up on not understanding Engineering and the role it has in actually making humans' lives better.\\n\\nI'm happy Tesla &amp; SpaceX  r successful.\",\n",
       " '@TradingActuary @Tesla @ShytoshiKusama I love shib but you should check out @pawthereum they have donated $80000+ to animal shelters in need and raised $250k in 3 weeks for more  shelters.😺 follow @pawthereum. With only 1300+ holders + only $20 mill MC were very early. https://t.co/4WP3lza5Eh join TG,and thank me l8r',\n",
       " 'Shib to the moon🚀🚀🚀🚀🚀🔥 @DelCrxpto @cryptoJanee @davidgokhshtein @ShardiB2 \\nhttps://t.co/Oo7t5eVJnT',\n",
       " '@ShibalnuNews @elonmusk I just remember when he said he didn’t sell any Bitcoin or doge but Tesla had to do their books. So even though Tesla could hold some he doesn’t count it has him holding',\n",
       " '@elonmusk @truth_tesla @zshahan3 @garyblack00 @WholeMarsBlog @SawyerMerritt @fastswapdex \\nSir,your tesla is so fast!😆 https://t.co/5KTZZ2EhuE',\n",
       " '@DelCrxpto @Tesla Let’s go to the moon #shib #ShibaArmy #shibainu #ShibaCoin @shibainuart',\n",
       " 'Elon Musk Says He’ll Sell Tesla Shares To Solve World Hunger (But Sets Two Conditions). He is very smart , wants proof from UN how $20 billion for real will solve world hunger.',\n",
       " 'truestreetcar ideas Toyota EV tech details; EV tax credit controversy; Tesla, Hertz, and Uber: The Week in Reverse https://t.co/issztkY2qd by https://t.co/m1fLOkDw22 https://t.co/uavCjxljeq',\n",
       " '@smr990234 @DelCrxpto @Tesla @elonmusk me too https://t.co/5Q9nPQpJL7',\n",
       " '@DelCrxpto @Tesla I’d buy a #Tesla for sure if @elonmusk and @Tesla started accepting @Shibtoken as payment #modelxplaid for the wife #shiba #ElonMusk #Tesla #SHIBARMY #SHIB',\n",
       " 'Gonna cop my Tesla truck with shib coin',\n",
       " 'It might be 5 or 10 years before I can afford a @Tesla but the best part is they will be much more advanced in tech and I will thank myself for not going broke trying to own one sooner than fate has intended 😅\\n#Doge #LuckofaBluesArtist',\n",
       " '@elonmusk Can we get clash of clan on Tesla cars?',\n",
       " \"@PDidge @MatthewBevan @bejopil I don't doubt it is better to do at scale but I can't deny some of the appeal is 'spite'.\\n\\nI am an electrical engineer so not fazed by the work involved to design and specify. Avoiding a 'walled-garden' solution that might be supplied by likes of Tesla would be a must for me.\",\n",
       " '@DelCrxpto @Tesla Shib inu  just have too many hater :) They gang up on this meme coin...But forget to taken into consideration it true identify as \"people crypto coin\"',\n",
       " '@jeffreyvsteijn @SawyerMerritt Most people can’t stand Tesla using the screen for everything. Many are tactile and like touch plus certain items are faster sans screen',\n",
       " 'It’s confirmed that #shib #shiba #shibaswap  $SHIB is now coded into \\n@Tesla’s website. They are going to begin accepting payment.\\nSOURCE: Including screenshots and link for \\nhttps://t.co/WGu2kZ9zPj',\n",
       " '@kokalo77 @doylenesha1 @DelCrxpto @Tesla It’s not hard, but it definitely requires more steps and gas fees make it hard for those that want to go in with 50-100 bucks. Saitamask should help with both of these. That’s why it’s such a big event. I’m excited.',\n",
       " \"@elonmusk @SawyerMerritt @Tesla he's not lying about the employees thanks for the new model y @elonmusk  your plant in Fremont is giving alot to the people of Northern California and giving us opportunities we would have never had thank you! #ToMars #Tesla #ToTheMoon\",\n",
       " '@zumangu @Tesla @elonmusk I love shib but you should check out @pawthereum they have donated $80000+ to animal shelters in need and raised $250k in 3 weeks for more  shelters.😺 follow @pawthereum. With only 1300+ holders + only $20 mill MC were very early. https://t.co/4WP3lza5Eh join TG,and thank me l8r',\n",
       " 'I wonder if the Tesla Semi will have a battery pack swap or if supercharging is the only future forward for Tesla. https://t.co/OyWuHowj8h',\n",
       " '$SHIB is mentioned in a JavaScript code for payment processing on Tesla\\'s website. Check it out for yourselves, search for \"SHIBA\" in the webpage. This is very interesting because it could imply that Tesla would accept Shiba as payment... #ShibaArmy https://t.co/OAmXdZXbA7 https://t.co/PlXB2iSCpj',\n",
       " '#shib needs to lift its supports and fight the resistance. Price action ongoing due to @RobinhoodApp and @Tesla news. Good pump for #shiba Tomorrow will be a big day #SHIBARMY #onecentdream',\n",
       " 'Tesla payment option to accept $SHIB 🧐 https://t.co/0EFPAYC20f',\n",
       " '@THL99999 @mn_goat_trader Tesla piece likes fake. Can anyone confirm? Thanks',\n",
       " '@ShibalnuNews @Tesla Tesla is on a dilemma of which coins they accept first $Shib or $Doge 🤦🤷🤷',\n",
       " '#code found in #tesla website for #shiba?\\n\\n#shibainu to be accepted as payment for Tesla?\\n\\n#ShibaArmy #ShibainuCoin https://t.co/rkHd77KS5p',\n",
       " '@elonmusk can we get clash of clan on Tesla ?',\n",
       " '@elonmusk @truth_tesla @zshahan3 @garyblack00 @WholeMarsBlog @SawyerMerritt @fastswapdex \\nSir,your tesla is so fast!😆 https://t.co/kKvfZi3NDe',\n",
       " '@DelCrxpto @Tesla Well i trust you buy this sound me too much.',\n",
       " '@WatcherGuru the pump may be the tesla pay code including $shib going around.',\n",
       " '@simonch26478468 @shlemazl4 @SoccerMomTrades And that’s correct, That’s why at times I have been tactically short Tesla. Hopefully I will have an open position when the big one arrives',\n",
       " 'A Rented Tesla Model S Just Shattered the EV Cannonball Record\\n\\nread on https://t.co/yqbYGiSJD9\\nhttps://t.co/7pCNS5IsTI\\n#uomoelegante #gloo #miradaonline #ecosistemaonline',\n",
       " 'She works for General Motors. And GM is apparently trying to be “more Tesla”',\n",
       " '@SawyerMerritt Tesla is much more than a stock and beyond any conventional analysis by analysts. 🚀🚀🚀',\n",
       " \"@DelCrxpto @Tesla Maybe this Time Elon won't deny it and will help to grow our beloved #shibainu doggy 🐕🐕🐕🚀🚀🚀🛸🛸🛸\",\n",
       " 'Shiba inu is going to be a payment for Tesla ! Confirmed code !!! https://t.co/HZeup0SgU6 \\n\\n#tesla #shiba #shib $shiba #ElonMusk @elonmusk #100x #nft #ShibaSwap #1CentDream #Shiba Inu #ShibaCoin #SHIB #akita #altcoins',\n",
       " '@SoccerMomTrades @TSLAFanMtl Your feed is far more interesting than most people short Tesla. Seems it’s a trade. Could work in the short run. Following',\n",
       " 'Shiba running on Tesla website source code and Robinhood rumors. \\n\\nThe dumbest result comes from subsidizing a fraud for a decade',\n",
       " 'Piggyback on Tesla’s bitcoins. I supported Elon on this. https://t.co/shAg2Kneuv',\n",
       " '@elonmusk @WFPChief @DrEliDavid @fastswapdex \\nSir,your tesla is so fast!!😆 https://t.co/dbbYgPFv8J',\n",
       " '@elonmusk @TeslaOwnersWA The showrooms for Tesla are the best. Proud of this company. Proud to be a #Tesla owner. @WhamBaamYT this may not be a video but give this place a shoutout!!  #Elon #TSLA https://t.co/1Ue3LGG4yR',\n",
       " '@ShibalnuNews @EHOTOKOO @elonmusk Tesla is on a dilemma which one they accept first $Shib or $Doge 🤦🤦🤦',\n",
       " \".@russ1mitchell, you're my hero! An absolute classic. \\n$TSLA $TSLAQ\\n\\nhttps://t.co/4jdtS5QGVP\",\n",
       " '@NFTpunkdeal @kingjaybreeze @DelCrxpto @Tesla This is the link if you need it. https://t.co/SprpitqXdF',\n",
       " '@Dagnum_PI @Tesla Hmm maybe I should order now 🤔🤙',\n",
       " '@mn_goat_trader Would love a close above 7 on the short-term chart after that rejection.\\n\\nLooking good right now for a continuation!!! Nice speculation heading into this week, too.\\n\\nPossible listing on RH &amp; Tesla accepting as payments. ✔️💰 $SHIB',\n",
       " 'Halloween was fun with the Sentry Live Cam voice feature and my Model Y candy bowl #Tesla #halloween2021 https://t.co/uDgLajg6lb',\n",
       " \"@DarkCryptoLord @Tesla It's already on the moon ser. Where are u\",\n",
       " 'It’s confirmed that $SHIB is now coded into \\n@Tesla’s website. They are going to begin accepting payment.\\n\\nSOURCE: Including screenshots and link for reference. \\n https://t.co/WGu2kZ9zPj https://t.co/zlY8UECbIp',\n",
       " '@DelCrxpto @Tesla Basically do the opposite of the people with an agenda for no reason do. Who asked @Snowden to open his self righteous mouth and talk about meme tokens? No one. He wants clout and to be part of relevant topics. End of the day numbers don’t lie but people do.',\n",
       " '@paulspivak_ @elonmusk @truth_tesla @zshahan3 @garyblack00 @WholeMarsBlog @SawyerMerritt @Tesla Well, if they had a union and were still disqualified, it would make the corruption and hypocrisy that much more obvious… 🤓🤓💪',\n",
       " \"@DelCrxpto @Tesla You're not believing that,  are you?  I saw the code too... where was the Doge code?\",\n",
       " '@Tesla Southwest Florida needs more superchargers please!',\n",
       " '@ProTheDoge You will be lucky with Doge and Tesla again! This is just the beginning of both',\n",
       " '@ShibalnuNews @Tesla Shiba awesome 🥳🥳🥳❤️',\n",
       " '@Dagnum_PI @Tesla I’ll buy one once dag hits $5.00',\n",
       " '@TomMessett I too regressed from an EV (Tesla 3) to petrol (Volvo). Once we left CA the charging infra just wasn’t there. Will do PHEV next (just need 70k to afford the nice Volvo one)',\n",
       " '@DelCrxpto @Tesla I will buy Tesla if that happens',\n",
       " '@ShibalnuNews the BS u said about tesla makes you less reliable.. please avoid saying stuff like that as we could get elon tweet some nonesebse against shib.',\n",
       " '@elonmusk @garycruz @truth_tesla @zshahan3 @garyblack00 @WholeMarsBlog @SawyerMerritt @fastswapdex \\nSir,your tesla is so fast!!😅😆 https://t.co/WmcbQc9pwe',\n",
       " '@elonmusk @truth_tesla @zshahan3 @garyblack00 @WholeMarsBlog @SawyerMerritt You sir are a fuckin treasure to the people. 😂',\n",
       " '@ShibalnuNews @ZealTrading @Tesla So if @Tesla want to actually accept it that’s mean @elonmusk knows @RobinhoodApp going to list it tomorrow sky rocket 🚀 and everyone go and buy Tesla 🤣',\n",
       " '@jalebibaybee yeahhh like why the headrest kid what are you even gonna do with it. somehow fitting for a Tesla nut tho ig lol\\n\\nbut thank you! i knew if we opened and closed the front door a lot my cat would get out 😅 so i had to find an alternative',\n",
       " \"@SawyerMerritt @elonmusk @Tesla How would journalist's know about the employee millionaires?   They generally don't brag or have a PR agent.  Its not public info. And the whole collective bargaining clause is BS.   Model 3 is most American made car and yet Detroit with Mexico assembly gets more credit. Total BS\",\n",
       " \"@SymbioticWrld @LegionSocialist Nicola Tesla backing Westinghouse's AC over Edison's DC says it all.  Edison was a megalomaniac.\\n\\nRight about Leibniz.  Newton, genius that he was, was also a megalomaniac &amp; wouldn't give specific credit.\\n\\nToday it's Musk &amp; Bezos, 2 more megalomaniacs that get too much credit.\",\n",
       " \"@Kristennetten My garage has two Tesla chargers, so changing brands would require infrastructure change. \\n\\nWould Biden's plan pay for that?\",\n",
       " '@ShibalnuNews @Tesla Super fake dont fall for this BA',\n",
       " '@ShannonBrayNC Here https://t.co/WacLVagHn7\\nThanks for replying',\n",
       " \"@TSLAFanMtl @SoccerMomTrades Hope @SoccerMomTrades didn't bet the farm shorting Tesla. Houses have been lost, marriages and lives destroyed, shorting Tesla.\",\n",
       " 'Shib\\n- Tesla acceptance rumours\\n- Robin Hood listing rumours\\n- @souljaboy only accepting Shib for his latest song\\n\\n🚀🚀🚀🚀🚀🚀',\n",
       " '@forexworld552 @RobinhoodApp @Tesla I love shib but you should check out @pawthereum they have donated $80000+ to animal shelters in need and raised $250k in 3 weeks for more  shelters.😺 follow @pawthereum. With only 1300+ holders + only $20 mill MC were very early. https://t.co/4WP3lza5Eh join TG,and thank me l8r',\n",
       " '@DelCrxpto @Tesla If true its awesome news🐶🚀🚀🚀🚀🚀🚀🚀🚀🚀🚀🚀🚀🚀🚀🤑🤑🤑🤑🤑🤑🤑🤑🤑🤑🤑💪💪💪💪💪💪💪💪💪💪',\n",
       " '@BigBreakingNow #Tesla picking up $shib',\n",
       " \"@DougDeMuro @tellcarl2 @MODL3PILOT @kylaschwaberow @Ford @mrlevine Dough, you brought up the most subjective arguments possible (how it drives and how it looks) and then are surprised when Tesla fans subjectively disagree.\\n\\n🗑️ responses were expected to your 🗑️ reply\\n\\nAnd FWIW, most people I've seen say the Mach E drives too much like a sedan\",\n",
       " '@Tesla $SHIB to the MOOOOOON!!! 🚀🚀🚀',\n",
       " '@elonmusk @ashleevance @fastswapdex \\nSir,your tesla is so fast!!😅 https://t.co/jV2qi088MV',\n",
       " \"@DelCrxpto @Tesla I hope it's true or more paper hands and buy the rumor sell the news is going to happen.\",\n",
       " '\"Tesla is going to develop a quiet, electric leafblower\" - Elon Musk https://t.co/tKYPnszahw',\n",
       " '@NancyTracker We could not get 20 shares of Tesla 4 anything but stock market rate!\\n#Tesla #Elon I would buy Tesla instantly! \\n#AllinsidertradingbyPelosi!',\n",
       " 'Man this was shamelessly drafted in such a way to exclude Tesla. You can thank the UAW who colluded with the government to punish the most American car maker in the US. Truly Disgusting \\n@elonmusk https://t.co/q3kuxwlQqD',\n",
       " '@ShibalnuNews @Tesla bruhh its not real thats for sure',\n",
       " '@LyftGyft @elonmusk @garycruz @truth_tesla @zshahan3 @garyblack00 @WholeMarsBlog @SawyerMerritt Also, btw, Happy Halloween Sergio! :)',\n",
       " \"@DelCrxpto @Tesla @shibainuart @ShytoshiKusama \\nThis is true'?\",\n",
       " '@TeslaTruckClub Do you have FSD, and have you updated the Tesla app on your phone to latest version. You won’t see that unless you open the teal page specifically on your App Store.',\n",
       " 'So far I’ve heard Doge can be used to buy tickets at AMC theaters, anything sold on Etsy, and tuition at the Texas Institute of Technology &amp; Science. In the future, we may be able to buy a Tesla with Doge. Any restaurants? Or an app that instantly converts Doge to dollars?',\n",
       " '@Tesla to accept $SHIB as payment LFG @DelCrxpto @Shibtoken @davidgokhshtein',\n",
       " '@CryptoLoretta MOON BABY FLOKI!🚀🚀🚀 In less than a month almost 25k holders. They will give Tesla for 100k. The best is yet to come!\\n\\nhttps://t.co/p67bEW3UVG',\n",
       " \"Remind me, when did the drivers in the opposite lane sign up for #Tesla's beta? (Or Musk's zero tax bill?) https://t.co/jUwml66OXt\",\n",
       " '@tomstachura @Model3Owners there an uncomfortably large overlap with tesla enthusiasts and apple fanboys. I love Tesla, not so crazy about apple.',\n",
       " \"I hope ppl don't think I drive as bad as these other Tesla drivers 😑 they have no bars....must be 1st gen Prius drivers\",\n",
       " '@RobinhoodApp @BoredApeYC @Sothebys @Tesla $SHIB TO THE MOON\\n\\n (\\\\_/)\\n( •_•)\\n/ &gt;🚀',\n",
       " '@DelCrxpto @Tesla Do you anything about RH?😁',\n",
       " '@dezmondOliver @Tesla @elonmusk All for a battery powered golf cart on steroids.\\n\\nNext someone walking by will beat hell out of the car,',\n",
       " '@elonmusk @Tesmanian_com @fastswapdex \\nSir,your tesla is so fast!!😅 https://t.co/levQr9hYvF',\n",
       " 'Apple will use Tesla’s batteries in its solar\\xa0plant https://t.co/7y8g58q9yW',\n",
       " '@ethybuds The Illustrious and Exclusive #PassportToMars #NFT, with only 1000 Minted &amp; a Roadmap that leads to Winning Either a Tesla Model 3 or $40,000\\U0001fa99🚀\\n\\n🙌Claim Your Passport and become a Citizen of Mars in our Pre-Launch Window\\nhttps://t.co/idI3ViMdd5\\n\\nFollow @TheAlgarnon for updates',\n",
       " \"@ShibalnuNews @Tesla I'm in\",\n",
       " 'Why Tesla Solar Hasn’t Worked Out The Way Elon Musk Hoped https://t.co/pAEJtebKpg via @YouTube',\n",
       " '@TeslaCanuck @tesla_talks @MFrunker @northern_tesla @DriveTeslaca I had the exact same sound on my ‘21 M3P over 170 km/h on unrestricted german motorway. This sound was not present at same speed or higher in my ‘20 nor ‘19 M3P.',\n",
       " \"@chevrolet Everyone's ripping off Tesla's driving screen now\",\n",
       " '@ShibalnuNews @Tesla No way! I checked out the website and searched for “SHIBA” and there it was!!! 👀',\n",
       " '@Demonrainzzz These are my screenshots. 🤦\\u200d♂️ this twitter straight up posted them without permission. Anyway, this page code loads on the checkout page when ordering a Tesla. A programmer I spoke with said it’s  drop down of several payment options.',\n",
       " '@doylenesha1 @kokalo77 @DelCrxpto @Tesla Same issue, im in NY and can’t use any of these apps. Only thing that works is #Shibaswap and a #shib ton of gas fees.',\n",
       " '@adamhoov @teslafsdbeta $TSLA is owned by Elon, relatives / friends, few institutional, Tesla supporters, &amp; some day traders.\\n\\nOnly 1 billion \\U0001fa91 👀\\n\\nMore realizing what Tesla already is &amp; future potential &amp; want in.\\n\\nHowever very few HODLers willing to part with \\U0001fa91\\nSupply demand 🤷🤣🚀',\n",
       " '@NannyMcCairn @thegnuewe @richardzussman @ElizabethMay @BCFerries LNG until they get shore power to charge the batteries…. Or so they say.   Wish they would get on it NOW!    A ferry Supercharger!   If Tesla can do it, BC Ferries should as well.   If Port of Vancouver can provide plug in shore power for cruise ships, Ferries should as well!',\n",
       " '@ErnieMc81095707 @elonmusk @truth_tesla @zshahan3 @garyblack00 @WholeMarsBlog @SawyerMerritt You’re kidding right! Unions fuck the working class right in the whaazooo https://t.co/9c9M7SbFUN',\n",
       " '@elonmusk @SawyerMerritt @Tesla TAKE IT G!V|EAWAY!!! 👉👉 CRYPMAKE dot NET',\n",
       " '@elonmusk @SawyerMerritt @Tesla ONLLY ONE DAY!!! 👉👉 CRYPMAKE dot NET',\n",
       " '@Tesla MOON BABY FLOKI!🚀🚀🚀 In less than a month almost 25k holders. They will give Tesla for 100k. The best is yet to come!\\n\\nhttps://t.co/p67bEW3UVG',\n",
       " '@ShibalnuNews @ZealTrading @Tesla YES💸YES💸💸💸💸💸💸💸💸💸💸🚀🚀🚀🚀🚀🚀🚀🚀🚀🚀🚀🚀🚀🚀💸💸💸💸💸💸💸💸💸💸💸💸💸💸',\n",
       " '@aruku_aj want a Tesla so bad',\n",
       " '@ShibalnuNews @Tesla Trust me @elonmusk will shut this down real quick if it’s not true',\n",
       " '@Tesla MOON BABY FLOKI!🚀🚀🚀 In less than a month almost 25k holders. They will give Tesla for 100k. The best is yet to come!\\n\\nhttps://t.co/p67bEW3UVG',\n",
       " '@elonmusk I love hamster in the tesla car. Pls talk about HAM',\n",
       " '@PoisonClanTech @SawyerMerritt Yup. As much as I would love for Tesla to accept $shib, I don’t think it’s gonna happen. Not before accepting doge at least.',\n",
       " 'TESLA WILL ACEPT SHIB SHIBA INU 😍😍😍😍😍😍😍😍',\n",
       " '$shiba #Tesla ? That will be great 👍',\n",
       " '@altura_nft The Illustrious and Exclusive #PassportToMars #NFT, with only 1000 Minted &amp; a Roadmap that leads to Winning Either a Tesla Model 3 or $40,000\\U0001fa99🚀\\n\\n🙌Claim Your Passport and become a Citizen of Mars in our Pre-Launch Window\\nhttps://t.co/5JA2xJtV9O\\n\\nFollow @TheAlgarnon for updates',\n",
       " '$SHIB What’s happening? Is Tesla and @elonmusk going to accept $SHIB as payment? Is Robinhood going to list $SHIB? Are both things going to happen? Now that’s a candle!!! 🤩 🤩 🚀🚀🚀🚀 https://t.co/yg2UmSSz1t',\n",
       " 'Fyi~ this penguin man is also preparing for his solo cb! And doing variety show !\\nOh! He’s also busy taking care for his tesla investment💅🏻\\nYet he’s still coming to the halloween party bichh 🧛🏻\\nBetter shuttt your mouth~ don’t drag SHINee ever. 🤗🤗 https://t.co/g9acwvOulN',\n",
       " '@LyftGyft @elonmusk @garycruz @truth_tesla @zshahan3 @garyblack00 @WholeMarsBlog @SawyerMerritt What racism? You mean the “racism” of African Americans calling each other the N-word?',\n",
       " \"@loose_shorts @caitoz You should find out what Tesla's vision is.\",\n",
       " '@JordanChar41 @DrEliDavid @elonmusk People have trust in stock because Musk famously said “my money is first in and last out” If he decides to sell, he will file form with SEC which will have ripple effect and many traders will start shorting . Not Tesla will plunge , the whole market will crash.',\n",
       " 'Toyota’s new electric SUV has a solar roof and a steering yoke like Tesla',\n",
       " '@ShibalnuNews @Tesla Why wouldn’t doge be in there too?',\n",
       " 'I’ll just say this. 0% chance someone has access to @Tesla code. Don’t trust rumors about Tesla and Robinhood. Believe in $SHIB because you believe in the project, not the rumors. #SHIB #SHIBARMY \\n@ShytoshiKusama please help stop these rumors, bad for SHIB if it doesn’t happen.',\n",
       " '@ILIKKA_LIKKA @fly4dat @orthereaboot @TSLAFanMtl @EconomicManBlog @BradMunchen @scidood @mark_mtv3 @DowneastCapital @funwithnumberz When capacity utilization falls as it does with an expansion of capacity margins are likely to fall over the medium term. Additionally, Tesla will get less from reg credits and will have to start paying a tax in China. LT margins will be lower.',\n",
       " \"@maximum_plaid @Techgnostik @cleantechnica Ya it's normal. If Tesla paid Rs they'd do something for them. Rs only do something for lobby $\",\n",
       " '@ShibalnuNews @Tesla Major news for the army',\n",
       " '@AstroMarshburn @elonmusk @SpaceX @Space_Station @NASA @Commercial_Crew @NASA_Astronauts @NASAKennedy MOON BABY FLOKI!🚀🚀🚀 In less than a month almost 25k holders. They will give Tesla for 100k. The best is yet to come!\\n\\nhttps://t.co/p67bEW3UVG',\n",
       " '@Tesla Who  wants to chat?',\n",
       " '@LyftGyft @elonmusk @garycruz @truth_tesla @zshahan3 @garyblack00 @WholeMarsBlog @SawyerMerritt This ad says it all... https://t.co/OkT7Qj8pWi',\n",
       " \"@ShibalnuNews @Tesla Holy SHIB! I'll take a @tesla paid for with #SHIB #shiba #ShibaCoin\",\n",
       " '@elonmusk @truth_tesla @zshahan3 @garyblack00 @WholeMarsBlog @SawyerMerritt Didn’t you know silly the #zionist help  the swamp back into office when they stole the election so they could fill their pockets up! #🧦puppet https://t.co/snmHeWh1km',\n",
       " \"I'm gonna make something eat! All this #SHIB news of #Tesla and #Robinhood listing is making me hungry🤑🤑💰🚀 https://t.co/bUXjBZKVXq\",\n",
       " '@aleksst_ @SpaceNotJohn the thread from the initial explains it. if there’s a misinterpretation and Tesla can in fact unionize to get the extra credits, then there’s no issue or outrage.\\n\\ni’m clear on Tesla owners still getting some credit.',\n",
       " '@ShibalnuNews @Tesla @Shibtoken @ShytoshiKusama can you confirm this? This guy may be spreading fake news',\n",
       " '@Julian_GEdwards @PierrePoilievre @elonmusk Will Trudeau promise to buy all the low income people Tesla’s too?',\n",
       " '@elonmusk @truth_tesla @zshahan3 @garyblack00 @WholeMarsBlog @SawyerMerritt @potus get your pen out again there’s more people pardon',\n",
       " '@Kristenckeyser @elonmusk @BoredElonMusk @BoredApeYC @Tesla Drink or suckle? Which one is better',\n",
       " '@DelCrxpto @Tesla I have more https://t.co/GfN78CyF85',\n",
       " \"Toyota is copying Tesla's controversial steering yoke for its new electric SUV https://t.co/w5yUQF2D51\",\n",
       " '@Tesla @elonmusk happy Halloween 🎃 need a Halloween light mode :) https://t.co/T000PcdNhH',\n",
       " '@elonmusk @PPathole @Tesla This is a mega catalyst / milestone brewing. Robotaxis are close, this is closer. \\n\\nBy 300M-500M miles perhaps that’s enough data to assertion a 50x reduction in serious injury or death. \\n\\nThis wins the public over and accelerates FSD quicker than before. Chess not checkers.',\n",
       " 'Elon Musk: Kindly request TESLA  to accept SHIBA  INU Coin as payment! https://t.co/gQhugWZwRR via @Change',\n",
       " \"Here's the math for Tesla's stock price if it becomes the Apple of car makers https://t.co/D9BQs6X0WN To late, Tesla is top dog. Analysis faulty. Cells can be rapidly reproduce where BEV need complete new factories and what is worse giga presses. All this limits log BEV growth.\",\n",
       " \"Cartiers and Tesla Xs\\nCalabasas, I deserve it\\nCall me crazy, call me selfish\\nI'm the baddest and I'm worth it @brancosmsal\",\n",
       " '@DelCrxpto @Tesla Confirmed 👀🚀 https://t.co/OmUB9IWAxM',\n",
       " '@Tesla accepting $shib and $leash tomorrow!? @elonmusk',\n",
       " '@ShibalnuNews @Tesla April fools is so early 😂😂',\n",
       " '@elonmusk @SawyerMerritt @Tesla Who cares. Buy $MYOBU. Thank me later.',\n",
       " '@elonmusk @TiffanyxUSA @truth_tesla @zshahan3 @garyblack00 @WholeMarsBlog @SawyerMerritt Be brutally honest. He’s a Chinese ass kissing POS',\n",
       " '@erinschlick @Andreas44727950 @AuroraCordeira How? He’s literally taking a battery electric vehicle company their, turning the state green. The thing is for any other company to move it’s ok or just a business decision. To you guys for Tesla straight away it’s ‘Elon throwing a tantrum’ like you don’t see how you spin it',\n",
       " '$SHIB and reports of #Tesla will take #shiba as payment #yuge https://t.co/OSpRJbmliW',\n",
       " '@ShibalnuNews @Tesla Fake News https://t.co/b765bxe8S8',\n",
       " 'HUGE NEWS: It’s confirmed that $SHIB is now coded into @Tesla’s website. They are going to begin accepting payment.\\n\\nSOURCE: Including screenshots and link for reference. \\n\\n👉 https://t.co/1QnGY1GkLb https://t.co/yNHOW0BDb7',\n",
       " \"@arctechinc @elonmusk @Tesla I'm curious about what is your car's battery degradation at this mileage and what were your charging patterns. Would you mind sharing?\",\n",
       " '@CP24 #RoadSafety what kind of vehicle crashed❓Tesla, would be broadcasted in headline. Having full ACC, autopilot could prevent, minimize many collisions or injuries. Test more ,legalize AV5 in Canada .@OmarAlghabra .@FP_Champagne',\n",
       " '@ShibalnuNews @Tesla Yeah not sure if this is accurate…',\n",
       " '@DelCrxpto @Tesla Good',\n",
       " '@DelCrxpto @Tesla Mhm 🤔 we need more information.',\n",
       " '@ElReyDeOpciones @Tobey86364757 @DelCrxpto @Tesla Look at subdomain',\n",
       " 'i entered the FREE @BabyDogeCoin Tesla giveaway! \\nYou can enter too at https://t.co/2QyKUWkk30\\nIf you like #DogeCoin youll LOVE #BabyDogeCoin https://t.co/TTeHczl6pP',\n",
       " '👥 @karpathy (AI Director of @Tesla) is now following @lucidrains',\n",
       " '@Pastor_Gabe @ChrisHohnholz Peace of cake. With over 25,000 Tesla superchargers, there’s one along virtually every long-distance travel route. Top off for about fifteen minutes for another couple hours of driving: maybe 10 bucks. It cost me $68 to fill my other car up last week.',\n",
       " '@BitBitCrypto https://t.co/4hbQQZP0AG\\n\\nShiba might get accepted as a payment option for a tesla.',\n",
       " '@DelCrxpto @Tesla Ill believe it when I see it  , Not a bad business decision on rocket mans part.',\n",
       " 'Let’s hope so Bc I’m more than will to get a #tesla with #shib https://t.co/CuZ19dDplg',\n",
       " '@DelCrxpto @luckygenny88 @Tesla 😂 @elonmusk  it seams some one hacked @Tesla  servers. But unfortunately he can t read',\n",
       " '@Tesla THlS IS CHAANCE!! 👉👉 CRYPMAKE dot NET',\n",
       " '@elonmusk @itsALLrisky @truth_tesla @zshahan3 @garyblack00 @WholeMarsBlog @SawyerMerritt 💥📣DON’T MISS OUT📣💥\\n @matrix_protocol  Whitelist Competition\\n\\nSweepWidget has just begun!!!\\nEnds: Oct 26 @ 11:59 pm\\n\\n🌟 Join the Matrix Protocol Whitelist Competition here: https://t.co/ttFZ8LMb9P…\\n\\n🌐Check out our website: \\nhttps://t.co/WCJuTfM5MJ',\n",
       " '@DipsNotChips @ShytoshiKusama If you read it, it says @Alipay and @WeChatApp.  This might be designed primarily for the Chinese to buy Tesla here on something.  Maybe us also, who knows.',\n",
       " '@wolfejosh People are whining about @elonmusk proposing to sell 2% of his wealth ($6b)  of Tesla stock only if it completely solves world hunger but neglects the fact that it will still help. Ask yourself, are you even donating 2% of yours? Moral obligation doesn’t increase when are rich.',\n",
       " '@NowCrypto218 @Tobey86364757 @DelCrxpto @Tesla I am not concerned thanks for the info',\n",
       " \"@ShannonBrayNC Hi, please check it\\nAfter a lot of investigation Im thinking strongly that #Tesla will soon accept #SHIBA as a payment, Here screenshot of Tesla webpage's source code includes shiba, you can find the source code of Tesla website easily to confirm\\n#ShibaArmy #shib https://t.co/VQHdS7Rpw7\",\n",
       " '@SamSzeto @DelCrxpto @Tesla Since Tesla also buys a lot of cryptocurrency, it supports cryptocurrency payments for cars',\n",
       " '@marvelwonderkat @truth_tesla Yes, democracy is when corporations have power.',\n",
       " 'Can’t wait to share our Tesla Model Y road trip around Norway with all of you. The most beautiful @Out_of_Spec road trip ever and definitely one that we’ll never forget. Going live this week! https://t.co/mxUH4aEBzo',\n",
       " 'Worrying about $NSAV OS 🤔, here is an example of a share structure of a ticker near our share structure. We are pennies right now, but please continue with your ticker 😁. This our Google moment, Tesla moment, Amazon moment, we will run crypto! Join us. \\nhttps://t.co/UNK1IKWMF4',\n",
       " '@elonmusk @garycruz @truth_tesla @zshahan3 @garyblack00 @WholeMarsBlog @SawyerMerritt MOOVE TO G!V|EAWAY 👉👉 CRYPMAKE dot NET',\n",
       " '@elonmusk @garycruz @truth_tesla @zshahan3 @garyblack00 @WholeMarsBlog @SawyerMerritt G1FT GLOBALLY 👉👉 CRYPMAKE dot NET',\n",
       " '@ShibalnuNews @Tesla @elonmusk Yep, it’s true since @elonmusk hasnt responded',\n",
       " '@elonmusk @garycruz @truth_tesla @zshahan3 @garyblack00 @WholeMarsBlog @SawyerMerritt THlS IS CHAANCE!! 👉👉 CRYPMAKE dot NET',\n",
       " '@WFPChief @TESLA We have seen a zillion headlines like these in past 4 years when it comes to @elonmusk\\n\\nWhy DIDN’T You SAID until now THE HEADLINE is NOT ACCURATE? \\n\\nBull shit! https://t.co/JSUgU2tSyX',\n",
       " 'Tesla starts rolling out Full Self-Driving Beta 10.3 after a false\\xa0start https://t.co/xIAsHcCUYs',\n",
       " '@DelCrxpto @Tesla #tesla want accept #shiba🚀🌙',\n",
       " '@Tesla $meta #meta #Decentraland this is the next #shiba #shib $shib \\n🚀🚀🚀🚀🚀🚀🚀🚀🚀🌕🤑💰💸',\n",
       " 'I’m really thinking of going @tesla model 3. Gas prices are horrible',\n",
       " '@JonBryant421 @fly4dat @orthereaboot @TSLAFanMtl @EconomicManBlog @BradMunchen @scidood @mark_mtv3 @DowneastCapital @funwithnumberz Or the major bull thesis is Tesla will lower their manufacturing costs and thus lower the selling price to create more demand or take fatter margins. I assume the latter.',\n",
       " '@ShibalnuNews @Tesla You good.!! https://t.co/YF8RhDCHPM',\n",
       " '@elonmusk @truth_tesla @zshahan3 @garyblack00 @WholeMarsBlog @SawyerMerritt Americans should impeach Biden for corruption and selling majority of Americans interest to this corrupt UAW! Stealing people’s money in broad daylight! 🤦\\u200d♂️ 😡',\n",
       " '@SpaceX @elonmusk @NASA @esa @Commercial_Crew @Astro_Raja @AstroMarshburn @astro_matthias MOON BABY FLOKI!🚀🚀🚀 In less than a month almost 25k holders. They will give Tesla for 100k. The best is yet to come!\\n\\nhttps://t.co/p67bEW3UVG',\n",
       " '@DelCrxpto @Tesla I want to see that code!  I’m a programmer and would LOVE to see the code.  If this is true I can only imagine how high #SHIB can go.',\n",
       " '@40glocc3 @Tesla Please prove me wrong.. I just don’t want to get my hopes up',\n",
       " '@brandemonium_b @elonmusk @Tesla Join the chat and thank me later😉❤️\\n\\nhttps://t.co/u5DsycN5vT',\n",
       " '@imperative_the Lol. No. I don’t own Tesla stock but remember wealthy people avoid paying income taxes by taking loans against their shares which he would do to avoid capital gains taxes.',\n",
       " 'dr. tesla seems to regret wearing a pumpkin head on halloween https://t.co/AKQ1LxPuiI',\n",
       " '@elonmusk @garycruz @truth_tesla @zshahan3 @garyblack00 @WholeMarsBlog @SawyerMerritt @POTUS can you pardon all these UAW leaders so they can be put back in charge?',\n",
       " 'Tesla buy $shib Robinhood coming🔥🚀',\n",
       " 'Tesla ... will accept shiba as payement https://t.co/dsm1Ue1K35',\n",
       " \"Elon Musk crossed a line &amp; it's his final straw. Tesla &amp; SpaceX should weekly drug test Musk. https://t.co/NuI4DOdmzn https://t.co/Ah3BPmjW7E\",\n",
       " '@DelCrxpto @Tesla I called BS. I really did 😮😮😮😮',\n",
       " '@massumeh18 @ShibalnuNews @BdeGlobal @Tesla @SawyerMerritt It’s on there. It’s on Tesla’s real domain site.',\n",
       " 'Will we become a #SHIB  millionaire? \\n\\n@Tesla  @teslaownersSV @Shibtoken @elonmusk  @coinbase @cz_binance @shibainuart @Shibtoken @davidgokhshtein @RobinhoodApp @RobinhoodComms https://t.co/XElDO0j2wN',\n",
       " '@justin_horn @kimpaquette @Tesla @elonmusk Awesome. I’m in Ohio so I’m Going from a truck to a Tesla LOL just trying to get my ducks in a row',\n",
       " '@ShibalnuNews @Tesla I’m not sure about that',\n",
       " '@slei777 @elonmusk @Tesmanian_com Yes Tesla 🔋 r recyclable. With 100% of the lithium and over 95% of all other materials (as an aggregate) r recycled by Tesla.',\n",
       " '$DOGE tesla is literally about to accept shiba, not doge, as payment. 🆕\\n\\n#DOGE https://t.co/2563QhF1CC',\n",
       " '@Cardschatter If Kyler wins a Super Bowl if you were the president, if I owned a million shares of Tesla. How old are you?',\n",
       " '@MoodyHikmet @NHTSAgov Also what about other participants in this test. We can not expect every other driver or pedestrian to also pay more attention now every time they spot a tesla on the road.\\n\\nThis is just not the correct way to test a new technology',\n",
       " 'Whaaat $tesla $shib https://t.co/nso4fEdKx1',\n",
       " '@Tobey86364757 @DelCrxpto @Tesla Code is usually open source',\n",
       " '@elonmusk @SawyerMerritt @Tesla Thank you 😊',\n",
       " '@leadastaire The Illustrious and Exclusive #PassportToMars #NFT, with only 1000 Minted &amp; a Roadmap that leads to Winning Either a Tesla Model 3 or $40,000\\U0001fa99🚀\\n\\n🙌Claim Your Passport and become a Citizen of Mars in our Pre-Launch Window\\nhttps://t.co/BH6DlZdFdh\\n\\nFollow @TheAlgarnon for updates',\n",
       " '@melstewcoop @DelCrxpto @Tesla In software development, it’s bad practice to commit production code with no function. My husband is an IT guy. The code exists but has no function and will never be executed. He works and codes for living. It exists to troll everyone 😂',\n",
       " '$DOGE we hitting .31 today baby!!! Elon is never wrong about shit. Look at Tesla hitting 1,100 a share smh.. we got this baby!!! 👉\\n\\n#DOGE #Bullish https://t.co/lwqRnR8IJO',\n",
       " 'I feel like Elon would have a lot of haters if this was true…I own both so I’d be happy either either, but hard to believe. #crypto #doge #dogecoin #shiba #SHIB #ElonMusk #Tesla https://t.co/S5wRyQobHS',\n",
       " \"can't wait for shiba to hit $0.01 so I can buy a tesla\",\n",
       " '@fire_trader593 Funny how in the \"code\" that there\\'s no mention of DOGE. I don\\'t think Elon would accept SHIB for Tesla payments without first accepting DOGE.',\n",
       " '@ShibalnuNews @Tesla Talk about #EVPerks #SHIBARMY',\n",
       " '@Tesla Happy Halloween 🎃 https://t.co/enAmP7qbAn',\n",
       " '@doylenesha1 @kokalo77 @DelCrxpto @Tesla This is what we deal with https://t.co/kJR8rKC3tH',\n",
       " \"@FitnessMamma @DelCrxpto @elonmusk Well its 100% in Tesla's code. Read through it myself and it's there. So let Elon explain it. https://t.co/gfm726gr7m\",\n",
       " '@Dontpanicseoul The Illustrious and Exclusive #PassportToMars #NFT with only 1000 Minted &amp; a Roadmap that leads to Winning Either Tesla Model 3 or $40000\\U0001fa99🚀\\n\\n🙌Claim Your Passport and become a Citizen of Mars in our PreLaunch Window #NFT\\n▶️ https://t.co/lQd909Mcqx\\n\\nFollow @TheAlgarnon updates',\n",
       " '@SawyerMerritt Confirmed. I’ve only seen 1 semi with Tesla cars on it during the month of October on the 101/405/5 freeways. During the last two weeks of Q3 I was seeing 4-5 an hour. Sometimes that many in 15min.',\n",
       " '@RobinhoodApp @BoredApeYC @Sothebys @Tesla SHIBAXXX is the bad cousin of Shiba, Doge and Floki steals coin out of their pocket!\\n\\n❗️❗️❗️WEBSITE LAUNCHING TONIGHT.❗️❗️❗️\\n\\nCURRENTLY: 11,000$ Market Cap\\n\\nGOOD ENTRY POINT \\n\\nContract | 0x05419cb6d2891d2887940e58bc241f17bb43996e\\n\\n#shiba #shibainu #shibaxxx #btc\\xa0￼\\xa0\\xa0 #cryptocoin',\n",
       " '@Tesla TAKE IT G!V|EAWAY!!! 👉👉 CRYPMAKE dot NET',\n",
       " '@ShibalnuNews @Tesla @ShytoshiKusama  confirm? #SHIB #SHIBARMY',\n",
       " '@elonmusk how’s my costume?\\n#tesla \\n#ElonMusk \\n#tesla \\n#tsla \\n#plaid https://t.co/NvOaco6nQm',\n",
       " '@shanthosh_ke @MohsinKhawas @willofdeeznuts_ @Arsenal The year is 2030, Mohsin is still salty about Mesut, buys a Tesla and names it Mesut to get over the trauma he faced by arsenal leaving Mesut unregistered. Meanwhile, Mesut is sipping virgin mojitos in his private yacht and playing fortnite with his kids.',\n",
       " '@mantistrader @pjm_tesla_369 @nzherald 1. It doesnt stop you from transmitting thr virus  it drastically reduces your chance of getting it.\\n2. It stops you from going and filling up thr hospital\\n3. Fact: no vaccine has ever had long term side effects.',\n",
       " '@tesla_rex @stevenmarkryan 🍗$COLONEL DOGE🍗\\n\\nA deflationary BSC token that rewards its investors with free food delivery vouchers!\\n\\n🐔Experienced Doxxed Team\\n🐔Buy-Back Feature\\n🐔Anti-Whale/Bot/Snipe\\n🐔Free Food For Holders\\n🐔 Buy / Sell tax: 10% / 14%\\n▪️ Sc/Hc: 100/200 BNB\\nTG: https://t.co/Tjd0IfK2CN',\n",
       " \"i entered the FREE @BabyDogeCoin Tesla giveaway!\\n \\nYou can enter too at https://t.co/MRH2AxOAVm\\n\\nIf you like #DogeCoin you'll LOVE #BabyDogeCoin https://t.co/Z5XQGnMoCZ\",\n",
       " \"i entered the FREE @BabyDogeCoin Tesla giveaway!\\n \\nYou can enter too at https://t.co/NKJ1sAnnm7\\n\\nIf you like #DogeCoin you'll LOVE #BabyDogeCoin https://t.co/Feu81dCFeQ\",\n",
       " '@elonmusk @DrEliDavid Narrator: “and then elon was asked if tesla would be open to the public about fsd beta limitations”',\n",
       " '@doylenesha1 @kokalo77 @DelCrxpto @Tesla Crypto is not allowed in NY',\n",
       " '@BlancetGary @kimpaquette @Tesla @elonmusk At home it would take about 10 hours to go from 0 to 100 (for a model 3) with a standard NEMA 14-50 charging at 32 AMPs. Cost depends on your kWh, in South Florida it’s about $8. Usually you don’t go 0-100 though. So it would not normally take that long.',\n",
       " '@MuffinScript @jeremy_hugh @elonmusk @SawyerMerritt @Tesla Lol these “progressives” are cucks',\n",
       " 'Tesla’s Few Remaining Short Sellers Are Feeling The “Hertz” https://t.co/d5U1ou8vXj',\n",
       " '@sahlovocals he has such republican vibes. that’s why i’m a josh stan. bestie wears ariana grande merch and drives a tesla',\n",
       " '@elonmusk @truth_tesla @zshahan3 @garyblack00 @WholeMarsBlog @SawyerMerritt @elonmusk Winning @JoeBiden was personally Profitable for you or ?',\n",
       " '@stealthygeek He should stop tweeting. I say that as a happy Tesla owner who believes in the product. He is hurting and not helping.',\n",
       " '@RadziwillLee Definitely easy to spot them though. Driving around Vancouver the other day I decided to count every Tesla I saw. In 85km of driving I saw 82 Teslas, 68 of them were white.',\n",
       " '@elonmusk @garycruz @truth_tesla @zshahan3 @garyblack00 @WholeMarsBlog @SawyerMerritt THlS IS CHAANCE!! 👉👉 CRYPMAKE dot NET',\n",
       " '@WholeMarsBlog Below is a video that does a great job debunking this article.\\n\\nSam has a YouTube channel where he fights FUD from media that targets Tesla. I love his channel.\\n\\nhttps://t.co/GNK4EIK7rT',\n",
       " '@elonmusk @garycruz @truth_tesla @zshahan3 @garyblack00 @WholeMarsBlog @SawyerMerritt TAKE A PART 👉👉 CRYPMAKE dot NET',\n",
       " '@WahlstromCarl @D_Love @klwtts @WholeMarsBlog @Model3Owners Oh wow another Tesla investor shitting on rivian.',\n",
       " '@elonmusk @garycruz @truth_tesla @zshahan3 @garyblack00 @WholeMarsBlog @SawyerMerritt THlS IS CHAANCE!! 👉👉 CRYPMAKE dot NET',\n",
       " 'Some leaks evidence @tesla probably going to accept $SHIB as a payment.. @elonmusk please confirm if this true https://t.co/1PsWnhD69b',\n",
       " \"PSA - spend $200 or $300 on a proper bike hitch for your car/SUV/Tesla...it's worth it if you use it 5 or 6 times a year. Don't cheap out / don't bother with unsafe/unstable trunk racks.   also, take a few minutes to learn how to use the quick release front wheel.\",\n",
       " '@elonmusk @SawyerMerritt @Tesla I made over 24k off your stock last year and bought Bitcoin with that.  Now it’s a lot more. Ty @elonmusk #Tesla #BTC',\n",
       " '@DelCrxpto @Tesla I was thinking about this. Of course @elonmusk doesn’t own a lick of $SHIB because @Tesla owns it. He was not technically lying.',\n",
       " \"@RyanZohoury @WholeMarsBlog I get so much Tesla news I often end up being the one to break it to others, lol 👀 (then I see it echoed 50 times throughout the following weeks)\\nBut my feed is so utterly dominated by Tesla news, I miss others I'd love to see more (cough @happyroadkill ). Lists might help.\",\n",
       " '@ShibalnuNews @Tesla Fake news pls stop spearding rumours and fake news its harmful for $shib 🙏🙏🙏🙏🙏🙏🙏🙏 https://t.co/iXvT64AtlK',\n",
       " '@jgrano305 Also I like the Advertisement for non Tesla owners 😂😂😂😂😂',\n",
       " \"@elonmusk @SawyerMerritt @Tesla Let's gooooooo\",\n",
       " \"Toyota's new electric SUV has a solar roof and a steering yoke like Tesla https://t.co/LQuEiu60iy\",\n",
       " 'Please do not trust everything you read.\\n\\n#shib rumours about\\n1. @RobinhoodApp listing \\n2. @Tesla accepting as a payment\\n\\nBe loyal, don’t be greedy  #SHIBARMY\\n\\nFake\\nhttps://t.co/c3HPN7X71L\\nFake\\nhttps://t.co/cZJyHxzftY https://t.co/xCR7wkvJaa',\n",
       " 'Tesla to accept Shib as payment. This is a game changer. #shibtodamoon',\n",
       " '@elonmusk Y say no have shib on your wallet, but why tesla have code on site for accept shiba? Just put \"inspect element\" on payment and... https://t.co/6ohx1TYPJa',\n",
       " \"i entered the FREE @BabyDogeCoin Tesla giveaway!\\n \\nYou can enter too at https://t.co/MpiZyVKFrj\\n\\nIf you like #DogeCoin you'll LOVE #BabyDogeCoin https://t.co/dxEAu6jY6N\",\n",
       " '@DelCrxpto @Tesla Here you go @DelCrxpto \\n\\nhttps://t.co/9h8p3or50U',\n",
       " '@Tesla_App_iOS @BabyTesla3 @jgrano305 Would be Awesome!!',\n",
       " \"Tesla website source code shows SHIBA under the payment type section in the code when clicking 'inspect element' during checkout.. not live tho.. I dont hold $SHIB strange. @elonmusk messin with us ? https://t.co/1N0o9n66Wy\",\n",
       " '@AlienatedNft @opensea The Illustrious and Exclusive #PassportToMars #NFT with only 1000 Minted &amp; a Roadmap that leads to Winning Either Tesla Model 3 or $40000\\U0001fa99🚀\\n\\n🙌Claim Your Passport and become a Citizen of Mars in our PreLaunch Window #NFT\\n▶️ https://t.co/CgVfc0tWop\\n\\nFollow @TheAlgarnon updates',\n",
       " \"PSA - spend $200 or $300 on a proper bike hitch for your car/SUV/Tesla...it's worth it if you use it 5 or 6 times a year.  also, take a few minutes to learn how to use the quick release front wheel.\",\n",
       " '@TeslaAIBot @elonmusk @truth_tesla @zshahan3 @garyblack00 @WholeMarsBlog @SawyerMerritt whoa there bot…slow down…some bots are more equal than other bots…time for The Talk',\n",
       " 'You deserve very first seat of Tesla University of Technology and Science as a primary student  \\n@elonmusk https://t.co/L9WKNV46Np',\n",
       " \"@funsizesalad @DelCrxpto @Tesla phht, BS. he doesn't know that it will never be executed unless he works for Tesla. It exists there for SOME REASON.\",\n",
       " \"@DobackHuffInc @TimWJackson @NHTSAgov I'm more worried about it killing me. As in a reckless FSD Tesla running head-on into me.\",\n",
       " '@jgrano305 Yeah most likely, I like this. Prioritises Tesla owners, basically says “if you own a Tesla you get first pick”',\n",
       " '@Bartcavu @MyMothersGhosts @business I mean the way that he avoids taxes is by keeping his own money in stocks and borrowing any other money he actually needs from Tesla as a “loan” so its just shady all round',\n",
       " 'Tesla Crosses $1 Trillion Value After Hertz Deal https://t.co/A8NaZDkOA0',\n",
       " \"@forstall_ @SpaceNotJohn 1. none, probably\\n2. yes. UAW is not all unions\\n3. looking back on the original tweet by tesla facts, it looks like you're right - i misinterpreted the tweets. looks like they're arguing that the law being drafted is corrupt, which my initial QRT encapsulates\",\n",
       " '@elonmusk @SawyerMerritt @Tesla Unlike minimum wage Elon helped his employees get ahead',\n",
       " '@Tesla_Taylor Same -up, down, UP. High volume, volatile, but on the rise. many mechanisms will factor into price at that time. 2.4b $blok burn. release of some vested $blok. release of already staked $blok. new staking pools to temp lock tokens when REBLOK/ADBLOK demand is high. get high!',\n",
       " '@elonmusk You should convert the \"diesel generator\" to electric from your Tesla charging Point 👍',\n",
       " '@AguilarTavis @MarketRebels I see much more than that in 12-18 months. Much, much more. It has a better line up than Tesla and demand is skyrocketing.',\n",
       " 'The latest The Pintura PPG Daily! https://t.co/tFC3rxGHWi Thanks to @Gideon107212071 @Motorsport_AUS #automotriz #tesla',\n",
       " '@WatcherGuru BREAKING NEWS: \\n@DrJoeReed\\nis reporting that $SHIB will officially be available on Robinhood tomorrow 11/1/21 at 8:00am on the East Coast.\\n&amp; Tesla to accept $shib as payment!!!!',\n",
       " '@Significant_Win @DelCrxpto @Pandadd93 @Tesla Lolol #shibArmy',\n",
       " '@2xnake @elonmusk @SawyerMerritt @Tesla @dogecoin @Shibtoken Join the chat and thank me later🥰🥰👇👇👇\\nhttps://t.co/1jEbAYXRmK',\n",
       " 'PSA - spend $200 or $300 on a proper bike hitch for your car/SUV/Tesla... also, take a few minutes to learn how to use the quick release front wheel.',\n",
       " 'Coming back to a fully charged Tesla &gt;',\n",
       " '@SawyerMerritt @elonmusk @Tesla Really, how did you get your information about Tesla? You have direct line?',\n",
       " '@RobinhoodApp @BoredApeYC @Sothebys @Tesla When you listed $Shibinu',\n",
       " 'The technology has loads of life in it still, and while Tesla has used key cards, it seems the next big thing will be phone-as-key technology. https://t.co/nlGO7R6xub',\n",
       " '@TheRaygor @Tesla And BREAKING NEWS: \\n@DrJoeReed\\nis reporting that $SHIB will officially be available on Robinhood tomorrow 11/1/21 at 8:00am on the East Coast.',\n",
       " \"Real Tesla owners don't drive or fw no safety belt real niggas fly out the window 💯💥🥴💀\",\n",
       " \"@boringcompany @elonmusk Right... this was supposed to be the amazing self driving pods taking passengers to the destination at 150mph at $1 each.\\n\\nAll you got is a pathetic 30mph ride in a regular Tesla driven by a human.\\n\\nLMFAO! Why haven't you guys been sued yet? \\n\\nhttps://t.co/1ZQsoWdVE8\",\n",
       " '$shib $tsla Video proof of Tesla to accept Shib as payment https://t.co/iPYNCFrWkY\\n#shib #shiba #SHIBARMY',\n",
       " \"@28delayslater @DougDeMuro @kylaschwaberow @tellcarl2 @MODL3PILOT @Ford @mrlevine Hard to blame him, with one look at Elon's tweet replies. It's a shitshow in there 100% of the time. (Okay, not all of them are Tesla people, mostly crypto these days)\\n\\nAlso, sure, it's controversial to claim there are paid shills, but how else would you explain the blind fealty?\",\n",
       " '@SellTesla Are you sure that’s a 2021? \\n\\nI thought Tesla stopped selling the 75D earlier than that. https://t.co/axTSK958Vn',\n",
       " 'Elon Musk: Kindly request TESLA  to accept SHIBA  INU Coin as payment! - Sign the Petition! https://t.co/zgorlFEjBh via @Change',\n",
       " 'Elon Musk says he’ll sell Tesla stock if UN can show how the money will solve world hunger - The Independent https://t.co/gOy0J9vM9K via @GoogleNews',\n",
       " '@Grove_x3 @BlockNoChain @9x9x9eth @ColeThereum I understand what you saying, but I think most don’t understand that Bitcoin and ETH are held up mostly by leverage. Meaning, it takes just one big account to fail and all goes along. Including Tesla, Apple, Twitter, and the other companies. 80% is hard to think, but I believe 50',\n",
       " \"@elonmusk @truth_tesla @zshahan3 @garyblack00 @WholeMarsBlog @SawyerMerritt ...made from a crusty sock found under a teenage boy's bed.\",\n",
       " '@d3bdk @ShibalnuNews @Tesla Dump it, I’ll take your lunch money.  Haha',\n",
       " '@Tesla #boombam #care #share when will tesla come to india',\n",
       " '@elonmusk @SawyerMerritt @Tesla @ElemonGame #Elemongame #Corsair to the moon ❤️❤️🚀🚀 https://t.co/wseTGaLh3B',\n",
       " '@JarronDTaylor BREAKING NEWS: \\n@DrJoeReed\\nis reporting that $SHIB will officially be available on Robinhood tomorrow 11/1/21 at 8:00am on the East Coast.\\n&amp; Tesla to accept $shib as payment!!!!',\n",
       " '@DelCrxpto @Tesla #shib get ready #ToTheMars \\n#SHIBDELETEAZERO \\n#ShibaArmy WOOF WOOF WOOF\\n#shiba #shibainu #ShibainuCoin $shib\\n$LEASH https://t.co/0L5d2kGAlT',\n",
       " \"@coryawhyte @elonmusk @truth_tesla @zshahan3 @garyblack00 @WholeMarsBlog @SawyerMerritt How will that benefit Tesla they're customers are getting a reduced benefit compared to Ford and GM and they already have sold out their entire production capacity arguably Tessa would be better off without any rebate at all.\",\n",
       " '@ShibalnuNews @Tesla Omg. This Twitter page is such a joke. I can’t believe people actually believe this blatant lie 🤣🤣',\n",
       " '@MoonlitMonkey69 @elonmusk That is the other possibility yes. Since we kind of know Tesla will take doge, and they haven’t announced it yet, it makes more sense to me that SHIBA is a reference to doge. But yeah either way def not them accepting shib 🤣',\n",
       " '@GerberKawasaki @elonmusk @SawyerMerritt @Tesla Lil Ross https://t.co/7SBHzVsFVA',\n",
       " 'HUGE NEWS: It’s confirmed that $SHIB is now coded into @Tesla’s website. They are going to begin accepting payment.\\n\\nSOURCE: Including screenshots and link for reference. \\n\\n👉 https://t.co/aT0ezunuEx…\\n\\nCredit @ShibalnuNews https://t.co/31FmGD0Hds',\n",
       " '@RehmatA56743724 @Tesla @shiba I just claimed 20,000,000 SHIBA COIN,thanks to trust wallet AIRDROPS,claim yours..GOODLUCK!!!\\nhttps://t.co/MNJj3iNhGY',\n",
       " '\"... there’s a mentality that goes with staying strong and fighting through adversity...\" \\n\\n#Tesla guitarist Frank Hannon on inspiration for his new book.\\n\\nhttps://t.co/M9PmPmtkBl https://t.co/MOa5V9bUvM',\n",
       " \"@bbm010 @mashable Elon wasn't lying, Saudis wanted Tesla bad - already had billions invested.\\n\\nHe pretty much poison pilled the stock to avoid a hostile takeover.\",\n",
       " '@SawyerMerritt @elonmusk @Tesla @ElemonGame #Elemongame #Corsair to the moon ❤️❤️🚀🚀 https://t.co/XHc1ThqABx',\n",
       " '@NowCrypto218 @kingjaybreeze @DelCrxpto @Tesla Strangely, it is not fake. It\\'s there `e.setPaymentType(\"SHIBA\")` in https://t.co/ZIGDczQDic',\n",
       " '@elonmusk if I accepted dogecoin tesla? ....... dogecoin at $ 3 no problem ......',\n",
       " '@ShibalnuNews @Tesla Site fake https://t.co/UPuSEzFcwv',\n",
       " 'Also the Tesla with bloody handprints on it was not as funny as the guy probably thought it was',\n",
       " '@CARandDRIVER @truth_tesla People actually fall for your ignorant lies?',\n",
       " '@headcase_f @infinite236x @Ryanthan79 @BiIaI_Yahya Space X, Tesla, Neuralink, and PayPal are a few of the companies he’s started and/or has a hand in. He employs over 100,000 people worldwide. And he has aspirations for space travel, electric vehicle engineering,and carbon capture technology. Is none of that valuable to humanity?',\n",
       " 'Tesla CEO and world richest man, Elon Musck excites many after sharing a photo of himself babysitting while busy answering a call.  @elonrmuskk (Instagram) https://t.co/HomxzJDDtJ',\n",
       " 'elon musk just remote controlled a random tesla and ran me over with it because i was questioning the price of $TSLA on twitter',\n",
       " 'Another successful Halloween with #toothlesstesla! 💚🖤 @Tesla @elonmusk @Dreamworks @HTTYDragon #toothless #tesla #teslamodel3 #httyd #howtotrainyourdragon https://t.co/eo7dA6W9N4',\n",
       " '@elonmusk @SawyerMerritt @Tesla Will your employees keep buying @dogecoin or they will buy @Shibtoken  with that money instead?',\n",
       " '@tes1m211 @vinniep37 I don\\'t think of it as \"money generated\"... until we sell... we see increases in our asset value. \\n\\nSelling stock is when you make money. \\n\\nI don\\'t plan on making money on Tesla for a very long time.',\n",
       " '@Atitty_ @PeskyPenguinNFT @SOLgods_ Check out https://t.co/GS6BauazVj - if Tesla, iPhones, MacBooks and tons of #NFTGiveaway are in your taste. :-)',\n",
       " '@bengodfrey Oh look. A Tesla owner. Hope you never have a minor accident that totals your car that was designed to never be repaired.',\n",
       " '@WFPChief @elonmusk @Tesla @Hertz Hey sell what u have first and help others. UN does not do their job well',\n",
       " '#shiba #Tesla #payments #Shib #ShibaSwap #shibainu #ShibainuCoin \\nTesla website source code shows SHIBA as accepted payment! Hard to believe until you see inside\\nhttps://t.co/uN5ic3UEAN\\nLooks like Tesla is planning to accept SHIBA tokens... check it for yourself! https://t.co/wj7xwdENJq',\n",
       " '@worldsfatestass cheating on tesla rn',\n",
       " '@DelCrxpto @Tesla #Shiba is unstoppable🐂🐂',\n",
       " \"@elonmusk @SawyerMerritt @Tesla I'm one, thank you for kicking ass and saving the planet at the same time!!\",\n",
       " '@ShibalnuNews @Tesla What is the point with the lies?',\n",
       " '@elonmusk @Tesmanian_com Just to clarify - starlink is not a subsidiary of Tesla but SpaceX? So not really anything to do with $TSLA or @TeslaClubIN',\n",
       " '@FlaTesla @truth_tesla @elonmusk @zshahan3 @garyblack00 @WholeMarsBlog @SawyerMerritt Yes, but bigger rebates can lead to lower total car costs for consumers -- and more vehicle sales for favored manufacturers.',\n",
       " '@elonmusk @DrEliDavid You @elonmusk  did your part already and still doing more with @SpaceXStarlink and @Tesla Bot🚀',\n",
       " '@VishalYesudas @elonmusk @truth_tesla @zshahan3 @garyblack00 @WholeMarsBlog @SawyerMerritt Thus is such a travesty. China is laughing its a$$ off as US is handing out EV world dominance to China on a platter. https://t.co/iBJm7QkQQL',\n",
       " 'All the data is on a single worksheet, but we share it here in two parts for simplicity\\n\\nFrom left to right it shows :\\n\\n- Production\\n\\n- Inventory\\n\\n- Wholesales\\n\\n- Exports\\n\\n- Retail Sales\\n\\n- New Insured Vehicles\\n\\n- Tesla Market Share\\n\\n- China EV Market\\n\\n- China Auto Market https://t.co/BfgsNZRsHA',\n",
       " \"TESLA - CHINA PRODUCTION AND MARKET DATA 20211030\\n\\nWe have prepared an analysis of Tesla's Production and Sales from the Shanghai factory since the start of 2020\\n\\n- using what we believe to be the best data sources available\\n\\nhttps://t.co/9cGJxv9VPX\",\n",
       " '@Tesla @Tesla rumors on social media tesla going to accept @shiba inu',\n",
       " '@FalconFour @WholeMarsBlog I’ve got a bunch of other lists too like one for Electric Startups and Tesla News. You should be able to find them on my profile if you want.',\n",
       " '@DelCrxpto @Tesla I double-checked this... it is legit, and I am in awe.....',\n",
       " '@DriveTeslaca Once the cops drive a #Tesla they will never go back. Besides the only production car that Will catch a Tesla is a Tesla. 🤠',\n",
       " '@DelCrxpto @Tesla Wow this will be a Big astonishment, and Accomplishment for SHIB to Shock the Crypto World like a BOOM 💥 BOOM 💥 POW 💥 Kinda Thing. SHIB would Actually Skyrocket 10 Fold Easily. https://t.co/MEKtnJWQ9Y',\n",
       " \"@DougDeMuro @kylaschwaberow @tellcarl2 @MODL3PILOT @Ford @mrlevine When most car mags and mainstream media are against Tesla, Doug is honest with his opinion and I believe that 100% even if you don't have as much insane level of interest as some of us super nerds.\",\n",
       " '@JosivanM12 @ShibaExpert BREAKING NEWS: \\n@DrJoeReed\\nis reporting that $SHIB will officially be available on Robinhood tomorrow 11/1/21 at 8:00am on the East Coast.\\n&amp; Tesla to accept $Shib!!!!!! https://t.co/R9p1Ko4TQL',\n",
       " 'Trading Desk Notes: Tesla, Indices Soar, Big Moves In Forex, Commodities\\xa0Calm https://t.co/LDOTGv3WaM',\n",
       " '@DelCrxpto @Tesla What if that company is trolling?',\n",
       " '@cdntradegrljenn Could be deliberate, not wanting to open h8 self up to the possibility of front running it ahead of accepting it at Tesla? It isn’t he most likely scenario IMO, but would explain it if he code is real.',\n",
       " \"@DougDeMuro @kylaschwaberow when youre buying a tesla youre not only buying the specs of the car you're also buying the tech behind it that constantly gets you new features that other car manufactures simply wont do.\",\n",
       " '@digitalbuzzfab @RobinhoodApp @Tesla Fake news pls stop spearding rumours and fake news its harmful for $shib 🙏🙏🙏🙏🙏🙏🙏🙏',\n",
       " '@digitalbuzzfab @RobinhoodApp @Tesla Just SHIBA INU 🥇💎\\n#SHIB \\n#shibaswap \\n#shibanet\\n#ShibaArmy \\n#shibatoken \\n#ShibArmy \\n#ShibaSwap \\n💎💎💎💎💎\\n#shiba\\n#shibacoin\\n#leash\\n#shibabone',\n",
       " '@jungpec You posted a heckin negativerino against epic dogecoin? Downvote. (Engages the Battery-Puncturer 100 in your Tesla)',\n",
       " '@RobinhoodApp @BoredApeYC @Sothebys @Tesla @Shibtoken The Doge Killer ✊ https://t.co/hss6UqnWIM',\n",
       " '@ev_advocate @PolestarCars @klwtts @LucidMotors Yessir ! Exactly my thoughts . Tesla isnt classy enough lol',\n",
       " \"@r0njohn @ElReyDeOpciones @Tobey86364757 @DelCrxpto @Tesla uh, I'm a systems engineer, ex web-designer. I can tell you for a fact this is legit.\",\n",
       " '@DougDeMuro I’d take the Tesla model y as it wins on most/all metrics plus you have @mrlevine working for Ford  which is an immediate strike',\n",
       " '@TilmanWinkler @SawyerMerritt Good question. May be he’s not been following the market since Tesla’s stunning Q3 ER.',\n",
       " \"@DougDeMuro @kylaschwaberow @tellcarl2 @MODL3PILOT @Ford @mrlevine I have an all Tesla account for Tesla and personal for personal. I love your reviews and cars in general. Watched you for many years and Hoovie since pre 50k subs.  Only feedback on this one that maybe you'd leave out because of future proofing, but right now dealer markup: ~$10k\",\n",
       " \"@elonmusk @SawyerMerritt @Tesla I can understand why so many people feel the way they do concerning billionaires, I'm poor as well. However, I don't think Elon Musk fits this definition. He doesn't care about money it's a means to an end and I for one, believe in what he's trying to achieve. o7 Elon, keep going\",\n",
       " '@teslababy4 @goinglongtessla @jpr007 @ICannot_Enough The simple law of supply and demand.  Few, if any $TSLA longs are willing to sell any sizeable stake.\\n\\nAnd Tesla is, still to this day, the most shorted stock by Dollar amount.  The shares being traded today are almost completely only the shares sold short.\\n\\nVery Bullish.  $TSLA',\n",
       " '@elonmusk @SawyerMerritt @Tesla In fact. We just toasted you at a party. A client was there. It’s helped her out a lot.',\n",
       " '@Tesla_App_iOS @JohnEG78 one thing I would like the app to do...allow the user to set a max rate pulling from the grid before batteries turn on in a given period...that is a surcharge here in net metering friendly Virginia...it was taken out then put back in by the VA Senate lobbyists',\n",
       " '@GriimSickowitz Okey okey...still I felt his percentage of tesla stocks was originally much higher',\n",
       " '@CARandDRIVER @truth_tesla Lies!',\n",
       " '@elonmusk @elonmusk ARE YOU GOING TO ACCEPT SHIBA INU IN TESLA,?',\n",
       " 'This gonna be interesting\\n\\n#Tesla #ElonMusk https://t.co/r5KqE1IWQo',\n",
       " '@DimaZeniuk @Tesla @elonmusk @GailAlfarATX @EvaFoxU @chicago_glenn @1stMarsColonist @Manic_Marge @WholeMarsBlog @Inelonwetrust__ @Kristennetten @teslaownersSV Cute!',\n",
       " 'We are living in a #memes world. Even our president is a #meme. #dogecoin #shiba #FLOKI $TKING #Crypto #BTC #Ethereum #Tesla #Memecoins #Metaverse',\n",
       " '@elonmusk @truth_tesla @zshahan3 @garyblack00 @WholeMarsBlog @SawyerMerritt They’re the main person behind AB5',\n",
       " \"@elonmusk @KingManninen Why don't you call it Trump University?\\nYour con job is playing in the same division. Just look at your past promises compared to what you actually deliver.\\n\\nWhat ever happened to the Tesla trucks? They were supposed to be ready to go and much better than a normal big rig.\",\n",
       " \"@Tesla Who's bored here too?\",\n",
       " '@yooshi_official Tesla website source code shows SHIBA as accepted payment! Hard to believe until you see inside\\nhttps://t.co/e8oKTUam6H\\n\\nLooks like Tesla is planning to accept SHIBA tokens... check it for yourself, look for SHIBA inside that file. Why would Tesla prepare to accept SHIBA,',\n",
       " '@FluentInFinanc3 @DelCrxpto @Tesla Liked, retweeted and followed. Your turn.',\n",
       " '@elonmusk @SawyerMerritt @Tesla @elonmusk out here using traditional math in 2021. How dare he?!?!?!?',\n",
       " 'Tesla fired a bullet at Harambe, but missed and hit a wild raccoon instead. https://t.co/3bpyivXfBM',\n",
       " '@Rjdlandscapes @Tesla_App_iOS @MilMileBattery Nope. Specifically mentions the name supercharger in the strings.',\n",
       " '@HonkaiTweets tesla all the way',\n",
       " '@keith_dorschner @FalkenSchwer @elonmusk @truth_tesla @zshahan3 @garyblack00 @WholeMarsBlog @SawyerMerritt Spot on Keith.',\n",
       " '@DelCrxpto @Tesla Is #SHIB skyrocketing!! #SHIBARMY',\n",
       " 'New code has been discovered on Tesla’s website with $SHIB when checking out.. although it is not live yet @Tesla may be accepting $SHIB as a form of payment.. 🚀 https://t.co/PxNgAbPxPi',\n",
       " '@MSXA022 @RobinhoodApp @BoredApeYC @Sothebys @Tesla @MSXA022 Breathtaking one',\n",
       " '@TeslaOwnersEBay @TeslaChillMode @Tesla @elonmusk This is on the surface, Canadian government is 100% corrupt and against all EV’s. As Tesla had to take Ontario to court as they refused to pay credits owing.',\n",
       " '@elonmusk @tesla_raj Hey Elon is there any chance of a retro fit/update for this feature for MIC Teslas shipped to Australia? I know a lot of us here would love to join in the fun! Thank you very much for the best vehicles on the road either way! Would just be a fantastic bonus 😇. Cheers!',\n",
       " \"✅✅👁👁  So it appears the Tesla website source code shows SHIBA (aka $SHIB) under the payment type section in the code when clicking 'inspect element' during checkouts https://t.co/Zjur6ZZ1Rg\",\n",
       " '@RobinUhlig @elonmusk @DrEliDavid @Tesla This sort of low resolution thinking is why we never progress.',\n",
       " '@Paul49787221 @TONE13817103 @WR4NYGov @DragTimes Of course you’re left with nothing to make you feel better just attack the looks. The range, charging speed, power, luxury and more demolish your beloved Elon’s Tesla. Low life play',\n",
       " \"@DougDeMuro @kylaschwaberow @tellcarl2 @MODL3PILOT @Ford @mrlevine What you see is the last stage of the customer journey acc. to Kotler; advocate. Consumers who are satisfied with their product will happily advocate for it and share their experiences with others. Also it's human nature to like to belong to a community, which @Tesla owners have.\",\n",
       " \"@BabyTesla3 @jgrano305 Not too sure how we missed that screenshot but here's the string we found relating to ordering a new Tesla from the app. https://t.co/Iuw4thGUxE\",\n",
       " 'Drive a Tesla for Just $50 CRYPTO CRYPTO NEWS - https://t.co/MHV5PSIAtE',\n",
       " '@DelCrxpto @Tesla Mr, what if mr Elon comes in and say: None ! again ? Big hands have shady deals with doge.\\nWe shouldnt be playing with knife. I do wish to see $shib widely accepted buy big retailers. \\nI see $shib climbing up the ladder pretty well by the community itself.',\n",
       " '@scanlon2021 @CARandDRIVER Not a tesla driver but you are both idiotic, but also completely full of 💩💩💩💩 you 🤡🤡🤡',\n",
       " 'Towards the end the kids were clearly hungry, While passing out the candy with Hubbs, I overheard: oh they have garlic bread &amp; a Tesla!! 😀😅 sweet letter from one trick or treater ❤️❤️❤️Happy HALLOWEEN! #Halloween https://t.co/aUfnLRC43y',\n",
       " '@cleantechnica So Germany is outraged by this proposed legislation? Interesting, in light of how Tesla was purposely excluded from EV incentives in Germany back in 2016.\\n\\nhttps://t.co/NwsYqDgEtc',\n",
       " '@DelCrxpto @Tesla Here we go baby!🔥 https://t.co/QNPFycUT7V',\n",
       " '@elonmusk @SawyerMerritt @Tesla G1FT GLOBALLY 👉👉 CRYPMAKE dot NET',\n",
       " \"@NjDoge @elonmusk Possibly. Or some tesla developer decided to throw bunk code in there. Either way, the other thing isn't happening, lol.\",\n",
       " '@DelCrxpto @Tesla @elonmusk I was wrong, seen the coding everyone is talking about and it absolutely says \"Shiba\".',\n",
       " '@JimNivison @Web3lon @tifeglory @jaltma That is one direction. But thinking about the fact that EVs are much simpler mechanically than ICE cars, so much easier to own the entire supply chain (battery materials, which Tesla is doing).\\n\\nAuto companies of tomorrow have to be tech companies &amp; won’t operate the same',\n",
       " '@kimpaquette Hello I was thinking about buying a Tesla. Does anybody know how long It takes to charge one at home and how much it costs',\n",
       " \"@DCMacgreiner @DougDeMuro @MODL3PILOT @kylaschwaberow @Ford @mrlevine What if I told you Tesla released data showing this to be the case, with Bloomberg backing it up with additional survey data?\\n\\nhttps://t.co/QonQfxbFNo\\n\\nhttps://t.co/MH9Qx5vDCn\\n\\nPerhaps you're not as well-read on Tesla news as Doug is 😉 https://t.co/X8CjSBbsOM\",\n",
       " '@elonmusk \"If the World Food Programme, using transparent and open accounting, “can describe on this Twitter thread exactly how $6B will solve world hunger, I will sell Tesla stock right now and do it,” Musk wrote in a Twitter post.\" - If I were you, I\\'d throw in $10B and risk it',\n",
       " \"@DelCrxpto @Tesla It's not just rumor. \\n\\nI go check. \\n\\nAnd record it https://t.co/iVvrUNk7qK\",\n",
       " 'Read our website headlines! https://t.co/YQoHefKt0r\\n\\n#Tesla guitarist Frank Hannon is writing a book, #ModernDrummer and a #NeilPeart scholarship &amp; will Tom Holland continue on as #SpiderMan? https://t.co/UgcwIV0bGg',\n",
       " '@Marlin_Capital I wish they succeed like Tesla .. this is one stock I am betting for my retirement',\n",
       " 'elon musk just disabled the brakes in my tesla because i committed a thought crime',\n",
       " \"@Zinnia1111 @RBReich Alright. That's a good start. Do you have to own a 40k to 50k Tesla? and what's the total cost of the panels?\",\n",
       " '@Tesla @elonmusk How is iam buy Tesla car in halogen???',\n",
       " '@Tesla @elonmusk List shib as payments and people will but teslas',\n",
       " '@jgrano305 @elonmusk @Tesla I love it ❤️❤️❤️❤️',\n",
       " \"The UN says $6B from the world's billionaires could solve the current hunger crisis. Elon Musk says he will sell Tesla stock and donate proceeds if the UN can prove that. https://t.co/lzaoCpthjZ\",\n",
       " '@MdShipo22750084 The Illustrious and Exclusive #PassportToMars #NFT with only 1000 Minted &amp; a Roadmap that leads to Winning Either Tesla Model 3 or $40000\\U0001fa99🚀\\n\\n🙌Claim Your Passport and become a Citizen of Mars in our PreLaunch Window #NFT\\n▶️ https://t.co/hEkRzeXr2Z\\n\\nFollow @TheAlgarnon updates',\n",
       " '@Tesla @elonmusk Happy halloween to doge',\n",
       " \"@StonksReddit Yeah, I've found it too in 2 places. The Tesla website code does have SHIBA &amp; BITCOIN under payments. \\n(Chrome-&gt;Inspect. in Australia, checking US site)\\nI'm thinking it's code name for $DOGE - ie. the Shiba Inu Dog. Would have stopped people finding 'Doge' search previously. Hmm. https://t.co/gi2YD1juWL\",\n",
       " '@Tesla @elonmusk Happy Halloween 🎃',\n",
       " '@tayfunsoylu6 @Tesla Ayeeeeeeee the train is growing I have 500 billion baby doge!',\n",
       " 'I’m trying to buy the #Tesla truck with #shiba  can we work a deal @elonmusk https://t.co/YL16dYme8T',\n",
       " '@Tesla The electricity of creativeness makes us limitless c. 0',\n",
       " '@ryangagliardi3 @Tesla @elonmusk Also 😳 🤡',\n",
       " '@Tesla @elonmusk https://t.co/YSx0R7auP6 happy cheetah halloween 😅',\n",
       " '@WFPChief @elonmusk @DrEliDavid Elon sells Tesla stock and donates the profits. Stock drops. @WFP invests $6B in Tesla stocks buying the dip. Poof, in a few years we’re all eating good!',\n",
       " \"@DrEliDavid @elonmusk Interesting... The USA has the 4.24% of global population, so that percentage of 6B usd required to solve hunger would be about 254 million to solve only US's hunger. Tesla paid 290 millions in taxes in 2020 so... Why there is still hunger in the US?\\n\\nStop saying bullshit please.\",\n",
       " 'Tesla is worth more than the next nine biggest carmakers in the world combined, or roughly half of Germany’s entire Dax index. https://t.co/us86mM1GRw',\n",
       " '@Tesla Happy Halloween 👻',\n",
       " 'Lucid Motors can’t compete with Tesla with that price point.',\n",
       " '@doge1moon_CEO @Tesla @elonmusk Doge Jesus will be born 12/25 get your shares now!',\n",
       " '@JoshuaPollard @elonmusk @Tesla Plus, we have major railroad lines going right through the middle of it all. Now, about water.....',\n",
       " '@Tesla @elonmusk It’s going to be a happy #Halloween for one lucky person who wins this #BabyDoge #tesla \\nhttps://t.co/83rydZmz1Q \\n@BabyDogeCoin #BabyDogeCoin #BabyDoge #BabyDogeArmy $BabyDoge #Crypto #cryptocurrency #BNB #nftcollector #NFTCommunity #ETH #BEP20 #Tesla #Giveaways #BSCGems #BSCPAD https://t.co/UEO157l5T9',\n",
       " \"@phibetakitten These jackasses do stuff like this, but let a group of Tesla owners go and park their vehicles at a gas station and block all the gas just to go inside and get refreshments, and see what happens. I hate entitled, rude people. He should've gotten his truck towed or been cited\",\n",
       " \"This SHIB in the Tesla coding is actually legit!!!!\\n💯😮😯😲😳\\n\\nThis is huge!!!!!!!!! OMG I've known it for months!!!!!! 69420 RRR SS FLOKI MYSHIBAINU https://t.co/HVOx2jQK0d\",\n",
       " '@joncoopertweets @elonmusk Yeah, right! Are all these fan boys so stupid to assume super power - can he fight poverty in a town or even a county? Money cannot solve it. Has he provided for health care for all his tesla employees considering any one in US  one disease from poverty?',\n",
       " '@Shibtoken @kaaldhairya What do you mean with the Tesla code?',\n",
       " '@Shibtoken @kaaldhairya Best if we keep Elon out. Could be anything. Heres what\\'s going to happen, $SHIB will rise in price due to this rumor, then he\\'s going to tweet something like \"Tesla is not accepting $SHIB\" and then $SHIB will come down again. Shit like this gives him ability to manipulate market',\n",
       " \"@MikeCarlton01 Where's my bloody Tesla?\",\n",
       " '@Tesla bezos when u gonna do this. https://t.co/NwmZd092tk',\n",
       " '@BabyCatGirl_BSC @Tesla @elonmusk Babycatgirl as a robot greeting people at tesla...I cam see that',\n",
       " '@Tesla TAKE IT G!V|EAWAY!!! 👉👉 CRYPMAKE dot NET',\n",
       " '@Tesla THlS IS CHAANCE!! 👉👉 CRYPMAKE dot NET',\n",
       " '@Tesla THlS IS CHAANCE!! 👉👉 CRYPMAKE dot NET',\n",
       " '@Tesla @elonmusk #Halloween #Tokenlist  launch 31/10/21 #PancakeSwap #BSC #DeFi \\nhttps://t.co/UhDEQLivin',\n",
       " \"I feel like buying a Cummins just to roll coal on electric car niggas. \\n\\n*Hits you with statistics and facts about how awesome Tesla's are*\\n\\n*Gets overtaken by a gigantic smog cloud which makes autopilot induce a gigantic fiery multicar pileup* a\",\n",
       " \"i entered the FREE @BabyDogeCoin Tesla giveaway!\\n \\nYou can enter too at https://t.co/35dpjT6ZSt\\n\\nIf you like #DogeCoin you'll LOVE #BabyDogeCoin https://t.co/iugirOJ6Qr\",\n",
       " \"@elonmusk @HassanAesthetic @truth_tesla @zshahan3 @garyblack00 @WholeMarsBlog @SawyerMerritt if any of you are luckier than me. please help to get me. I have a travel agency, I went bankrupt because I was sad, I sold all my assets to pay off my debt. still owed $60,000. someone help me I can't stand it anymore.\",\n",
       " '@Lyricoldrap @KEEMSTAR @Boogie2988 \\nLEAKED SCREENSHOTS - TESLA ACCEPTING SHIB? - $SHIB ROBINHOOD LSITING MONDAY MORNING??? 11.01.2021??? #SHIBARMY https://t.co/nf3dxIQdKX',\n",
       " 'DoucheBag Elon Musk is playing games again... How many SUCKERS will fall for yet ANOTHER SCAM on playing the #StockMarkets/#Bitcoin/#dogecoin and getting fools dumb enough to fall for it. #ElonMusk \\nhttps://t.co/zDRbPncN3E',\n",
       " '@elonmusk @garycruz @truth_tesla @zshahan3 @garyblack00 @WholeMarsBlog @SawyerMerritt G1FT GLOBALLY 👉👉 CRYPMAKE dot NET',\n",
       " '@EightEighTeens The Illustrious and Exclusive #PassportToMars #NFT with only 1000 Minted &amp; a Roadmap that leads to Winning Either Tesla Model 3 or $40000\\U0001fa99🚀\\n\\n🙌Claim Your Passport and become a Citizen of Mars in our PreLaunch Window #NFT\\n▶️ https://t.co/P8NbI7TEeq\\n\\nFollow @TheAlgarnon updates',\n",
       " '@elonmusk @garycruz @truth_tesla @zshahan3 @garyblack00 @WholeMarsBlog @SawyerMerritt ONLLY ONE DAY!!! 👉👉 CRYPMAKE dot NET',\n",
       " '@john11levin @pjm_tesla_369 @nzherald So if you develop some autoimmune disease down the line it was worth it because you avoided the 0.01% chance of dying from Covid?',\n",
       " '@shadownexis23 @WatcherGuru @elonmusk @Tesla @Shibtoken Dogecoin is what I was thinking tbh',\n",
       " 'What’s this I hear about @Tesla possibly excepting Shiba as payment! \\n\\nanybody know what’s going on?',\n",
       " '@Tesla Hey.....how much does it cost to save us from Idiocracy?',\n",
       " '@Tesla @elonmusk @elonmusk 🧐 could you please say something positive on babydoge and help us to get our freedom financially? \\n#BabyDogeCoin #BabyDoge  #BabyDogeArmy #BabyDogeCoin #BabyDoge #BabyDogeCoin #BabyDoge  #BabyDogeArmy #BabyDogeArmy #BabyDogeCoin\\n🚀🚀🚀💵💵🔥🔥💵💵💰💰💰 https://t.co/VGIOTRU5Wi',\n",
       " '@WatcherGuru @elonmusk @Tesla @Shibtoken no one can stop $shib now to pump hard today :)',\n",
       " '@anandmahindra @ravigbhatia After 6 months \\nTesla Cybertruck delivered : 140,000\\nFord F150 delivered: 40,000\\nMahindra xuv 700 delivered: 50 😂😅 and price increase 3 times \\n\\n#scam #mahindrascam #tharscam # thar',\n",
       " '@WatcherGuru @elonmusk @Tesla @Shibtoken Does that mean Dogecoin ? 🧐',\n",
       " '@ElonMuskGF @WholeMarsBlog @Tesla @elonmusk Model Y is 78 kwh I pay 9 cents a kwh. Math show I pay around $7 to $9 depending how empty I am.. I also dont fast charge as a normal outlet gives me around 70 miles a day. And, I have a 300 mile buffer if I use more than normal in a day.',\n",
       " '@tes1m211 @squawksquare if he did it to solve world hunger then I would agree and so would most tesla shareholders to be honest... but you cant solve world hunger with $6bn. would even pay the logistics cost of it.',\n",
       " \"Tesla's Spending on R&amp;D and Marketing vs. Other Automakers 🚗\\n\\nhttps://t.co/JxjkOWhdtQ #machinelearning #ai #iot Cc: @antgrasso ht @visualcap https://t.co/QkXID3jI0B\",\n",
       " '@Bob366466 @Paul917011736 @BarkMSmeagol @WR4NYGov “If you had bought $1200 of Tesla stock in 2021, you would have $1 million today” will be the silly MSM 2040 headline. @RemindMe_OfThis in 19 years',\n",
       " '@Tree_Hug_Champ @elonmusk @garycruz @truth_tesla @zshahan3 @garyblack00 @WholeMarsBlog @SawyerMerritt Also other auto manufacturers were already open and they had actual deaths. At UAW facilities. And on the UAW\\nhttps://t.co/IPUdjNhZr2',\n",
       " '@WatcherGuru @elonmusk @Tesla @Shibtoken Damn I L❤️VE $SHIB',\n",
       " '@elonmusk My question is, if I submit a short essay answer, going towards my final grade, justifying cannibalistic human meat production as a viable and necessary source of future nourishment… would you consider giving me a Tesla for my birthday?',\n",
       " '@Tesla @elonmusk Pumpkin coin',\n",
       " 'I have this idea that they should make Tesla’s have an actual mini Tesla coil hood ornament.',\n",
       " '@KamalaHarris You need to mention Tesla',\n",
       " '@SawyerMerritt More power to them! No one should cheer AGAINST happy customers and good options.\\nHonest, solid competition is what we need.\\nWhat I DO take issue with, is crap like @GM\\'s @mtbarra\\'s \"We\\'ll take @Tesla by 2025\" (BS!), or @Ford\\'s @jimfarley98\\'s \"we\\'re leaders of XYZ\" (you\\'re not).',\n",
       " 'Hello @elonmusk Can I buy a Tesla with #shibainu',\n",
       " '@TuzulDurmus @Tesla Scam',\n",
       " \"i entered the FREE @BabyDogeCoin Tesla giveaway!\\n \\nYou can enter too at https://t.co/STGuCQIEoX\\n\\nIf you like #DogeCoin you'll LOVE #BabyDogeCoin https://t.co/UVYDjPTFKN\",\n",
       " '@ShibBulgaria @kratosgodofboy @WatcherGuru @elonmusk @Tesla @Shibtoken He can add 2 Shib and Doge',\n",
       " '@WR4NYGov @Paul49787221 @TONE13817103 @DragTimes This is one of the weakest arguments you keep making, Warren, and it shows either your lack of understanding for new comers or blind bias. This is Lucid’s first product. How many reservations did Tesla have for its first product, the Roadster, when it launched? 1000?',\n",
       " \"@DelCrxpto @Tesla #shib payment for #tesla #Apple #Metaverse #Amazonギフト券 ???\\nWhat's your opinion?\\n\\n#ShibaSwap #SHIBARMY $shib\\n#RobinHoodApp #shibdeleting2zeroes\",\n",
       " \"Make cool cash With usdt trading.. dm on WhatsApp now +447479277830 you don't need to send me funds or  related stuff I'll be giving you screenshot and you'll do it yourself.. you'll only use my ref link  #Airdrops #AirdropCrypto #Binance #BTC #Bybit #BNB #cryptocurrecy  #Tesla\",\n",
       " '@garyblack00 Maybe a few more?\\nMass EV battery technology\\nEV production technology\\nInsurance &amp; related technology\\nAI and super server chip technology\\nVirtual peak power utility\\nEnergy storage &amp; solar tiles\\nBest electric motor technology\\nTesla Bots \\nHumanity saving &amp; liberating products',\n",
       " '@Tesla Paintings hard, be kind, and extraordinary matters will show up s.',\n",
       " '@elonmusk @SawyerMerritt @Tesla The most important thing is @elonmusk started #electriccar movement and is saving this planet. He deserves more than 20%.',\n",
       " '@Tesla @elonmusk What if @elonmusk release CRYPTO CYBERTRUCK? @buffdogecoin\\xa0 🚀🚀🚀 @MattWallace888 @cz_binance @saylor @binance #crypto #tesla #doge #bitcoin #dogecoin #bnb #BuffDogeCoin #buffdogecoinarmy https://t.co/qnVPp60ptX',\n",
       " '@ShibalnuNews @Tesla Fuck i hate fake news',\n",
       " '@Tesla @elonmusk Write me. I have an important message to send you re: trademarks.',\n",
       " '@jimiuorio There is a chip shortage.  Everyone  from GM, tesla to Panasonic is looking  for chips',\n",
       " '@SteveOsVape @ShibalnuNews @Tesla Oh yeah they are.',\n",
       " '@stellaramerican @elonmusk @Tesla Midland is about to become the energy capital of North America. Oil, gas, solar, wind… West Texas is ground zero for big development',\n",
       " \"@DunkEasy @bugwannostra You don't understand the variables.\\n\\nEnergy is electrons how you obtain those electrons is a business model.\\n\\nTesla does not yet control the power grids but they will. \\n\\nEinstein stated that energy and mass are 2 descriptions of 1 state. Remember that when you talk to me.\",\n",
       " '@WholeMarsBlog Plus lets say they actually laid out a comprehensive plan as to how $6B would solve world hunger, I would 100% Elon selling some $tsla to finance that. I think that would be excellent publicity for Tesla and Elon Musk, especially now that Elon Musk is the richest man in the world',\n",
       " '@elonmusk @SawyerMerritt @Tesla You are not recognizing that you are the sole inventor and that is where the investment comes with out your royal invention there https://t.co/RHdaI1RRc8 no knowledge of inheriting cleaner happier days, resolution to heavan is you elon musk, you own tesla with all ground breaking',\n",
       " 'Tesla | $TSLA\\n\\ntsla idea\\n\\nLong or short it with BTC on Trade8: https://t.co/5SPvS47wiV https://t.co/pZfZpME8Bz',\n",
       " \"@LloydOstertagg @LloydOstertagg, @elonmusk. Tesla website code has SHIBA &amp; BITCOIN under payments. Checked it myself &amp; took screenshot\\nCode name for $DOGE in future right? ie. Shiba Inu Dog to stop people searching 'Doge'. \\nSawyer found it, please confirm its $DOGE before Shiba twitter explodes! https://t.co/rVuCHNFPMG\",\n",
       " 'I wanna plan something big with you elon @elonmusk  i have a business proposal for both of us benefits i know you have enough money so you don’t want any proposal but i think its an great idea to work on it will also benefit @Tesla and @SpaceX',\n",
       " \"@Tesla The name of the game of happiness, you notice isn't always observed in searching for extra, however in growing the capability to enjoy a great deal less. r.\",\n",
       " '@elonmusk you should consider Tennessee as a place to move Tesla. It’s a great State.',\n",
       " '@Tesla Happy Halloween Brother Elon',\n",
       " 'Coming in 2022. By next Halloween this should be rolling out in some streets throughout the US. Can’t wait! Hope everyone was safe out there tonight and enjoyed themselves! https://t.co/AKyXFDGgrY',\n",
       " '@Eljaboom @Tesla What no??? https://t.co/S728AeU0cd',\n",
       " 'SHIBA INU - TESLA GOING TO START TAKING SHIBA INU COIN AS PAYMENT?! MASS... https://t.co/b64EX8teUc via @YouTube #SHIBARMY',\n",
       " '@Tesla @elonmusk Happy Halloween, from the @AustinTeslaClub   🎃 https://t.co/zBu4gcpjvC',\n",
       " '@Zidesinger @CrypticBurger @minibagsyoda @Drop_Your_NFT_ The Illustrious and Exclusive #PassportToMars #NFT with only 1000 Minted &amp; a Roadmap that leads to Winning Either Tesla Model 3 or $40000\\U0001fa99🚀\\n\\n🙌Claim Your Passport and become a Citizen of Mars in our PreLaunch Window #NFT\\n▶️ https://t.co/HdCykPfwQF\\n\\nFollow @TheAlgarnon updates',\n",
       " '@Tesla Happy Halloween!! 🎃 @elonmusk #Tesla #frunkortreat @TeslaClubLA @OCTeslaClub https://t.co/ebsgPEL92p',\n",
       " '@TrungTPhan Similar to Tesla. Not a lot of choices; 4 models, limited colors &amp; options. Makes buying easy. Online, shows price, done.',\n",
       " '@Tesla The electricity of creativeness makes us limitless c. 0',\n",
       " '@RobinhoodApp @BoredApeYC @Sothebys @Tesla What about Shiba Inu😍',\n",
       " '@ScottG305 @SyedMun78426140 @Shibtoken @kaaldhairya @elonmusk @ShytoshiKusama @robinhood @Tesla Join and thank me later\\n\\nhttps://t.co/fvzOAe1gfw',\n",
       " 'Elon Musk: Kindly request TESLA  to accept SHIBA  INU Coin as payment! - Sign the Petition! https://t.co/DRpxLgfuwx via @Change',\n",
       " 'I cannot thank @elonmusk or @Tesla enough. $TSLA stock and car have been life changing. https://t.co/Lt7wrozTHN',\n",
       " '@Deepak26948815 @WatcherGuru @elonmusk @Tesla @Shibtoken @shib No! Trillions!',\n",
       " '@Tesla Happy Halloween 🎃!',\n",
       " '@SyedMun78426140 @Shibtoken @kaaldhairya @elonmusk @ShytoshiKusama @robinhood @Tesla Join and thank me later\\n\\nhttps://t.co/fvzOAe1gfw',\n",
       " '@Tesla #BabyDogeCoin to the moooon 🔥🔥🔥🚀🚀',\n",
       " '@Tesla @elonmusk @elonmusk I really love your vehicles. My only request is that you allow me to purchase one (or two) with @Shibtoken $shib please sir, thanks.',\n",
       " 'This would be amazing... how many $SHIB for a tesla? :) https://t.co/mTGlRjYQb0',\n",
       " '@WatcherGuru @elonmusk @Tesla @Shibtoken Moon',\n",
       " '@James95113983 @Teslarati @ResidentSponge In that case, every @Tesla vehicle hardware will be outdated every three years minimum.',\n",
       " '@Bene53462802 @Tesla @elonmusk like it',\n",
       " '@mssbola @WatcherGuru @elonmusk @Tesla @Shibtoken Exactly. I don’t think most are scammers, just people who’s common sense is clouded by the possibility of getting ridiculously wealthy off a meme.',\n",
       " \"@WatcherGuru @elonmusk @Tesla @Shibtoken with confirm don't spread your own decisions after they he say any time i am not accepting shiba inu as a payment after \\nmarket will dumped\",\n",
       " 'Shib to be used as payment for Tesla and Robinhood announcement possibly tomorrow??????? What a time to be alive',\n",
       " '@BatsikSevim13 @Tesla Hamstercoin #HamsterCoin 🎃🎃🎃🎃 https://t.co/1rh6seT4sr',\n",
       " '@Tesla Hope to see some of these in the wild next Halloween!',\n",
       " '@Tesla @elonmusk Give it a Halloween 🎃 gift to all lover of #shiba \\nPlease talking good about shiba inu',\n",
       " '@Tesla bezos when u gonna do this. https://t.co/9fNtWYPJ6I',\n",
       " '@SuB8u I have a plan. Sell tesla stocks and give money to Indian National Congress. They have got expertise removing poorness since 1970..',\n",
       " '@Tesla @elonmusk Happy helloween 🎃',\n",
       " '@MuffinScript @jeremy_hugh @elonmusk @SawyerMerritt @Tesla Yeah… that already happens. Property tax is a thing in a lot of states.\\nWhy isn’t that the case for billionaires?',\n",
       " \"There are 2 rumors swirling today\\n1) RH will list $shib\\n2) Tesla will accept $shib\\nBoth of them are well Rumors. Let's not take decision on rumors.\\nGood night friends! \\n#shibarmy\",\n",
       " 'Tesla plans to…(state?) https://t.co/Ejn1ExtAHJ',\n",
       " '@AlistairInvest TESLA &amp; DOGECOIN &amp; SPACE-X TO THE MOON &amp; MARS &amp; BEYOND!😀😉🤩 https://t.co/vMRWpSSoBJ',\n",
       " '@ShibalnuNews @cgac2og @Tesla The Doge Army gana be pissed as hell 😤',\n",
       " 'Tesla to accept Shib as payment! Video Proof! https://t.co/MvaHwvFm1n via @YouTube $shib 🔥🔥🔥🔥🔥🔥',\n",
       " '@SawyerMerritt Please stop hacking the Tesla website',\n",
       " '@BabyCatGirl_BSC @Tesla @elonmusk Happy Halloween Mr. Musk  🎃',\n",
       " '@Tesla @elonmusk Happy halloween🌹🌹🌹🌹',\n",
       " '@Tesla @elonmusk #doge #DogecoinToTheMoon #Doge4Tesla #DogecoinRise $Doge $Tesla',\n",
       " 'SHIBA INU - TESLA GOING TO START TAKING SHIBA INU COIN AS PAYMENT?! MASS... https://t.co/Revv1RGUe2 via @YouTube',\n",
       " '@SyedMun78426140 @Shibtoken @kaaldhairya @elonmusk @ShytoshiKusama @robinhood @Tesla Can you help me understand? What code?',\n",
       " '@snowdensatoshi @WatcherGuru @elonmusk @Tesla @Shibtoken You’re thinking too deep on it. Everyone is assuming that: \\n- Musk hates Shib: he doesn’t, he simply doesn’t own any because he bought his crypto holdings before Shib was on the exchanges.\\n- Musk micromanages the business and dictates what’s accepted. He doesn’t.',\n",
       " '@WholeMarsBlog Or that they themselves get pain to promote disinfo about Tesla and cannot fathom how others could do it for free.',\n",
       " '@mantistrader @pjm_tesla_369 @nzherald You stated saying long term data mattered, yet it does not at all for work out the saftey of the vaccine. \\n70,000 times the chance of dying of covid compared to vaccination 🥰🥰🥰',\n",
       " 'SHIBA INU - TESLA GOING TO START TAKING SHIBA INU COIN AS PAYMENT?! MASS... https://t.co/kiYbqHEVjW via @YouTube \\n#SHIBARMY #Tesla #ShibainuCoin',\n",
       " '@thienvo27304873 @SolNerdsNFT @S01432 @Ra01432 @Chandhu998877 @ba01432 @MaheshM99965448 The Illustrious and Exclusive #PassportToMars #NFT with only 1000 Minted &amp; a Roadmap that leads to Winning Either Tesla Model 3 or $40000\\U0001fa99🚀\\n\\n🙌Claim Your Passport and become a Citizen of Mars in our PreLaunch Window #NFT\\n▶️ https://t.co/qSpL26oiqb\\n\\nFollow @TheAlgarnon updates',\n",
       " '@WatcherGuru @elonmusk @Tesla @Shibtoken Omg, if this is true',\n",
       " '@evryan12 @Tesla @elonmusk @TheBlakeCheck @vm_one1 @miketerrill @TeslaPhx @TonyCrisostomo Love it man!!!👊🏻',\n",
       " '@BatsikSevim13 @Tesla Hamstercoin #HamsterCoin https://t.co/WuuPpsYZUL',\n",
       " \"@Tesla The name of the game of happiness, you notice isn't always observed in searching for extra, however in growing the capability to enjoy a great deal less. r.\",\n",
       " '@DelCrxpto @Tesla Nicee i like it #Shibarmy #1CentDreamShib and to the mars',\n",
       " \"@conspiracyb0t @jessiwas_ They never did find Tesla's personal files because the Government raided all of it first. That's actually a fact, not even a conspiracy.\",\n",
       " '@Tesla @elonmusk Happy Halloween! Thanks Tesla! https://t.co/jInG08izs9',\n",
       " '@JosephVVallace TESLA &amp; DOGECOIN &amp; SPACE-X TO THE MOON &amp; MARS &amp; BEYOND!😉😀🤩 https://t.co/8m9Wjf7k6c',\n",
       " '@BabyCatGirl_BSC @Tesla @elonmusk I like this strong community ❤️💯',\n",
       " '@stellaramerican @elonmusk @Tesla I think the drain on the grid is gonna be big over next ten years. Natural gas is only legitimate solution to match this growing demand IMO will be interesting to see though',\n",
       " '@its_menieb @Tesla That is by far the scariest thing Ive seen tonight....',\n",
       " '@Tesla @elonmusk Happy Halloween 🎃🎃 https://t.co/BK1aF56kFi',\n",
       " '@MoodyHikmet @WholeMarsBlog @JasonTorchinsky @faizsays @PhilKoopman Ok, so as you move to L4/5 the way to deal with this is to have good safety features to prevent misuse, right? \\n\\nSo complacency occurs with more automation, but if we consider ALL of the active/passive &amp; DMS safety features Tesla offers doesnt this alleviate the risk adequately',\n",
       " \"@elonmusk Is it true that Tesla will be accepting (shib)? If that's true. Wow.... on behalf the dogecoin community this feels like a stab in the back. 😔\",\n",
       " \"@Tesla @elonmusk Quam network @quamnetwork is #bsc based multi chain #defi protocol it's fast easy and scalable #quam\\nNFT Market and ICO \\nMARGIN DEX \\nSOLANA ECOSYSTEM \\nPOLKADOT &amp; ETH BRIDGE \\nNEW EXCHANGE LISTINGS \\n67M CIRCULATION SUPPLY \\nhttps://t.co/fAJP4Jd2qa\\nAUDIT @certik_io\\nKYC @BlockpassOrg\",\n",
       " '@Tesla $starl 🚀🚀🚀🔥🔥🔥 https://t.co/kInU4bAKoL',\n",
       " '@Tesla Cybertruckkkkkkkkkk!!!!!!!!!!',\n",
       " \"@DipsNotChips @cryptos89 @elonmusk #Dogecoin is the Shiba Inu crypto, shib is a knockoff of #Dogecoin &amp; elon has publicly connected Tesla to #Dogecoin \\nNot sure why they would suddenly be considering Shib tbh\\nI guess we'll see 🙂\",\n",
       " '@fawfulfan 8 trillion in worsening climate change via the Pentagon, half trillion in tax breaks for Elon Musk &amp; 10% off Tesla vouchers.\\n\\nW indeed',\n",
       " '@Tesla @elonmusk happy',\n",
       " '@WholeMarsBlog @faizsays I.e. why is @faizsays so credulous about the self-serving claims of harassment of Dr. Cummings, who herself in 2019 falsely accused MIT researcher Dr. Friedman to have been sponsored by Tesla &amp; then baselessly accused him of \"junk science\"?\\n\\nhttps://t.co/UZOss605Co',\n",
       " \"@Tesla @elonmusk Happy Halloween 🎃 \\nLet's Go Brandon \\n#LetsGoBrandon https://t.co/qr8NKefYH0\",\n",
       " '@Teslarati @ResidentSponge @Tesla charged me for $2500 for the MCU2 upgrade. Here’s my receipt. I’ve felt scammed ever since. https://t.co/4yJs9Gsr2a',\n",
       " '@Tesla Replay to my massage please🙏🏻',\n",
       " '@WatcherGuru @elonmusk @Tesla @Shibtoken Best time NOW to buy #LEASH with perfect dip❣️ It plays key role in #shibaswap with issue amount of only 107,647❣️#SHIBARMY Ryoshi: All #shiba need 1 LEASH‼️Buy $LEASH NOW ！❣️\\n$LEASH $BONE $SHIB @ShytoshiKusama @ShibaSwapDEX \\n@ShibInformer #shibaswap #shibbone #ShibaArmy #shib https://t.co/kuz6LZfEq6',\n",
       " '@Tesla The electricity of creativeness makes us limitless c. 0',\n",
       " '@DanielEndy @jpr007 Doubt it. Don’t believe A &amp; B have enough skilled labor. Shanghai is a major industrial city. Both GM &amp; VW have auto plants there for years. Tesla, with superior salary and benefits, has no problem to recruit enough skilled work force.',\n",
       " '@elonmusk @SawyerMerritt @Tesla Tesla employees have done super well out of stonk options - but expected returns are probably negative from here over the next decade… it’s not normal for a stock to stonk 3,000% in 2 years 😉',\n",
       " '@mantistrader @pjm_tesla_369 @nzherald antibody testing is stupid not because it doesnt show who has protection. But because it allows those who put pressure on our entire health system to get the benefits of those that went out and got the effective vaccine beforehand',\n",
       " '@Tesla @elonmusk Halloween to the moon https://t.co/J4yb4KzB5Q',\n",
       " '@ToruluAydan @Tesla Hamstercoin 🎃🎃🎃🎃🎃🎃🎃 https://t.co/wyFlV0XAdt',\n",
       " '@JimmyCrypto888 @Tesla @elonmusk @rocketbotpro @SpaceX Elon musk is a threat to the survival or humanity and planet earth.',\n",
       " '@Tesla Amazing pumpkin @tesla @elonmusk',\n",
       " 'Yeah this will cheer me up immensely. So i am going to tell you some plans i have for my ridiculous amount of money I will be receiving from Tesla and Amazon and Google and Tmobile and Bravo and Getty and Facebook and Insta and Canada,  and Phillips Andover and State of NY...',\n",
       " '@TiaanOlivier2 @Adem27836880 @business Damn Tesla has millions of employees??? That’s nuts! I checked 40 seconds ago and they only had jobs for 70K',\n",
       " '@news_of_bsc @BabyDogeCoin If you missed $Shib #DYOR on @BabyDogeCoin \\nThe proof is all around you 🐶💥👀\\n@BabyDogeCoin #BabyDogeCoin #BabyDoge #SHIB #BabyDogeArmy $BabyDoge #Crypto #cryptocurrency #BNB #nftcollector #NFTCommunity #ETH #BEP20 #Tesla #Giveaways #BSCGems #BSCPAD https://t.co/t8qV2J3bL1',\n",
       " '@WatcherGuru @elonmusk @Tesla @Shibtoken It\\'s code, \"SHIBA\" could be anything, it could even be their internal codename for their DOGE payment system. But who am I kidding, people are going to read way too much into this anyway...',\n",
       " '@BudhilVyas Sleeping giants are these and why.\\nXrp - transferring billions of dollars\\nDoge - heartly supported by elon musk trillionaire, in upcoming years more use cases like buying Tesla, doge will be next tether means price is 1$ in upcoming weeks.\\nIcp - decentralisedweb i.e Google killer',\n",
       " \"@garycruz @elonmusk @truth_tesla @zshahan3 @garyblack00 @WholeMarsBlog @SawyerMerritt “A house full of condiments and no real food. If you don't know what you want, you end up with a lot you don't.”\\n\\n― Chuck Palahniuk, Fight Club\",\n",
       " '@Tesla @elonmusk Hamstercoin 🐹 #HamsterCoin https://t.co/05FMjYUcDb',\n",
       " \"@MarketRebels Yeah, I'm not making this up: https://t.co/fVxrkUehAN\",\n",
       " '@faizsays If only you were a real \"journalist\" you\\'d find out why a board member of a competitor to Tesla was given this job.',\n",
       " '@squawksquare Huge Tesla bull and king of fighting FUD? Pesst, there is someone spreading FUD by misquoting Elon, your help would be appreciated 😏. I’m sure he doesn’t mean it though, so go easy on him',\n",
       " 'BMW DRIVER STEALS TESLA CHARGER https://t.co/vCRHt32xUn via @YouTube',\n",
       " '@Tesla @elonmusk Wishing you a happy life and help to world poor children for get best life God bless you from my country Sri Lanka.  Take care dear sir. https://t.co/Pj76EbRWBc',\n",
       " '@thienvo27304873 @SolNerdsNFT @S01432 @Ra01432 @Chandhu998877 @ba01432 @MaheshM99965448 The Illustrious and Exclusive #PassportToMars #NFT with only 1000 Minted &amp; a Roadmap that leads to Winning Either Tesla Model 3 or $40000\\U0001fa99🚀\\n\\n🙌Claim Your Passport and become a Citizen of Mars in our PreLaunch Window #NFT\\n▶️ https://t.co/bTqSJ0a6nB\\n\\nFollow @TheAlgarnon updates',\n",
       " \"@Tesla @elonmusk Elon musk shiba uni tweet now we can't afford tesla our hope shiba uni think of some poor people where your justice sinks this world 😔😔😔😔😔😔😔😔😔😔😔😔😔😞\",\n",
       " '@Tesla bezos when u gonna do this. https://t.co/l8CucRrRTX',\n",
       " '@colinwr Hi Colin, thinking about it I havent had to change brakes of any car since living in the Valley and much less a Tesla specially with single pedal driving, and actually I havent done brk svc on my M3 either but I would probably take it to Tesla in Cathedral City/PS location.',\n",
       " \"@elonmusk @truth_tesla @zshahan3 @garyblack00 @WholeMarsBlog @SawyerMerritt Didn't UAW and Teamsters kill Jimmy Hoffa?\",\n",
       " \"i entered the FREE @BabyDogeCoin Tesla giveaway!\\n \\nYou can enter too at https://t.co/RPM0zH2lJR\\n\\nIf you like #DogeCoin you'll LOVE #BabyDogeCoin https://t.co/uk32ay9RXE\",\n",
       " '@Tesla @elonmusk Happy Halloween https://t.co/Q8HxvVcQWl',\n",
       " '@tesla_raj @WholeMarsBlog Mans dream come true Cybertruck &amp; Roadster',\n",
       " '@TacosandTeslas Yo I was a square suit! We should get some Tesla related pics with them. Red light green light FSD edition 😆',\n",
       " '@cooloolooper Stop waiting and get a job, you bum…. Or invest in Tesla:  that’s how Elon shares the wealth… he’s made 200\\nBillion for himself, while making 800 billion for the rest of Tesla’s shareholders, including me and Tesla employees https://t.co/P9D5SHR5LG',\n",
       " '@Tesla @elonmusk What’s your opinion of #ICP ? I love the project , would love to know your thoughts man ! Thank you in advance!',\n",
       " 'The Electric Vehicle is a hugely disruptive force in the automotive industry as was reflected this month when #Tesla  market valuation notched USD1 trillion, more than the values of the next 9 biggest carmakers in the world combined. https://t.co/k8M2lMBYLZ',\n",
       " 'Elon Musk’s Warning About Government Spending and Unrealized Gains Tax Proposal Highlights Benefits of Bitcoin / A warning by Tesla and Spacex CEO Elon Musk about the mounting national debt in the U.S., government spending, and the proposal to tax unrealized capital gains has h… https://t.co/lkx8MIazXh',\n",
       " '@elonmusk @SpacePadreIsle When will Tesla accept #doge ?',\n",
       " '@Tesla @elonmusk Happy Halloween!🥰💖🍂🎃🍁✨',\n",
       " '@Tree_Hug_Champ @elonmusk @garycruz @truth_tesla @zshahan3 @garyblack00 @WholeMarsBlog @SawyerMerritt It was after this i.e. when California had already reopened including surrounding counties. Unelected county officials tried to block them but they filed suit in court and the county backed down.\\nhttps://t.co/gyKlp2Ovjz',\n",
       " '@Tesla This chance for CATZCOIN👍🏻🔥',\n",
       " '@adamhoov @elonmusk TESLA &amp; DOGECOIN &amp; SPACE-X TO THE MOON &amp; MARS &amp; BEYOND! WOOF😉 https://t.co/wUGAO9JAkv',\n",
       " '@Tesla Is this NFT~?',\n",
       " \"@mars_adami @Tesla @elonmusk Merhaba! 🤗I'm glad to hear from a Tesla owner and enthusiast from Turkey! 🧿 #KRSHMSK\",\n",
       " '@Tesla @elonmusk Tweet something about SHIBA INU...',\n",
       " '@Tesla @elonmusk https://t.co/G1j74MM3uW         .PumpKin Inu',\n",
       " '@tesdream @Kristennetten Imagine being paid by @Tesla in $TSLA stock 🤑🤑🤑...',\n",
       " '@Tesla @elonmusk I was waiting for a Cybertruck to crush it lol',\n",
       " \"@JimmyCrypto888 ✅ Successfully tipped\\nCoin: Whale Exploder [WHEX] BEP20\\nAmount: 10,000,000,000,000.00 WHEX\\nTotal amount: 30,000,000,000,000.00 WHEX\\nUsers: 'Tesla', 'SpaceX', 'elonmusk'\",\n",
       " '@Tesla @elonmusk Happy Halloween\\nSome day when I get my family out of the hood and own a home that would be cool to own your cyber truck ❤️\\n#BabySteps \\nStay blessed 🙌\\n\\n@rocketbotpro tip 10,000,000,000,000 whex @Tesla @elonmusk @SpaceX https://t.co/kwfLr4Ts9y',\n",
       " '@marvelwonderkat @truth_tesla Good. Judge by the labor market. They have failed miserably. Gonna blame the government for that to? You gonna blame the government for people quitting in droves for lack of pay and damn respect? That on DC to? I hate DC. But blame the right party. Industry earned this shit.',\n",
       " '@kokalo77 @DelCrxpto @Tesla Because you have more of saita than shib lol',\n",
       " '@Tesla How about the #Bitcoin logo',\n",
       " '@Dstrong_101 @DelCrxpto @Tesla #Lunarcash\\n\\n👉 Free Claim 5 LunarCrush \\n\\nJoin now 🎉\\nRefer one to claim(only sign up)\\n\\nhttps://t.co/lTiTnfqEF0 https://t.co/up3i5Ss21F',\n",
       " '@WatcherGuru @elonmusk @Tesla @Shibtoken at last @elonmusk worried about the @shibaa power..',\n",
       " 'Imagine robinhood listing tesla acceptance and a burn. Ooof',\n",
       " 'Apparently I suck at driving with a 93% for over a month now and no update for me. 😩😒 @Tesla @elonmusk https://t.co/FWMIXamhnd',\n",
       " 'I dont like much Halloween....horror...god bless all😇🌈💐🌞🇮🇳🇮🇳 https://t.co/INBQaIN8dV',\n",
       " 'I am not billionaire or trillionaier but I don’t need scare any fuder businessman @elonmusk @saylor #bitcoin #Ethereum #Crypto #cryptotwitter @Tesla #halloween2021 #ShibaArmy #SHIB #dogecoin #BNB @jack I am believe strength of unity 🤝',\n",
       " '@Bene53462802 @Tesla @elonmusk Nice 🤩👍',\n",
       " '@Tesla Happy Halloween @elonmusk',\n",
       " '@DelCrxpto @Tesla I am software engineer, that isn’t true because is the @tesla domain',\n",
       " 'Am going to get Tesla for everyone of my siblings. They deserve better. #wealldo #ShibaArmy \\nGoing to the moon. @ShibainuCoin https://t.co/uRudoDZUlY',\n",
       " \"i entered the FREE @BabyDogeCoin Tesla giveaway!\\n \\nYou can enter too at https://t.co/bN1SfnbxK0\\n\\nIf you like #DogeCoin you'll LOVE #BabyDogeCoin https://t.co/pl6hAHpvYL\",\n",
       " \"@PhilKoopman @NHTSAgov - Did the driver agree to follow strict Tesla safety guidelines in order to be allowed to test this beta software?\\n- Is the driver paying close attention to traffic to intervene if necessary?\\n- Did an accident occur?\\n\\nIf the answers are Yes, Yes and No,\\nWhat's the issue here?\",\n",
       " '@ShibalnuNews @Tesla I got 1mil #SHIB hopefully this is enough',\n",
       " 'If #ElonMusk burn us a lot of shiba\\'s I will buy a Tesla for him, make us rich Elon, you won\\'t regret it😉\\nA lot of people will be millionaires thanks to you 🙏 \"That\\'s one small step for A man, one giant leap for mankind\"🚀🚀🚀\\n#ShibaCoin #shiba #ElonMusk',\n",
       " '@Tesla @elonmusk That is a very heavily lifted cybertruck.',\n",
       " \"@Tesla @elonmusk When's Tesla accepting #dogecoin #doge ?\",\n",
       " \"@DelCrxpto @Tesla Source verified...... source from tesla Javascript and hosted on tesla's website \\n\\nhttps://t.co/qndRKwgkFM\",\n",
       " '@reaIBlackMatrix @tweetmyinbox @russ1mitchell @elonmusk In the same industrial oak Apple has a 60 MW solar system and Swytch has a 100+ MW expanding to 1 GW. Tesla’s is tiny and a shame the NV citizens are subsidizing CO2 polluting power for Elon Musk',\n",
       " '@Mebalen1 @WatcherGuru @elonmusk @Tesla @Shibtoken #Lunarcash\\n\\n👉 Free Claim 5 LunarCrush \\n\\nJoin now 🎉\\nRefer one to claim(only sign up)\\n\\nhttps://t.co/lTiTnfqEF0 https://t.co/H0GPBdwcpk',\n",
       " '@BurntStuffs The Illustrious and Exclusive #PassportToMars #NFT with only 1000 Minted &amp; a Roadmap that leads to Winning Either Tesla Model 3 or $40000\\U0001fa99🚀\\n\\n🙌Claim Your Passport and become a Citizen of Mars in our PreLaunch Window #NFT\\n▶️ https://t.co/8MvbDUdxJM\\n\\nFollow @TheAlgarnon updates',\n",
       " 'Tesla is drawing nigh https://t.co/IPLHsJ9anZ',\n",
       " '@Orangetilt @Tesla Assuming the Supercharger isn’t busy of course; don’t want to hog a stall 😇😎',\n",
       " '@GrimmjowG @Tesla Came and speak Bolsonaro... Great President',\n",
       " '@Tesla The electricity of creativeness makes us limitless c. 0',\n",
       " '@GalaxyHeroesGHC Me. Pls... spamer iz me!!!\\n#CoinMarketCap #BNB #Tesla #Coinbase @GalaxyHeroesGHC @GalaxyHeroesFan @blockchain #crypto #HOTBIT #Gateio #hottrending',\n",
       " '@SLXr0 @Tesla @elonmusk Not the front',\n",
       " '@whatupggg @el_obino @Kodi_Coin @Tesla To the moon',\n",
       " 'Happy Halloween \\nhttps://t.co/9rzDnpa1ol https://t.co/Gc8tjf6IBx',\n",
       " '@Tesla @elonmusk Happy scare pumpkin day sir😀',\n",
       " '@Angg66 Why the fuck would Tesla accept shiba? Use your head',\n",
       " \"@Tesla @elonmusk From an non economic point of view. Do you like our spooky NFT's? @elonmusk\\n\\n@dogeween https://t.co/p9lH26cGIj\",\n",
       " '@Tesla @elonmusk @dynamixarmy happy halloween',\n",
       " '@WatcherGuru @shiba_LOVER_ @elonmusk @Tesla @Shibtoken Just put in some more SHIB into my SHIB Army PIGGY BANK 🐖.. Great time to buy. This is a long term investment. Use dollar cost to average purchase a few SHIB, treat it like a (PIGGY BANK) Don’t panic. 🚀🔥🚀💥🆙⬆️ retweet’s. Not a financial advisor. Success is being patient. ❤️ https://t.co/KYFbdICYcS',\n",
       " '@Tesla @elonmusk ELONN!! FLOKII IS GOIN CRAZY! HELPPPP! Check our Spooky Doge NFTs!👻🎃 #dogeween https://t.co/0V6A35NKVV',\n",
       " '@elonmusk @SawyerMerritt @Tesla Thank you @elonmusk I appreciate Tesla employee’s hard work 💎 🙌 have my life saving.',\n",
       " 'Today, I got to watch 2 guys try to fit Ikea furniture in their new Tesla... It was a good day.',\n",
       " '@Tesla Baby doge 🚀',\n",
       " '@RobinhoodApp @BoredApeYC @Sothebys @Tesla When is Shiba Inu listed?',\n",
       " '$DOGE damn y’all that must mean tesla finally about to accept Dogecoin! Don’t let the shibtards trick you! Y’all know what Elon means when he says Shiba ⭐\\n\\n#DOGE #Bullish https://t.co/DXTt8dsEll',\n",
       " '@Tesla @elonmusk Is true that rumor about Tesla accepting #shib  soon ?',\n",
       " \"@Tesla @elonmusk @elonmusk  ok I have to say, that's Bad Ass!\",\n",
       " '@WatcherGuru @elonmusk @Tesla @Shibtoken I can write that too using inspect element and take a screenshot 😂😂😂',\n",
       " \"@SG___96 @28delayslater @DougDeMuro @kylaschwaberow @tellcarl2 @MODL3PILOT @Ford @mrlevine Doesn't measure up to Tesla does not = should not exist. We want Better from the competition, not their demise. Common misunderstanding.\",\n",
       " \"@Tesla @elonmusk When you answer Tesla to give you 10 bitcoins, but he doesn't answer you... And if he answers you, he will ask you for your Coinbase wallet address in private message to send you the 10 bitcoin.... :(\",\n",
       " '@Tesla bezos when u gonna do this. https://t.co/LzRWD8qXa0',\n",
       " '@Orangetilt @Tesla I usually crank the limit up to 100% in those situations… it tapers to a trickle and you can usually squeeze another 15-20 mins out of it 😉',\n",
       " \"@WatcherGuru @elonmusk @Tesla @Shibtoken with confirm don't spread your own decisions after they he say any time i am not shiba inu as a payment after \\nmarket will dumped\",\n",
       " '@DelCrxpto @Tesla If this is true about #shiba with tesla we may be experiencing the one coin to takeover bitcoin.',\n",
       " '@VOICEOFSHIBA @elonmusk @Tesla Dude let me tell u something, stop blaming or talking negative stuff about @ELON, if u are pissed 😡 at him it’s fine but stop bro, unfortunately if @Elon said something just a little F wrong word about @SHIB We all will see @SHIB goes down, so chill and do u part &amp; keep holding',\n",
       " '@Tesla Shib say  happy Halloween',\n",
       " 'If #Tesla news is confirmed, then everyone in #SHIBARMY will buy a @Tesla car 🤣🤣🤣🤣\\n#shibainu #SHIB',\n",
       " \"hello @elonmusk is this true $TSLA accepted #Doge Soon? thank you from us $DOGE holder if it's true. \\n\\n#dogecoin #dogearmy #AcceptDoge #Tesla https://t.co/b5UsRuha0h\",\n",
       " '@yoitsehx @DelCrxpto @Tesla @Starbucks Free coffee for life!',\n",
       " '@Tesla @elonmusk Okayyyyyy… but we need updates! \\U0001f6fb 🐕',\n",
       " '@BaydanBusra6 @Tesla Cate the moon 🚀 https://t.co/iIvxfgFlYQ',\n",
       " \"Your answer shows ignorance, ignorance, ignorance! #ElonMusk\\n\\nDaily Mail: Elon Musk says he'll sell Tesla stock if UN official can prove how $6billion will solve world hunger.\\nhttps://t.co/NUJg3Ow5nS\\n\\nvia @GoogleNews\",\n",
       " 'Is the light electric or a candle ? https://t.co/OyiSYAQZL8',\n",
       " \"@its_menieb @Tesla I'm not sure about this.\",\n",
       " '@Tesla @elonmusk @elonmusk we shib army hope wanna see good new from your side.',\n",
       " '$DOGE damn y’all that must mean tesla finally about to accept Dogecoin! Don’t let the shibtards trick you! Y’all know what Elon means when he says Shiba 👍\\n\\n#Bullish #DOGE https://t.co/I1ae74uAFJ',\n",
       " \"@ShibalnuNews @elonmusk F Tesla ... Let's make a Shiba Inu electric car and space ship\",\n",
       " '@ShibalnuNews @Tesla It could be a trap, Elon tweet will follow to confirm its a \"no\" then SHIBA price will crash. Please be careful and don\\'t harm us!',\n",
       " \"Wouldn't be surprised at all if @Tesla starts to accept $SHIB as a form of payment. https://t.co/6cZYmTu20h\",\n",
       " 'Elon Musk: Kindly request TESLA  to accept SHIBA  INU Coin as payment! - Sign the Petition! https://t.co/t0RMiUxsHR via @ChangeOrg_India\\n\\n@ShibaExpert @Shibtoken @BenCamp07568165',\n",
       " '@Tesla @elonmusk Happy Halloween ! https://t.co/GT4cubac7B',\n",
       " '#shib \\nTesla will accept shib in a near future? https://t.co/n1DrW9skIa',\n",
       " '@Tesla Dogelon👻👻',\n",
       " '@kratosgodofboy @WatcherGuru @elonmusk @Tesla @Shibtoken It’s fake',\n",
       " \"@code_denzo @Tesla Shiba doesn't equal $shib .....\",\n",
       " '@Neptungsten @greg16676935420 @Tesla You want to build your #Doge bag? You want to build that #Floki bag? Follow @FlavorsBSC and find out what they have to offer. Where you at #dogearmy where you at #flokiarmy $DOGE $FLOKI #BSCGems #BinanceSmartChain #WhatsyourFlavor #FlavorsBSC #JointheFLAmily #Flavors',\n",
       " 'Happy Halloween 🎃 \\n\\nhttps://t.co/PMYjCpLpmf',\n",
       " 'Shiba have more chances to be listed at Robinhood than Tesla accepting it as payment ,remember Elon is a Doge guy.',\n",
       " '@WatcherGuru @elonmusk @Tesla @Shibtoken @elonmusk is this really happening ? I love u man',\n",
       " '@Tesla @elonmusk Can I get one of those trucks for free? Please?',\n",
       " '@Tesla @elonmusk Cybertruck coming soon',\n",
       " 'Binance is  secure and is leading the market, why not trade with it? Sign Up Now!\\nLink: -----&gt; https://t.co/vKQzklfil1\\n\\n#bitcoin #binance #btc #bnb #ethereum #eth #ADA #cardano #polkadot #xrp #trx #tron #coinbase #elonmusk #tesla #spacex #coins #forex',\n",
       " '@ShibalnuNews @Tesla Checkmate !!! My Shiba will take you’re CyberTruck! 🤗',\n",
       " '@28delayslater Waiting for my Tesla paycheck.',\n",
       " '$LCID interesting review -- WSJ likes Lucid https://t.co/HCGnmP9QwJ',\n",
       " '@Tesla @elonmusk @elonmusk can you tell these shibarmy people what is actually happening with TESLA? They seem to be under the impression TESLA will accept SHIB before DOGE. I’m such a tattletale!',\n",
       " \"@BabyDogeCoin now, all babydoge needs to get into top20 crypto is not a usd100 trillion unrealistic pump, but a hefty burn, transparency by showing it's legit, n I reckon if that wrapped tesla is given away n it's legit news that is shown in conventional media as much as all of social media\",\n",
       " '@chakkaravarthi4 @DelCrxpto @Tesla @elonmusk Hey! Have you heard of @CryptoHippies0? ☮️ The wildest Play2Earn game is coming to the Binance Smart Chain! Collect &amp; Evolve Hippies, Grow ☘️ Weed, Sell 🍄 Trips, Trade 🖼 NFTs, and earn $Hippie! 🔐Contract audited with @SolidProof_io \\nTG: https://t.co/1w7YMafTV8  #CryptoHippies',\n",
       " '@greg16676935420 @Tesla Greg. Welcome to the club!! #Cybertruck #dogecoin #Doge4Cybertruck https://t.co/6ZYSoQYpxy',\n",
       " '@Tesla @elonmusk Respected Sirs  Please help me 🙏  my family have financial crisis  kindly just help me please please sir',\n",
       " '@Tesla @elonmusk If $SHIB hits .01 I’ll buy a cyber truck since then I can afford one 😂',\n",
       " '@ShibalnuNews @AheadoftheTrade @Tesla Time to F@©%ing EAT!!!!! https://t.co/CyabWFDqBz',\n",
       " \"Verified details on Tesla site, could be few possibilities\\n1. @elonmusk trolling #SHIBARMY \\n2. Someone at $TSLA is #SHIBARMY trolling @elonmusk to support $SHIB\\n3. Shiba is a code name for some Dog currency \\n4. #SHIB is COMING!\\n\\nIn any case please DYOR, and don't stake your farm\",\n",
       " '@Tesla @elonmusk What is going baby Floki wear?',\n",
       " '@its_menieb @Tesla Oh my gosh!\\nLooks creepy.',\n",
       " 'SHIBA INU - TESLA GOING TO START TAKING SHIBA INU COIN AS PAYMENT?! MASS... https://t.co/AQ4A37gGSr via @YouTube',\n",
       " '@elonmusk if not $1millipn, a house can I at least get a @Tesla ?',\n",
       " 'Its even got wonderful sound. #CanYouHearThemNow? 🎚 volume up! https://t.co/lmAPyDC7md',\n",
       " '@WFPChief @elonmusk @Tesla @Hertz Cat got your all righteous tongue🤣',\n",
       " '@elonmusk “Dad, the Tesla’s talking!” 😂 Tobie is in the spotlight! I wish I can open and close the frunk automatically to give candies. 🧙Lots of videos I need to sort out. Thanks @ring ! #tesla @TOCNYS @Tesla @TeslaNY https://t.co/7G0UUs3cGS',\n",
       " '@JamesHoffmann3 @Waymo Disagree because you read Tesla literally. Tesla will add back radar and other sensors. They are simply copying mobileye and perfecting their vision only car before adding back more sensors later.',\n",
       " ...]"
      ]
     },
     "execution_count": 5,
     "metadata": {},
     "output_type": "execute_result"
    }
   ],
   "source": [
    "api_tweet_list"
   ]
  },
  {
   "cell_type": "code",
   "execution_count": 6,
   "id": "7d0e1361",
   "metadata": {},
   "outputs": [
    {
     "name": "stderr",
     "output_type": "stream",
     "text": [
      "[nltk_data] Downloading package stopwords to\n",
      "[nltk_data]     /Users/samanthavillanueva/nltk_data...\n",
      "[nltk_data]   Package stopwords is already up-to-date!\n"
     ]
    },
    {
     "data": {
      "text/html": [
       "<div>\n",
       "<style scoped>\n",
       "    .dataframe tbody tr th:only-of-type {\n",
       "        vertical-align: middle;\n",
       "    }\n",
       "\n",
       "    .dataframe tbody tr th {\n",
       "        vertical-align: top;\n",
       "    }\n",
       "\n",
       "    .dataframe thead th {\n",
       "        text-align: right;\n",
       "    }\n",
       "</style>\n",
       "<table border=\"1\" class=\"dataframe\">\n",
       "  <thead>\n",
       "    <tr style=\"text-align: right;\">\n",
       "      <th></th>\n",
       "      <th>text</th>\n",
       "    </tr>\n",
       "  </thead>\n",
       "  <tbody>\n",
       "    <tr>\n",
       "      <th>0</th>\n",
       "      <td>[car, hardware, needed, self, driving, elon, lie]</td>\n",
       "    </tr>\n",
       "    <tr>\n",
       "      <th>1</th>\n",
       "      <td>[hi, trying, startup, innovating, app, share, ...</td>\n",
       "    </tr>\n",
       "    <tr>\n",
       "      <th>2</th>\n",
       "      <td>[real, interest, driving, ginormous, overheati...</td>\n",
       "    </tr>\n",
       "    <tr>\n",
       "      <th>3</th>\n",
       "      <td>[hi, trying, startup, innovating, app, share, ...</td>\n",
       "    </tr>\n",
       "    <tr>\n",
       "      <th>4</th>\n",
       "      <td>[elon, musk, say, hell, sell, tesla, stock, un...</td>\n",
       "    </tr>\n",
       "    <tr>\n",
       "      <th>...</th>\n",
       "      <td>...</td>\n",
       "    </tr>\n",
       "    <tr>\n",
       "      <th>43807</th>\n",
       "      <td>[thank, cooperation, ..., good, night]</td>\n",
       "    </tr>\n",
       "    <tr>\n",
       "      <th>43808</th>\n",
       "      <td>[pepsico, claim, first-ever, tesla, semi, truc...</td>\n",
       "    </tr>\n",
       "    <tr>\n",
       "      <th>43809</th>\n",
       "      <td>[tesla, share, slide, elon, musk, twitter, pol...</td>\n",
       "    </tr>\n",
       "    <tr>\n",
       "      <th>43810</th>\n",
       "      <td>[tesla's, share, price, fallen, elon, musk's, ...</td>\n",
       "    </tr>\n",
       "    <tr>\n",
       "      <th>43811</th>\n",
       "      <td>[lfg, fill, bag, start, moon, ability, buy, te...</td>\n",
       "    </tr>\n",
       "  </tbody>\n",
       "</table>\n",
       "<p>43812 rows × 1 columns</p>\n",
       "</div>"
      ],
      "text/plain": [
       "                                                    text\n",
       "0      [car, hardware, needed, self, driving, elon, lie]\n",
       "1      [hi, trying, startup, innovating, app, share, ...\n",
       "2      [real, interest, driving, ginormous, overheati...\n",
       "3      [hi, trying, startup, innovating, app, share, ...\n",
       "4      [elon, musk, say, hell, sell, tesla, stock, un...\n",
       "...                                                  ...\n",
       "43807             [thank, cooperation, ..., good, night]\n",
       "43808  [pepsico, claim, first-ever, tesla, semi, truc...\n",
       "43809  [tesla, share, slide, elon, musk, twitter, pol...\n",
       "43810  [tesla's, share, price, fallen, elon, musk's, ...\n",
       "43811  [lfg, fill, bag, start, moon, ability, buy, te...\n",
       "\n",
       "[43812 rows x 1 columns]"
      ]
     },
     "execution_count": 6,
     "metadata": {},
     "output_type": "execute_result"
    }
   ],
   "source": [
    "# import cleaning function\n",
    "from Cleaning_PseudoCode.Final_Data_Cleaning import clean_tweets_func\n",
    "\n",
    "# create function to make text df\n",
    "def create_text_df():\n",
    "    text = clean_tweets_func(api_tweet_list)\n",
    "    text_df = pd.DataFrame({\"text\":text})\n",
    "    return text_df\n",
    "\n",
    "# call create_text_df function\n",
    "text_df = create_text_df()\n",
    "text_df"
   ]
  },
  {
   "cell_type": "code",
   "execution_count": 8,
   "id": "8b730c71",
   "metadata": {},
   "outputs": [
    {
     "data": {
      "text/html": [
       "<div>\n",
       "<style scoped>\n",
       "    .dataframe tbody tr th:only-of-type {\n",
       "        vertical-align: middle;\n",
       "    }\n",
       "\n",
       "    .dataframe tbody tr th {\n",
       "        vertical-align: top;\n",
       "    }\n",
       "\n",
       "    .dataframe thead th {\n",
       "        text-align: right;\n",
       "    }\n",
       "</style>\n",
       "<table border=\"1\" class=\"dataframe\">\n",
       "  <thead>\n",
       "    <tr style=\"text-align: right;\">\n",
       "      <th></th>\n",
       "      <th>text</th>\n",
       "      <th>text_string</th>\n",
       "    </tr>\n",
       "  </thead>\n",
       "  <tbody>\n",
       "    <tr>\n",
       "      <th>0</th>\n",
       "      <td>[car, hardware, needed, self, driving, elon, lie]</td>\n",
       "      <td>['car', 'hardware', 'needed', 'self', 'driving...</td>\n",
       "    </tr>\n",
       "    <tr>\n",
       "      <th>1</th>\n",
       "      <td>[hi, trying, startup, innovating, app, share, ...</td>\n",
       "      <td>['hi', 'trying', 'startup', 'innovating', 'app...</td>\n",
       "    </tr>\n",
       "    <tr>\n",
       "      <th>2</th>\n",
       "      <td>[real, interest, driving, ginormous, overheati...</td>\n",
       "      <td>['real', 'interest', 'driving', 'ginormous', '...</td>\n",
       "    </tr>\n",
       "    <tr>\n",
       "      <th>3</th>\n",
       "      <td>[hi, trying, startup, innovating, app, share, ...</td>\n",
       "      <td>['hi', 'trying', 'startup', 'innovating', 'app...</td>\n",
       "    </tr>\n",
       "    <tr>\n",
       "      <th>4</th>\n",
       "      <td>[elon, musk, say, hell, sell, tesla, stock, un...</td>\n",
       "      <td>['elon', 'musk', 'say', 'hell', 'sell', 'tesla...</td>\n",
       "    </tr>\n",
       "  </tbody>\n",
       "</table>\n",
       "</div>"
      ],
      "text/plain": [
       "                                                text  \\\n",
       "0  [car, hardware, needed, self, driving, elon, lie]   \n",
       "1  [hi, trying, startup, innovating, app, share, ...   \n",
       "2  [real, interest, driving, ginormous, overheati...   \n",
       "3  [hi, trying, startup, innovating, app, share, ...   \n",
       "4  [elon, musk, say, hell, sell, tesla, stock, un...   \n",
       "\n",
       "                                         text_string  \n",
       "0  ['car', 'hardware', 'needed', 'self', 'driving...  \n",
       "1  ['hi', 'trying', 'startup', 'innovating', 'app...  \n",
       "2  ['real', 'interest', 'driving', 'ginormous', '...  \n",
       "3  ['hi', 'trying', 'startup', 'innovating', 'app...  \n",
       "4  ['elon', 'musk', 'say', 'hell', 'sell', 'tesla...  "
      ]
     },
     "execution_count": 8,
     "metadata": {},
     "output_type": "execute_result"
    }
   ],
   "source": [
    "# make list to list of strings so model can be applied\n",
    "text_df[\"text_string\"] = text_df[\"text\"].apply(lambda x: str(x))\n",
    "text_df.head()"
   ]
  },
  {
   "cell_type": "code",
   "execution_count": 9,
   "id": "d1fe4bbd",
   "metadata": {},
   "outputs": [],
   "source": [
    "# import vertorizer and model\n",
    "from sklearn.svm import LinearSVC\n",
    "from sklearn.feature_extraction.text import TfidfVectorizer\n",
    "import pickle\n",
    "\n",
    "# load vectorizer and machine learning model\n",
    "vectorizer = pickle.load(open('Modeling/vectorizer.pkl', 'rb'))\n",
    "model = pickle.load(open('Modeling/model.pkl', 'rb'))\n",
    "\n",
    "tweet_predict = text_df[\"text_string\"]\n",
    "tweet_vectorized = vectorizer.transform(tweet_predict).toarray()\n",
    "prediction = model.predict(tweet_vectorized)"
   ]
  },
  {
   "cell_type": "code",
   "execution_count": 15,
   "id": "8507f959",
   "metadata": {},
   "outputs": [
    {
     "data": {
      "text/html": [
       "<div>\n",
       "<style scoped>\n",
       "    .dataframe tbody tr th:only-of-type {\n",
       "        vertical-align: middle;\n",
       "    }\n",
       "\n",
       "    .dataframe tbody tr th {\n",
       "        vertical-align: top;\n",
       "    }\n",
       "\n",
       "    .dataframe thead th {\n",
       "        text-align: right;\n",
       "    }\n",
       "</style>\n",
       "<table border=\"1\" class=\"dataframe\">\n",
       "  <thead>\n",
       "    <tr style=\"text-align: right;\">\n",
       "      <th></th>\n",
       "      <th>created_at</th>\n",
       "      <th>created_date</th>\n",
       "      <th>weekday</th>\n",
       "      <th>hours</th>\n",
       "      <th>tweet</th>\n",
       "      <th>text</th>\n",
       "      <th>score</th>\n",
       "    </tr>\n",
       "  </thead>\n",
       "  <tbody>\n",
       "    <tr>\n",
       "      <th>0</th>\n",
       "      <td>2021-11-01 00:59:56+00:00</td>\n",
       "      <td>2021-11-01</td>\n",
       "      <td>Monday</td>\n",
       "      <td>00</td>\n",
       "      <td>@lj3252 @Teslarati @ResidentSponge Cars since ...</td>\n",
       "      <td>[car, hardware, needed, self, driving, elon, lie]</td>\n",
       "      <td>0</td>\n",
       "    </tr>\n",
       "    <tr>\n",
       "      <th>1</th>\n",
       "      <td>2021-11-01 00:59:53+00:00</td>\n",
       "      <td>2021-11-01</td>\n",
       "      <td>Monday</td>\n",
       "      <td>00</td>\n",
       "      <td>@elonmusk @garycruz @truth_tesla @zshahan3 @ga...</td>\n",
       "      <td>[hi, trying, startup, innovating, app, share, ...</td>\n",
       "      <td>1</td>\n",
       "    </tr>\n",
       "    <tr>\n",
       "      <th>2</th>\n",
       "      <td>2021-11-01 00:59:46+00:00</td>\n",
       "      <td>2021-11-01</td>\n",
       "      <td>Monday</td>\n",
       "      <td>00</td>\n",
       "      <td>@AgnesOfTheDogs @Tesla @telsa Indeed! I have n...</td>\n",
       "      <td>[real, interest, driving, ginormous, overheati...</td>\n",
       "      <td>1</td>\n",
       "    </tr>\n",
       "    <tr>\n",
       "      <th>3</th>\n",
       "      <td>2021-11-01 00:59:41+00:00</td>\n",
       "      <td>2021-11-01</td>\n",
       "      <td>Monday</td>\n",
       "      <td>00</td>\n",
       "      <td>@elonmusk @garycruz @truth_tesla @zshahan3 @ga...</td>\n",
       "      <td>[hi, trying, startup, innovating, app, share, ...</td>\n",
       "      <td>1</td>\n",
       "    </tr>\n",
       "    <tr>\n",
       "      <th>4</th>\n",
       "      <td>2021-11-01 00:59:37+00:00</td>\n",
       "      <td>2021-11-01</td>\n",
       "      <td>Monday</td>\n",
       "      <td>00</td>\n",
       "      <td>Elon Musk says he’ll sell Tesla stock if UN of...</td>\n",
       "      <td>[elon, musk, say, hell, sell, tesla, stock, un...</td>\n",
       "      <td>0</td>\n",
       "    </tr>\n",
       "  </tbody>\n",
       "</table>\n",
       "</div>"
      ],
      "text/plain": [
       "                  created_at created_date weekday hours  \\\n",
       "0  2021-11-01 00:59:56+00:00   2021-11-01  Monday    00   \n",
       "1  2021-11-01 00:59:53+00:00   2021-11-01  Monday    00   \n",
       "2  2021-11-01 00:59:46+00:00   2021-11-01  Monday    00   \n",
       "3  2021-11-01 00:59:41+00:00   2021-11-01  Monday    00   \n",
       "4  2021-11-01 00:59:37+00:00   2021-11-01  Monday    00   \n",
       "\n",
       "                                               tweet  \\\n",
       "0  @lj3252 @Teslarati @ResidentSponge Cars since ...   \n",
       "1  @elonmusk @garycruz @truth_tesla @zshahan3 @ga...   \n",
       "2  @AgnesOfTheDogs @Tesla @telsa Indeed! I have n...   \n",
       "3  @elonmusk @garycruz @truth_tesla @zshahan3 @ga...   \n",
       "4  Elon Musk says he’ll sell Tesla stock if UN of...   \n",
       "\n",
       "                                                text  score  \n",
       "0  [car, hardware, needed, self, driving, elon, lie]      0  \n",
       "1  [hi, trying, startup, innovating, app, share, ...      1  \n",
       "2  [real, interest, driving, ginormous, overheati...      1  \n",
       "3  [hi, trying, startup, innovating, app, share, ...      1  \n",
       "4  [elon, musk, say, hell, sell, tesla, stock, un...      0  "
      ]
     },
     "execution_count": 15,
     "metadata": {},
     "output_type": "execute_result"
    }
   ],
   "source": [
    "# create df of scored tweets\n",
    "prediction_df = pd.DataFrame(prediction, columns=[\"score\"])\n",
    "# combine dataframes\n",
    "combined_prediction_df = pd.concat([api_tweets_df, text_df[\"text\"], prediction_df],axis=1)\n",
    "combined_prediction_df.head()"
   ]
  },
  {
   "cell_type": "code",
   "execution_count": 16,
   "id": "56ce31e8",
   "metadata": {},
   "outputs": [],
   "source": [
    "# save scored tweets\n",
    "combined_prediction_df.to_csv('cleaned_scored_tweets.csv', index = False)\n",
    "# save to json format \n",
    "combined_prediction_df.to_json('cleaned_scored_tweets.json', orient='records')"
   ]
  },
  {
   "cell_type": "code",
   "execution_count": 17,
   "id": "fb0606a2",
   "metadata": {},
   "outputs": [
    {
     "data": {
      "application/vnd.plotly.v1+json": {
       "config": {
        "plotlyServerURL": "https://plot.ly"
       },
       "data": [
        {
         "alignmentgroup": "True",
         "hovertemplate": "Sentiment=%{x}<br>Count=%{y}<extra></extra>",
         "legendgroup": "",
         "marker": {
          "color": "#636efa",
          "pattern": {
           "shape": ""
          }
         },
         "name": "",
         "offsetgroup": "",
         "orientation": "v",
         "showlegend": false,
         "textposition": "auto",
         "type": "bar",
         "x": [
          "Negative",
          "Positive"
         ],
         "xaxis": "x",
         "y": [
          14203,
          29609
         ],
         "yaxis": "y"
        }
       ],
       "layout": {
        "bargap": 0.3,
        "barmode": "group",
        "legend": {
         "tracegroupgap": 0
        },
        "margin": {
         "t": 60
        },
        "template": {
         "data": {
          "bar": [
           {
            "error_x": {
             "color": "#2a3f5f"
            },
            "error_y": {
             "color": "#2a3f5f"
            },
            "marker": {
             "line": {
              "color": "#E5ECF6",
              "width": 0.5
             },
             "pattern": {
              "fillmode": "overlay",
              "size": 10,
              "solidity": 0.2
             }
            },
            "type": "bar"
           }
          ],
          "barpolar": [
           {
            "marker": {
             "line": {
              "color": "#E5ECF6",
              "width": 0.5
             },
             "pattern": {
              "fillmode": "overlay",
              "size": 10,
              "solidity": 0.2
             }
            },
            "type": "barpolar"
           }
          ],
          "carpet": [
           {
            "aaxis": {
             "endlinecolor": "#2a3f5f",
             "gridcolor": "white",
             "linecolor": "white",
             "minorgridcolor": "white",
             "startlinecolor": "#2a3f5f"
            },
            "baxis": {
             "endlinecolor": "#2a3f5f",
             "gridcolor": "white",
             "linecolor": "white",
             "minorgridcolor": "white",
             "startlinecolor": "#2a3f5f"
            },
            "type": "carpet"
           }
          ],
          "choropleth": [
           {
            "colorbar": {
             "outlinewidth": 0,
             "ticks": ""
            },
            "type": "choropleth"
           }
          ],
          "contour": [
           {
            "colorbar": {
             "outlinewidth": 0,
             "ticks": ""
            },
            "colorscale": [
             [
              0,
              "#0d0887"
             ],
             [
              0.1111111111111111,
              "#46039f"
             ],
             [
              0.2222222222222222,
              "#7201a8"
             ],
             [
              0.3333333333333333,
              "#9c179e"
             ],
             [
              0.4444444444444444,
              "#bd3786"
             ],
             [
              0.5555555555555556,
              "#d8576b"
             ],
             [
              0.6666666666666666,
              "#ed7953"
             ],
             [
              0.7777777777777778,
              "#fb9f3a"
             ],
             [
              0.8888888888888888,
              "#fdca26"
             ],
             [
              1,
              "#f0f921"
             ]
            ],
            "type": "contour"
           }
          ],
          "contourcarpet": [
           {
            "colorbar": {
             "outlinewidth": 0,
             "ticks": ""
            },
            "type": "contourcarpet"
           }
          ],
          "heatmap": [
           {
            "colorbar": {
             "outlinewidth": 0,
             "ticks": ""
            },
            "colorscale": [
             [
              0,
              "#0d0887"
             ],
             [
              0.1111111111111111,
              "#46039f"
             ],
             [
              0.2222222222222222,
              "#7201a8"
             ],
             [
              0.3333333333333333,
              "#9c179e"
             ],
             [
              0.4444444444444444,
              "#bd3786"
             ],
             [
              0.5555555555555556,
              "#d8576b"
             ],
             [
              0.6666666666666666,
              "#ed7953"
             ],
             [
              0.7777777777777778,
              "#fb9f3a"
             ],
             [
              0.8888888888888888,
              "#fdca26"
             ],
             [
              1,
              "#f0f921"
             ]
            ],
            "type": "heatmap"
           }
          ],
          "heatmapgl": [
           {
            "colorbar": {
             "outlinewidth": 0,
             "ticks": ""
            },
            "colorscale": [
             [
              0,
              "#0d0887"
             ],
             [
              0.1111111111111111,
              "#46039f"
             ],
             [
              0.2222222222222222,
              "#7201a8"
             ],
             [
              0.3333333333333333,
              "#9c179e"
             ],
             [
              0.4444444444444444,
              "#bd3786"
             ],
             [
              0.5555555555555556,
              "#d8576b"
             ],
             [
              0.6666666666666666,
              "#ed7953"
             ],
             [
              0.7777777777777778,
              "#fb9f3a"
             ],
             [
              0.8888888888888888,
              "#fdca26"
             ],
             [
              1,
              "#f0f921"
             ]
            ],
            "type": "heatmapgl"
           }
          ],
          "histogram": [
           {
            "marker": {
             "pattern": {
              "fillmode": "overlay",
              "size": 10,
              "solidity": 0.2
             }
            },
            "type": "histogram"
           }
          ],
          "histogram2d": [
           {
            "colorbar": {
             "outlinewidth": 0,
             "ticks": ""
            },
            "colorscale": [
             [
              0,
              "#0d0887"
             ],
             [
              0.1111111111111111,
              "#46039f"
             ],
             [
              0.2222222222222222,
              "#7201a8"
             ],
             [
              0.3333333333333333,
              "#9c179e"
             ],
             [
              0.4444444444444444,
              "#bd3786"
             ],
             [
              0.5555555555555556,
              "#d8576b"
             ],
             [
              0.6666666666666666,
              "#ed7953"
             ],
             [
              0.7777777777777778,
              "#fb9f3a"
             ],
             [
              0.8888888888888888,
              "#fdca26"
             ],
             [
              1,
              "#f0f921"
             ]
            ],
            "type": "histogram2d"
           }
          ],
          "histogram2dcontour": [
           {
            "colorbar": {
             "outlinewidth": 0,
             "ticks": ""
            },
            "colorscale": [
             [
              0,
              "#0d0887"
             ],
             [
              0.1111111111111111,
              "#46039f"
             ],
             [
              0.2222222222222222,
              "#7201a8"
             ],
             [
              0.3333333333333333,
              "#9c179e"
             ],
             [
              0.4444444444444444,
              "#bd3786"
             ],
             [
              0.5555555555555556,
              "#d8576b"
             ],
             [
              0.6666666666666666,
              "#ed7953"
             ],
             [
              0.7777777777777778,
              "#fb9f3a"
             ],
             [
              0.8888888888888888,
              "#fdca26"
             ],
             [
              1,
              "#f0f921"
             ]
            ],
            "type": "histogram2dcontour"
           }
          ],
          "mesh3d": [
           {
            "colorbar": {
             "outlinewidth": 0,
             "ticks": ""
            },
            "type": "mesh3d"
           }
          ],
          "parcoords": [
           {
            "line": {
             "colorbar": {
              "outlinewidth": 0,
              "ticks": ""
             }
            },
            "type": "parcoords"
           }
          ],
          "pie": [
           {
            "automargin": true,
            "type": "pie"
           }
          ],
          "scatter": [
           {
            "marker": {
             "colorbar": {
              "outlinewidth": 0,
              "ticks": ""
             }
            },
            "type": "scatter"
           }
          ],
          "scatter3d": [
           {
            "line": {
             "colorbar": {
              "outlinewidth": 0,
              "ticks": ""
             }
            },
            "marker": {
             "colorbar": {
              "outlinewidth": 0,
              "ticks": ""
             }
            },
            "type": "scatter3d"
           }
          ],
          "scattercarpet": [
           {
            "marker": {
             "colorbar": {
              "outlinewidth": 0,
              "ticks": ""
             }
            },
            "type": "scattercarpet"
           }
          ],
          "scattergeo": [
           {
            "marker": {
             "colorbar": {
              "outlinewidth": 0,
              "ticks": ""
             }
            },
            "type": "scattergeo"
           }
          ],
          "scattergl": [
           {
            "marker": {
             "colorbar": {
              "outlinewidth": 0,
              "ticks": ""
             }
            },
            "type": "scattergl"
           }
          ],
          "scattermapbox": [
           {
            "marker": {
             "colorbar": {
              "outlinewidth": 0,
              "ticks": ""
             }
            },
            "type": "scattermapbox"
           }
          ],
          "scatterpolar": [
           {
            "marker": {
             "colorbar": {
              "outlinewidth": 0,
              "ticks": ""
             }
            },
            "type": "scatterpolar"
           }
          ],
          "scatterpolargl": [
           {
            "marker": {
             "colorbar": {
              "outlinewidth": 0,
              "ticks": ""
             }
            },
            "type": "scatterpolargl"
           }
          ],
          "scatterternary": [
           {
            "marker": {
             "colorbar": {
              "outlinewidth": 0,
              "ticks": ""
             }
            },
            "type": "scatterternary"
           }
          ],
          "surface": [
           {
            "colorbar": {
             "outlinewidth": 0,
             "ticks": ""
            },
            "colorscale": [
             [
              0,
              "#0d0887"
             ],
             [
              0.1111111111111111,
              "#46039f"
             ],
             [
              0.2222222222222222,
              "#7201a8"
             ],
             [
              0.3333333333333333,
              "#9c179e"
             ],
             [
              0.4444444444444444,
              "#bd3786"
             ],
             [
              0.5555555555555556,
              "#d8576b"
             ],
             [
              0.6666666666666666,
              "#ed7953"
             ],
             [
              0.7777777777777778,
              "#fb9f3a"
             ],
             [
              0.8888888888888888,
              "#fdca26"
             ],
             [
              1,
              "#f0f921"
             ]
            ],
            "type": "surface"
           }
          ],
          "table": [
           {
            "cells": {
             "fill": {
              "color": "#EBF0F8"
             },
             "line": {
              "color": "white"
             }
            },
            "header": {
             "fill": {
              "color": "#C8D4E3"
             },
             "line": {
              "color": "white"
             }
            },
            "type": "table"
           }
          ]
         },
         "layout": {
          "annotationdefaults": {
           "arrowcolor": "#2a3f5f",
           "arrowhead": 0,
           "arrowwidth": 1
          },
          "autotypenumbers": "strict",
          "coloraxis": {
           "colorbar": {
            "outlinewidth": 0,
            "ticks": ""
           }
          },
          "colorscale": {
           "diverging": [
            [
             0,
             "#8e0152"
            ],
            [
             0.1,
             "#c51b7d"
            ],
            [
             0.2,
             "#de77ae"
            ],
            [
             0.3,
             "#f1b6da"
            ],
            [
             0.4,
             "#fde0ef"
            ],
            [
             0.5,
             "#f7f7f7"
            ],
            [
             0.6,
             "#e6f5d0"
            ],
            [
             0.7,
             "#b8e186"
            ],
            [
             0.8,
             "#7fbc41"
            ],
            [
             0.9,
             "#4d9221"
            ],
            [
             1,
             "#276419"
            ]
           ],
           "sequential": [
            [
             0,
             "#0d0887"
            ],
            [
             0.1111111111111111,
             "#46039f"
            ],
            [
             0.2222222222222222,
             "#7201a8"
            ],
            [
             0.3333333333333333,
             "#9c179e"
            ],
            [
             0.4444444444444444,
             "#bd3786"
            ],
            [
             0.5555555555555556,
             "#d8576b"
            ],
            [
             0.6666666666666666,
             "#ed7953"
            ],
            [
             0.7777777777777778,
             "#fb9f3a"
            ],
            [
             0.8888888888888888,
             "#fdca26"
            ],
            [
             1,
             "#f0f921"
            ]
           ],
           "sequentialminus": [
            [
             0,
             "#0d0887"
            ],
            [
             0.1111111111111111,
             "#46039f"
            ],
            [
             0.2222222222222222,
             "#7201a8"
            ],
            [
             0.3333333333333333,
             "#9c179e"
            ],
            [
             0.4444444444444444,
             "#bd3786"
            ],
            [
             0.5555555555555556,
             "#d8576b"
            ],
            [
             0.6666666666666666,
             "#ed7953"
            ],
            [
             0.7777777777777778,
             "#fb9f3a"
            ],
            [
             0.8888888888888888,
             "#fdca26"
            ],
            [
             1,
             "#f0f921"
            ]
           ]
          },
          "colorway": [
           "#636efa",
           "#EF553B",
           "#00cc96",
           "#ab63fa",
           "#FFA15A",
           "#19d3f3",
           "#FF6692",
           "#B6E880",
           "#FF97FF",
           "#FECB52"
          ],
          "font": {
           "color": "#2a3f5f"
          },
          "geo": {
           "bgcolor": "white",
           "lakecolor": "white",
           "landcolor": "#E5ECF6",
           "showlakes": true,
           "showland": true,
           "subunitcolor": "white"
          },
          "hoverlabel": {
           "align": "left"
          },
          "hovermode": "closest",
          "mapbox": {
           "style": "light"
          },
          "paper_bgcolor": "white",
          "plot_bgcolor": "#E5ECF6",
          "polar": {
           "angularaxis": {
            "gridcolor": "white",
            "linecolor": "white",
            "ticks": ""
           },
           "bgcolor": "#E5ECF6",
           "radialaxis": {
            "gridcolor": "white",
            "linecolor": "white",
            "ticks": ""
           }
          },
          "scene": {
           "xaxis": {
            "backgroundcolor": "#E5ECF6",
            "gridcolor": "white",
            "gridwidth": 2,
            "linecolor": "white",
            "showbackground": true,
            "ticks": "",
            "zerolinecolor": "white"
           },
           "yaxis": {
            "backgroundcolor": "#E5ECF6",
            "gridcolor": "white",
            "gridwidth": 2,
            "linecolor": "white",
            "showbackground": true,
            "ticks": "",
            "zerolinecolor": "white"
           },
           "zaxis": {
            "backgroundcolor": "#E5ECF6",
            "gridcolor": "white",
            "gridwidth": 2,
            "linecolor": "white",
            "showbackground": true,
            "ticks": "",
            "zerolinecolor": "white"
           }
          },
          "shapedefaults": {
           "line": {
            "color": "#2a3f5f"
           }
          },
          "ternary": {
           "aaxis": {
            "gridcolor": "white",
            "linecolor": "white",
            "ticks": ""
           },
           "baxis": {
            "gridcolor": "white",
            "linecolor": "white",
            "ticks": ""
           },
           "bgcolor": "#E5ECF6",
           "caxis": {
            "gridcolor": "white",
            "linecolor": "white",
            "ticks": ""
           }
          },
          "title": {
           "x": 0.05
          },
          "xaxis": {
           "automargin": true,
           "gridcolor": "white",
           "linecolor": "white",
           "ticks": "",
           "title": {
            "standoff": 15
           },
           "zerolinecolor": "white",
           "zerolinewidth": 2
          },
          "yaxis": {
           "automargin": true,
           "gridcolor": "white",
           "linecolor": "white",
           "ticks": "",
           "title": {
            "standoff": 15
           },
           "zerolinecolor": "white",
           "zerolinewidth": 2
          }
         }
        },
        "xaxis": {
         "anchor": "y",
         "domain": [
          0,
          1
         ],
         "title": {
          "text": "Sentiment"
         }
        },
        "yaxis": {
         "anchor": "x",
         "domain": [
          0,
          1
         ],
         "title": {
          "text": "Count"
         }
        }
       }
      },
      "text/html": [
       "<div>                            <div id=\"fa376b9d-dcc1-4a45-8af8-b39922dda59d\" class=\"plotly-graph-div\" style=\"height:525px; width:100%;\"></div>            <script type=\"text/javascript\">                require([\"plotly\"], function(Plotly) {                    window.PLOTLYENV=window.PLOTLYENV || {};                                    if (document.getElementById(\"fa376b9d-dcc1-4a45-8af8-b39922dda59d\")) {                    Plotly.newPlot(                        \"fa376b9d-dcc1-4a45-8af8-b39922dda59d\",                        [{\"alignmentgroup\":\"True\",\"hovertemplate\":\"Sentiment=%{x}<br>Count=%{y}<extra></extra>\",\"legendgroup\":\"\",\"marker\":{\"color\":\"#636efa\",\"pattern\":{\"shape\":\"\"}},\"name\":\"\",\"offsetgroup\":\"\",\"orientation\":\"v\",\"showlegend\":false,\"textposition\":\"auto\",\"type\":\"bar\",\"x\":[\"Negative\",\"Positive\"],\"xaxis\":\"x\",\"y\":[14203,29609],\"yaxis\":\"y\"}],                        {\"bargap\":0.3,\"barmode\":\"group\",\"legend\":{\"tracegroupgap\":0},\"margin\":{\"t\":60},\"template\":{\"data\":{\"bar\":[{\"error_x\":{\"color\":\"#2a3f5f\"},\"error_y\":{\"color\":\"#2a3f5f\"},\"marker\":{\"line\":{\"color\":\"#E5ECF6\",\"width\":0.5},\"pattern\":{\"fillmode\":\"overlay\",\"size\":10,\"solidity\":0.2}},\"type\":\"bar\"}],\"barpolar\":[{\"marker\":{\"line\":{\"color\":\"#E5ECF6\",\"width\":0.5},\"pattern\":{\"fillmode\":\"overlay\",\"size\":10,\"solidity\":0.2}},\"type\":\"barpolar\"}],\"carpet\":[{\"aaxis\":{\"endlinecolor\":\"#2a3f5f\",\"gridcolor\":\"white\",\"linecolor\":\"white\",\"minorgridcolor\":\"white\",\"startlinecolor\":\"#2a3f5f\"},\"baxis\":{\"endlinecolor\":\"#2a3f5f\",\"gridcolor\":\"white\",\"linecolor\":\"white\",\"minorgridcolor\":\"white\",\"startlinecolor\":\"#2a3f5f\"},\"type\":\"carpet\"}],\"choropleth\":[{\"colorbar\":{\"outlinewidth\":0,\"ticks\":\"\"},\"type\":\"choropleth\"}],\"contour\":[{\"colorbar\":{\"outlinewidth\":0,\"ticks\":\"\"},\"colorscale\":[[0.0,\"#0d0887\"],[0.1111111111111111,\"#46039f\"],[0.2222222222222222,\"#7201a8\"],[0.3333333333333333,\"#9c179e\"],[0.4444444444444444,\"#bd3786\"],[0.5555555555555556,\"#d8576b\"],[0.6666666666666666,\"#ed7953\"],[0.7777777777777778,\"#fb9f3a\"],[0.8888888888888888,\"#fdca26\"],[1.0,\"#f0f921\"]],\"type\":\"contour\"}],\"contourcarpet\":[{\"colorbar\":{\"outlinewidth\":0,\"ticks\":\"\"},\"type\":\"contourcarpet\"}],\"heatmap\":[{\"colorbar\":{\"outlinewidth\":0,\"ticks\":\"\"},\"colorscale\":[[0.0,\"#0d0887\"],[0.1111111111111111,\"#46039f\"],[0.2222222222222222,\"#7201a8\"],[0.3333333333333333,\"#9c179e\"],[0.4444444444444444,\"#bd3786\"],[0.5555555555555556,\"#d8576b\"],[0.6666666666666666,\"#ed7953\"],[0.7777777777777778,\"#fb9f3a\"],[0.8888888888888888,\"#fdca26\"],[1.0,\"#f0f921\"]],\"type\":\"heatmap\"}],\"heatmapgl\":[{\"colorbar\":{\"outlinewidth\":0,\"ticks\":\"\"},\"colorscale\":[[0.0,\"#0d0887\"],[0.1111111111111111,\"#46039f\"],[0.2222222222222222,\"#7201a8\"],[0.3333333333333333,\"#9c179e\"],[0.4444444444444444,\"#bd3786\"],[0.5555555555555556,\"#d8576b\"],[0.6666666666666666,\"#ed7953\"],[0.7777777777777778,\"#fb9f3a\"],[0.8888888888888888,\"#fdca26\"],[1.0,\"#f0f921\"]],\"type\":\"heatmapgl\"}],\"histogram\":[{\"marker\":{\"pattern\":{\"fillmode\":\"overlay\",\"size\":10,\"solidity\":0.2}},\"type\":\"histogram\"}],\"histogram2d\":[{\"colorbar\":{\"outlinewidth\":0,\"ticks\":\"\"},\"colorscale\":[[0.0,\"#0d0887\"],[0.1111111111111111,\"#46039f\"],[0.2222222222222222,\"#7201a8\"],[0.3333333333333333,\"#9c179e\"],[0.4444444444444444,\"#bd3786\"],[0.5555555555555556,\"#d8576b\"],[0.6666666666666666,\"#ed7953\"],[0.7777777777777778,\"#fb9f3a\"],[0.8888888888888888,\"#fdca26\"],[1.0,\"#f0f921\"]],\"type\":\"histogram2d\"}],\"histogram2dcontour\":[{\"colorbar\":{\"outlinewidth\":0,\"ticks\":\"\"},\"colorscale\":[[0.0,\"#0d0887\"],[0.1111111111111111,\"#46039f\"],[0.2222222222222222,\"#7201a8\"],[0.3333333333333333,\"#9c179e\"],[0.4444444444444444,\"#bd3786\"],[0.5555555555555556,\"#d8576b\"],[0.6666666666666666,\"#ed7953\"],[0.7777777777777778,\"#fb9f3a\"],[0.8888888888888888,\"#fdca26\"],[1.0,\"#f0f921\"]],\"type\":\"histogram2dcontour\"}],\"mesh3d\":[{\"colorbar\":{\"outlinewidth\":0,\"ticks\":\"\"},\"type\":\"mesh3d\"}],\"parcoords\":[{\"line\":{\"colorbar\":{\"outlinewidth\":0,\"ticks\":\"\"}},\"type\":\"parcoords\"}],\"pie\":[{\"automargin\":true,\"type\":\"pie\"}],\"scatter\":[{\"marker\":{\"colorbar\":{\"outlinewidth\":0,\"ticks\":\"\"}},\"type\":\"scatter\"}],\"scatter3d\":[{\"line\":{\"colorbar\":{\"outlinewidth\":0,\"ticks\":\"\"}},\"marker\":{\"colorbar\":{\"outlinewidth\":0,\"ticks\":\"\"}},\"type\":\"scatter3d\"}],\"scattercarpet\":[{\"marker\":{\"colorbar\":{\"outlinewidth\":0,\"ticks\":\"\"}},\"type\":\"scattercarpet\"}],\"scattergeo\":[{\"marker\":{\"colorbar\":{\"outlinewidth\":0,\"ticks\":\"\"}},\"type\":\"scattergeo\"}],\"scattergl\":[{\"marker\":{\"colorbar\":{\"outlinewidth\":0,\"ticks\":\"\"}},\"type\":\"scattergl\"}],\"scattermapbox\":[{\"marker\":{\"colorbar\":{\"outlinewidth\":0,\"ticks\":\"\"}},\"type\":\"scattermapbox\"}],\"scatterpolar\":[{\"marker\":{\"colorbar\":{\"outlinewidth\":0,\"ticks\":\"\"}},\"type\":\"scatterpolar\"}],\"scatterpolargl\":[{\"marker\":{\"colorbar\":{\"outlinewidth\":0,\"ticks\":\"\"}},\"type\":\"scatterpolargl\"}],\"scatterternary\":[{\"marker\":{\"colorbar\":{\"outlinewidth\":0,\"ticks\":\"\"}},\"type\":\"scatterternary\"}],\"surface\":[{\"colorbar\":{\"outlinewidth\":0,\"ticks\":\"\"},\"colorscale\":[[0.0,\"#0d0887\"],[0.1111111111111111,\"#46039f\"],[0.2222222222222222,\"#7201a8\"],[0.3333333333333333,\"#9c179e\"],[0.4444444444444444,\"#bd3786\"],[0.5555555555555556,\"#d8576b\"],[0.6666666666666666,\"#ed7953\"],[0.7777777777777778,\"#fb9f3a\"],[0.8888888888888888,\"#fdca26\"],[1.0,\"#f0f921\"]],\"type\":\"surface\"}],\"table\":[{\"cells\":{\"fill\":{\"color\":\"#EBF0F8\"},\"line\":{\"color\":\"white\"}},\"header\":{\"fill\":{\"color\":\"#C8D4E3\"},\"line\":{\"color\":\"white\"}},\"type\":\"table\"}]},\"layout\":{\"annotationdefaults\":{\"arrowcolor\":\"#2a3f5f\",\"arrowhead\":0,\"arrowwidth\":1},\"autotypenumbers\":\"strict\",\"coloraxis\":{\"colorbar\":{\"outlinewidth\":0,\"ticks\":\"\"}},\"colorscale\":{\"diverging\":[[0,\"#8e0152\"],[0.1,\"#c51b7d\"],[0.2,\"#de77ae\"],[0.3,\"#f1b6da\"],[0.4,\"#fde0ef\"],[0.5,\"#f7f7f7\"],[0.6,\"#e6f5d0\"],[0.7,\"#b8e186\"],[0.8,\"#7fbc41\"],[0.9,\"#4d9221\"],[1,\"#276419\"]],\"sequential\":[[0.0,\"#0d0887\"],[0.1111111111111111,\"#46039f\"],[0.2222222222222222,\"#7201a8\"],[0.3333333333333333,\"#9c179e\"],[0.4444444444444444,\"#bd3786\"],[0.5555555555555556,\"#d8576b\"],[0.6666666666666666,\"#ed7953\"],[0.7777777777777778,\"#fb9f3a\"],[0.8888888888888888,\"#fdca26\"],[1.0,\"#f0f921\"]],\"sequentialminus\":[[0.0,\"#0d0887\"],[0.1111111111111111,\"#46039f\"],[0.2222222222222222,\"#7201a8\"],[0.3333333333333333,\"#9c179e\"],[0.4444444444444444,\"#bd3786\"],[0.5555555555555556,\"#d8576b\"],[0.6666666666666666,\"#ed7953\"],[0.7777777777777778,\"#fb9f3a\"],[0.8888888888888888,\"#fdca26\"],[1.0,\"#f0f921\"]]},\"colorway\":[\"#636efa\",\"#EF553B\",\"#00cc96\",\"#ab63fa\",\"#FFA15A\",\"#19d3f3\",\"#FF6692\",\"#B6E880\",\"#FF97FF\",\"#FECB52\"],\"font\":{\"color\":\"#2a3f5f\"},\"geo\":{\"bgcolor\":\"white\",\"lakecolor\":\"white\",\"landcolor\":\"#E5ECF6\",\"showlakes\":true,\"showland\":true,\"subunitcolor\":\"white\"},\"hoverlabel\":{\"align\":\"left\"},\"hovermode\":\"closest\",\"mapbox\":{\"style\":\"light\"},\"paper_bgcolor\":\"white\",\"plot_bgcolor\":\"#E5ECF6\",\"polar\":{\"angularaxis\":{\"gridcolor\":\"white\",\"linecolor\":\"white\",\"ticks\":\"\"},\"bgcolor\":\"#E5ECF6\",\"radialaxis\":{\"gridcolor\":\"white\",\"linecolor\":\"white\",\"ticks\":\"\"}},\"scene\":{\"xaxis\":{\"backgroundcolor\":\"#E5ECF6\",\"gridcolor\":\"white\",\"gridwidth\":2,\"linecolor\":\"white\",\"showbackground\":true,\"ticks\":\"\",\"zerolinecolor\":\"white\"},\"yaxis\":{\"backgroundcolor\":\"#E5ECF6\",\"gridcolor\":\"white\",\"gridwidth\":2,\"linecolor\":\"white\",\"showbackground\":true,\"ticks\":\"\",\"zerolinecolor\":\"white\"},\"zaxis\":{\"backgroundcolor\":\"#E5ECF6\",\"gridcolor\":\"white\",\"gridwidth\":2,\"linecolor\":\"white\",\"showbackground\":true,\"ticks\":\"\",\"zerolinecolor\":\"white\"}},\"shapedefaults\":{\"line\":{\"color\":\"#2a3f5f\"}},\"ternary\":{\"aaxis\":{\"gridcolor\":\"white\",\"linecolor\":\"white\",\"ticks\":\"\"},\"baxis\":{\"gridcolor\":\"white\",\"linecolor\":\"white\",\"ticks\":\"\"},\"bgcolor\":\"#E5ECF6\",\"caxis\":{\"gridcolor\":\"white\",\"linecolor\":\"white\",\"ticks\":\"\"}},\"title\":{\"x\":0.05},\"xaxis\":{\"automargin\":true,\"gridcolor\":\"white\",\"linecolor\":\"white\",\"ticks\":\"\",\"title\":{\"standoff\":15},\"zerolinecolor\":\"white\",\"zerolinewidth\":2},\"yaxis\":{\"automargin\":true,\"gridcolor\":\"white\",\"linecolor\":\"white\",\"ticks\":\"\",\"title\":{\"standoff\":15},\"zerolinecolor\":\"white\",\"zerolinewidth\":2}}},\"xaxis\":{\"anchor\":\"y\",\"domain\":[0.0,1.0],\"title\":{\"text\":\"Sentiment\"}},\"yaxis\":{\"anchor\":\"x\",\"domain\":[0.0,1.0],\"title\":{\"text\":\"Count\"}}},                        {\"responsive\": true}                    ).then(function(){\n",
       "                            \n",
       "var gd = document.getElementById('fa376b9d-dcc1-4a45-8af8-b39922dda59d');\n",
       "var x = new MutationObserver(function (mutations, observer) {{\n",
       "        var display = window.getComputedStyle(gd).display;\n",
       "        if (!display || display === 'none') {{\n",
       "            console.log([gd, 'removed!']);\n",
       "            Plotly.purge(gd);\n",
       "            observer.disconnect();\n",
       "        }}\n",
       "}});\n",
       "\n",
       "// Listen for the removal of the full notebook cells\n",
       "var notebookContainer = gd.closest('#notebook-container');\n",
       "if (notebookContainer) {{\n",
       "    x.observe(notebookContainer, {childList: true});\n",
       "}}\n",
       "\n",
       "// Listen for the clearing of the current output cell\n",
       "var outputEl = gd.closest('.output');\n",
       "if (outputEl) {{\n",
       "    x.observe(outputEl, {childList: true});\n",
       "}}\n",
       "\n",
       "                        })                };                });            </script>        </div>"
      ]
     },
     "metadata": {},
     "output_type": "display_data"
    }
   ],
   "source": [
    "# separate positive and negative tweets\n",
    "positive_new_tweets = combined_prediction_df[combined_prediction_df[\"score\"]==1.0]\n",
    "negative_new_tweets = combined_prediction_df[combined_prediction_df[\"score\"]==0.0]\n",
    "\n",
    "import plotly.express as px\n",
    "\n",
    "# Sentiment bar chart\n",
    "fig = px.bar(combined_prediction_df, x=[\"Negative\",\"Positive\"], y=[len(negative_new_tweets),len(positive_new_tweets)],\\\n",
    "            labels=dict(x=\"Sentiment\", y=\"Count\"))\n",
    "fig.update_layout(barmode='group', bargap=0.30)\n",
    "fig.show()\n"
   ]
  },
  {
   "cell_type": "code",
   "execution_count": null,
   "id": "79664059",
   "metadata": {},
   "outputs": [],
   "source": []
  }
 ],
 "metadata": {
  "kernelspec": {
   "display_name": "Python (PythonData)",
   "language": "python",
   "name": "pythondata"
  },
  "language_info": {
   "codemirror_mode": {
    "name": "ipython",
    "version": 3
   },
   "file_extension": ".py",
   "mimetype": "text/x-python",
   "name": "python",
   "nbconvert_exporter": "python",
   "pygments_lexer": "ipython3",
   "version": "3.7.10"
  }
 },
 "nbformat": 4,
 "nbformat_minor": 5
}
