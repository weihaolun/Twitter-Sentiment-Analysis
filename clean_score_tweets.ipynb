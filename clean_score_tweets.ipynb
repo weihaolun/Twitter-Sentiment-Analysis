{
 "cells": [
  {
   "cell_type": "code",
   "execution_count": 1,
   "id": "b60d63c3",
   "metadata": {},
   "outputs": [],
   "source": [
    "#import dependencies\n",
    "import pandas as pd\n",
    "from datetime import datetime\n",
    "import json"
   ]
  },
  {
   "cell_type": "code",
   "execution_count": 2,
   "id": "44026124",
   "metadata": {},
   "outputs": [
    {
     "data": {
      "text/html": [
       "<div>\n",
       "<style scoped>\n",
       "    .dataframe tbody tr th:only-of-type {\n",
       "        vertical-align: middle;\n",
       "    }\n",
       "\n",
       "    .dataframe tbody tr th {\n",
       "        vertical-align: top;\n",
       "    }\n",
       "\n",
       "    .dataframe thead th {\n",
       "        text-align: right;\n",
       "    }\n",
       "</style>\n",
       "<table border=\"1\" class=\"dataframe\">\n",
       "  <thead>\n",
       "    <tr style=\"text-align: right;\">\n",
       "      <th></th>\n",
       "      <th>created_at</th>\n",
       "      <th>tweet</th>\n",
       "    </tr>\n",
       "  </thead>\n",
       "  <tbody>\n",
       "    <tr>\n",
       "      <th>0</th>\n",
       "      <td>2021-11-01 00:59:56+00:00</td>\n",
       "      <td>@lj3252 @Teslarati @ResidentSponge Cars since ...</td>\n",
       "    </tr>\n",
       "    <tr>\n",
       "      <th>1</th>\n",
       "      <td>2021-11-01 00:59:53+00:00</td>\n",
       "      <td>@elonmusk @garycruz @truth_tesla @zshahan3 @ga...</td>\n",
       "    </tr>\n",
       "    <tr>\n",
       "      <th>2</th>\n",
       "      <td>2021-11-01 00:59:46+00:00</td>\n",
       "      <td>@AgnesOfTheDogs @Tesla @telsa Indeed! I have n...</td>\n",
       "    </tr>\n",
       "    <tr>\n",
       "      <th>3</th>\n",
       "      <td>2021-11-01 00:59:41+00:00</td>\n",
       "      <td>@elonmusk @garycruz @truth_tesla @zshahan3 @ga...</td>\n",
       "    </tr>\n",
       "    <tr>\n",
       "      <th>4</th>\n",
       "      <td>2021-11-01 00:59:37+00:00</td>\n",
       "      <td>Elon Musk says he’ll sell Tesla stock if UN of...</td>\n",
       "    </tr>\n",
       "  </tbody>\n",
       "</table>\n",
       "</div>"
      ],
      "text/plain": [
       "                  created_at  \\\n",
       "0  2021-11-01 00:59:56+00:00   \n",
       "1  2021-11-01 00:59:53+00:00   \n",
       "2  2021-11-01 00:59:46+00:00   \n",
       "3  2021-11-01 00:59:41+00:00   \n",
       "4  2021-11-01 00:59:37+00:00   \n",
       "\n",
       "                                               tweet  \n",
       "0  @lj3252 @Teslarati @ResidentSponge Cars since ...  \n",
       "1  @elonmusk @garycruz @truth_tesla @zshahan3 @ga...  \n",
       "2  @AgnesOfTheDogs @Tesla @telsa Indeed! I have n...  \n",
       "3  @elonmusk @garycruz @truth_tesla @zshahan3 @ga...  \n",
       "4  Elon Musk says he’ll sell Tesla stock if UN of...  "
      ]
     },
     "execution_count": 2,
     "metadata": {},
     "output_type": "execute_result"
    }
   ],
   "source": [
    "#load API data\n",
    "api_tweets_df = pd.read_csv(\"API_data.csv\")\n",
    "#drop id column\n",
    "api_tweets_df = api_tweets_df.drop(columns=\"id\")\n",
    "api_tweets_df.head()"
   ]
  },
  {
   "cell_type": "code",
   "execution_count": 3,
   "id": "28d28ee4",
   "metadata": {},
   "outputs": [
    {
     "data": {
      "text/html": [
       "<div>\n",
       "<style scoped>\n",
       "    .dataframe tbody tr th:only-of-type {\n",
       "        vertical-align: middle;\n",
       "    }\n",
       "\n",
       "    .dataframe tbody tr th {\n",
       "        vertical-align: top;\n",
       "    }\n",
       "\n",
       "    .dataframe thead th {\n",
       "        text-align: right;\n",
       "    }\n",
       "</style>\n",
       "<table border=\"1\" class=\"dataframe\">\n",
       "  <thead>\n",
       "    <tr style=\"text-align: right;\">\n",
       "      <th></th>\n",
       "      <th>created_at</th>\n",
       "      <th>created_date</th>\n",
       "      <th>weekday</th>\n",
       "      <th>hours</th>\n",
       "      <th>tweet</th>\n",
       "    </tr>\n",
       "  </thead>\n",
       "  <tbody>\n",
       "    <tr>\n",
       "      <th>0</th>\n",
       "      <td>2021-11-01 00:59:56+00:00</td>\n",
       "      <td>2021-11-01</td>\n",
       "      <td>Monday</td>\n",
       "      <td>00</td>\n",
       "      <td>@lj3252 @Teslarati @ResidentSponge Cars since ...</td>\n",
       "    </tr>\n",
       "    <tr>\n",
       "      <th>1</th>\n",
       "      <td>2021-11-01 00:59:53+00:00</td>\n",
       "      <td>2021-11-01</td>\n",
       "      <td>Monday</td>\n",
       "      <td>00</td>\n",
       "      <td>@elonmusk @garycruz @truth_tesla @zshahan3 @ga...</td>\n",
       "    </tr>\n",
       "    <tr>\n",
       "      <th>2</th>\n",
       "      <td>2021-11-01 00:59:46+00:00</td>\n",
       "      <td>2021-11-01</td>\n",
       "      <td>Monday</td>\n",
       "      <td>00</td>\n",
       "      <td>@AgnesOfTheDogs @Tesla @telsa Indeed! I have n...</td>\n",
       "    </tr>\n",
       "    <tr>\n",
       "      <th>3</th>\n",
       "      <td>2021-11-01 00:59:41+00:00</td>\n",
       "      <td>2021-11-01</td>\n",
       "      <td>Monday</td>\n",
       "      <td>00</td>\n",
       "      <td>@elonmusk @garycruz @truth_tesla @zshahan3 @ga...</td>\n",
       "    </tr>\n",
       "    <tr>\n",
       "      <th>4</th>\n",
       "      <td>2021-11-01 00:59:37+00:00</td>\n",
       "      <td>2021-11-01</td>\n",
       "      <td>Monday</td>\n",
       "      <td>00</td>\n",
       "      <td>Elon Musk says he’ll sell Tesla stock if UN of...</td>\n",
       "    </tr>\n",
       "  </tbody>\n",
       "</table>\n",
       "</div>"
      ],
      "text/plain": [
       "                  created_at created_date weekday hours  \\\n",
       "0  2021-11-01 00:59:56+00:00   2021-11-01  Monday    00   \n",
       "1  2021-11-01 00:59:53+00:00   2021-11-01  Monday    00   \n",
       "2  2021-11-01 00:59:46+00:00   2021-11-01  Monday    00   \n",
       "3  2021-11-01 00:59:41+00:00   2021-11-01  Monday    00   \n",
       "4  2021-11-01 00:59:37+00:00   2021-11-01  Monday    00   \n",
       "\n",
       "                                               tweet  \n",
       "0  @lj3252 @Teslarati @ResidentSponge Cars since ...  \n",
       "1  @elonmusk @garycruz @truth_tesla @zshahan3 @ga...  \n",
       "2  @AgnesOfTheDogs @Tesla @telsa Indeed! I have n...  \n",
       "3  @elonmusk @garycruz @truth_tesla @zshahan3 @ga...  \n",
       "4  Elon Musk says he’ll sell Tesla stock if UN of...  "
      ]
     },
     "execution_count": 3,
     "metadata": {},
     "output_type": "execute_result"
    }
   ],
   "source": [
    "# Convert date column from object to datetime format\n",
    "api_tweets_df['created_date'] = pd.to_datetime(api_tweets_df['created_at'], format='%Y-%m-%d %H:%M:%S')\n",
    "# Add a weekday column\n",
    "api_tweets_df['weekday'] = api_tweets_df['created_date'].dt.day_name()\n",
    "# Add an hour column\n",
    "api_tweets_df['hours'] = api_tweets_df['created_date'].dt.strftime('%H')\n",
    "# Convert date format\n",
    "api_tweets_df['created_date'] = api_tweets_df['created_date'].dt.strftime('%Y-%m-%d')\n",
    "\n",
    "# Change column names and reorder columns\n",
    "api_tweets_df = api_tweets_df[['created_at','created_date','weekday','hours','tweet']]\n",
    "api_tweets_df.head()"
   ]
  },
  {
   "cell_type": "code",
   "execution_count": 4,
   "id": "a757c907",
   "metadata": {},
   "outputs": [],
   "source": [
    "# Convert tweets to list for cleaning\n",
    "api_tweet_list = api_tweets_df[\"tweet\"].tolist()"
   ]
  },
  {
   "cell_type": "code",
   "execution_count": 5,
   "id": "7d0e1361",
   "metadata": {},
   "outputs": [
    {
     "name": "stderr",
     "output_type": "stream",
     "text": [
      "[nltk_data] Downloading package stopwords to\n",
      "[nltk_data]     /Users/samanthavillanueva/nltk_data...\n",
      "[nltk_data]   Package stopwords is already up-to-date!\n"
     ]
    },
    {
     "data": {
      "text/html": [
       "<div>\n",
       "<style scoped>\n",
       "    .dataframe tbody tr th:only-of-type {\n",
       "        vertical-align: middle;\n",
       "    }\n",
       "\n",
       "    .dataframe tbody tr th {\n",
       "        vertical-align: top;\n",
       "    }\n",
       "\n",
       "    .dataframe thead th {\n",
       "        text-align: right;\n",
       "    }\n",
       "</style>\n",
       "<table border=\"1\" class=\"dataframe\">\n",
       "  <thead>\n",
       "    <tr style=\"text-align: right;\">\n",
       "      <th></th>\n",
       "      <th>text</th>\n",
       "    </tr>\n",
       "  </thead>\n",
       "  <tbody>\n",
       "    <tr>\n",
       "      <th>0</th>\n",
       "      <td>[car, hardware, needed, self, driving, elon, lie]</td>\n",
       "    </tr>\n",
       "    <tr>\n",
       "      <th>1</th>\n",
       "      <td>[hi, trying, startup, innovating, app, share, ...</td>\n",
       "    </tr>\n",
       "    <tr>\n",
       "      <th>2</th>\n",
       "      <td>[real, interest, driving, ginormous, overheati...</td>\n",
       "    </tr>\n",
       "    <tr>\n",
       "      <th>3</th>\n",
       "      <td>[hi, trying, startup, innovating, app, share, ...</td>\n",
       "    </tr>\n",
       "    <tr>\n",
       "      <th>4</th>\n",
       "      <td>[elon, musk, say, hell, sell, tesla, stock, un...</td>\n",
       "    </tr>\n",
       "    <tr>\n",
       "      <th>...</th>\n",
       "      <td>...</td>\n",
       "    </tr>\n",
       "    <tr>\n",
       "      <th>76151</th>\n",
       "      <td>[model]</td>\n",
       "    </tr>\n",
       "    <tr>\n",
       "      <th>76152</th>\n",
       "      <td>[turned, tesla, world's, largest, ev, company,...</td>\n",
       "    </tr>\n",
       "    <tr>\n",
       "      <th>76153</th>\n",
       "      <td>[fisker, category, tesla, rivian, lucid, joke,...</td>\n",
       "    </tr>\n",
       "    <tr>\n",
       "      <th>76154</th>\n",
       "      <td>[instead, getting, bank, loan, stock, yearly, ...</td>\n",
       "    </tr>\n",
       "    <tr>\n",
       "      <th>76155</th>\n",
       "      <td>[imagine, job, tesla, bootlicking, journalist]</td>\n",
       "    </tr>\n",
       "  </tbody>\n",
       "</table>\n",
       "<p>76156 rows × 1 columns</p>\n",
       "</div>"
      ],
      "text/plain": [
       "                                                    text\n",
       "0      [car, hardware, needed, self, driving, elon, lie]\n",
       "1      [hi, trying, startup, innovating, app, share, ...\n",
       "2      [real, interest, driving, ginormous, overheati...\n",
       "3      [hi, trying, startup, innovating, app, share, ...\n",
       "4      [elon, musk, say, hell, sell, tesla, stock, un...\n",
       "...                                                  ...\n",
       "76151                                            [model]\n",
       "76152  [turned, tesla, world's, largest, ev, company,...\n",
       "76153  [fisker, category, tesla, rivian, lucid, joke,...\n",
       "76154  [instead, getting, bank, loan, stock, yearly, ...\n",
       "76155     [imagine, job, tesla, bootlicking, journalist]\n",
       "\n",
       "[76156 rows x 1 columns]"
      ]
     },
     "execution_count": 5,
     "metadata": {},
     "output_type": "execute_result"
    }
   ],
   "source": [
    "# import cleaning function\n",
    "from Cleaning_PseudoCode.Final_Data_Cleaning import clean_tweets_func\n",
    "\n",
    "# create function to make text df\n",
    "def create_text_df():\n",
    "    text = clean_tweets_func(api_tweet_list)\n",
    "    text_df = pd.DataFrame({\"text\":text})\n",
    "    return text_df\n",
    "\n",
    "# call create_text_df function\n",
    "text_df = create_text_df()\n",
    "text_df"
   ]
  },
  {
   "cell_type": "code",
   "execution_count": 6,
   "id": "ce7387ce",
   "metadata": {},
   "outputs": [
    {
     "data": {
      "text/html": [
       "<div>\n",
       "<style scoped>\n",
       "    .dataframe tbody tr th:only-of-type {\n",
       "        vertical-align: middle;\n",
       "    }\n",
       "\n",
       "    .dataframe tbody tr th {\n",
       "        vertical-align: top;\n",
       "    }\n",
       "\n",
       "    .dataframe thead th {\n",
       "        text-align: right;\n",
       "    }\n",
       "</style>\n",
       "<table border=\"1\" class=\"dataframe\">\n",
       "  <thead>\n",
       "    <tr style=\"text-align: right;\">\n",
       "      <th></th>\n",
       "      <th>text</th>\n",
       "      <th>text_string</th>\n",
       "    </tr>\n",
       "  </thead>\n",
       "  <tbody>\n",
       "    <tr>\n",
       "      <th>0</th>\n",
       "      <td>[car, hardware, needed, self, driving, elon, lie]</td>\n",
       "      <td>['car', 'hardware', 'needed', 'self', 'driving...</td>\n",
       "    </tr>\n",
       "    <tr>\n",
       "      <th>1</th>\n",
       "      <td>[hi, trying, startup, innovating, app, share, ...</td>\n",
       "      <td>['hi', 'trying', 'startup', 'innovating', 'app...</td>\n",
       "    </tr>\n",
       "    <tr>\n",
       "      <th>2</th>\n",
       "      <td>[real, interest, driving, ginormous, overheati...</td>\n",
       "      <td>['real', 'interest', 'driving', 'ginormous', '...</td>\n",
       "    </tr>\n",
       "    <tr>\n",
       "      <th>3</th>\n",
       "      <td>[hi, trying, startup, innovating, app, share, ...</td>\n",
       "      <td>['hi', 'trying', 'startup', 'innovating', 'app...</td>\n",
       "    </tr>\n",
       "    <tr>\n",
       "      <th>4</th>\n",
       "      <td>[elon, musk, say, hell, sell, tesla, stock, un...</td>\n",
       "      <td>['elon', 'musk', 'say', 'hell', 'sell', 'tesla...</td>\n",
       "    </tr>\n",
       "  </tbody>\n",
       "</table>\n",
       "</div>"
      ],
      "text/plain": [
       "                                                text  \\\n",
       "0  [car, hardware, needed, self, driving, elon, lie]   \n",
       "1  [hi, trying, startup, innovating, app, share, ...   \n",
       "2  [real, interest, driving, ginormous, overheati...   \n",
       "3  [hi, trying, startup, innovating, app, share, ...   \n",
       "4  [elon, musk, say, hell, sell, tesla, stock, un...   \n",
       "\n",
       "                                         text_string  \n",
       "0  ['car', 'hardware', 'needed', 'self', 'driving...  \n",
       "1  ['hi', 'trying', 'startup', 'innovating', 'app...  \n",
       "2  ['real', 'interest', 'driving', 'ginormous', '...  \n",
       "3  ['hi', 'trying', 'startup', 'innovating', 'app...  \n",
       "4  ['elon', 'musk', 'say', 'hell', 'sell', 'tesla...  "
      ]
     },
     "execution_count": 6,
     "metadata": {},
     "output_type": "execute_result"
    }
   ],
   "source": [
    "# make list to list of strings so model can be applied\n",
    "text_df[\"text_string\"] = text_df[\"text\"].apply(lambda x: str(x))\n",
    "text_df.head()"
   ]
  },
  {
   "cell_type": "code",
   "execution_count": 7,
   "id": "d1fe4bbd",
   "metadata": {},
   "outputs": [],
   "source": [
    "# import vertorizer and model\n",
    "from sklearn.svm import LinearSVC\n",
    "from sklearn.feature_extraction.text import TfidfVectorizer\n",
    "import pickle\n",
    "\n",
    "# load vectorizer and machine learning model\n",
    "vectorizer = pickle.load(open('Modeling/vectorizer.pkl', 'rb'))\n",
    "model = pickle.load(open('Modeling/model.pkl', 'rb'))"
   ]
  },
  {
   "cell_type": "code",
   "execution_count": null,
   "id": "ffa76ead",
   "metadata": {},
   "outputs": [],
   "source": [
    "# vectorize and predict \n",
    "tweet_predict = text_df[\"text_string\"]\n",
    "tweet_vectorized = vectorizer.transform(tweet_predict).toarray()\n",
    "prediction = model.predict(tweet_vectorized)"
   ]
  },
  {
   "cell_type": "code",
   "execution_count": 15,
   "id": "8507f959",
   "metadata": {},
   "outputs": [
    {
     "data": {
      "text/html": [
       "<div>\n",
       "<style scoped>\n",
       "    .dataframe tbody tr th:only-of-type {\n",
       "        vertical-align: middle;\n",
       "    }\n",
       "\n",
       "    .dataframe tbody tr th {\n",
       "        vertical-align: top;\n",
       "    }\n",
       "\n",
       "    .dataframe thead th {\n",
       "        text-align: right;\n",
       "    }\n",
       "</style>\n",
       "<table border=\"1\" class=\"dataframe\">\n",
       "  <thead>\n",
       "    <tr style=\"text-align: right;\">\n",
       "      <th></th>\n",
       "      <th>created_at</th>\n",
       "      <th>created_date</th>\n",
       "      <th>weekday</th>\n",
       "      <th>hours</th>\n",
       "      <th>tweet</th>\n",
       "      <th>text</th>\n",
       "      <th>score</th>\n",
       "    </tr>\n",
       "  </thead>\n",
       "  <tbody>\n",
       "    <tr>\n",
       "      <th>0</th>\n",
       "      <td>2021-11-01 00:59:56+00:00</td>\n",
       "      <td>2021-11-01</td>\n",
       "      <td>Monday</td>\n",
       "      <td>00</td>\n",
       "      <td>@lj3252 @Teslarati @ResidentSponge Cars since ...</td>\n",
       "      <td>[car, hardware, needed, self, driving, elon, lie]</td>\n",
       "      <td>0</td>\n",
       "    </tr>\n",
       "    <tr>\n",
       "      <th>1</th>\n",
       "      <td>2021-11-01 00:59:53+00:00</td>\n",
       "      <td>2021-11-01</td>\n",
       "      <td>Monday</td>\n",
       "      <td>00</td>\n",
       "      <td>@elonmusk @garycruz @truth_tesla @zshahan3 @ga...</td>\n",
       "      <td>[hi, trying, startup, innovating, app, share, ...</td>\n",
       "      <td>1</td>\n",
       "    </tr>\n",
       "    <tr>\n",
       "      <th>2</th>\n",
       "      <td>2021-11-01 00:59:46+00:00</td>\n",
       "      <td>2021-11-01</td>\n",
       "      <td>Monday</td>\n",
       "      <td>00</td>\n",
       "      <td>@AgnesOfTheDogs @Tesla @telsa Indeed! I have n...</td>\n",
       "      <td>[real, interest, driving, ginormous, overheati...</td>\n",
       "      <td>1</td>\n",
       "    </tr>\n",
       "    <tr>\n",
       "      <th>3</th>\n",
       "      <td>2021-11-01 00:59:41+00:00</td>\n",
       "      <td>2021-11-01</td>\n",
       "      <td>Monday</td>\n",
       "      <td>00</td>\n",
       "      <td>@elonmusk @garycruz @truth_tesla @zshahan3 @ga...</td>\n",
       "      <td>[hi, trying, startup, innovating, app, share, ...</td>\n",
       "      <td>1</td>\n",
       "    </tr>\n",
       "    <tr>\n",
       "      <th>4</th>\n",
       "      <td>2021-11-01 00:59:37+00:00</td>\n",
       "      <td>2021-11-01</td>\n",
       "      <td>Monday</td>\n",
       "      <td>00</td>\n",
       "      <td>Elon Musk says he’ll sell Tesla stock if UN of...</td>\n",
       "      <td>[elon, musk, say, hell, sell, tesla, stock, un...</td>\n",
       "      <td>0</td>\n",
       "    </tr>\n",
       "  </tbody>\n",
       "</table>\n",
       "</div>"
      ],
      "text/plain": [
       "                  created_at created_date weekday hours  \\\n",
       "0  2021-11-01 00:59:56+00:00   2021-11-01  Monday    00   \n",
       "1  2021-11-01 00:59:53+00:00   2021-11-01  Monday    00   \n",
       "2  2021-11-01 00:59:46+00:00   2021-11-01  Monday    00   \n",
       "3  2021-11-01 00:59:41+00:00   2021-11-01  Monday    00   \n",
       "4  2021-11-01 00:59:37+00:00   2021-11-01  Monday    00   \n",
       "\n",
       "                                               tweet  \\\n",
       "0  @lj3252 @Teslarati @ResidentSponge Cars since ...   \n",
       "1  @elonmusk @garycruz @truth_tesla @zshahan3 @ga...   \n",
       "2  @AgnesOfTheDogs @Tesla @telsa Indeed! I have n...   \n",
       "3  @elonmusk @garycruz @truth_tesla @zshahan3 @ga...   \n",
       "4  Elon Musk says he’ll sell Tesla stock if UN of...   \n",
       "\n",
       "                                                text  score  \n",
       "0  [car, hardware, needed, self, driving, elon, lie]      0  \n",
       "1  [hi, trying, startup, innovating, app, share, ...      1  \n",
       "2  [real, interest, driving, ginormous, overheati...      1  \n",
       "3  [hi, trying, startup, innovating, app, share, ...      1  \n",
       "4  [elon, musk, say, hell, sell, tesla, stock, un...      0  "
      ]
     },
     "execution_count": 15,
     "metadata": {},
     "output_type": "execute_result"
    }
   ],
   "source": [
    "# create df of scored tweets\n",
    "prediction_df = pd.DataFrame(prediction, columns=[\"score\"])\n",
    "\n",
    "# combine dataframes\n",
    "combined_prediction_df = pd.concat([api_tweets_df, text_df[\"text\"], prediction_df],axis=1)\n",
    "combined_prediction_df.head()"
   ]
  },
  {
   "cell_type": "code",
   "execution_count": 16,
   "id": "4456fa79",
   "metadata": {},
   "outputs": [],
   "source": [
    "# save scored tweets\n",
    "combined_prediction_df.to_csv('cleaned_scored_tweets.csv', index = False)\n",
    "# save to json format \n",
    "combined_prediction_df.to_json('cleaned_scored_tweets.json', orient='records')"
   ]
  },
  {
   "cell_type": "code",
   "execution_count": 17,
   "id": "fb0606a2",
   "metadata": {},
   "outputs": [
    {
     "data": {
      "application/vnd.plotly.v1+json": {
       "config": {
        "plotlyServerURL": "https://plot.ly"
       },
       "data": [
        {
         "alignmentgroup": "True",
         "hovertemplate": "Sentiment=%{x}<br>Count=%{y}<extra></extra>",
         "legendgroup": "",
         "marker": {
          "color": "#636efa",
          "pattern": {
           "shape": ""
          }
         },
         "name": "",
         "offsetgroup": "",
         "orientation": "v",
         "showlegend": false,
         "textposition": "auto",
         "type": "bar",
         "x": [
          "Negative",
          "Positive"
         ],
         "xaxis": "x",
         "y": [
          14203,
          29609
         ],
         "yaxis": "y"
        }
       ],
       "layout": {
        "bargap": 0.3,
        "barmode": "group",
        "legend": {
         "tracegroupgap": 0
        },
        "margin": {
         "t": 60
        },
        "template": {
         "data": {
          "bar": [
           {
            "error_x": {
             "color": "#2a3f5f"
            },
            "error_y": {
             "color": "#2a3f5f"
            },
            "marker": {
             "line": {
              "color": "#E5ECF6",
              "width": 0.5
             },
             "pattern": {
              "fillmode": "overlay",
              "size": 10,
              "solidity": 0.2
             }
            },
            "type": "bar"
           }
          ],
          "barpolar": [
           {
            "marker": {
             "line": {
              "color": "#E5ECF6",
              "width": 0.5
             },
             "pattern": {
              "fillmode": "overlay",
              "size": 10,
              "solidity": 0.2
             }
            },
            "type": "barpolar"
           }
          ],
          "carpet": [
           {
            "aaxis": {
             "endlinecolor": "#2a3f5f",
             "gridcolor": "white",
             "linecolor": "white",
             "minorgridcolor": "white",
             "startlinecolor": "#2a3f5f"
            },
            "baxis": {
             "endlinecolor": "#2a3f5f",
             "gridcolor": "white",
             "linecolor": "white",
             "minorgridcolor": "white",
             "startlinecolor": "#2a3f5f"
            },
            "type": "carpet"
           }
          ],
          "choropleth": [
           {
            "colorbar": {
             "outlinewidth": 0,
             "ticks": ""
            },
            "type": "choropleth"
           }
          ],
          "contour": [
           {
            "colorbar": {
             "outlinewidth": 0,
             "ticks": ""
            },
            "colorscale": [
             [
              0,
              "#0d0887"
             ],
             [
              0.1111111111111111,
              "#46039f"
             ],
             [
              0.2222222222222222,
              "#7201a8"
             ],
             [
              0.3333333333333333,
              "#9c179e"
             ],
             [
              0.4444444444444444,
              "#bd3786"
             ],
             [
              0.5555555555555556,
              "#d8576b"
             ],
             [
              0.6666666666666666,
              "#ed7953"
             ],
             [
              0.7777777777777778,
              "#fb9f3a"
             ],
             [
              0.8888888888888888,
              "#fdca26"
             ],
             [
              1,
              "#f0f921"
             ]
            ],
            "type": "contour"
           }
          ],
          "contourcarpet": [
           {
            "colorbar": {
             "outlinewidth": 0,
             "ticks": ""
            },
            "type": "contourcarpet"
           }
          ],
          "heatmap": [
           {
            "colorbar": {
             "outlinewidth": 0,
             "ticks": ""
            },
            "colorscale": [
             [
              0,
              "#0d0887"
             ],
             [
              0.1111111111111111,
              "#46039f"
             ],
             [
              0.2222222222222222,
              "#7201a8"
             ],
             [
              0.3333333333333333,
              "#9c179e"
             ],
             [
              0.4444444444444444,
              "#bd3786"
             ],
             [
              0.5555555555555556,
              "#d8576b"
             ],
             [
              0.6666666666666666,
              "#ed7953"
             ],
             [
              0.7777777777777778,
              "#fb9f3a"
             ],
             [
              0.8888888888888888,
              "#fdca26"
             ],
             [
              1,
              "#f0f921"
             ]
            ],
            "type": "heatmap"
           }
          ],
          "heatmapgl": [
           {
            "colorbar": {
             "outlinewidth": 0,
             "ticks": ""
            },
            "colorscale": [
             [
              0,
              "#0d0887"
             ],
             [
              0.1111111111111111,
              "#46039f"
             ],
             [
              0.2222222222222222,
              "#7201a8"
             ],
             [
              0.3333333333333333,
              "#9c179e"
             ],
             [
              0.4444444444444444,
              "#bd3786"
             ],
             [
              0.5555555555555556,
              "#d8576b"
             ],
             [
              0.6666666666666666,
              "#ed7953"
             ],
             [
              0.7777777777777778,
              "#fb9f3a"
             ],
             [
              0.8888888888888888,
              "#fdca26"
             ],
             [
              1,
              "#f0f921"
             ]
            ],
            "type": "heatmapgl"
           }
          ],
          "histogram": [
           {
            "marker": {
             "pattern": {
              "fillmode": "overlay",
              "size": 10,
              "solidity": 0.2
             }
            },
            "type": "histogram"
           }
          ],
          "histogram2d": [
           {
            "colorbar": {
             "outlinewidth": 0,
             "ticks": ""
            },
            "colorscale": [
             [
              0,
              "#0d0887"
             ],
             [
              0.1111111111111111,
              "#46039f"
             ],
             [
              0.2222222222222222,
              "#7201a8"
             ],
             [
              0.3333333333333333,
              "#9c179e"
             ],
             [
              0.4444444444444444,
              "#bd3786"
             ],
             [
              0.5555555555555556,
              "#d8576b"
             ],
             [
              0.6666666666666666,
              "#ed7953"
             ],
             [
              0.7777777777777778,
              "#fb9f3a"
             ],
             [
              0.8888888888888888,
              "#fdca26"
             ],
             [
              1,
              "#f0f921"
             ]
            ],
            "type": "histogram2d"
           }
          ],
          "histogram2dcontour": [
           {
            "colorbar": {
             "outlinewidth": 0,
             "ticks": ""
            },
            "colorscale": [
             [
              0,
              "#0d0887"
             ],
             [
              0.1111111111111111,
              "#46039f"
             ],
             [
              0.2222222222222222,
              "#7201a8"
             ],
             [
              0.3333333333333333,
              "#9c179e"
             ],
             [
              0.4444444444444444,
              "#bd3786"
             ],
             [
              0.5555555555555556,
              "#d8576b"
             ],
             [
              0.6666666666666666,
              "#ed7953"
             ],
             [
              0.7777777777777778,
              "#fb9f3a"
             ],
             [
              0.8888888888888888,
              "#fdca26"
             ],
             [
              1,
              "#f0f921"
             ]
            ],
            "type": "histogram2dcontour"
           }
          ],
          "mesh3d": [
           {
            "colorbar": {
             "outlinewidth": 0,
             "ticks": ""
            },
            "type": "mesh3d"
           }
          ],
          "parcoords": [
           {
            "line": {
             "colorbar": {
              "outlinewidth": 0,
              "ticks": ""
             }
            },
            "type": "parcoords"
           }
          ],
          "pie": [
           {
            "automargin": true,
            "type": "pie"
           }
          ],
          "scatter": [
           {
            "marker": {
             "colorbar": {
              "outlinewidth": 0,
              "ticks": ""
             }
            },
            "type": "scatter"
           }
          ],
          "scatter3d": [
           {
            "line": {
             "colorbar": {
              "outlinewidth": 0,
              "ticks": ""
             }
            },
            "marker": {
             "colorbar": {
              "outlinewidth": 0,
              "ticks": ""
             }
            },
            "type": "scatter3d"
           }
          ],
          "scattercarpet": [
           {
            "marker": {
             "colorbar": {
              "outlinewidth": 0,
              "ticks": ""
             }
            },
            "type": "scattercarpet"
           }
          ],
          "scattergeo": [
           {
            "marker": {
             "colorbar": {
              "outlinewidth": 0,
              "ticks": ""
             }
            },
            "type": "scattergeo"
           }
          ],
          "scattergl": [
           {
            "marker": {
             "colorbar": {
              "outlinewidth": 0,
              "ticks": ""
             }
            },
            "type": "scattergl"
           }
          ],
          "scattermapbox": [
           {
            "marker": {
             "colorbar": {
              "outlinewidth": 0,
              "ticks": ""
             }
            },
            "type": "scattermapbox"
           }
          ],
          "scatterpolar": [
           {
            "marker": {
             "colorbar": {
              "outlinewidth": 0,
              "ticks": ""
             }
            },
            "type": "scatterpolar"
           }
          ],
          "scatterpolargl": [
           {
            "marker": {
             "colorbar": {
              "outlinewidth": 0,
              "ticks": ""
             }
            },
            "type": "scatterpolargl"
           }
          ],
          "scatterternary": [
           {
            "marker": {
             "colorbar": {
              "outlinewidth": 0,
              "ticks": ""
             }
            },
            "type": "scatterternary"
           }
          ],
          "surface": [
           {
            "colorbar": {
             "outlinewidth": 0,
             "ticks": ""
            },
            "colorscale": [
             [
              0,
              "#0d0887"
             ],
             [
              0.1111111111111111,
              "#46039f"
             ],
             [
              0.2222222222222222,
              "#7201a8"
             ],
             [
              0.3333333333333333,
              "#9c179e"
             ],
             [
              0.4444444444444444,
              "#bd3786"
             ],
             [
              0.5555555555555556,
              "#d8576b"
             ],
             [
              0.6666666666666666,
              "#ed7953"
             ],
             [
              0.7777777777777778,
              "#fb9f3a"
             ],
             [
              0.8888888888888888,
              "#fdca26"
             ],
             [
              1,
              "#f0f921"
             ]
            ],
            "type": "surface"
           }
          ],
          "table": [
           {
            "cells": {
             "fill": {
              "color": "#EBF0F8"
             },
             "line": {
              "color": "white"
             }
            },
            "header": {
             "fill": {
              "color": "#C8D4E3"
             },
             "line": {
              "color": "white"
             }
            },
            "type": "table"
           }
          ]
         },
         "layout": {
          "annotationdefaults": {
           "arrowcolor": "#2a3f5f",
           "arrowhead": 0,
           "arrowwidth": 1
          },
          "autotypenumbers": "strict",
          "coloraxis": {
           "colorbar": {
            "outlinewidth": 0,
            "ticks": ""
           }
          },
          "colorscale": {
           "diverging": [
            [
             0,
             "#8e0152"
            ],
            [
             0.1,
             "#c51b7d"
            ],
            [
             0.2,
             "#de77ae"
            ],
            [
             0.3,
             "#f1b6da"
            ],
            [
             0.4,
             "#fde0ef"
            ],
            [
             0.5,
             "#f7f7f7"
            ],
            [
             0.6,
             "#e6f5d0"
            ],
            [
             0.7,
             "#b8e186"
            ],
            [
             0.8,
             "#7fbc41"
            ],
            [
             0.9,
             "#4d9221"
            ],
            [
             1,
             "#276419"
            ]
           ],
           "sequential": [
            [
             0,
             "#0d0887"
            ],
            [
             0.1111111111111111,
             "#46039f"
            ],
            [
             0.2222222222222222,
             "#7201a8"
            ],
            [
             0.3333333333333333,
             "#9c179e"
            ],
            [
             0.4444444444444444,
             "#bd3786"
            ],
            [
             0.5555555555555556,
             "#d8576b"
            ],
            [
             0.6666666666666666,
             "#ed7953"
            ],
            [
             0.7777777777777778,
             "#fb9f3a"
            ],
            [
             0.8888888888888888,
             "#fdca26"
            ],
            [
             1,
             "#f0f921"
            ]
           ],
           "sequentialminus": [
            [
             0,
             "#0d0887"
            ],
            [
             0.1111111111111111,
             "#46039f"
            ],
            [
             0.2222222222222222,
             "#7201a8"
            ],
            [
             0.3333333333333333,
             "#9c179e"
            ],
            [
             0.4444444444444444,
             "#bd3786"
            ],
            [
             0.5555555555555556,
             "#d8576b"
            ],
            [
             0.6666666666666666,
             "#ed7953"
            ],
            [
             0.7777777777777778,
             "#fb9f3a"
            ],
            [
             0.8888888888888888,
             "#fdca26"
            ],
            [
             1,
             "#f0f921"
            ]
           ]
          },
          "colorway": [
           "#636efa",
           "#EF553B",
           "#00cc96",
           "#ab63fa",
           "#FFA15A",
           "#19d3f3",
           "#FF6692",
           "#B6E880",
           "#FF97FF",
           "#FECB52"
          ],
          "font": {
           "color": "#2a3f5f"
          },
          "geo": {
           "bgcolor": "white",
           "lakecolor": "white",
           "landcolor": "#E5ECF6",
           "showlakes": true,
           "showland": true,
           "subunitcolor": "white"
          },
          "hoverlabel": {
           "align": "left"
          },
          "hovermode": "closest",
          "mapbox": {
           "style": "light"
          },
          "paper_bgcolor": "white",
          "plot_bgcolor": "#E5ECF6",
          "polar": {
           "angularaxis": {
            "gridcolor": "white",
            "linecolor": "white",
            "ticks": ""
           },
           "bgcolor": "#E5ECF6",
           "radialaxis": {
            "gridcolor": "white",
            "linecolor": "white",
            "ticks": ""
           }
          },
          "scene": {
           "xaxis": {
            "backgroundcolor": "#E5ECF6",
            "gridcolor": "white",
            "gridwidth": 2,
            "linecolor": "white",
            "showbackground": true,
            "ticks": "",
            "zerolinecolor": "white"
           },
           "yaxis": {
            "backgroundcolor": "#E5ECF6",
            "gridcolor": "white",
            "gridwidth": 2,
            "linecolor": "white",
            "showbackground": true,
            "ticks": "",
            "zerolinecolor": "white"
           },
           "zaxis": {
            "backgroundcolor": "#E5ECF6",
            "gridcolor": "white",
            "gridwidth": 2,
            "linecolor": "white",
            "showbackground": true,
            "ticks": "",
            "zerolinecolor": "white"
           }
          },
          "shapedefaults": {
           "line": {
            "color": "#2a3f5f"
           }
          },
          "ternary": {
           "aaxis": {
            "gridcolor": "white",
            "linecolor": "white",
            "ticks": ""
           },
           "baxis": {
            "gridcolor": "white",
            "linecolor": "white",
            "ticks": ""
           },
           "bgcolor": "#E5ECF6",
           "caxis": {
            "gridcolor": "white",
            "linecolor": "white",
            "ticks": ""
           }
          },
          "title": {
           "x": 0.05
          },
          "xaxis": {
           "automargin": true,
           "gridcolor": "white",
           "linecolor": "white",
           "ticks": "",
           "title": {
            "standoff": 15
           },
           "zerolinecolor": "white",
           "zerolinewidth": 2
          },
          "yaxis": {
           "automargin": true,
           "gridcolor": "white",
           "linecolor": "white",
           "ticks": "",
           "title": {
            "standoff": 15
           },
           "zerolinecolor": "white",
           "zerolinewidth": 2
          }
         }
        },
        "xaxis": {
         "anchor": "y",
         "domain": [
          0,
          1
         ],
         "title": {
          "text": "Sentiment"
         }
        },
        "yaxis": {
         "anchor": "x",
         "domain": [
          0,
          1
         ],
         "title": {
          "text": "Count"
         }
        }
       }
      },
      "text/html": [
       "<div>                            <div id=\"fa376b9d-dcc1-4a45-8af8-b39922dda59d\" class=\"plotly-graph-div\" style=\"height:525px; width:100%;\"></div>            <script type=\"text/javascript\">                require([\"plotly\"], function(Plotly) {                    window.PLOTLYENV=window.PLOTLYENV || {};                                    if (document.getElementById(\"fa376b9d-dcc1-4a45-8af8-b39922dda59d\")) {                    Plotly.newPlot(                        \"fa376b9d-dcc1-4a45-8af8-b39922dda59d\",                        [{\"alignmentgroup\":\"True\",\"hovertemplate\":\"Sentiment=%{x}<br>Count=%{y}<extra></extra>\",\"legendgroup\":\"\",\"marker\":{\"color\":\"#636efa\",\"pattern\":{\"shape\":\"\"}},\"name\":\"\",\"offsetgroup\":\"\",\"orientation\":\"v\",\"showlegend\":false,\"textposition\":\"auto\",\"type\":\"bar\",\"x\":[\"Negative\",\"Positive\"],\"xaxis\":\"x\",\"y\":[14203,29609],\"yaxis\":\"y\"}],                        {\"bargap\":0.3,\"barmode\":\"group\",\"legend\":{\"tracegroupgap\":0},\"margin\":{\"t\":60},\"template\":{\"data\":{\"bar\":[{\"error_x\":{\"color\":\"#2a3f5f\"},\"error_y\":{\"color\":\"#2a3f5f\"},\"marker\":{\"line\":{\"color\":\"#E5ECF6\",\"width\":0.5},\"pattern\":{\"fillmode\":\"overlay\",\"size\":10,\"solidity\":0.2}},\"type\":\"bar\"}],\"barpolar\":[{\"marker\":{\"line\":{\"color\":\"#E5ECF6\",\"width\":0.5},\"pattern\":{\"fillmode\":\"overlay\",\"size\":10,\"solidity\":0.2}},\"type\":\"barpolar\"}],\"carpet\":[{\"aaxis\":{\"endlinecolor\":\"#2a3f5f\",\"gridcolor\":\"white\",\"linecolor\":\"white\",\"minorgridcolor\":\"white\",\"startlinecolor\":\"#2a3f5f\"},\"baxis\":{\"endlinecolor\":\"#2a3f5f\",\"gridcolor\":\"white\",\"linecolor\":\"white\",\"minorgridcolor\":\"white\",\"startlinecolor\":\"#2a3f5f\"},\"type\":\"carpet\"}],\"choropleth\":[{\"colorbar\":{\"outlinewidth\":0,\"ticks\":\"\"},\"type\":\"choropleth\"}],\"contour\":[{\"colorbar\":{\"outlinewidth\":0,\"ticks\":\"\"},\"colorscale\":[[0.0,\"#0d0887\"],[0.1111111111111111,\"#46039f\"],[0.2222222222222222,\"#7201a8\"],[0.3333333333333333,\"#9c179e\"],[0.4444444444444444,\"#bd3786\"],[0.5555555555555556,\"#d8576b\"],[0.6666666666666666,\"#ed7953\"],[0.7777777777777778,\"#fb9f3a\"],[0.8888888888888888,\"#fdca26\"],[1.0,\"#f0f921\"]],\"type\":\"contour\"}],\"contourcarpet\":[{\"colorbar\":{\"outlinewidth\":0,\"ticks\":\"\"},\"type\":\"contourcarpet\"}],\"heatmap\":[{\"colorbar\":{\"outlinewidth\":0,\"ticks\":\"\"},\"colorscale\":[[0.0,\"#0d0887\"],[0.1111111111111111,\"#46039f\"],[0.2222222222222222,\"#7201a8\"],[0.3333333333333333,\"#9c179e\"],[0.4444444444444444,\"#bd3786\"],[0.5555555555555556,\"#d8576b\"],[0.6666666666666666,\"#ed7953\"],[0.7777777777777778,\"#fb9f3a\"],[0.8888888888888888,\"#fdca26\"],[1.0,\"#f0f921\"]],\"type\":\"heatmap\"}],\"heatmapgl\":[{\"colorbar\":{\"outlinewidth\":0,\"ticks\":\"\"},\"colorscale\":[[0.0,\"#0d0887\"],[0.1111111111111111,\"#46039f\"],[0.2222222222222222,\"#7201a8\"],[0.3333333333333333,\"#9c179e\"],[0.4444444444444444,\"#bd3786\"],[0.5555555555555556,\"#d8576b\"],[0.6666666666666666,\"#ed7953\"],[0.7777777777777778,\"#fb9f3a\"],[0.8888888888888888,\"#fdca26\"],[1.0,\"#f0f921\"]],\"type\":\"heatmapgl\"}],\"histogram\":[{\"marker\":{\"pattern\":{\"fillmode\":\"overlay\",\"size\":10,\"solidity\":0.2}},\"type\":\"histogram\"}],\"histogram2d\":[{\"colorbar\":{\"outlinewidth\":0,\"ticks\":\"\"},\"colorscale\":[[0.0,\"#0d0887\"],[0.1111111111111111,\"#46039f\"],[0.2222222222222222,\"#7201a8\"],[0.3333333333333333,\"#9c179e\"],[0.4444444444444444,\"#bd3786\"],[0.5555555555555556,\"#d8576b\"],[0.6666666666666666,\"#ed7953\"],[0.7777777777777778,\"#fb9f3a\"],[0.8888888888888888,\"#fdca26\"],[1.0,\"#f0f921\"]],\"type\":\"histogram2d\"}],\"histogram2dcontour\":[{\"colorbar\":{\"outlinewidth\":0,\"ticks\":\"\"},\"colorscale\":[[0.0,\"#0d0887\"],[0.1111111111111111,\"#46039f\"],[0.2222222222222222,\"#7201a8\"],[0.3333333333333333,\"#9c179e\"],[0.4444444444444444,\"#bd3786\"],[0.5555555555555556,\"#d8576b\"],[0.6666666666666666,\"#ed7953\"],[0.7777777777777778,\"#fb9f3a\"],[0.8888888888888888,\"#fdca26\"],[1.0,\"#f0f921\"]],\"type\":\"histogram2dcontour\"}],\"mesh3d\":[{\"colorbar\":{\"outlinewidth\":0,\"ticks\":\"\"},\"type\":\"mesh3d\"}],\"parcoords\":[{\"line\":{\"colorbar\":{\"outlinewidth\":0,\"ticks\":\"\"}},\"type\":\"parcoords\"}],\"pie\":[{\"automargin\":true,\"type\":\"pie\"}],\"scatter\":[{\"marker\":{\"colorbar\":{\"outlinewidth\":0,\"ticks\":\"\"}},\"type\":\"scatter\"}],\"scatter3d\":[{\"line\":{\"colorbar\":{\"outlinewidth\":0,\"ticks\":\"\"}},\"marker\":{\"colorbar\":{\"outlinewidth\":0,\"ticks\":\"\"}},\"type\":\"scatter3d\"}],\"scattercarpet\":[{\"marker\":{\"colorbar\":{\"outlinewidth\":0,\"ticks\":\"\"}},\"type\":\"scattercarpet\"}],\"scattergeo\":[{\"marker\":{\"colorbar\":{\"outlinewidth\":0,\"ticks\":\"\"}},\"type\":\"scattergeo\"}],\"scattergl\":[{\"marker\":{\"colorbar\":{\"outlinewidth\":0,\"ticks\":\"\"}},\"type\":\"scattergl\"}],\"scattermapbox\":[{\"marker\":{\"colorbar\":{\"outlinewidth\":0,\"ticks\":\"\"}},\"type\":\"scattermapbox\"}],\"scatterpolar\":[{\"marker\":{\"colorbar\":{\"outlinewidth\":0,\"ticks\":\"\"}},\"type\":\"scatterpolar\"}],\"scatterpolargl\":[{\"marker\":{\"colorbar\":{\"outlinewidth\":0,\"ticks\":\"\"}},\"type\":\"scatterpolargl\"}],\"scatterternary\":[{\"marker\":{\"colorbar\":{\"outlinewidth\":0,\"ticks\":\"\"}},\"type\":\"scatterternary\"}],\"surface\":[{\"colorbar\":{\"outlinewidth\":0,\"ticks\":\"\"},\"colorscale\":[[0.0,\"#0d0887\"],[0.1111111111111111,\"#46039f\"],[0.2222222222222222,\"#7201a8\"],[0.3333333333333333,\"#9c179e\"],[0.4444444444444444,\"#bd3786\"],[0.5555555555555556,\"#d8576b\"],[0.6666666666666666,\"#ed7953\"],[0.7777777777777778,\"#fb9f3a\"],[0.8888888888888888,\"#fdca26\"],[1.0,\"#f0f921\"]],\"type\":\"surface\"}],\"table\":[{\"cells\":{\"fill\":{\"color\":\"#EBF0F8\"},\"line\":{\"color\":\"white\"}},\"header\":{\"fill\":{\"color\":\"#C8D4E3\"},\"line\":{\"color\":\"white\"}},\"type\":\"table\"}]},\"layout\":{\"annotationdefaults\":{\"arrowcolor\":\"#2a3f5f\",\"arrowhead\":0,\"arrowwidth\":1},\"autotypenumbers\":\"strict\",\"coloraxis\":{\"colorbar\":{\"outlinewidth\":0,\"ticks\":\"\"}},\"colorscale\":{\"diverging\":[[0,\"#8e0152\"],[0.1,\"#c51b7d\"],[0.2,\"#de77ae\"],[0.3,\"#f1b6da\"],[0.4,\"#fde0ef\"],[0.5,\"#f7f7f7\"],[0.6,\"#e6f5d0\"],[0.7,\"#b8e186\"],[0.8,\"#7fbc41\"],[0.9,\"#4d9221\"],[1,\"#276419\"]],\"sequential\":[[0.0,\"#0d0887\"],[0.1111111111111111,\"#46039f\"],[0.2222222222222222,\"#7201a8\"],[0.3333333333333333,\"#9c179e\"],[0.4444444444444444,\"#bd3786\"],[0.5555555555555556,\"#d8576b\"],[0.6666666666666666,\"#ed7953\"],[0.7777777777777778,\"#fb9f3a\"],[0.8888888888888888,\"#fdca26\"],[1.0,\"#f0f921\"]],\"sequentialminus\":[[0.0,\"#0d0887\"],[0.1111111111111111,\"#46039f\"],[0.2222222222222222,\"#7201a8\"],[0.3333333333333333,\"#9c179e\"],[0.4444444444444444,\"#bd3786\"],[0.5555555555555556,\"#d8576b\"],[0.6666666666666666,\"#ed7953\"],[0.7777777777777778,\"#fb9f3a\"],[0.8888888888888888,\"#fdca26\"],[1.0,\"#f0f921\"]]},\"colorway\":[\"#636efa\",\"#EF553B\",\"#00cc96\",\"#ab63fa\",\"#FFA15A\",\"#19d3f3\",\"#FF6692\",\"#B6E880\",\"#FF97FF\",\"#FECB52\"],\"font\":{\"color\":\"#2a3f5f\"},\"geo\":{\"bgcolor\":\"white\",\"lakecolor\":\"white\",\"landcolor\":\"#E5ECF6\",\"showlakes\":true,\"showland\":true,\"subunitcolor\":\"white\"},\"hoverlabel\":{\"align\":\"left\"},\"hovermode\":\"closest\",\"mapbox\":{\"style\":\"light\"},\"paper_bgcolor\":\"white\",\"plot_bgcolor\":\"#E5ECF6\",\"polar\":{\"angularaxis\":{\"gridcolor\":\"white\",\"linecolor\":\"white\",\"ticks\":\"\"},\"bgcolor\":\"#E5ECF6\",\"radialaxis\":{\"gridcolor\":\"white\",\"linecolor\":\"white\",\"ticks\":\"\"}},\"scene\":{\"xaxis\":{\"backgroundcolor\":\"#E5ECF6\",\"gridcolor\":\"white\",\"gridwidth\":2,\"linecolor\":\"white\",\"showbackground\":true,\"ticks\":\"\",\"zerolinecolor\":\"white\"},\"yaxis\":{\"backgroundcolor\":\"#E5ECF6\",\"gridcolor\":\"white\",\"gridwidth\":2,\"linecolor\":\"white\",\"showbackground\":true,\"ticks\":\"\",\"zerolinecolor\":\"white\"},\"zaxis\":{\"backgroundcolor\":\"#E5ECF6\",\"gridcolor\":\"white\",\"gridwidth\":2,\"linecolor\":\"white\",\"showbackground\":true,\"ticks\":\"\",\"zerolinecolor\":\"white\"}},\"shapedefaults\":{\"line\":{\"color\":\"#2a3f5f\"}},\"ternary\":{\"aaxis\":{\"gridcolor\":\"white\",\"linecolor\":\"white\",\"ticks\":\"\"},\"baxis\":{\"gridcolor\":\"white\",\"linecolor\":\"white\",\"ticks\":\"\"},\"bgcolor\":\"#E5ECF6\",\"caxis\":{\"gridcolor\":\"white\",\"linecolor\":\"white\",\"ticks\":\"\"}},\"title\":{\"x\":0.05},\"xaxis\":{\"automargin\":true,\"gridcolor\":\"white\",\"linecolor\":\"white\",\"ticks\":\"\",\"title\":{\"standoff\":15},\"zerolinecolor\":\"white\",\"zerolinewidth\":2},\"yaxis\":{\"automargin\":true,\"gridcolor\":\"white\",\"linecolor\":\"white\",\"ticks\":\"\",\"title\":{\"standoff\":15},\"zerolinecolor\":\"white\",\"zerolinewidth\":2}}},\"xaxis\":{\"anchor\":\"y\",\"domain\":[0.0,1.0],\"title\":{\"text\":\"Sentiment\"}},\"yaxis\":{\"anchor\":\"x\",\"domain\":[0.0,1.0],\"title\":{\"text\":\"Count\"}}},                        {\"responsive\": true}                    ).then(function(){\n",
       "                            \n",
       "var gd = document.getElementById('fa376b9d-dcc1-4a45-8af8-b39922dda59d');\n",
       "var x = new MutationObserver(function (mutations, observer) {{\n",
       "        var display = window.getComputedStyle(gd).display;\n",
       "        if (!display || display === 'none') {{\n",
       "            console.log([gd, 'removed!']);\n",
       "            Plotly.purge(gd);\n",
       "            observer.disconnect();\n",
       "        }}\n",
       "}});\n",
       "\n",
       "// Listen for the removal of the full notebook cells\n",
       "var notebookContainer = gd.closest('#notebook-container');\n",
       "if (notebookContainer) {{\n",
       "    x.observe(notebookContainer, {childList: true});\n",
       "}}\n",
       "\n",
       "// Listen for the clearing of the current output cell\n",
       "var outputEl = gd.closest('.output');\n",
       "if (outputEl) {{\n",
       "    x.observe(outputEl, {childList: true});\n",
       "}}\n",
       "\n",
       "                        })                };                });            </script>        </div>"
      ]
     },
     "metadata": {},
     "output_type": "display_data"
    }
   ],
   "source": [
    "# separate positive and negative tweets\n",
    "positive_new_tweets = combined_prediction_df[combined_prediction_df[\"score\"]==1.0]\n",
    "negative_new_tweets = combined_prediction_df[combined_prediction_df[\"score\"]==0.0]\n",
    "\n",
    "import plotly.express as px\n",
    "\n",
    "# Sentiment bar chart\n",
    "fig = px.bar(combined_prediction_df, x=[\"Negative\",\"Positive\"], y=[len(negative_new_tweets),len(positive_new_tweets)],\\\n",
    "            labels=dict(x=\"Sentiment\", y=\"Count\"))\n",
    "fig.update_layout(barmode='group', bargap=0.30)\n",
    "fig.show()\n"
   ]
  },
  {
   "cell_type": "code",
   "execution_count": 2,
   "id": "8e11c148",
   "metadata": {},
   "outputs": [
    {
     "data": {
      "text/html": [
       "<div>\n",
       "<style scoped>\n",
       "    .dataframe tbody tr th:only-of-type {\n",
       "        vertical-align: middle;\n",
       "    }\n",
       "\n",
       "    .dataframe tbody tr th {\n",
       "        vertical-align: top;\n",
       "    }\n",
       "\n",
       "    .dataframe thead th {\n",
       "        text-align: right;\n",
       "    }\n",
       "</style>\n",
       "<table border=\"1\" class=\"dataframe\">\n",
       "  <thead>\n",
       "    <tr style=\"text-align: right;\">\n",
       "      <th></th>\n",
       "      <th>end</th>\n",
       "      <th>start</th>\n",
       "      <th>tweet_count</th>\n",
       "    </tr>\n",
       "  </thead>\n",
       "  <tbody>\n",
       "    <tr>\n",
       "      <th>0</th>\n",
       "      <td>2021-11-02T00:00:00.000Z</td>\n",
       "      <td>2021-11-01T00:00:00.000Z</td>\n",
       "      <td>138498</td>\n",
       "    </tr>\n",
       "    <tr>\n",
       "      <th>1</th>\n",
       "      <td>2021-11-03T00:00:00.000Z</td>\n",
       "      <td>2021-11-02T00:00:00.000Z</td>\n",
       "      <td>88621</td>\n",
       "    </tr>\n",
       "    <tr>\n",
       "      <th>2</th>\n",
       "      <td>2021-11-04T00:00:00.000Z</td>\n",
       "      <td>2021-11-03T00:00:00.000Z</td>\n",
       "      <td>53148</td>\n",
       "    </tr>\n",
       "    <tr>\n",
       "      <th>3</th>\n",
       "      <td>2021-11-05T00:00:00.000Z</td>\n",
       "      <td>2021-11-04T00:00:00.000Z</td>\n",
       "      <td>54606</td>\n",
       "    </tr>\n",
       "    <tr>\n",
       "      <th>4</th>\n",
       "      <td>2021-11-06T00:00:00.000Z</td>\n",
       "      <td>2021-11-05T00:00:00.000Z</td>\n",
       "      <td>47726</td>\n",
       "    </tr>\n",
       "    <tr>\n",
       "      <th>5</th>\n",
       "      <td>2021-11-07T00:00:00.000Z</td>\n",
       "      <td>2021-11-06T00:00:00.000Z</td>\n",
       "      <td>64812</td>\n",
       "    </tr>\n",
       "    <tr>\n",
       "      <th>6</th>\n",
       "      <td>2021-11-08T00:00:00.000Z</td>\n",
       "      <td>2021-11-07T00:00:00.000Z</td>\n",
       "      <td>78984</td>\n",
       "    </tr>\n",
       "    <tr>\n",
       "      <th>7</th>\n",
       "      <td>2021-11-09T00:00:00.000Z</td>\n",
       "      <td>2021-11-08T00:00:00.000Z</td>\n",
       "      <td>74188</td>\n",
       "    </tr>\n",
       "  </tbody>\n",
       "</table>\n",
       "</div>"
      ],
      "text/plain": [
       "                        end                     start  tweet_count\n",
       "0  2021-11-02T00:00:00.000Z  2021-11-01T00:00:00.000Z       138498\n",
       "1  2021-11-03T00:00:00.000Z  2021-11-02T00:00:00.000Z        88621\n",
       "2  2021-11-04T00:00:00.000Z  2021-11-03T00:00:00.000Z        53148\n",
       "3  2021-11-05T00:00:00.000Z  2021-11-04T00:00:00.000Z        54606\n",
       "4  2021-11-06T00:00:00.000Z  2021-11-05T00:00:00.000Z        47726\n",
       "5  2021-11-07T00:00:00.000Z  2021-11-06T00:00:00.000Z        64812\n",
       "6  2021-11-08T00:00:00.000Z  2021-11-07T00:00:00.000Z        78984\n",
       "7  2021-11-09T00:00:00.000Z  2021-11-08T00:00:00.000Z        74188"
      ]
     },
     "execution_count": 2,
     "metadata": {},
     "output_type": "execute_result"
    }
   ],
   "source": [
    "# load counts data\n",
    "counts_df = pd.read_csv(\"API_count_data.csv\")\n",
    "counts_df"
   ]
  },
  {
   "cell_type": "code",
   "execution_count": 3,
   "id": "5bb4f02c",
   "metadata": {},
   "outputs": [
    {
     "data": {
      "text/html": [
       "<div>\n",
       "<style scoped>\n",
       "    .dataframe tbody tr th:only-of-type {\n",
       "        vertical-align: middle;\n",
       "    }\n",
       "\n",
       "    .dataframe tbody tr th {\n",
       "        vertical-align: top;\n",
       "    }\n",
       "\n",
       "    .dataframe thead th {\n",
       "        text-align: right;\n",
       "    }\n",
       "</style>\n",
       "<table border=\"1\" class=\"dataframe\">\n",
       "  <thead>\n",
       "    <tr style=\"text-align: right;\">\n",
       "      <th></th>\n",
       "      <th>end</th>\n",
       "      <th>start</th>\n",
       "      <th>created_date</th>\n",
       "      <th>weekday</th>\n",
       "      <th>tweet_count</th>\n",
       "    </tr>\n",
       "  </thead>\n",
       "  <tbody>\n",
       "    <tr>\n",
       "      <th>0</th>\n",
       "      <td>2021-11-02T00:00:00.000Z</td>\n",
       "      <td>2021-11-01T00:00:00.000Z</td>\n",
       "      <td>2021-11-01</td>\n",
       "      <td>Monday</td>\n",
       "      <td>138498</td>\n",
       "    </tr>\n",
       "    <tr>\n",
       "      <th>1</th>\n",
       "      <td>2021-11-03T00:00:00.000Z</td>\n",
       "      <td>2021-11-02T00:00:00.000Z</td>\n",
       "      <td>2021-11-02</td>\n",
       "      <td>Tuesday</td>\n",
       "      <td>88621</td>\n",
       "    </tr>\n",
       "    <tr>\n",
       "      <th>2</th>\n",
       "      <td>2021-11-04T00:00:00.000Z</td>\n",
       "      <td>2021-11-03T00:00:00.000Z</td>\n",
       "      <td>2021-11-03</td>\n",
       "      <td>Wednesday</td>\n",
       "      <td>53148</td>\n",
       "    </tr>\n",
       "    <tr>\n",
       "      <th>3</th>\n",
       "      <td>2021-11-05T00:00:00.000Z</td>\n",
       "      <td>2021-11-04T00:00:00.000Z</td>\n",
       "      <td>2021-11-04</td>\n",
       "      <td>Thursday</td>\n",
       "      <td>54606</td>\n",
       "    </tr>\n",
       "    <tr>\n",
       "      <th>4</th>\n",
       "      <td>2021-11-06T00:00:00.000Z</td>\n",
       "      <td>2021-11-05T00:00:00.000Z</td>\n",
       "      <td>2021-11-05</td>\n",
       "      <td>Friday</td>\n",
       "      <td>47726</td>\n",
       "    </tr>\n",
       "    <tr>\n",
       "      <th>5</th>\n",
       "      <td>2021-11-07T00:00:00.000Z</td>\n",
       "      <td>2021-11-06T00:00:00.000Z</td>\n",
       "      <td>2021-11-06</td>\n",
       "      <td>Saturday</td>\n",
       "      <td>64812</td>\n",
       "    </tr>\n",
       "    <tr>\n",
       "      <th>6</th>\n",
       "      <td>2021-11-08T00:00:00.000Z</td>\n",
       "      <td>2021-11-07T00:00:00.000Z</td>\n",
       "      <td>2021-11-07</td>\n",
       "      <td>Sunday</td>\n",
       "      <td>78984</td>\n",
       "    </tr>\n",
       "    <tr>\n",
       "      <th>7</th>\n",
       "      <td>2021-11-09T00:00:00.000Z</td>\n",
       "      <td>2021-11-08T00:00:00.000Z</td>\n",
       "      <td>2021-11-08</td>\n",
       "      <td>Monday</td>\n",
       "      <td>74188</td>\n",
       "    </tr>\n",
       "  </tbody>\n",
       "</table>\n",
       "</div>"
      ],
      "text/plain": [
       "                        end                     start created_date    weekday  \\\n",
       "0  2021-11-02T00:00:00.000Z  2021-11-01T00:00:00.000Z   2021-11-01     Monday   \n",
       "1  2021-11-03T00:00:00.000Z  2021-11-02T00:00:00.000Z   2021-11-02    Tuesday   \n",
       "2  2021-11-04T00:00:00.000Z  2021-11-03T00:00:00.000Z   2021-11-03  Wednesday   \n",
       "3  2021-11-05T00:00:00.000Z  2021-11-04T00:00:00.000Z   2021-11-04   Thursday   \n",
       "4  2021-11-06T00:00:00.000Z  2021-11-05T00:00:00.000Z   2021-11-05     Friday   \n",
       "5  2021-11-07T00:00:00.000Z  2021-11-06T00:00:00.000Z   2021-11-06   Saturday   \n",
       "6  2021-11-08T00:00:00.000Z  2021-11-07T00:00:00.000Z   2021-11-07     Sunday   \n",
       "7  2021-11-09T00:00:00.000Z  2021-11-08T00:00:00.000Z   2021-11-08     Monday   \n",
       "\n",
       "   tweet_count  \n",
       "0       138498  \n",
       "1        88621  \n",
       "2        53148  \n",
       "3        54606  \n",
       "4        47726  \n",
       "5        64812  \n",
       "6        78984  \n",
       "7        74188  "
      ]
     },
     "execution_count": 3,
     "metadata": {},
     "output_type": "execute_result"
    }
   ],
   "source": [
    "# Convert date column from object to datetime format\n",
    "counts_df['created_date'] = pd.to_datetime(counts_df['start'], format='%Y-%m-%d %H:%M:%S')\n",
    "# Add a weekday column\n",
    "counts_df['weekday'] = counts_df['created_date'].dt.day_name()\n",
    "# Convert date format\n",
    "counts_df['created_date'] = counts_df['created_date'].dt.strftime('%Y-%m-%d')\n",
    "\n",
    "# Change column names and reorder columns\n",
    "counts_df = counts_df[['end_time','start_time','created_date','weekday','tweet_count']]\n",
    "counts_df"
   ]
  },
  {
   "cell_type": "code",
   "execution_count": 4,
   "id": "79ec4a48",
   "metadata": {},
   "outputs": [],
   "source": [
    "# save to csv format\n",
    "counts_df.to_csv('tweets_count.csv', index = False)\n",
    "# save to json format\n",
    "counts_df.to_json('tweets_count.json', orient='records')"
   ]
  },
  {
   "cell_type": "code",
   "execution_count": null,
   "id": "fd3e5700",
   "metadata": {},
   "outputs": [],
   "source": []
  }
 ],
 "metadata": {
  "kernelspec": {
   "display_name": "mlenv",
   "language": "python",
   "name": "mlenv"
  },
  "language_info": {
   "codemirror_mode": {
    "name": "ipython",
    "version": 3
   },
   "file_extension": ".py",
   "mimetype": "text/x-python",
   "name": "python",
   "nbconvert_exporter": "python",
   "pygments_lexer": "ipython3",
   "version": "3.7.10"
  }
 },
 "nbformat": 4,
 "nbformat_minor": 5
}
