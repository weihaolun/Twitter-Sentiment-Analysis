{
 "cells": [
  {
   "cell_type": "markdown",
   "metadata": {
    "colab_type": "text",
    "id": "view-in-github"
   },
   "source": [
    "<a href=\"https://colab.research.google.com/github/weihaolun/Twitter-Sentiment-Analysis/blob/main/Database/ETL.ipynb\" target=\"_parent\"><img src=\"https://colab.research.google.com/assets/colab-badge.svg\" alt=\"Open In Colab\"/></a>"
   ]
  },
  {
   "cell_type": "code",
   "execution_count": 1,
   "metadata": {
    "colab": {
     "base_uri": "https://localhost:8080/"
    },
    "id": "V58rxea0HqSa",
    "outputId": "3ef04a64-0697-46d3-b601-b009384ee93f"
   },
   "outputs": [
    {
     "name": "stdout",
     "output_type": "stream",
     "text": [
      "\r",
      "0% [Working]\r",
      "            \r",
      "Hit:1 http://archive.ubuntu.com/ubuntu bionic InRelease\n",
      "\r",
      "0% [Connecting to security.ubuntu.com (91.189.91.38)] [Connected to cloud.r-pro\r",
      "                                                                               \r",
      "Get:2 http://archive.ubuntu.com/ubuntu bionic-updates InRelease [88.7 kB]\n",
      "\r",
      "                                                                               \r",
      "Get:3 http://archive.ubuntu.com/ubuntu bionic-backports InRelease [74.6 kB]\n",
      "\r",
      "                                                                               \r",
      "Get:4 https://cloud.r-project.org/bin/linux/ubuntu bionic-cran40/ InRelease [3,626 B]\n",
      "\r",
      "                                                                               \r",
      "Get:5 http://ppa.launchpad.net/c2d4u.team/c2d4u4.0+/ubuntu bionic InRelease [15.9 kB]\n",
      "\r",
      "                                                                               \r",
      "Hit:6 http://ppa.launchpad.net/cran/libgit2/ubuntu bionic InRelease\n",
      "\r",
      "                                                                               \r",
      "Hit:7 http://ppa.launchpad.net/deadsnakes/ppa/ubuntu bionic InRelease\n",
      "Hit:8 http://ppa.launchpad.net/graphics-drivers/ppa/ubuntu bionic InRelease\n",
      "Get:9 http://security.ubuntu.com/ubuntu bionic-security InRelease [88.7 kB]\n",
      "Ign:10 https://developer.download.nvidia.com/compute/cuda/repos/ubuntu1804/x86_64  InRelease\n",
      "Ign:11 https://developer.download.nvidia.com/compute/machine-learning/repos/ubuntu1804/x86_64  InRelease\n",
      "Get:12 https://developer.download.nvidia.com/compute/cuda/repos/ubuntu1804/x86_64  Release [696 B]\n",
      "Hit:13 https://developer.download.nvidia.com/compute/machine-learning/repos/ubuntu1804/x86_64  Release\n",
      "Get:14 https://developer.download.nvidia.com/compute/cuda/repos/ubuntu1804/x86_64  Release.gpg [836 B]\n",
      "Get:15 http://archive.ubuntu.com/ubuntu bionic-updates/multiverse amd64 Packages [34.4 kB]\n",
      "Get:16 http://archive.ubuntu.com/ubuntu bionic-updates/restricted amd64 Packages [699 kB]\n",
      "Get:17 http://archive.ubuntu.com/ubuntu bionic-updates/universe amd64 Packages [2,219 kB]\n",
      "Get:18 http://archive.ubuntu.com/ubuntu bionic-updates/main amd64 Packages [2,867 kB]\n",
      "Get:19 https://cloud.r-project.org/bin/linux/ubuntu bionic-cran40/ Packages [73.0 kB]\n",
      "Get:20 http://ppa.launchpad.net/c2d4u.team/c2d4u4.0+/ubuntu bionic/main Sources [1,812 kB]\n",
      "Get:21 http://ppa.launchpad.net/c2d4u.team/c2d4u4.0+/ubuntu bionic/main amd64 Packages [928 kB]\n",
      "Get:23 https://developer.download.nvidia.com/compute/cuda/repos/ubuntu1804/x86_64  Packages [808 kB]\n",
      "Get:24 http://security.ubuntu.com/ubuntu bionic-security/multiverse amd64 Packages [26.8 kB]\n",
      "Get:25 http://security.ubuntu.com/ubuntu bionic-security/restricted amd64 Packages [666 kB]\n",
      "Get:26 http://security.ubuntu.com/ubuntu bionic-security/main amd64 Packages [2,430 kB]\n",
      "Get:27 http://security.ubuntu.com/ubuntu bionic-security/universe amd64 Packages [1,439 kB]\n",
      "Fetched 14.3 MB in 5s (2,804 kB/s)\n",
      "Reading package lists... Done\n"
     ]
    }
   ],
   "source": [
    "import os\n",
    "# Find the latest version of spark 3.0 from http://www.apache.org/dist/spark/ and enter as the spark version\n",
    "spark_version = 'spark-3.0.3'\n",
    "os.environ['SPARK_VERSION']=spark_version\n",
    "\n",
    "# Install Spark and Java\n",
    "!apt-get update\n",
    "!apt-get install openjdk-11-jdk-headless -qq > /dev/null\n",
    "!wget -q http://www.apache.org/dist/spark/$SPARK_VERSION/$SPARK_VERSION-bin-hadoop2.7.tgz\n",
    "!tar xf $SPARK_VERSION-bin-hadoop2.7.tgz\n",
    "!pip install -q findspark\n",
    "\n",
    "# Set Environment Variables\n",
    "import os\n",
    "os.environ[\"JAVA_HOME\"] = \"/usr/lib/jvm/java-11-openjdk-amd64\"\n",
    "os.environ[\"SPARK_HOME\"] = f\"/content/{spark_version}-bin-hadoop2.7\"\n",
    "\n",
    "# Start a SparkSession\n",
    "import findspark\n",
    "findspark.init()"
   ]
  },
  {
   "cell_type": "code",
   "execution_count": 2,
   "metadata": {
    "colab": {
     "base_uri": "https://localhost:8080/"
    },
    "id": "_xKwTpATHqSe",
    "outputId": "153c5bdb-161a-4714-cd00-98cdf0b967a9"
   },
   "outputs": [
    {
     "name": "stdout",
     "output_type": "stream",
     "text": [
      "--2021-11-15 05:52:05--  https://jdbc.postgresql.org/download/postgresql-42.2.16.jar\n",
      "Resolving jdbc.postgresql.org (jdbc.postgresql.org)... 72.32.157.228, 2001:4800:3e1:1::228\n",
      "Connecting to jdbc.postgresql.org (jdbc.postgresql.org)|72.32.157.228|:443... connected.\n",
      "HTTP request sent, awaiting response... 200 OK\n",
      "Length: 1002883 (979K) [application/java-archive]\n",
      "Saving to: ‘postgresql-42.2.16.jar’\n",
      "\n",
      "postgresql-42.2.16. 100%[===================>] 979.38K  1.69MB/s    in 0.6s    \n",
      "\n",
      "2021-11-15 05:52:06 (1.69 MB/s) - ‘postgresql-42.2.16.jar’ saved [1002883/1002883]\n",
      "\n"
     ]
    }
   ],
   "source": [
    "# Download the Postgres driver that will allow Spark to interact with Postgres.\n",
    "!wget https://jdbc.postgresql.org/download/postgresql-42.2.16.jar"
   ]
  },
  {
   "cell_type": "code",
   "execution_count": 3,
   "metadata": {
    "id": "MMqDAjVS0KN9"
   },
   "outputs": [],
   "source": [
    "# Create spark session\n",
    "from pyspark.sql import SparkSession\n",
    "spark = SparkSession.builder.appName(\"final-project\").config(\"spark.driver.extraClassPath\",\"/content/postgresql-42.2.16.jar\").getOrCreate()"
   ]
  },
  {
   "cell_type": "markdown",
   "metadata": {
    "id": "cyBsySGuY-9V"
   },
   "source": [
    "### Load Amazon Data into Spark DataFrames"
   ]
  },
  {
   "cell_type": "code",
   "execution_count": 4,
   "metadata": {
    "colab": {
     "base_uri": "https://localhost:8080/"
    },
    "id": "CtCmBhQJY-9Z",
    "outputId": "bc4cbb5c-396d-4881-cfdf-df0e1d45cf87"
   },
   "outputs": [
    {
     "name": "stdout",
     "output_type": "stream",
     "text": [
      "+---+--------+--------------------+\n",
      "|_c0|attitude|              tweets|\n",
      "+---+--------+--------------------+\n",
      "|  5|positive|Tim Tebow may be ...|\n",
      "|  6|positive|@mariakaykay aga ...|\n",
      "|  8|positive|Lunch from my new...|\n",
      "|  9|positive|SNC Halloween Pr....|\n",
      "| 14|positive|Louis inspired ou...|\n",
      "| 17|positive|\"\"\"I love the ban...|\n",
      "| 18|positive|#Repost Chris Bos...|\n",
      "| 20|positive|\"\"\"Gary Ablett wi...|\n",
      "| 23|positive|Lana Del Rey at H...|\n",
      "| 26|positive|ABC has @jaketapp...|\n",
      "| 27|positive|Here in the Phili...|\n",
      "| 28|positive|Tonight Dr. Terri...|\n",
      "| 32|positive|@solz_b He\\u2019s...|\n",
      "| 33|positive|Patriots Extend L...|\n",
      "| 34|positive|@KevOrf_5 Yeah I ...|\n",
      "| 38|positive|Pretty Little Lia...|\n",
      "| 39|positive|@MonicaGonzo Texa...|\n",
      "| 41|positive|GREAT GAME GIRLS!...|\n",
      "| 46|positive|#7FactsAboutMyBes...|\n",
      "| 48|positive|waking up to a Ni...|\n",
      "+---+--------+--------------------+\n",
      "only showing top 20 rows\n",
      "\n"
     ]
    }
   ],
   "source": [
    "from pyspark import SparkFiles\n",
    "# positive tweets \n",
    "url = \"https://sjpv94twitter.s3.us-west-1.amazonaws.com/positive.csv\"\n",
    "spark.sparkContext.addFile(url)\n",
    "positive_df = spark.read.option(\"encoding\", \"UTF-8\").csv(SparkFiles.get(\"positive.csv\"), sep=\",\", header=True, inferSchema=True)\n",
    "positive_df.show()"
   ]
  },
  {
   "cell_type": "code",
   "execution_count": 5,
   "metadata": {
    "colab": {
     "base_uri": "https://localhost:8080/"
    },
    "id": "ECM5F_qHKskH",
    "outputId": "97cd408c-af02-44b1-f3dc-8fd46f87d4e1"
   },
   "outputs": [
    {
     "name": "stdout",
     "output_type": "stream",
     "text": [
      "+---+--------+--------------------+\n",
      "|_c0|attitude|              tweets|\n",
      "+---+--------+--------------------+\n",
      "|  2|negative|@francesco_con40 ...|\n",
      "| 10|negative|@jacquelinemegan ...|\n",
      "| 19|negative|@prodnose is this...|\n",
      "| 21|negative|Gold edges down a...|\n",
      "| 25|negative|Monday before I l...|\n",
      "| 31|negative|\\u2019Love-cheat\\...|\n",
      "| 44|negative|Cardinal men take...|\n",
      "| 51|negative|@Duffy_Louise Noo...|\n",
      "| 53|negative|I believe the sno...|\n",
      "| 55|negative|Well if no ones g...|\n",
      "| 57|negative|Watching Contraba...|\n",
      "| 58|negative|@JoshNorris @Roto...|\n",
      "| 61|negative|Steal by Chalmers...|\n",
      "| 76|negative|The Rick Santorum...|\n",
      "| 85|negative|@DannyB618 Sure a...|\n",
      "| 86|negative|@RichardGordon48 ...|\n",
      "| 94|negative|#pause I bet the ...|\n",
      "|104|negative|Mitt Romney false...|\n",
      "|110|negative|Firework just cam...|\n",
      "|111|negative|@TatiCuteAss you ...|\n",
      "+---+--------+--------------------+\n",
      "only showing top 20 rows\n",
      "\n"
     ]
    }
   ],
   "source": [
    "# negative tweets \n",
    "url = \"https://sjpv94twitter.s3.us-west-1.amazonaws.com/negative.csv\"\n",
    "spark.sparkContext.addFile(url)\n",
    "negative_df = spark.read.option(\"encoding\", \"UTF-8\").csv(SparkFiles.get(\"negative.csv\"), sep=\",\", header=True, inferSchema=True)\n",
    "negative_df.show()"
   ]
  },
  {
   "cell_type": "code",
   "execution_count": 6,
   "metadata": {
    "colab": {
     "base_uri": "https://localhost:8080/"
    },
    "id": "iNyq8mX_KtpC",
    "outputId": "e150a99e-0b11-4e3f-80a6-5a9e75609994"
   },
   "outputs": [
    {
     "name": "stdout",
     "output_type": "stream",
     "text": [
      "+---+--------+--------------------+\n",
      "|_c0|attitude|              tweets|\n",
      "+---+--------+--------------------+\n",
      "|  0| neutral|Won the match #ge...|\n",
      "|  1| neutral|Some areas of New...|\n",
      "|  3| neutral|#Thailand Washing...|\n",
      "|  4| neutral|Did y\\u2019all he...|\n",
      "|  7| neutral|Tina Fey & Amy Po...|\n",
      "| 11| neutral|Manchester United...|\n",
      "| 12| neutral|Going to a bulls ...|\n",
      "| 13| neutral|Any Toon Fans wit...|\n",
      "| 15| neutral|going to bed now....|\n",
      "| 16| neutral|@_Nenaah oh cause...|\n",
      "| 22| neutral|.@NUMensSoccer: A...|\n",
      "| 24| neutral|Shaw wouldn\\u2019...|\n",
      "| 29| neutral|Man\\u002c bye. I ...|\n",
      "| 30| neutral|@thaalitaa410 won...|\n",
      "| 35| neutral|I may exit off tw...|\n",
      "| 36| neutral|Indiana 1\\u002c N...|\n",
      "| 37| neutral|\"\"\"VH1\\u2019s \\\"\"...|\n",
      "| 40| neutral|If you are in Van...|\n",
      "| 42| neutral|Jesiah of course ...|\n",
      "| 43| neutral|@gleekyspnluver @...|\n",
      "+---+--------+--------------------+\n",
      "only showing top 20 rows\n",
      "\n"
     ]
    }
   ],
   "source": [
    "# neutral tweets \n",
    "url = \"https://sjpv94twitter.s3.us-west-1.amazonaws.com/neutral.csv\"\n",
    "spark.sparkContext.addFile(url)\n",
    "neutral_df = spark.read.option(\"encoding\", \"UTF-8\").csv(SparkFiles.get(\"neutral.csv\"), sep=\",\", header=True, inferSchema=True)\n",
    "neutral_df.show()"
   ]
  },
  {
   "cell_type": "code",
   "execution_count": 8,
   "metadata": {
    "colab": {
     "base_uri": "https://localhost:8080/"
    },
    "id": "irYD-HhqPH5U",
    "outputId": "9fec7845-265c-4759-a703-4db63c133c5d"
   },
   "outputs": [
    {
     "name": "stdout",
     "output_type": "stream",
     "text": [
      "+-------------+------------+-----+-----+--------------------+--------------------+-------+\n",
      "|   created_at|created_date|hours|score|                text|               tweet|weekday|\n",
      "+-------------+------------+-----+-----+--------------------+--------------------+-------+\n",
      "|1635728396000|  2021-11-01|    0|    0|[car, hardware, n...|@lj3252 @Teslarat...| Monday|\n",
      "|1635728393000|  2021-11-01|    0|    1|[hi, trying, star...|@elonmusk @garycr...| Monday|\n",
      "|1635728386000|  2021-11-01|    0|    1|[real, interest, ...|@AgnesOfTheDogs @...| Monday|\n",
      "|1635728381000|  2021-11-01|    0|    1|[hi, trying, star...|@elonmusk @garycr...| Monday|\n",
      "|1635728377000|  2021-11-01|    0|    0|[elon, musk, say,...|Elon Musk says he...| Monday|\n",
      "|1635728376000|  2021-11-01|    0|    0|[doge, dogearmy, ...|#doge #dogearmy #...| Monday|\n",
      "|1635728368000|  2021-11-01|    0|    1|[according, nhtsa...|According to the ...| Monday|\n",
      "|1635728366000|  2021-11-01|    0|    0|[exactly, person,...|@llIIIllIIIIlll @...| Monday|\n",
      "|1635728364000|  2021-11-01|    0|    1|[hi, trying, star...|@elonmusk @garycr...| Monday|\n",
      "|1635728363000|  2021-11-01|    0|    1|[modern, day, ver...|@elonmusk @truth_...| Monday|\n",
      "|1635728363000|  2021-11-01|    0|    1|[sony, sony, hmc,...|$SONY SONY UP ARO...| Monday|\n",
      "|1635728355000|  2021-11-01|    0|    1|[hi, trying, star...|@elonmusk @garycr...| Monday|\n",
      "|1635728353000|  2021-11-01|    0|    1|[blow, mind, samm...|@elonmusk @truth_...| Monday|\n",
      "|1635728349000|  2021-11-01|    0|    0|[elon, musk, sell...|ELON MUSK WILL SE...| Monday|\n",
      "|1635728346000|  2021-11-01|    0|    1| [new, tesla, plaid]|The new Tesla pla...| Monday|\n",
      "|1635728342000|  2021-11-01|    0|    1|[push, want, wort...|@tdearling @garyb...| Monday|\n",
      "|1635728340000|  2021-11-01|    0|    0|[lol, yea, probab...|@LongviewTrading ...| Monday|\n",
      "|1635728339000|  2021-11-01|    0|    1|    [different, mob]|@elonmusk @truth_...| Monday|\n",
      "|1635728338000|  2021-11-01|    0|    1|[hi, trying, star...|@elonmusk @garycr...| Monday|\n",
      "|1635728336000|  2021-11-01|    0|    1|[exactly, lucid, ...|@teslaP3D @WholeM...| Monday|\n",
      "+-------------+------------+-----+-----+--------------------+--------------------+-------+\n",
      "only showing top 20 rows\n",
      "\n"
     ]
    }
   ],
   "source": [
    "# api tweets \n",
    "url = \"https://sjpv94twitter.s3.us-west-1.amazonaws.com/cleaned_scored_tweets.json\"\n",
    "spark.sparkContext.addFile(url)\n",
    "api_tweets_df = spark.read.option(\"encoding\", \"UTF-8\").json(SparkFiles.get(\"cleaned_scored_tweets.json\"))\n",
    "api_tweets_df.show()"
   ]
  },
  {
   "cell_type": "code",
   "execution_count": 9,
   "metadata": {
    "colab": {
     "base_uri": "https://localhost:8080/"
    },
    "id": "TEXIgPmmPIIA",
    "outputId": "24ae092d-387b-43fd-99e9-3baef901ac40"
   },
   "outputs": [
    {
     "name": "stdout",
     "output_type": "stream",
     "text": [
      "+------------+--------------------+--------------------+-----------+---------+\n",
      "|created_date|            end_time|          start_time|tweet_count|  weekday|\n",
      "+------------+--------------------+--------------------+-----------+---------+\n",
      "|  2021-11-01|2021-11-02T00:00:...|2021-11-01T00:00:...|     138498|   Monday|\n",
      "|  2021-11-02|2021-11-03T00:00:...|2021-11-02T00:00:...|      88621|  Tuesday|\n",
      "|  2021-11-03|2021-11-04T00:00:...|2021-11-03T00:00:...|      53148|Wednesday|\n",
      "|  2021-11-04|2021-11-05T00:00:...|2021-11-04T00:00:...|      54606| Thursday|\n",
      "|  2021-11-05|2021-11-06T00:00:...|2021-11-05T00:00:...|      47726|   Friday|\n",
      "|  2021-11-06|2021-11-07T00:00:...|2021-11-06T00:00:...|      64812| Saturday|\n",
      "|  2021-11-07|2021-11-08T00:00:...|2021-11-07T00:00:...|      78984|   Sunday|\n",
      "|  2021-11-08|2021-11-09T00:00:...|2021-11-08T00:00:...|      74188|   Monday|\n",
      "|  2021-11-09|2021-11-10T00:00:...|2021-11-09T00:00:...|      51366|  Tuesday|\n",
      "|  2021-11-10|2021-11-11T00:00:...|2021-11-10T00:00:...|      42847|Wednesday|\n",
      "|  2021-11-11|2021-11-12T00:00:...|2021-11-11T00:00:...|      57487| Thursday|\n",
      "|  2021-11-12|2021-11-13T00:00:...|2021-11-12T00:00:...|      44835|   Friday|\n",
      "|  2021-11-13|2021-11-14T00:00:...|2021-11-13T00:00:...|      39768| Saturday|\n",
      "|  2021-11-14|2021-11-15T00:00:...|2021-11-14T00:00:...|      61288|   Sunday|\n",
      "+------------+--------------------+--------------------+-----------+---------+\n",
      "\n"
     ]
    }
   ],
   "source": [
    "# api count\n",
    "url = \"https://sjpv94twitter.s3.us-west-1.amazonaws.com/tweets_count.json\"\n",
    "spark.sparkContext.addFile(url)\n",
    "api_count_df = spark.read.option(\"encoding\", \"UTF-8\").json(SparkFiles.get(\"tweets_count.json\"))\n",
    "api_count_df.show()"
   ]
  },
  {
   "cell_type": "markdown",
   "metadata": {
    "id": "2yUSe55VY-9t"
   },
   "source": [
    "### Create DataFrames to match tables in pgAdmin"
   ]
  },
  {
   "cell_type": "code",
   "execution_count": 10,
   "metadata": {
    "colab": {
     "base_uri": "https://localhost:8080/"
    },
    "id": "fhwiBX-KMNH0",
    "outputId": "8043445c-9569-4392-9c30-8d971f8481eb"
   },
   "outputs": [
    {
     "name": "stdout",
     "output_type": "stream",
     "text": [
      "+--------+--------------------+\n",
      "|attitude|              tweets|\n",
      "+--------+--------------------+\n",
      "|positive|Tim Tebow may be ...|\n",
      "|positive|@mariakaykay aga ...|\n",
      "|positive|Lunch from my new...|\n",
      "|positive|SNC Halloween Pr....|\n",
      "|positive|Louis inspired ou...|\n",
      "|positive|\"\"\"I love the ban...|\n",
      "|positive|#Repost Chris Bos...|\n",
      "|positive|\"\"\"Gary Ablett wi...|\n",
      "|positive|Lana Del Rey at H...|\n",
      "|positive|ABC has @jaketapp...|\n",
      "|positive|Here in the Phili...|\n",
      "|positive|Tonight Dr. Terri...|\n",
      "|positive|@solz_b He\\u2019s...|\n",
      "|positive|Patriots Extend L...|\n",
      "|positive|@KevOrf_5 Yeah I ...|\n",
      "|positive|Pretty Little Lia...|\n",
      "|positive|@MonicaGonzo Texa...|\n",
      "|positive|GREAT GAME GIRLS!...|\n",
      "|positive|#7FactsAboutMyBes...|\n",
      "|positive|waking up to a Ni...|\n",
      "+--------+--------------------+\n",
      "only showing top 20 rows\n",
      "\n"
     ]
    }
   ],
   "source": [
    "# combine positive, negative, neutral tweets to match tables in Postgres\n",
    "initial_tweets = positive_df.unionByName(negative_df)\n",
    "initial_tweets = initial_tweets.unionByName(neutral_df)\n",
    "initial_tweets = initial_tweets.drop(initial_tweets._c0)\n",
    "initial_tweets.show()"
   ]
  },
  {
   "cell_type": "code",
   "execution_count": 12,
   "metadata": {
    "colab": {
     "base_uri": "https://localhost:8080/"
    },
    "id": "J0fvnVRdd77c",
    "outputId": "a3836dc5-340e-49c0-8f10-47488f28bab7"
   },
   "outputs": [
    {
     "name": "stdout",
     "output_type": "stream",
     "text": [
      "+-------------+------------+-------+-----+--------------------+--------------------+-----+\n",
      "|   created_at|created_date|weekday|hours|               tweet|                text|score|\n",
      "+-------------+------------+-------+-----+--------------------+--------------------+-----+\n",
      "|1635728396000|  2021-11-01| Monday|    0|@lj3252 @Teslarat...|[car, hardware, n...|    0|\n",
      "|1635728393000|  2021-11-01| Monday|    0|@elonmusk @garycr...|[hi, trying, star...|    1|\n",
      "|1635728386000|  2021-11-01| Monday|    0|@AgnesOfTheDogs @...|[real, interest, ...|    1|\n",
      "|1635728381000|  2021-11-01| Monday|    0|@elonmusk @garycr...|[hi, trying, star...|    1|\n",
      "|1635728377000|  2021-11-01| Monday|    0|Elon Musk says he...|[elon, musk, say,...|    0|\n",
      "|1635728376000|  2021-11-01| Monday|    0|#doge #dogearmy #...|[doge, dogearmy, ...|    0|\n",
      "|1635728368000|  2021-11-01| Monday|    0|According to the ...|[according, nhtsa...|    1|\n",
      "|1635728366000|  2021-11-01| Monday|    0|@llIIIllIIIIlll @...|[exactly, person,...|    0|\n",
      "|1635728364000|  2021-11-01| Monday|    0|@elonmusk @garycr...|[hi, trying, star...|    1|\n",
      "|1635728363000|  2021-11-01| Monday|    0|@elonmusk @truth_...|[modern, day, ver...|    1|\n",
      "|1635728363000|  2021-11-01| Monday|    0|$SONY SONY UP ARO...|[sony, sony, hmc,...|    1|\n",
      "|1635728355000|  2021-11-01| Monday|    0|@elonmusk @garycr...|[hi, trying, star...|    1|\n",
      "|1635728353000|  2021-11-01| Monday|    0|@elonmusk @truth_...|[blow, mind, samm...|    1|\n",
      "|1635728349000|  2021-11-01| Monday|    0|ELON MUSK WILL SE...|[elon, musk, sell...|    0|\n",
      "|1635728346000|  2021-11-01| Monday|    0|The new Tesla pla...| [new, tesla, plaid]|    1|\n",
      "|1635728342000|  2021-11-01| Monday|    0|@tdearling @garyb...|[push, want, wort...|    1|\n",
      "|1635728340000|  2021-11-01| Monday|    0|@LongviewTrading ...|[lol, yea, probab...|    0|\n",
      "|1635728339000|  2021-11-01| Monday|    0|@elonmusk @truth_...|    [different, mob]|    1|\n",
      "|1635728338000|  2021-11-01| Monday|    0|@elonmusk @garycr...|[hi, trying, star...|    1|\n",
      "|1635728336000|  2021-11-01| Monday|    0|@teslaP3D @WholeM...|[exactly, lucid, ...|    1|\n",
      "+-------------+------------+-------+-----+--------------------+--------------------+-----+\n",
      "only showing top 20 rows\n",
      "\n"
     ]
    }
   ],
   "source": [
    "# rearrange columns\n",
    "from pyspark.sql.functions import col\n",
    "from pyspark.sql.functions import to_date\n",
    "api_tweets_df = api_tweets_df.select([\"created_at\", to_date(\"created_date\", 'yyyy-MM-dd').alias(\"created_date\"), \"weekday\",\\\n",
    "                                      col(\"hours\").cast(\"int\"), \"tweet\", \"text\", \"score\"])\n",
    "api_tweets_df.show()"
   ]
  },
  {
   "cell_type": "code",
   "execution_count": 14,
   "metadata": {
    "colab": {
     "base_uri": "https://localhost:8080/"
    },
    "id": "9iMpot1Tgi5b",
    "outputId": "6ec3cd65-64bc-4ca1-beb6-f3ea161de807"
   },
   "outputs": [
    {
     "name": "stdout",
     "output_type": "stream",
     "text": [
      "+--------------------+--------------------+------------+---------+-----------+\n",
      "|            end_time|          start_time|created_date|  weekday|tweet_count|\n",
      "+--------------------+--------------------+------------+---------+-----------+\n",
      "|2021-11-02T00:00:...|2021-11-01T00:00:...|  2021-11-01|   Monday|     138498|\n",
      "|2021-11-03T00:00:...|2021-11-02T00:00:...|  2021-11-02|  Tuesday|      88621|\n",
      "|2021-11-04T00:00:...|2021-11-03T00:00:...|  2021-11-03|Wednesday|      53148|\n",
      "|2021-11-05T00:00:...|2021-11-04T00:00:...|  2021-11-04| Thursday|      54606|\n",
      "|2021-11-06T00:00:...|2021-11-05T00:00:...|  2021-11-05|   Friday|      47726|\n",
      "|2021-11-07T00:00:...|2021-11-06T00:00:...|  2021-11-06| Saturday|      64812|\n",
      "|2021-11-08T00:00:...|2021-11-07T00:00:...|  2021-11-07|   Sunday|      78984|\n",
      "|2021-11-09T00:00:...|2021-11-08T00:00:...|  2021-11-08|   Monday|      74188|\n",
      "|2021-11-10T00:00:...|2021-11-09T00:00:...|  2021-11-09|  Tuesday|      51366|\n",
      "|2021-11-11T00:00:...|2021-11-10T00:00:...|  2021-11-10|Wednesday|      42847|\n",
      "|2021-11-12T00:00:...|2021-11-11T00:00:...|  2021-11-11| Thursday|      57487|\n",
      "|2021-11-13T00:00:...|2021-11-12T00:00:...|  2021-11-12|   Friday|      44835|\n",
      "|2021-11-14T00:00:...|2021-11-13T00:00:...|  2021-11-13| Saturday|      39768|\n",
      "|2021-11-15T00:00:...|2021-11-14T00:00:...|  2021-11-14|   Sunday|      61288|\n",
      "+--------------------+--------------------+------------+---------+-----------+\n",
      "\n"
     ]
    }
   ],
   "source": [
    "# rearrange columns\n",
    "api_count_df = api_count_df.select([\"end_time\",\"start_time\",to_date(\"created_date\", 'yyyy-MM-dd').alias(\"created_date\"),\"weekday\",\"tweet_count\"])\n",
    "api_count_df.show()"
   ]
  },
  {
   "cell_type": "markdown",
   "metadata": {
    "id": "jITZhLkmY--J"
   },
   "source": [
    "### Connect to the AWS RDS instance and write each DataFrame to its table. "
   ]
  },
  {
   "cell_type": "code",
   "execution_count": 15,
   "metadata": {
    "colab": {
     "base_uri": "https://localhost:8080/"
    },
    "id": "7jiUvs1aY--L",
    "outputId": "bfcebb78-2588-4503-b058-f1b1bd524c90"
   },
   "outputs": [
    {
     "name": "stdout",
     "output_type": "stream",
     "text": [
      "Enter database password··········\n"
     ]
    }
   ],
   "source": [
    "# Configure settings for RDS\n",
    "from getpass import getpass\n",
    "password = getpass('Enter database password')\n",
    "\n",
    "mode = \"append\"\n",
    "jdbc_url=\"jdbc:postgresql://<connection string>/<dbname>\"\n",
    "config = {\"user\":\"postgres\", \n",
    "          \"password\": password, \n",
    "          \"driver\":\"org.postgresql.Driver\"}\n",
    "\n",
    "# Deleted connection string, and db name\n",
    "# For the purpose of this project,\n",
    "# connection string used was 'twitterproject.cgrabvwy3u7o.us-west-1.rds.amazonaws.com:5432'\n",
    "# db name used was 'twitterproject'\n",
    "# Database will be deleted after project submission"
   ]
  },
  {
   "cell_type": "code",
   "execution_count": 16,
   "metadata": {
    "id": "T2zgZ-aKY--Q"
   },
   "outputs": [],
   "source": [
    "# Write initial_tweets to table in RDS\n",
    "initial_tweets.write.jdbc(url=jdbc_url, table='initial_tweets_table', mode=mode, properties=config)"
   ]
  },
  {
   "cell_type": "code",
   "execution_count": 17,
   "metadata": {
    "id": "KbXri15fY--Z"
   },
   "outputs": [],
   "source": [
    "# Write api_tweets_df to table in RDS\n",
    "api_tweets_df.write.jdbc(url=jdbc_url, table='api_tweets_table', mode=mode, properties=config)"
   ]
  },
  {
   "cell_type": "code",
   "execution_count": 18,
   "metadata": {
    "id": "XdQknSHLY--e"
   },
   "outputs": [],
   "source": [
    "# Write api_count_df to table in RDS\n",
    "api_count_df.write.jdbc(url=jdbc_url, table='api_count_table', mode=mode, properties=config)"
   ]
  },
  {
   "cell_type": "code",
   "execution_count": null,
   "metadata": {
    "id": "Exuo6ebUsCqW"
   },
   "outputs": [],
   "source": []
  }
 ],
 "metadata": {
  "colab": {
   "collapsed_sections": [],
   "include_colab_link": true,
   "name": "ETL.ipynb",
   "provenance": []
  },
  "kernelspec": {
   "display_name": "Python 3",
   "language": "python",
   "name": "python3"
  },
  "language_info": {
   "codemirror_mode": {
    "name": "ipython",
    "version": 3
   },
   "file_extension": ".py",
   "mimetype": "text/x-python",
   "name": "python",
   "nbconvert_exporter": "python",
   "pygments_lexer": "ipython3",
   "version": "3.7.10"
  },
  "nteract": {
   "version": "0.12.3"
  }
 },
 "nbformat": 4,
 "nbformat_minor": 1
}
